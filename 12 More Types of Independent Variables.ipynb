{
 "cells": [
  {
   "cell_type": "markdown",
   "id": "bca7b5b3-ab99-4826-ad4f-7222945c5642",
   "metadata": {},
   "source": [
    "# 12 More Types of Independent Variables.\n",
    "\n",
    "Independent variables are not always quantitative, linear, or isolated. Some transformations of independent variable is necessary to satisfy a specific model specification - e.g. $y = \\beta_0 + \\beta_1 x^2$. Some transformations are needed for better meanings - e.g. in $log(y) = \\beta_0 + \\beta_1 log(x)$, $\\beta_1$ can be interpreted as elasticity. In some other cases, a string variable has to be preprocessed to a numerical value to be used in a regression. In this note, we are going to explore several common independent variable transformations."
   ]
  },
  {
   "cell_type": "markdown",
   "id": "acb632a6-ce42-4d48-87f4-308644f2bf91",
   "metadata": {},
   "source": [
    "## 12.1 Dummy variables"
   ]
  },
  {
   "cell_type": "markdown",
   "id": "50c71e5b-f007-49b3-b6d8-db61072e4efc",
   "metadata": {},
   "source": [
    "Dummy variables are variables taking the values zero or one. If a dummy variable is used in a model, its coefficient represents the difference in the intercept between groups.\n",
    "\n",
    "$$\\beta_D = \\frac{\\Delta E[y|x]}{\\Delta D} = E[y|D=1,x] - E[y|D=0,x], \\forall x$$\n",
    "\n",
    "Fortunately, statsmodels has already done all the calculation for us. We can just use a dummy variable as a numerical variable and modify our interpretation of the estimator."
   ]
  },
  {
   "cell_type": "markdown",
   "id": "9a38c27b-56c2-4ed1-8ad9-9eb2fb451bc2",
   "metadata": {},
   "source": [
    "As an example. Consider that we are interested in the wage differences by gender and regress the hourly wage on a dummy varialbe which is equal to one for females and zero for males. We also include regressors for education, experience, and tenure. "
   ]
  },
  {
   "cell_type": "markdown",
   "id": "c8540a4b-8df3-4743-b7d0-f5e477225cd9",
   "metadata": {},
   "source": [
    "Exercise: Use wage1 dataset from wooldridge, and use statsmodels to run the regression. How do you interpret the coefficient on female."
   ]
  },
  {
   "cell_type": "code",
   "execution_count": 1,
   "id": "7c377311-3cc9-4982-8516-8ffb52528f08",
   "metadata": {},
   "outputs": [
    {
     "name": "stdout",
     "output_type": "stream",
     "text": [
      "                            OLS Regression Results                            \n",
      "==============================================================================\n",
      "Dep. Variable:                   wage   R-squared:                       0.364\n",
      "Model:                            OLS   Adj. R-squared:                  0.359\n",
      "Method:                 Least Squares   F-statistic:                     74.40\n",
      "Date:                Tue, 16 Nov 2021   Prob (F-statistic):           7.30e-50\n",
      "Time:                        12:59:26   Log-Likelihood:                -1314.2\n",
      "No. Observations:                 526   AIC:                             2638.\n",
      "Df Residuals:                     521   BIC:                             2660.\n",
      "Df Model:                           4                                         \n",
      "Covariance Type:            nonrobust                                         \n",
      "==============================================================================\n",
      "                 coef    std err          t      P>|t|      [0.025      0.975]\n",
      "------------------------------------------------------------------------------\n",
      "Intercept     -1.5679      0.725     -2.164      0.031      -2.991      -0.145\n",
      "female        -1.8109      0.265     -6.838      0.000      -2.331      -1.291\n",
      "educ           0.5715      0.049     11.584      0.000       0.475       0.668\n",
      "exper          0.0254      0.012      2.195      0.029       0.003       0.048\n",
      "tenure         0.1410      0.021      6.663      0.000       0.099       0.183\n",
      "==============================================================================\n",
      "Omnibus:                      185.864   Durbin-Watson:                   1.794\n",
      "Prob(Omnibus):                  0.000   Jarque-Bera (JB):              715.580\n",
      "Skew:                           1.589   Prob(JB):                    4.11e-156\n",
      "Kurtosis:                       7.749   Cond. No.                         141.\n",
      "==============================================================================\n",
      "\n",
      "Notes:\n",
      "[1] Standard Errors assume that the covariance matrix of the errors is correctly specified.\n"
     ]
    }
   ],
   "source": [
    "import wooldridge as woo\n",
    "import statsmodels.formula.api as smf\n",
    "\n",
    "df = woo.data(\"wage1\")\n",
    "\n",
    "res = smf.ols(\"wage~female+educ+exper+tenure\",data=df).fit()\n",
    "print(res.summary())"
   ]
  },
  {
   "cell_type": "markdown",
   "id": "d0c30785-ec9e-4672-bc73-ce8637bddaa0",
   "metadata": {},
   "source": [
    "Its estimated coefficient of -1.81 indicates that on average, a woman makes \\$1.81 per hour less than a man with the same education, experience, and tenure."
   ]
  },
  {
   "cell_type": "markdown",
   "id": "c4dad5d1-f381-4561-9168-b05e31dd31c1",
   "metadata": {},
   "source": [
    "> Instead of transforming Boolean variables into dummies, they can be directly used as regressors. The coefficient is then named varname[T.True] indicating that True was treated as 1."
   ]
  },
  {
   "cell_type": "markdown",
   "id": "ee3f2078-ad5d-4bad-a0cc-b6ecce7f0fa4",
   "metadata": {},
   "source": [
    "Exercise: Use exper>5 as a boolean variable - senior - and and rerun a regression of wage on exper and educ."
   ]
  },
  {
   "cell_type": "code",
   "execution_count": 2,
   "id": "6bddf3e8-f39b-4379-a674-5a5c74034d07",
   "metadata": {},
   "outputs": [],
   "source": [
    "df[\"senior\"] = df[\"exper\"]>5"
   ]
  },
  {
   "cell_type": "code",
   "execution_count": 3,
   "id": "7e3ea439-b30c-401f-8046-76973a560b0f",
   "metadata": {},
   "outputs": [
    {
     "name": "stdout",
     "output_type": "stream",
     "text": [
      "                            OLS Regression Results                            \n",
      "==============================================================================\n",
      "Dep. Variable:                   wage   R-squared:                       0.251\n",
      "Model:                            OLS   Adj. R-squared:                  0.248\n",
      "Method:                 Least Squares   F-statistic:                     87.42\n",
      "Date:                Tue, 16 Nov 2021   Prob (F-statistic):           1.76e-33\n",
      "Time:                        12:59:26   Log-Likelihood:                -1357.2\n",
      "No. Observations:                 526   AIC:                             2720.\n",
      "Df Residuals:                     523   BIC:                             2733.\n",
      "Df Model:                           2                                         \n",
      "Covariance Type:            nonrobust                                         \n",
      "==================================================================================\n",
      "                     coef    std err          t      P>|t|      [0.025      0.975]\n",
      "----------------------------------------------------------------------------------\n",
      "Intercept         -3.2191      0.715     -4.502      0.000      -4.624      -1.814\n",
      "senior[T.True]     2.4797      0.320      7.737      0.000       1.850       3.109\n",
      "educ               0.5792      0.051     11.419      0.000       0.480       0.679\n",
      "==============================================================================\n",
      "Omnibus:                      203.093   Durbin-Watson:                   1.860\n",
      "Prob(Omnibus):                  0.000   Jarque-Bera (JB):              780.055\n",
      "Skew:                           1.759   Prob(JB):                    4.10e-170\n",
      "Kurtosis:                       7.818   Cond. No.                         67.6\n",
      "==============================================================================\n",
      "\n",
      "Notes:\n",
      "[1] Standard Errors assume that the covariance matrix of the errors is correctly specified.\n"
     ]
    }
   ],
   "source": [
    "res = smf.ols(\"wage~senior+educ\", data=df).fit()\n",
    "print(res.summary())"
   ]
  },
  {
   "cell_type": "markdown",
   "id": "50cfb1b0-352a-4a02-980f-16a2065e58d2",
   "metadata": {},
   "source": [
    "All else equal, senior employees earn an average of $2.48 more hourly wage than their junior peers"
   ]
  },
  {
   "cell_type": "markdown",
   "id": "ba78c6b3-8dae-42ee-a0a4-fc6fed038d24",
   "metadata": {},
   "source": [
    "Exercise: Draw two line plots (in the same figure) of the predicted wage against educ - one for senior=True, another for senior=False"
   ]
  },
  {
   "cell_type": "markdown",
   "id": "4751a6fa-e123-4823-a8b3-1f0a7b95c46c",
   "metadata": {},
   "source": [
    "> plt.plot() can take variables in a way similar to seaborn, where we specify the column names and the data."
   ]
  },
  {
   "cell_type": "code",
   "execution_count": 4,
   "id": "6b2c7861-c363-44cb-9228-13a1e14b8848",
   "metadata": {},
   "outputs": [
    {
     "data": {
      "image/png": "[encoded data removed]",
      "text/plain": [
       "<Figure size 432x288 with 1 Axes>"
      ]
     },
     "metadata": {
      "needs_background": "light"
     },
     "output_type": "display_data"
    }
   ],
   "source": [
    "import matplotlib.pyplot as plt\n",
    "df[\"y_h\"]=res.fittedvalues\n",
    "plt.plot(\"educ\",\"y_h\", data=df.loc[df[\"senior\"]])\n",
    "plt.plot(\"educ\",\"y_h\", data=df.loc[~df[\"senior\"]])\n",
    "#labels\n",
    "plt.xlabel(\"educ\")\n",
    "plt.ylabel(\"hourly wage\")\n",
    "plt.show()"
   ]
  },
  {
   "cell_type": "markdown",
   "id": "b8eeda71-589d-4500-a60d-4bbde771dc4f",
   "metadata": {},
   "source": [
    "## 12.2 Categorical Variables\n",
    "\n",
    "Categorical variable is the more general name for dummy variables. A categorical variable can take one of a given set of outcomes. For example, a variable *MobileOS* can take one of four values \"Android\", \"iOS\", \"Windows\", or \"other\"."
   ]
  },
  {
   "cell_type": "markdown",
   "id": "c7ea8f1a-8ba2-4a84-96d5-49df62cf941c",
   "metadata": {},
   "source": [
    "Statsmodels can easily transform any variable into a categorical variable using the function **C** in the definition of the formula. The function **ols** is clever enough to implicitly add g-1 dummy variables if the variable has g outcomes. As a reference category, one of the g categories has to be omitted (the first category is left out by default). "
   ]
  },
  {
   "cell_type": "markdown",
   "id": "56dbbcc9-0d11-4b6c-a2fd-a5b1321e6215",
   "metadata": {},
   "source": [
    "We can choose different reference categories using a second argument of the **C** function, where we provide a new reference group *group_value* with the command **Treatment(\"group_value\")**.\n",
    "\n",
    "`formula = \"y ~ C(x, Treatment('group_value'))\""
   ]
  },
  {
   "cell_type": "markdown",
   "id": "3fdd2ac0-9ef7-4574-84ba-d09ac8380c8d",
   "metadata": {},
   "source": [
    "Example: \n",
    "1. use CPS1985.csv from CourseSite. List all possible values of occupation and their frequencies."
   ]
  },
  {
   "cell_type": "code",
   "execution_count": 1,
   "id": "ff80d6ce-d921-4c60-bf44-c3881a67f4dd",
   "metadata": {
    "tags": []
   },
   "outputs": [
    {
     "data": {
      "text/html": [
       "<div>\n",
       "<style scoped>\n",
       "    .dataframe tbody tr th:only-of-type {\n",
       "        vertical-align: middle;\n",
       "    }\n",
       "\n",
       "    .dataframe tbody tr th {\n",
       "        vertical-align: top;\n",
       "    }\n",
       "\n",
       "    .dataframe thead th {\n",
       "        text-align: right;\n",
       "    }\n",
       "</style>\n",
       "<table border=\"1\" class=\"dataframe\">\n",
       "  <thead>\n",
       "    <tr style=\"text-align: right;\">\n",
       "      <th></th>\n",
       "      <th>wage</th>\n",
       "      <th>education</th>\n",
       "      <th>experience</th>\n",
       "      <th>age</th>\n",
       "      <th>ethnicity</th>\n",
       "      <th>region</th>\n",
       "      <th>gender</th>\n",
       "      <th>occupation</th>\n",
       "      <th>sector</th>\n",
       "      <th>union</th>\n",
       "      <th>married</th>\n",
       "    </tr>\n",
       "  </thead>\n",
       "  <tbody>\n",
       "    <tr>\n",
       "      <th>0</th>\n",
       "      <td>5.10</td>\n",
       "      <td>8</td>\n",
       "      <td>21</td>\n",
       "      <td>35</td>\n",
       "      <td>hispanic</td>\n",
       "      <td>other</td>\n",
       "      <td>female</td>\n",
       "      <td>worker</td>\n",
       "      <td>manufacturing</td>\n",
       "      <td>no</td>\n",
       "      <td>yes</td>\n",
       "    </tr>\n",
       "    <tr>\n",
       "      <th>1</th>\n",
       "      <td>4.95</td>\n",
       "      <td>9</td>\n",
       "      <td>42</td>\n",
       "      <td>57</td>\n",
       "      <td>cauc</td>\n",
       "      <td>other</td>\n",
       "      <td>female</td>\n",
       "      <td>worker</td>\n",
       "      <td>manufacturing</td>\n",
       "      <td>no</td>\n",
       "      <td>yes</td>\n",
       "    </tr>\n",
       "    <tr>\n",
       "      <th>2</th>\n",
       "      <td>6.67</td>\n",
       "      <td>12</td>\n",
       "      <td>1</td>\n",
       "      <td>19</td>\n",
       "      <td>cauc</td>\n",
       "      <td>other</td>\n",
       "      <td>male</td>\n",
       "      <td>worker</td>\n",
       "      <td>manufacturing</td>\n",
       "      <td>no</td>\n",
       "      <td>no</td>\n",
       "    </tr>\n",
       "    <tr>\n",
       "      <th>3</th>\n",
       "      <td>4.00</td>\n",
       "      <td>12</td>\n",
       "      <td>4</td>\n",
       "      <td>22</td>\n",
       "      <td>cauc</td>\n",
       "      <td>other</td>\n",
       "      <td>male</td>\n",
       "      <td>worker</td>\n",
       "      <td>other</td>\n",
       "      <td>no</td>\n",
       "      <td>no</td>\n",
       "    </tr>\n",
       "    <tr>\n",
       "      <th>4</th>\n",
       "      <td>7.50</td>\n",
       "      <td>12</td>\n",
       "      <td>17</td>\n",
       "      <td>35</td>\n",
       "      <td>cauc</td>\n",
       "      <td>other</td>\n",
       "      <td>male</td>\n",
       "      <td>worker</td>\n",
       "      <td>other</td>\n",
       "      <td>no</td>\n",
       "      <td>yes</td>\n",
       "    </tr>\n",
       "  </tbody>\n",
       "</table>\n",
       "</div>"
      ],
      "text/plain": [
       "   wage  education  experience  age ethnicity region  gender occupation  \\\n",
       "0  5.10          8          21   35  hispanic  other  female     worker   \n",
       "1  4.95          9          42   57      cauc  other  female     worker   \n",
       "2  6.67         12           1   19      cauc  other    male     worker   \n",
       "3  4.00         12           4   22      cauc  other    male     worker   \n",
       "4  7.50         12          17   35      cauc  other    male     worker   \n",
       "\n",
       "          sector union married  \n",
       "0  manufacturing    no     yes  \n",
       "1  manufacturing    no     yes  \n",
       "2  manufacturing    no      no  \n",
       "3          other    no      no  \n",
       "4          other    no     yes  "
      ]
     },
     "execution_count": 1,
     "metadata": {},
     "output_type": "execute_result"
    }
   ],
   "source": [
    "import pandas as pd\n",
    "df = pd.read_csv(\"cps1985.csv\", index_col=0)\n",
    "df.head()"
   ]
  },
  {
   "cell_type": "code",
   "execution_count": 6,
   "id": "b6bff382-0546-4530-a20f-ec7fe377aeba",
   "metadata": {
    "tags": []
   },
   "outputs": [
    {
     "data": {
      "text/plain": [
       "worker        156\n",
       "management     55\n",
       "sales          38\n",
       "office         97\n",
       "services       83\n",
       "technical     105\n",
       "Name: occupation, dtype: int64"
      ]
     },
     "execution_count": 6,
     "metadata": {},
     "output_type": "execute_result"
    }
   ],
   "source": [
    "df[\"occupation\"].value_counts(sort=False)"
   ]
  },
  {
   "cell_type": "markdown",
   "id": "6682a24c-942d-4b19-8478-9d0771814ad2",
   "metadata": {},
   "source": [
    "2. Regress wage on education and occupation, see what happens."
   ]
  },
  {
   "cell_type": "code",
   "execution_count": 7,
   "id": "2d42ca66-4b79-44ef-a088-b18c148d4867",
   "metadata": {},
   "outputs": [
    {
     "name": "stdout",
     "output_type": "stream",
     "text": [
      "                            OLS Regression Results                            \n",
      "==============================================================================\n",
      "Dep. Variable:                   wage   R-squared:                       0.224\n",
      "Model:                            OLS   Adj. R-squared:                  0.215\n",
      "Method:                 Least Squares   F-statistic:                     25.36\n",
      "Date:                Tue, 16 Nov 2021   Prob (F-statistic):           1.69e-26\n",
      "Time:                        12:59:27   Log-Likelihood:                -1563.6\n",
      "No. Observations:                 534   AIC:                             3141.\n",
      "Df Residuals:                     527   BIC:                             3171.\n",
      "Df Model:                           6                                         \n",
      "Covariance Type:            nonrobust                                         \n",
      "==============================================================================================\n",
      "                                 coef    std err          t      P>|t|      [0.025      0.975]\n",
      "----------------------------------------------------------------------------------------------\n",
      "Intercept                      5.0624      1.530      3.309      0.001       2.057       8.068\n",
      "C(occupation)[T.office]       -4.4201      0.785     -5.634      0.000      -5.961      -2.879\n",
      "C(occupation)[T.sales]        -4.3927      0.969     -4.532      0.000      -6.297      -2.488\n",
      "C(occupation)[T.services]     -4.6052      0.842     -5.471      0.000      -6.259      -2.952\n",
      "C(occupation)[T.technical]    -1.3101      0.765     -1.714      0.087      -2.812       0.192\n",
      "C(occupation)[T.worker]       -2.6423      0.774     -3.412      0.001      -4.164      -1.121\n",
      "education                      0.5241      0.096      5.453      0.000       0.335       0.713\n",
      "==============================================================================\n",
      "Omnibus:                      174.892   Durbin-Watson:                   1.989\n",
      "Prob(Omnibus):                  0.000   Jarque-Bera (JB):              753.955\n",
      "Skew:                           1.418   Prob(JB):                    1.91e-164\n",
      "Kurtosis:                       8.084   Cond. No.                         130.\n",
      "==============================================================================\n",
      "\n",
      "Notes:\n",
      "[1] Standard Errors assume that the covariance matrix of the errors is correctly specified.\n"
     ]
    }
   ],
   "source": [
    "res = smf.ols(\"wage~education + C(occupation)\", data=df).fit()\n",
    "print(res.summary())"
   ]
  },
  {
   "cell_type": "markdown",
   "id": "106c0e23-bd4e-4210-b3bc-4642fea6bedf",
   "metadata": {},
   "source": [
    "- Management employees have been omitted as the base category.\n",
    "- Employees in office positions earn an average $4.42 less hourly wage than otherwise equal management positions."
   ]
  },
  {
   "cell_type": "markdown",
   "id": "5bd049b6-8c86-4670-b724-9a9aaef97bb7",
   "metadata": {},
   "source": [
    "3. regress wage on education and occupation using office as the base category."
   ]
  },
  {
   "cell_type": "code",
   "execution_count": 3,
   "id": "613802cc-4657-4178-bcbe-7c57215b98ee",
   "metadata": {},
   "outputs": [
    {
     "name": "stdout",
     "output_type": "stream",
     "text": [
      "                            OLS Regression Results                            \n",
      "==============================================================================\n",
      "Dep. Variable:                   wage   R-squared:                       0.224\n",
      "Model:                            OLS   Adj. R-squared:                  0.215\n",
      "Method:                 Least Squares   F-statistic:                     25.36\n",
      "Date:                Thu, 14 Apr 2022   Prob (F-statistic):           1.69e-26\n",
      "Time:                        13:15:24   Log-Likelihood:                -1563.6\n",
      "No. Observations:                 534   AIC:                             3141.\n",
      "Df Residuals:                     527   BIC:                             3171.\n",
      "Df Model:                           6                                         \n",
      "Covariance Type:            nonrobust                                         \n",
      "====================================================================================================================\n",
      "                                                       coef    std err          t      P>|t|      [0.025      0.975]\n",
      "--------------------------------------------------------------------------------------------------------------------\n",
      "Intercept                                            2.4200      1.160      2.086      0.037       0.141       4.699\n",
      "C(occupation, Treatment('worker'))[T.management]     2.6423      0.774      3.412      0.001       1.121       4.164\n",
      "C(occupation, Treatment('worker'))[T.office]        -1.7777      0.606     -2.936      0.003      -2.967      -0.588\n",
      "C(occupation, Treatment('worker'))[T.sales]         -1.7504      0.841     -2.082      0.038      -3.402      -0.099\n",
      "C(occupation, Treatment('worker'))[T.services]      -1.9628      0.619     -3.173      0.002      -3.178      -0.747\n",
      "C(occupation, Treatment('worker'))[T.technical]      1.3322      0.701      1.901      0.058      -0.045       2.709\n",
      "education                                            0.5241      0.096      5.453      0.000       0.335       0.713\n",
      "==============================================================================\n",
      "Omnibus:                      174.892   Durbin-Watson:                   1.989\n",
      "Prob(Omnibus):                  0.000   Jarque-Bera (JB):              753.955\n",
      "Skew:                           1.418   Prob(JB):                    1.91e-164\n",
      "Kurtosis:                       8.084   Cond. No.                         85.4\n",
      "==============================================================================\n",
      "\n",
      "Notes:\n",
      "[1] Standard Errors assume that the covariance matrix of the errors is correctly specified.\n"
     ]
    }
   ],
   "source": [
    "import statsmodels.formula.api as smf\n",
    "reg = smf.ols(\"wage~education + C(occupation, Treatment('worker'))\", data=df)\n",
    "res = reg.fit()\n",
    "print(res.summary())"
   ]
  },
  {
   "cell_type": "code",
   "execution_count": 4,
   "id": "ccd1fd1f-5508-42e5-b59b-1b6d7fc319e2",
   "metadata": {},
   "outputs": [
    {
     "data": {
      "text/plain": [
       "['Intercept',\n",
       " \"C(occupation, Treatment('worker'))[T.management]\",\n",
       " \"C(occupation, Treatment('worker'))[T.office]\",\n",
       " \"C(occupation, Treatment('worker'))[T.sales]\",\n",
       " \"C(occupation, Treatment('worker'))[T.services]\",\n",
       " \"C(occupation, Treatment('worker'))[T.technical]\",\n",
       " 'education']"
      ]
     },
     "execution_count": 4,
     "metadata": {},
     "output_type": "execute_result"
    }
   ],
   "source": [
    "reg.exog_names"
   ]
  },
  {
   "cell_type": "code",
   "execution_count": 6,
   "id": "10e16e8c-adc8-462c-93ab-1ebb342f7c41",
   "metadata": {},
   "outputs": [
    {
     "data": {
      "text/plain": [
       "<class 'statsmodels.stats.contrast.ContrastResults'>\n",
       "<F test: F=array([[10.62174891]]), p=9.76496046985938e-10, df_denom=527, df_num=5>"
      ]
     },
     "execution_count": 6,
     "metadata": {},
     "output_type": "execute_result"
    }
   ],
   "source": [
    "import re\n",
    "hypo=[v for v in reg.exog_names if re.search(r\"occu\",v)]\n",
    "res.f_test(hypo)"
   ]
  },
  {
   "cell_type": "markdown",
   "id": "2e7c2aad-388b-4969-848a-8b90ddc83fc8",
   "metadata": {},
   "source": [
    "- Office employees have been omitted as the base category.\n",
    "- Employees in management positions earn an average $4.42 more hourly wage than otherwise equal office positions."
   ]
  },
  {
   "cell_type": "markdown",
   "id": "821781ff-ede7-4538-bd7c-50ae60b8e171",
   "metadata": {},
   "source": [
    "> If a quotation is used inside another quotation, use ' instead of \"."
   ]
  },
  {
   "cell_type": "markdown",
   "id": "464d9349-9e6b-40bc-acab-6d5021d373dd",
   "metadata": {},
   "source": [
    "### ANOVA Tables\n",
    "\n",
    "What would you do if you want to know if the occupation dummies are jointly significant or not? - F test."
   ]
  },
  {
   "cell_type": "code",
   "execution_count": 18,
   "id": "5f233237-3c2e-4768-a006-144baac0c294",
   "metadata": {},
   "outputs": [
    {
     "data": {
      "text/plain": [
       "['Intercept',\n",
       " \"C(occupation, Treatment('office'))[T.management]\",\n",
       " \"C(occupation, Treatment('office'))[T.sales]\",\n",
       " \"C(occupation, Treatment('office'))[T.services]\",\n",
       " \"C(occupation, Treatment('office'))[T.technical]\",\n",
       " \"C(occupation, Treatment('office'))[T.worker]\",\n",
       " 'education']"
      ]
     },
     "execution_count": 18,
     "metadata": {},
     "output_type": "execute_result"
    }
   ],
   "source": [
    "var_ls = reg.exog_names\n",
    "var_ls"
   ]
  },
  {
   "cell_type": "code",
   "execution_count": 24,
   "id": "796227e9-c1ef-4265-b452-bada6d913173",
   "metadata": {},
   "outputs": [
    {
     "data": {
      "text/plain": [
       "[\"C(occupation, Treatment('office'))[T.management]\",\n",
       " \"C(occupation, Treatment('office'))[T.sales]\",\n",
       " \"C(occupation, Treatment('office'))[T.services]\",\n",
       " \"C(occupation, Treatment('office'))[T.technical]\",\n",
       " \"C(occupation, Treatment('office'))[T.worker]\"]"
      ]
     },
     "execution_count": 24,
     "metadata": {},
     "output_type": "execute_result"
    }
   ],
   "source": [
    "var_ls[1:-1]"
   ]
  },
  {
   "cell_type": "code",
   "execution_count": 26,
   "id": "18ac164b-07ac-4c2a-bc4d-69b7338d69d4",
   "metadata": {},
   "outputs": [
    {
     "data": {
      "text/plain": [
       "[\"C(occupation, Treatment('office'))[T.management]\",\n",
       " \"C(occupation, Treatment('office'))[T.sales]\",\n",
       " \"C(occupation, Treatment('office'))[T.services]\",\n",
       " \"C(occupation, Treatment('office'))[T.technical]\",\n",
       " \"C(occupation, Treatment('office'))[T.worker]\"]"
      ]
     },
     "execution_count": 26,
     "metadata": {},
     "output_type": "execute_result"
    }
   ],
   "source": [
    "import numpy as np\n",
    "ftr = [\"occupation\" in name for name in var_ls]\n",
    "hypo = list(np.array(var_ls)[ftr])\n",
    "hypo"
   ]
  },
  {
   "cell_type": "markdown",
   "id": "430dc02a-4f75-41a5-bab3-711844283b17",
   "metadata": {},
   "source": [
    "> We can use reg.exog_names to obtain a list of regressor names"
   ]
  },
  {
   "cell_type": "code",
   "execution_count": 27,
   "id": "5109bdaf-c1b0-4230-b999-16237a08f012",
   "metadata": {},
   "outputs": [
    {
     "data": {
      "text/plain": [
       "<class 'statsmodels.stats.contrast.ContrastResults'>\n",
       "<F test: F=array([[10.62174891]]), p=9.76496046985938e-10, df_denom=527, df_num=5>"
      ]
     },
     "execution_count": 27,
     "metadata": {},
     "output_type": "execute_result"
    }
   ],
   "source": [
    "res.f_test(hypo)"
   ]
  },
  {
   "cell_type": "markdown",
   "id": "fb3abca8-e5d5-4242-9f87-e9d2aeb1bb04",
   "metadata": {},
   "source": [
    "> In an f_test, \"=0\" is assumed by default"
   ]
  },
  {
   "cell_type": "markdown",
   "id": "0f905344-29db-49ca-9fc8-70517fa29e8b",
   "metadata": {},
   "source": [
    "- We reject the null hypothesis that the occupation dummies are jointly insignificant."
   ]
  },
  {
   "cell_type": "markdown",
   "id": "bbf6c4ef-bdd2-4f6c-9582-a7aa44f9570b",
   "metadata": {},
   "source": [
    "An Type II ANOVA (analsis of variance) table does exactly this for each variable in the model and displays the results in a clearly arranged table. **statsmodels** implement this in the method anova_lm.\n",
    "```python\n",
    "import statsmodels.api as sm\n",
    "sm.stats.anova_lm(res,typ=2)\n",
    "```"
   ]
  },
  {
   "cell_type": "markdown",
   "id": "b04c46cc-d181-4dba-a539-999a29ddffb2",
   "metadata": {},
   "source": [
    "Exercise: generate a type II ANOVA table use the \"res\" we estimated."
   ]
  },
  {
   "cell_type": "markdown",
   "id": "bc49716a-7a49-4f57-9930-f87f900a2474",
   "metadata": {},
   "source": [
    "> If you are interested, you can read this [blog](https://www.r-bloggers.com/2011/03/anova-–-type-iiiiii-ss-explained/) for more about ANOVA (SS stands for sum of squares regression)."
   ]
  },
  {
   "cell_type": "code",
   "execution_count": 11,
   "id": "3e3842de-2738-4bfb-a0df-96392a0fb1a5",
   "metadata": {},
   "outputs": [
    {
     "data": {
      "text/html": [
       "<div>\n",
       "<style scoped>\n",
       "    .dataframe tbody tr th:only-of-type {\n",
       "        vertical-align: middle;\n",
       "    }\n",
       "\n",
       "    .dataframe tbody tr th {\n",
       "        vertical-align: top;\n",
       "    }\n",
       "\n",
       "    .dataframe thead th {\n",
       "        text-align: right;\n",
       "    }\n",
       "</style>\n",
       "<table border=\"1\" class=\"dataframe\">\n",
       "  <thead>\n",
       "    <tr style=\"text-align: right;\">\n",
       "      <th></th>\n",
       "      <th>sum_sq</th>\n",
       "      <th>df</th>\n",
       "      <th>F</th>\n",
       "      <th>PR(&gt;F)</th>\n",
       "    </tr>\n",
       "  </thead>\n",
       "  <tbody>\n",
       "    <tr>\n",
       "      <th>C(occupation, Treatment('office'))</th>\n",
       "      <td>1100.738677</td>\n",
       "      <td>5.0</td>\n",
       "      <td>10.621749</td>\n",
       "      <td>9.764960e-10</td>\n",
       "    </tr>\n",
       "    <tr>\n",
       "      <th>education</th>\n",
       "      <td>616.331599</td>\n",
       "      <td>1.0</td>\n",
       "      <td>29.736938</td>\n",
       "      <td>7.617624e-08</td>\n",
       "    </tr>\n",
       "    <tr>\n",
       "      <th>Residual</th>\n",
       "      <td>10922.669849</td>\n",
       "      <td>527.0</td>\n",
       "      <td>NaN</td>\n",
       "      <td>NaN</td>\n",
       "    </tr>\n",
       "  </tbody>\n",
       "</table>\n",
       "</div>"
      ],
      "text/plain": [
       "                                          sum_sq     df          F  \\\n",
       "C(occupation, Treatment('office'))   1100.738677    5.0  10.621749   \n",
       "education                             616.331599    1.0  29.736938   \n",
       "Residual                            10922.669849  527.0        NaN   \n",
       "\n",
       "                                          PR(>F)  \n",
       "C(occupation, Treatment('office'))  9.764960e-10  \n",
       "education                           7.617624e-08  \n",
       "Residual                                     NaN  "
      ]
     },
     "execution_count": 11,
     "metadata": {},
     "output_type": "execute_result"
    }
   ],
   "source": [
    "import statsmodels.api as sm\n",
    "sm.stats.anova_lm(res,typ=2)"
   ]
  },
  {
   "cell_type": "markdown",
   "id": "177ae9ec-72ce-4692-b42b-e5b53be5a968",
   "metadata": {},
   "source": [
    "- The ANOVA table shows that at 5\\% significance level, occupation is a significant explanatory variable for wage in this specification."
   ]
  },
  {
   "cell_type": "markdown",
   "id": "68e77efb-01b6-466e-af7e-807c32597914",
   "metadata": {},
   "source": [
    "## 12.3 Interactions"
   ]
  },
  {
   "cell_type": "markdown",
   "id": "a08829c3-02ca-4017-86ea-cc201c7bf113",
   "metadata": {},
   "source": [
    "In **statsmodels**, `var1:var2` formula syntax will automatically calculate the interaction (element-wise multiplication) of two variables. And `var1*var2` adds not only the interaction but also both original variables."
   ]
  },
  {
   "cell_type": "markdown",
   "id": "55a1b86c-f8bc-4d3d-a7e6-ee7d631ec0f2",
   "metadata": {},
   "source": [
    "Exercise: regress wage on education, experience, and their interaction."
   ]
  },
  {
   "cell_type": "code",
   "execution_count": 12,
   "id": "37c849fd-5c9b-4cb7-8571-fb693c1e6b3b",
   "metadata": {},
   "outputs": [
    {
     "data": {
      "text/html": [
       "<div>\n",
       "<style scoped>\n",
       "    .dataframe tbody tr th:only-of-type {\n",
       "        vertical-align: middle;\n",
       "    }\n",
       "\n",
       "    .dataframe tbody tr th {\n",
       "        vertical-align: top;\n",
       "    }\n",
       "\n",
       "    .dataframe thead th {\n",
       "        text-align: right;\n",
       "    }\n",
       "</style>\n",
       "<table border=\"1\" class=\"dataframe\">\n",
       "  <thead>\n",
       "    <tr style=\"text-align: right;\">\n",
       "      <th></th>\n",
       "      <th>wage</th>\n",
       "      <th>education</th>\n",
       "      <th>experience</th>\n",
       "      <th>age</th>\n",
       "      <th>ethnicity</th>\n",
       "      <th>region</th>\n",
       "      <th>gender</th>\n",
       "      <th>occupation</th>\n",
       "      <th>sector</th>\n",
       "      <th>union</th>\n",
       "      <th>married</th>\n",
       "    </tr>\n",
       "  </thead>\n",
       "  <tbody>\n",
       "    <tr>\n",
       "      <th>0</th>\n",
       "      <td>5.10</td>\n",
       "      <td>8</td>\n",
       "      <td>21</td>\n",
       "      <td>35</td>\n",
       "      <td>hispanic</td>\n",
       "      <td>other</td>\n",
       "      <td>female</td>\n",
       "      <td>worker</td>\n",
       "      <td>manufacturing</td>\n",
       "      <td>no</td>\n",
       "      <td>yes</td>\n",
       "    </tr>\n",
       "    <tr>\n",
       "      <th>1</th>\n",
       "      <td>4.95</td>\n",
       "      <td>9</td>\n",
       "      <td>42</td>\n",
       "      <td>57</td>\n",
       "      <td>cauc</td>\n",
       "      <td>other</td>\n",
       "      <td>female</td>\n",
       "      <td>worker</td>\n",
       "      <td>manufacturing</td>\n",
       "      <td>no</td>\n",
       "      <td>yes</td>\n",
       "    </tr>\n",
       "    <tr>\n",
       "      <th>2</th>\n",
       "      <td>6.67</td>\n",
       "      <td>12</td>\n",
       "      <td>1</td>\n",
       "      <td>19</td>\n",
       "      <td>cauc</td>\n",
       "      <td>other</td>\n",
       "      <td>male</td>\n",
       "      <td>worker</td>\n",
       "      <td>manufacturing</td>\n",
       "      <td>no</td>\n",
       "      <td>no</td>\n",
       "    </tr>\n",
       "    <tr>\n",
       "      <th>3</th>\n",
       "      <td>4.00</td>\n",
       "      <td>12</td>\n",
       "      <td>4</td>\n",
       "      <td>22</td>\n",
       "      <td>cauc</td>\n",
       "      <td>other</td>\n",
       "      <td>male</td>\n",
       "      <td>worker</td>\n",
       "      <td>other</td>\n",
       "      <td>no</td>\n",
       "      <td>no</td>\n",
       "    </tr>\n",
       "    <tr>\n",
       "      <th>4</th>\n",
       "      <td>7.50</td>\n",
       "      <td>12</td>\n",
       "      <td>17</td>\n",
       "      <td>35</td>\n",
       "      <td>cauc</td>\n",
       "      <td>other</td>\n",
       "      <td>male</td>\n",
       "      <td>worker</td>\n",
       "      <td>other</td>\n",
       "      <td>no</td>\n",
       "      <td>yes</td>\n",
       "    </tr>\n",
       "    <tr>\n",
       "      <th>...</th>\n",
       "      <td>...</td>\n",
       "      <td>...</td>\n",
       "      <td>...</td>\n",
       "      <td>...</td>\n",
       "      <td>...</td>\n",
       "      <td>...</td>\n",
       "      <td>...</td>\n",
       "      <td>...</td>\n",
       "      <td>...</td>\n",
       "      <td>...</td>\n",
       "      <td>...</td>\n",
       "    </tr>\n",
       "    <tr>\n",
       "      <th>529</th>\n",
       "      <td>11.36</td>\n",
       "      <td>18</td>\n",
       "      <td>5</td>\n",
       "      <td>29</td>\n",
       "      <td>cauc</td>\n",
       "      <td>other</td>\n",
       "      <td>male</td>\n",
       "      <td>technical</td>\n",
       "      <td>other</td>\n",
       "      <td>no</td>\n",
       "      <td>no</td>\n",
       "    </tr>\n",
       "    <tr>\n",
       "      <th>530</th>\n",
       "      <td>6.10</td>\n",
       "      <td>12</td>\n",
       "      <td>33</td>\n",
       "      <td>51</td>\n",
       "      <td>other</td>\n",
       "      <td>other</td>\n",
       "      <td>female</td>\n",
       "      <td>technical</td>\n",
       "      <td>other</td>\n",
       "      <td>no</td>\n",
       "      <td>yes</td>\n",
       "    </tr>\n",
       "    <tr>\n",
       "      <th>531</th>\n",
       "      <td>23.25</td>\n",
       "      <td>17</td>\n",
       "      <td>25</td>\n",
       "      <td>48</td>\n",
       "      <td>other</td>\n",
       "      <td>other</td>\n",
       "      <td>female</td>\n",
       "      <td>technical</td>\n",
       "      <td>other</td>\n",
       "      <td>yes</td>\n",
       "      <td>yes</td>\n",
       "    </tr>\n",
       "    <tr>\n",
       "      <th>532</th>\n",
       "      <td>19.88</td>\n",
       "      <td>12</td>\n",
       "      <td>13</td>\n",
       "      <td>31</td>\n",
       "      <td>cauc</td>\n",
       "      <td>south</td>\n",
       "      <td>male</td>\n",
       "      <td>technical</td>\n",
       "      <td>other</td>\n",
       "      <td>yes</td>\n",
       "      <td>yes</td>\n",
       "    </tr>\n",
       "    <tr>\n",
       "      <th>533</th>\n",
       "      <td>15.38</td>\n",
       "      <td>16</td>\n",
       "      <td>33</td>\n",
       "      <td>55</td>\n",
       "      <td>cauc</td>\n",
       "      <td>other</td>\n",
       "      <td>male</td>\n",
       "      <td>technical</td>\n",
       "      <td>manufacturing</td>\n",
       "      <td>no</td>\n",
       "      <td>yes</td>\n",
       "    </tr>\n",
       "  </tbody>\n",
       "</table>\n",
       "<p>534 rows × 11 columns</p>\n",
       "</div>"
      ],
      "text/plain": [
       "      wage  education  experience  age ethnicity region  gender occupation  \\\n",
       "0     5.10          8          21   35  hispanic  other  female     worker   \n",
       "1     4.95          9          42   57      cauc  other  female     worker   \n",
       "2     6.67         12           1   19      cauc  other    male     worker   \n",
       "3     4.00         12           4   22      cauc  other    male     worker   \n",
       "4     7.50         12          17   35      cauc  other    male     worker   \n",
       "..     ...        ...         ...  ...       ...    ...     ...        ...   \n",
       "529  11.36         18           5   29      cauc  other    male  technical   \n",
       "530   6.10         12          33   51     other  other  female  technical   \n",
       "531  23.25         17          25   48     other  other  female  technical   \n",
       "532  19.88         12          13   31      cauc  south    male  technical   \n",
       "533  15.38         16          33   55      cauc  other    male  technical   \n",
       "\n",
       "            sector union married  \n",
       "0    manufacturing    no     yes  \n",
       "1    manufacturing    no     yes  \n",
       "2    manufacturing    no      no  \n",
       "3            other    no      no  \n",
       "4            other    no     yes  \n",
       "..             ...   ...     ...  \n",
       "529          other    no      no  \n",
       "530          other    no     yes  \n",
       "531          other   yes     yes  \n",
       "532          other   yes     yes  \n",
       "533  manufacturing    no     yes  \n",
       "\n",
       "[534 rows x 11 columns]"
      ]
     },
     "execution_count": 12,
     "metadata": {},
     "output_type": "execute_result"
    }
   ],
   "source": [
    "df"
   ]
  },
  {
   "cell_type": "code",
   "execution_count": 13,
   "id": "9e5aff8d-a999-40af-9d0e-d0ac1db45006",
   "metadata": {},
   "outputs": [
    {
     "name": "stdout",
     "output_type": "stream",
     "text": [
      "                            OLS Regression Results                            \n",
      "==============================================================================\n",
      "Dep. Variable:                   wage   R-squared:                       0.203\n",
      "Model:                            OLS   Adj. R-squared:                  0.198\n",
      "Method:                 Least Squares   F-statistic:                     44.89\n",
      "Date:                Tue, 16 Nov 2021   Prob (F-statistic):           7.28e-26\n",
      "Time:                        12:59:27   Log-Likelihood:                -1570.8\n",
      "No. Observations:                 534   AIC:                             3150.\n",
      "Df Residuals:                     530   BIC:                             3167.\n",
      "Df Model:                           3                                         \n",
      "Covariance Type:            nonrobust                                         \n",
      "========================================================================================\n",
      "                           coef    std err          t      P>|t|      [0.025      0.975]\n",
      "----------------------------------------------------------------------------------------\n",
      "Intercept               -3.9520      1.942     -2.035      0.042      -7.767      -0.137\n",
      "education                0.8518      0.143      5.950      0.000       0.571       1.133\n",
      "experience               0.0628      0.069      0.907      0.365      -0.073       0.199\n",
      "education:experience     0.0035      0.006      0.630      0.529      -0.007       0.014\n",
      "==============================================================================\n",
      "Omnibus:                      226.412   Durbin-Watson:                   1.839\n",
      "Prob(Omnibus):                  0.000   Jarque-Bera (JB):             1602.290\n",
      "Skew:                           1.702   Prob(JB):                         0.00\n",
      "Kurtosis:                      10.774   Cond. No.                     2.59e+03\n",
      "==============================================================================\n",
      "\n",
      "Notes:\n",
      "[1] Standard Errors assume that the covariance matrix of the errors is correctly specified.\n",
      "[2] The condition number is large, 2.59e+03. This might indicate that there are\n",
      "strong multicollinearity or other numerical problems.\n"
     ]
    }
   ],
   "source": [
    "reg = smf.ols(\"wage~education*experience\", data=df)\n",
    "res = reg.fit()\n",
    "print(res.summary())"
   ]
  },
  {
   "cell_type": "markdown",
   "id": "d0692392-3e69-4288-a84b-e8892494dde9",
   "metadata": {},
   "source": [
    "### Interpretation: Continuous Variable\n",
    "\n",
    "If both var1 and var2 are continuous, the coefficient on the interaction term can be interpreted as the effect on the marginal effect (mixed-partial derivatives). In the example above, we have \n",
    "\n",
    "$$wage = \\beta_0 + \\beta_1 education + \\beta_2 experience + \\beta_3 education*experience + u$$"
   ]
  },
  {
   "cell_type": "markdown",
   "id": "114fe5aa-fd80-493b-a0ec-35cdd3a2b2d3",
   "metadata": {},
   "source": [
    "$$\\frac{\\partial E[wage|x]}{\\partial education} = \\beta_1 + \\beta_3experience$$"
   ]
  },
  {
   "cell_type": "markdown",
   "id": "27b428fc-5783-475d-8d87-acfe82c239c9",
   "metadata": {},
   "source": [
    "$$\\frac{\\partial}{\\partial experience}(\\frac{\\partial E[wage|x]}{\\partial education}) = \\beta_3$$"
   ]
  },
  {
   "cell_type": "markdown",
   "id": "d7119e94-fff9-4866-99b8-ea116e8ead40",
   "metadata": {},
   "source": [
    "When experience increase by one year, the partial effect of education on wage are expected to increase by $\\beta_3$."
   ]
  },
  {
   "cell_type": "markdown",
   "id": "50f8d83d-c91f-47d4-b752-03b6bdf25fcf",
   "metadata": {},
   "source": [
    "And $\\beta_1$ indicates the increase in expected wage when the individual, with 0 experience, receives one more year of education."
   ]
  },
  {
   "cell_type": "markdown",
   "id": "369b2e07-e6fa-44c1-bd1f-8c8407346d12",
   "metadata": {},
   "source": [
    "> Clairaut's Theorem \n",
    "If $(f_x)_y$ and $(f_y)_x$ are both defined and continuous in a region containing the point (a,b) $$(f_x)_y(a,b)=(f_y)_x(a,b)$$"
   ]
  },
  {
   "cell_type": "markdown",
   "id": "55a08862-2be5-4438-845d-3c85cb909ccc",
   "metadata": {},
   "source": [
    "Exercise: draw a 3D plot for $y = 1 + 2x_1 + 3x_2 +4x_1*x_2$"
   ]
  },
  {
   "cell_type": "code",
   "execution_count": 28,
   "id": "f970d2a3-e2ff-4821-9d0e-88c75f34510e",
   "metadata": {},
   "outputs": [
    {
     "data": {
      "image/png": "[encoded data removed]",
      "text/plain": [
       "<Figure size 432x288 with 1 Axes>"
      ]
     },
     "metadata": {
      "needs_background": "light"
     },
     "output_type": "display_data"
    }
   ],
   "source": [
    "import numpy as np\n",
    "# new canvas\n",
    "fig = plt.figure()\n",
    "# convert to 3D canvas\n",
    "ax = fig.add_subplot(111, projection='3d') # create a 1 row 1 column grid, draw at the 1st grid\n",
    "\n",
    "# assume values of x\n",
    "x1 = range(10)\n",
    "x2 = range(10)\n",
    "\n",
    "# meshgrid - create pairs\n",
    "X1,X2 = np.meshgrid(x1,x2)\n",
    "\n",
    "#surface plot\n",
    "Y_h = 1+2*X1+3*X2+4*X1*X2\n",
    "ax.plot_surface(X1,X2,Y_h, cmap=\"coolwarm\")\n",
    "\n",
    "#labels\n",
    "ax.set_xlabel(\"x1\")\n",
    "ax.set_ylabel(\"x2\")\n",
    "ax.set_zlabel(\"y\")\n",
    "\n",
    "#rotate the figure\n",
    "ax.view_init(azim = -60, elev = 30)  \n",
    "plt.show()"
   ]
  },
  {
   "cell_type": "markdown",
   "id": "e6364b48-4057-487d-bc1f-1dc68a38083b",
   "metadata": {},
   "source": [
    "Exercise: draw a 3D plot for this interacted model. Using the predicted wage as the z-axis, education as x-axis, and experience as the y-axis."
   ]
  },
  {
   "cell_type": "code",
   "execution_count": null,
   "id": "ca032f32-047e-45ad-89c6-6892925921da",
   "metadata": {},
   "outputs": [],
   "source": [
    "import numpy as np\n",
    "b = res.params\n",
    "b"
   ]
  },
  {
   "cell_type": "code",
   "execution_count": null,
   "id": "fe8bde79-0156-450f-96d4-634cb215e14c",
   "metadata": {},
   "outputs": [],
   "source": [
    "# new canvas\n",
    "fig = plt.figure()\n",
    "# convert to 3D canvas\n",
    "ax = fig.add_subplot(111, projection='3d') # create a 1 row 1 column grid, draw at the 1st grid\n",
    "\n",
    "# assume values of x\n",
    "x1 = np.linspace(np.min(df[\"education\"]),np.max(df[\"education\"]),10) # there is no need to use observed values of x\n",
    "x2 = np.linspace(np.min(df[\"experience\"]),np.max(df[\"experience\"]),10)\n",
    "\n",
    "# meshgrid - create pairs\n",
    "X1,X2 = np.meshgrid(x1,x2)\n",
    "\n",
    "#surface plot\n",
    "Y_h = b[0]+b[1]*X1+b[2]*X2+b[3]*X1*X2\n",
    "ax.plot_surface(X1,X2,Y_h, cmap=\"coolwarm\")\n",
    "\n",
    "#labels\n",
    "ax.set_xlabel(\"education\")\n",
    "ax.set_ylabel(\"experience\")\n",
    "ax.set_zlabel(\"wage\")\n",
    "\n",
    "#rotate the figure\n",
    "ax.view_init(azim = -60, elev = 30)  \n",
    "plt.show()"
   ]
  },
  {
   "cell_type": "markdown",
   "id": "37874216-7c83-43b4-bc69-6aca31ce5e5d",
   "metadata": {},
   "source": [
    "### Interpretation - Dummy Variable - DD model\n",
    "\n",
    "If both x1 and x2 are dummy variables, the model is called a **Difference-in-Differences** (DD) model.DD is commonly used in analyzing causal effects. To see this, consider we have two dummy variables, D=1 if the individual is in the treatment group, and T=1 if the observation is in the post-treatment period. And we assume the following specification\n",
    "\n",
    "$$y = \\beta_0 + \\beta_1 D + \\beta_2 T + \\beta_3 D*T + u$$\n",
    "\n",
    "Similar to the continuous case, we have\n",
    "\n",
    "$$\\frac{\\Delta}{\\Delta T}(\\frac{\\Delta E[y|x]}{\\Delta D}) = \\beta_3$$"
   ]
  },
  {
   "cell_type": "markdown",
   "id": "281271e0-7584-472c-b6e0-38ee367e69ae",
   "metadata": {},
   "source": [
    "> we use $\\Delta$ instead of $\\partial$ because a dummy variable is discrete and not differentiable."
   ]
  },
  {
   "cell_type": "markdown",
   "id": "e9783966-7faa-4bc8-9320-16fb62235b3a",
   "metadata": {},
   "source": [
    "The equation above can be rewritten as (since D and T can only take 2 values)\n",
    "\n",
    "$$\\begin{aligned} \n",
    "\\beta_3& =\\frac{\\Delta}{\\Delta T}(\\frac{\\Delta E[y|x]}{\\Delta D}) \\\\\n",
    "&= \\frac{\\Delta}{\\Delta T}(E[y|D=1,T]-E[y|D=0,T]) \\\\\n",
    "&= (E[y|D=1,T=1]-E[y|D=0,T=1]) - (E[y|D=1,T=0]-E[y|D=0,T=0]) \\\\\n",
    "\\end{aligned}$$"
   ]
  },
  {
   "cell_type": "markdown",
   "id": "f5a6a5c5-fc0e-4bcb-aa92-890037c2de8d",
   "metadata": {},
   "source": [
    "Hence the name difference in differences"
   ]
  },
  {
   "cell_type": "markdown",
   "id": "3355c37a-ff91-4790-b390-b9b32511854f",
   "metadata": {},
   "source": [
    "$\\beta_3$ in this model implies the treatment effect, eliminating the initial treatment-control difference and the common trend experienced by both groups."
   ]
  },
  {
   "cell_type": "markdown",
   "id": "3f18705a-e109-44c0-8a09-83d098f998c3",
   "metadata": {},
   "source": [
    "Exercise: Assume $y = 1 + 2D + 3T + 4DT +u$, visualize the treatment effect in a 2D scatter plot of y against T."
   ]
  },
  {
   "cell_type": "code",
   "execution_count": 4,
   "id": "db2e60e5-1e85-49e4-adf6-cf1292c4f8fb",
   "metadata": {},
   "outputs": [
    {
     "name": "stdout",
     "output_type": "stream",
     "text": [
      "D    int64\n",
      "T    int64\n",
      "y    int64\n",
      "dtype: object\n"
     ]
    },
    {
     "data": {
      "image/png": "[encoded data removed]",
      "text/plain": [
       "<Figure size 432x288 with 1 Axes>"
      ]
     },
     "metadata": {
      "needs_background": "light"
     },
     "output_type": "display_data"
    }
   ],
   "source": [
    "import pandas as pd\n",
    "import matplotlib.pyplot as plt\n",
    "\n",
    "D = [0,0,1,1]\n",
    "T= [0,1,0,1]\n",
    "df2 = pd.DataFrame({\"D\":D,\"T\":T})\n",
    "df2[\"y\"] = 1+ 2*df2[\"D\"]+ 3*df2[\"T\"]+ 4*df2[\"D\"]*df2[\"T\"]\n",
    "\n",
    "print(df2.dtypes)\n",
    "\n",
    "plt.scatter(x=df2[\"T\"], y=df2[\"y\"])\n",
    "\n",
    "\n",
    "\n",
    "# plt.scatter(x=\"T\", y=\"y\", data=df2.loc[df2[\"D\"]==1])\n",
    "# plt.scatter(x=\"T\", y=\"y\", data=df2.loc[df2[\"D\"]==0])\n",
    "\n",
    "plt.show()"
   ]
  }
 ],
 "metadata": {
  "kernelspec": {
   "display_name": "Python 3 (ipykernel)",
   "language": "python",
   "name": "python3"
  },
  "language_info": {
   "codemirror_mode": {
    "name": "ipython",
    "version": 3
   },
   "file_extension": ".py",
   "mimetype": "text/x-python",
   "name": "python",
   "nbconvert_exporter": "python",
   "pygments_lexer": "ipython3",
   "version": "3.8.8"
  }
 },
 "nbformat": 4,
 "nbformat_minor": 5
}
