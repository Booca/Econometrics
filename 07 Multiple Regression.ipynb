{
 "cells": [
  {
   "cell_type": "markdown",
   "id": "4a5be34e-5acd-4d3f-a81d-b44d1898ce70",
   "metadata": {},
   "source": [
    "# 7 Multiple Regression"
   ]
  },
  {
   "cell_type": "markdown",
   "id": "80432a1f-e034-483b-ad15-2f7fd10439f6",
   "metadata": {},
   "source": [
    "Multiple regression is an extension of simple linear regression, where we have more than one independent variables."
   ]
  },
  {
   "cell_type": "markdown",
   "id": "fa64d5df-708b-40a8-af66-4732f2b57081",
   "metadata": {},
   "source": [
    "## 7.1 Model\n",
    "\n",
    "Consider the population regression model\n",
    "$$y = \\beta_0 + \\beta_1x_1 + \\beta_2x_2+...+\\beta_kx_k+u$$"
   ]
  },
  {
   "cell_type": "markdown",
   "id": "e979aa13-6ac8-4bce-8906-f87caec63321",
   "metadata": {},
   "source": [
    "There are $k$ independent variables, and $p\\equiv(k+1)$ parameters. The interpretation of $\\beta_0$ is the expected value of y when $x_1=x_2=...=x_k=0$. And $\\beta_1$ is the partial derivative of $y$ w.r.t $x$, which means, all else equal, when $x_1$ increase by 1, the expected value of y will increase by $\\beta_1$."
   ]
  },
  {
   "cell_type": "markdown",
   "id": "0e0affca-16f3-4361-a351-7b0c8fbd9413",
   "metadata": {},
   "source": [
    "## 7.2 Method - OLS\n",
    "\n",
    "We can use OLS to obtain the estimators - $\\hat{\\beta}$s. Similarly,\n",
    "\n",
    "$$\\min_{\\beta_0,\\beta_1,...,\\beta_k} (y-(\\beta_0+\\beta_1x_k+...\\beta_kx_k))^2$$"
   ]
  },
  {
   "cell_type": "markdown",
   "id": "8fd591a2-900f-4fa8-8793-e6f4362df0fd",
   "metadata": {},
   "source": [
    "The analytical results for $\\hat{\\beta}$s are more complex than that of a simple linear regression, so we do not list them here, but they are implemented in the statsmodels package."
   ]
  },
  {
   "cell_type": "markdown",
   "id": "2efd2023-4a2f-4263-a2f0-aeb1e85af092",
   "metadata": {},
   "source": [
    "## 7.3 Package - statsmodels\n"
   ]
  },
  {
   "cell_type": "markdown",
   "id": "5e303dc9-92ae-4682-a640-b9d8f36d50b4",
   "metadata": {},
   "source": [
    "Suppose the data set sample contains variables y,x1,x2,x3, with the respective data of our sample. We estimate the model using commands.\n",
    "\n",
    "```python\n",
    "    reg = smf.ols(formula=\"y~x1+x2+x3\", data=sample)\n",
    "    res = reg.fit()\n",
    "    print(res.summary())\n",
    "```"
   ]
  },
  {
   "cell_type": "markdown",
   "id": "4023009e-a661-46f6-ab9d-df6db1b1b7ba",
   "metadata": {},
   "source": [
    "## Exercise\n",
    "Data: wooldridge - gpa1\n",
    "\n",
    "Estimate a model that relates college GPA (*colGPA*) to the high school GPA (*hsGPA*) and achievement test score (*ACT*) for a sample of 141 students. "
   ]
  },
  {
   "cell_type": "code",
   "execution_count": 2,
   "id": "c352c236-4231-4e29-89cd-6aa9af30adfa",
   "metadata": {},
   "outputs": [
    {
     "data": {
      "text/html": [
       "<div>\n",
       "<style scoped>\n",
       "    .dataframe tbody tr th:only-of-type {\n",
       "        vertical-align: middle;\n",
       "    }\n",
       "\n",
       "    .dataframe tbody tr th {\n",
       "        vertical-align: top;\n",
       "    }\n",
       "\n",
       "    .dataframe thead th {\n",
       "        text-align: right;\n",
       "    }\n",
       "</style>\n",
       "<table border=\"1\" class=\"dataframe\">\n",
       "  <thead>\n",
       "    <tr style=\"text-align: right;\">\n",
       "      <th></th>\n",
       "      <th>age</th>\n",
       "      <th>soph</th>\n",
       "      <th>junior</th>\n",
       "      <th>senior</th>\n",
       "      <th>senior5</th>\n",
       "      <th>male</th>\n",
       "      <th>campus</th>\n",
       "      <th>business</th>\n",
       "      <th>engineer</th>\n",
       "      <th>colGPA</th>\n",
       "      <th>...</th>\n",
       "      <th>greek</th>\n",
       "      <th>car</th>\n",
       "      <th>siblings</th>\n",
       "      <th>bgfriend</th>\n",
       "      <th>clubs</th>\n",
       "      <th>skipped</th>\n",
       "      <th>alcohol</th>\n",
       "      <th>gradMI</th>\n",
       "      <th>fathcoll</th>\n",
       "      <th>mothcoll</th>\n",
       "    </tr>\n",
       "  </thead>\n",
       "  <tbody>\n",
       "    <tr>\n",
       "      <th>0</th>\n",
       "      <td>21</td>\n",
       "      <td>0</td>\n",
       "      <td>0</td>\n",
       "      <td>1</td>\n",
       "      <td>0</td>\n",
       "      <td>0</td>\n",
       "      <td>0</td>\n",
       "      <td>1</td>\n",
       "      <td>0</td>\n",
       "      <td>3.0</td>\n",
       "      <td>...</td>\n",
       "      <td>0</td>\n",
       "      <td>1</td>\n",
       "      <td>1</td>\n",
       "      <td>0</td>\n",
       "      <td>0</td>\n",
       "      <td>2.0</td>\n",
       "      <td>1.0</td>\n",
       "      <td>1</td>\n",
       "      <td>0</td>\n",
       "      <td>0</td>\n",
       "    </tr>\n",
       "    <tr>\n",
       "      <th>1</th>\n",
       "      <td>21</td>\n",
       "      <td>0</td>\n",
       "      <td>0</td>\n",
       "      <td>1</td>\n",
       "      <td>0</td>\n",
       "      <td>0</td>\n",
       "      <td>0</td>\n",
       "      <td>1</td>\n",
       "      <td>0</td>\n",
       "      <td>3.4</td>\n",
       "      <td>...</td>\n",
       "      <td>0</td>\n",
       "      <td>1</td>\n",
       "      <td>0</td>\n",
       "      <td>1</td>\n",
       "      <td>1</td>\n",
       "      <td>0.0</td>\n",
       "      <td>1.0</td>\n",
       "      <td>1</td>\n",
       "      <td>1</td>\n",
       "      <td>1</td>\n",
       "    </tr>\n",
       "    <tr>\n",
       "      <th>2</th>\n",
       "      <td>20</td>\n",
       "      <td>0</td>\n",
       "      <td>1</td>\n",
       "      <td>0</td>\n",
       "      <td>0</td>\n",
       "      <td>0</td>\n",
       "      <td>0</td>\n",
       "      <td>1</td>\n",
       "      <td>0</td>\n",
       "      <td>3.0</td>\n",
       "      <td>...</td>\n",
       "      <td>0</td>\n",
       "      <td>1</td>\n",
       "      <td>1</td>\n",
       "      <td>0</td>\n",
       "      <td>1</td>\n",
       "      <td>0.0</td>\n",
       "      <td>1.0</td>\n",
       "      <td>1</td>\n",
       "      <td>1</td>\n",
       "      <td>1</td>\n",
       "    </tr>\n",
       "    <tr>\n",
       "      <th>3</th>\n",
       "      <td>19</td>\n",
       "      <td>1</td>\n",
       "      <td>0</td>\n",
       "      <td>0</td>\n",
       "      <td>0</td>\n",
       "      <td>1</td>\n",
       "      <td>1</td>\n",
       "      <td>1</td>\n",
       "      <td>0</td>\n",
       "      <td>3.5</td>\n",
       "      <td>...</td>\n",
       "      <td>0</td>\n",
       "      <td>0</td>\n",
       "      <td>1</td>\n",
       "      <td>0</td>\n",
       "      <td>0</td>\n",
       "      <td>0.0</td>\n",
       "      <td>0.0</td>\n",
       "      <td>0</td>\n",
       "      <td>0</td>\n",
       "      <td>0</td>\n",
       "    </tr>\n",
       "    <tr>\n",
       "      <th>4</th>\n",
       "      <td>20</td>\n",
       "      <td>0</td>\n",
       "      <td>1</td>\n",
       "      <td>0</td>\n",
       "      <td>0</td>\n",
       "      <td>0</td>\n",
       "      <td>0</td>\n",
       "      <td>1</td>\n",
       "      <td>0</td>\n",
       "      <td>3.6</td>\n",
       "      <td>...</td>\n",
       "      <td>0</td>\n",
       "      <td>1</td>\n",
       "      <td>1</td>\n",
       "      <td>1</td>\n",
       "      <td>0</td>\n",
       "      <td>0.0</td>\n",
       "      <td>1.5</td>\n",
       "      <td>1</td>\n",
       "      <td>1</td>\n",
       "      <td>0</td>\n",
       "    </tr>\n",
       "  </tbody>\n",
       "</table>\n",
       "<p>5 rows × 29 columns</p>\n",
       "</div>"
      ],
      "text/plain": [
       "   age  soph  junior  senior  senior5  male  campus  business  engineer  \\\n",
       "0   21     0       0       1        0     0       0         1         0   \n",
       "1   21     0       0       1        0     0       0         1         0   \n",
       "2   20     0       1       0        0     0       0         1         0   \n",
       "3   19     1       0       0        0     1       1         1         0   \n",
       "4   20     0       1       0        0     0       0         1         0   \n",
       "\n",
       "   colGPA  ...  greek  car  siblings  bgfriend  clubs  skipped  alcohol  \\\n",
       "0     3.0  ...      0    1         1         0      0      2.0      1.0   \n",
       "1     3.4  ...      0    1         0         1      1      0.0      1.0   \n",
       "2     3.0  ...      0    1         1         0      1      0.0      1.0   \n",
       "3     3.5  ...      0    0         1         0      0      0.0      0.0   \n",
       "4     3.6  ...      0    1         1         1      0      0.0      1.5   \n",
       "\n",
       "   gradMI  fathcoll  mothcoll  \n",
       "0       1         0         0  \n",
       "1       1         1         1  \n",
       "2       1         1         1  \n",
       "3       0         0         0  \n",
       "4       1         1         0  \n",
       "\n",
       "[5 rows x 29 columns]"
      ]
     },
     "execution_count": 2,
     "metadata": {},
     "output_type": "execute_result"
    }
   ],
   "source": [
    "import wooldridge as woo\n",
    "import statsmodels.formula.api as smf\n",
    "\n",
    "df = woo.data(\"gpa1\")\n",
    "df.head()"
   ]
  },
  {
   "cell_type": "code",
   "execution_count": 3,
   "id": "870d407b-b13f-4be8-9cd1-ff92897957c9",
   "metadata": {},
   "outputs": [
    {
     "name": "stdout",
     "output_type": "stream",
     "text": [
      "                            OLS Regression Results                            \n",
      "==============================================================================\n",
      "Dep. Variable:                 colGPA   R-squared:                       0.176\n",
      "Model:                            OLS   Adj. R-squared:                  0.164\n",
      "Method:                 Least Squares   F-statistic:                     14.78\n",
      "Date:                Thu, 10 Mar 2022   Prob (F-statistic):           1.53e-06\n",
      "Time:                        13:04:15   Log-Likelihood:                -46.573\n",
      "No. Observations:                 141   AIC:                             99.15\n",
      "Df Residuals:                     138   BIC:                             108.0\n",
      "Df Model:                           2                                         \n",
      "Covariance Type:            nonrobust                                         \n",
      "==============================================================================\n",
      "                 coef    std err          t      P>|t|      [0.025      0.975]\n",
      "------------------------------------------------------------------------------\n",
      "Intercept      1.2863      0.341      3.774      0.000       0.612       1.960\n",
      "hsGPA          0.4535      0.096      4.733      0.000       0.264       0.643\n",
      "ACT            0.0094      0.011      0.875      0.383      -0.012       0.031\n",
      "==============================================================================\n",
      "Omnibus:                        3.056   Durbin-Watson:                   1.885\n",
      "Prob(Omnibus):                  0.217   Jarque-Bera (JB):                2.469\n",
      "Skew:                           0.199   Prob(JB):                        0.291\n",
      "Kurtosis:                       2.488   Cond. No.                         298.\n",
      "==============================================================================\n",
      "\n",
      "Notes:\n",
      "[1] Standard Errors assume that the covariance matrix of the errors is correctly specified.\n"
     ]
    }
   ],
   "source": [
    "reg = smf.ols(\"colGPA~hsGPA + ACT\", data=df)\n",
    "res = reg.fit()\n",
    "print(res.summary())\n",
    "b0_h, b1_h, b2_h = res.params"
   ]
  },
  {
   "cell_type": "markdown",
   "id": "4b87e75c-221a-4711-b3c6-17430b9f726a",
   "metadata": {},
   "source": [
    "You can also extract specific results using the following properties:\n",
    "- **params** for regression coefficients\n",
    "- **resid** for the residual-hats\n",
    "- **rsquared** for $R^2$\n",
    "- and [more](https://www.statsmodels.org/stable/generated/statsmodels.regression.linear_model.RegressionResults.html#statsmodels.regression.linear_model.RegressionResults)"
   ]
  },
  {
   "cell_type": "markdown",
   "id": "85a93fd3-272c-4b6b-b8f7-a07cad4cccfb",
   "metadata": {},
   "source": [
    "# 7.4 Visualization when there are two independent variables."
   ]
  },
  {
   "cell_type": "markdown",
   "id": "1814c9a7-8317-425d-a03b-2a007f5271bd",
   "metadata": {},
   "source": [
    "When there are two independent variables, it is still possible to graphically display the relationship between dependent and independent variables (3 variables in total - so a 3D plot)."
   ]
  },
  {
   "cell_type": "markdown",
   "id": "bbe4e33b-63af-4731-b675-7f41e758919c",
   "metadata": {},
   "source": [
    "*matplotlib* provide simple ways to create 3d visualizations. [Check this document](https://matplotlib.org/2.0.2/mpl_toolkits/mplot3d/tutorial.html) for more details."
   ]
  },
  {
   "cell_type": "code",
   "execution_count": 13,
   "id": "a31f4099-1c66-4277-8795-7431d36fe28f",
   "metadata": {},
   "outputs": [],
   "source": [
    "b0_h, b1_1, b2_h = res.params"
   ]
  },
  {
   "cell_type": "code",
   "execution_count": 17,
   "id": "c2f973a7-28e5-4f38-a877-5afa38f1cba1",
   "metadata": {
    "jp-MarkdownHeadingCollapsed": true,
    "tags": []
   },
   "outputs": [
    {
     "data": {
      "image/png": "[encoded data removed]",
      "text/plain": [
       "<Figure size 432x288 with 1 Axes>"
      ]
     },
     "metadata": {
      "needs_background": "light"
     },
     "output_type": "display_data"
    }
   ],
   "source": [
    "import matplotlib.pyplot as plt\n",
    "import numpy as np\n",
    "\n",
    "\n",
    "# new canvas\n",
    "fig = plt.figure()\n",
    "# convert to 3D canvas\n",
    "ax = fig.add_subplot(111, projection='3d') # create a 1 row 1 column grid, draw at the 1st grid\n",
    "\n",
    "# scatter plot\n",
    "ax.scatter(df[\"hsGPA\"],df[\"ACT\"],df[\"colGPA\"])\n",
    "\n",
    "ax.set_xlabel('hsGPA')\n",
    "ax.set_ylabel('ACT')\n",
    "ax.set_zlabel('colGPA')\n",
    "\n",
    "# fitted surface\n",
    "x1 = np.linspace(np.min(df[\"hsGPA\"]),np.max(df[\"hsGPA\"]),10)\n",
    "x2 = np.linspace(np.min(df[\"ACT\"]),np.max(df[\"ACT\"]),10)\n",
    "# meshgrid - create pairs\n",
    "X1,X2 = np.meshgrid(x1,x2)\n",
    "\n",
    "Y_h = b0_h+b1_h*X1+b2_h*X2\n",
    "ax.plot_wireframe(X1,X2,Y_h, color=\"r\")\n",
    "ax.view_init(azim=30,elev=30)"
   ]
  },
  {
   "cell_type": "code",
   "execution_count": null,
   "id": "6ee54719-f822-4714-b495-c7db1d006c7d",
   "metadata": {
    "jp-MarkdownHeadingCollapsed": true,
    "tags": []
   },
   "outputs": [],
   "source": [
    "#rotate the figure\n",
    "ax.view_init(azim = -60, elev = 30)  \n",
    "plt.show()\n",
    "    \n",
    "#save the figure\n",
    "# plt.savefig(\"surf.png\")\n",
    "# plt.show()"
   ]
  },
  {
   "cell_type": "markdown",
   "id": "774fe0bd-2eee-486f-8ae9-593f95d529ed",
   "metadata": {},
   "source": [
    "> ![azim and elev](./images/azimuth-elevation.jpg)"
   ]
  },
  {
   "cell_type": "markdown",
   "id": "200a9693-d20e-4189-a1f7-3d1734e4eee6",
   "metadata": {},
   "source": [
    "### Animation\n",
    "\n",
    "matplotlib provides a module called *matplotlib.animation* to animate your graph. But before coding, let's first download a package called ffmpeg. In you terminal type:\n",
    "```\n",
    "conda install ffmpeg\n",
    "```"
   ]
  },
  {
   "cell_type": "code",
   "execution_count": 4,
   "id": "f723ba59-c2ef-42a2-8120-a58a2b0e4d44",
   "metadata": {
    "tags": []
   },
   "outputs": [
    {
     "name": "stdout",
     "output_type": "stream",
     "text": [
      "...saving the video to file, please wait\n",
      "video saved\n"
     ]
    }
   ],
   "source": [
    "import matplotlib.pyplot as plt\n",
    "import matplotlib.animation as animation\n",
    "from IPython.display import display, HTML, Video #I and P are both capital letters\n",
    "\n",
    "# plt.rcParams[\"animation.ffmpeg_path\"] = \"/Users/benx/opt/anaconda3/bin/ffmpeg\"\n",
    "\n",
    "def animate(i):\n",
    "    ax.view_init(azim = i, elev = 30)  # update the data.\n",
    "\n",
    "ani = animation.FuncAnimation(fig, func=animate, frames=range(0,360,10), interval=100) \n",
    "print(\"...saving the video to file, please wait\")\n",
    "ani.save(\"video.mp4\")\n",
    "print(\"video saved\")\n",
    "\n",
    "# without saving\n",
    "# print(\"...converting the video, please wait\")\n",
    "# display(HTML(ani.to_html5_video()))"
   ]
  },
  {
   "cell_type": "code",
   "execution_count": 5,
   "id": "6c2236c3-586c-4648-9555-07b8f9f08346",
   "metadata": {},
   "outputs": [
    {
     "data": {
      "text/html": [
       "<video src=\"video.mp4\" controls  >\n",
       "      Your browser does not support the <code>video</code> element.\n",
       "    </video>"
      ],
      "text/plain": [
       "<IPython.core.display.Video object>"
      ]
     },
     "execution_count": 5,
     "metadata": {},
     "output_type": "execute_result"
    }
   ],
   "source": [
    "from IPython.display import Video\n",
    "Video(\"video.mp4\")"
   ]
  },
  {
   "cell_type": "markdown",
   "id": "6abdda3d-f8c6-4f0a-9c83-6a54fd02e475",
   "metadata": {},
   "source": [
    "Alternatively, you can install the `ipympl` (IPython-matplotlib) package and add `%matplotlib widget` before your animation code."
   ]
  },
  {
   "cell_type": "markdown",
   "id": "4d66c9d4-0f0a-44cd-b8a3-b29e1190e9f6",
   "metadata": {
    "tags": []
   },
   "source": [
    "### More about fig.add_subplot()"
   ]
  },
  {
   "cell_type": "code",
   "execution_count": 6,
   "id": "15986daf-7b35-4551-91e8-8ec92a4e75f6",
   "metadata": {
    "tags": []
   },
   "outputs": [
    {
     "data": {
      "image/png": "[encoded data removed]",
      "text/plain": [
       "<Figure size 720x360 with 3 Axes>"
      ]
     },
     "metadata": {
      "needs_background": "light"
     },
     "output_type": "display_data"
    }
   ],
   "source": [
    "# example data\n",
    "x= np.arange(5)\n",
    "y = x+1\n",
    "# Try subplot\n",
    "fig = plt.figure(figsize=(10,5))\n",
    "ax = fig.add_subplot(1,2,1) # 1 row 2 columns grid, paint at grid 1\n",
    "ax.plot(x,y)\n",
    "ax2 = fig.add_subplot(2,1,1) # this is painted on top of the previous command\n",
    "ax2.plot(x,y)\n",
    "ax3 = fig.add_subplot(2,2,4) # 2 rows 2 columns grid, paint at grid 4 - left to right, top-down\n",
    "ax3.plot(x,y)\n",
    "plt.show()"
   ]
  },
  {
   "cell_type": "markdown",
   "id": "a92c719e-0297-4ff7-9f1a-0e74ead387ee",
   "metadata": {},
   "source": [
    "# 7.5 Interpret the Estimation Table"
   ]
  },
  {
   "cell_type": "code",
   "execution_count": 7,
   "id": "1cbec8d1-be63-4c1f-8b06-e4185f446181",
   "metadata": {},
   "outputs": [
    {
     "name": "stdout",
     "output_type": "stream",
     "text": [
      "                            OLS Regression Results                            \n",
      "==============================================================================\n",
      "Dep. Variable:                 colGPA   R-squared:                       0.176\n",
      "Model:                            OLS   Adj. R-squared:                  0.164\n",
      "Method:                 Least Squares   F-statistic:                     14.78\n",
      "Date:                Mon, 11 Oct 2021   Prob (F-statistic):           1.53e-06\n",
      "Time:                        23:31:02   Log-Likelihood:                -46.573\n",
      "No. Observations:                 141   AIC:                             99.15\n",
      "Df Residuals:                     138   BIC:                             108.0\n",
      "Df Model:                           2                                         \n",
      "Covariance Type:            nonrobust                                         \n",
      "==============================================================================\n",
      "                 coef    std err          t      P>|t|      [0.025      0.975]\n",
      "------------------------------------------------------------------------------\n",
      "Intercept      1.2863      0.341      3.774      0.000       0.612       1.960\n",
      "hsGPA          0.4535      0.096      4.733      0.000       0.264       0.643\n",
      "ACT            0.0094      0.011      0.875      0.383      -0.012       0.031\n",
      "==============================================================================\n",
      "Omnibus:                        3.056   Durbin-Watson:                   1.885\n",
      "Prob(Omnibus):                  0.217   Jarque-Bera (JB):                2.469\n",
      "Skew:                           0.199   Prob(JB):                        0.291\n",
      "Kurtosis:                       2.488   Cond. No.                         298.\n",
      "==============================================================================\n",
      "\n",
      "Notes:\n",
      "[1] Standard Errors assume that the covariance matrix of the errors is correctly specified.\n"
     ]
    }
   ],
   "source": [
    "print(res.summary())"
   ]
  },
  {
   "cell_type": "markdown",
   "id": "688ccfa6-7295-4d2b-be74-da4b1c28122e",
   "metadata": {},
   "source": [
    "### 7.5.1 Mid-Panel\n",
    "\n",
    "Since there are multiple independent variables, the coefficients should be interpreted as **partial** effects (or **ceteris paribus** effects). For example, 0.4535 is the estimated average effect of increasing hsGPA by 1 unit while keeping ACT fixed."
   ]
  },
  {
   "cell_type": "code",
   "execution_count": 8,
   "id": "77356c81-6b2f-4fe6-801b-9cc6676087e6",
   "metadata": {
    "tags": []
   },
   "outputs": [
    {
     "name": "stdout",
     "output_type": "stream",
     "text": [
      "Intercept    1.286328\n",
      "hsGPA        0.453456\n",
      "ACT          0.009426\n",
      "dtype: float64\n"
     ]
    },
    {
     "data": {
      "text/plain": [
       "pandas.core.series.Series"
      ]
     },
     "execution_count": 8,
     "metadata": {},
     "output_type": "execute_result"
    }
   ],
   "source": [
    "print(res.params)\n",
    "type(res.params)"
   ]
  },
  {
   "cell_type": "code",
   "execution_count": 9,
   "id": "9e1f303a-b502-4019-9e64-ea86bacf2b70",
   "metadata": {
    "tags": []
   },
   "outputs": [
    {
     "name": "stdout",
     "output_type": "stream",
     "text": [
      "Intercept    0.340822\n",
      "hsGPA        0.095813\n",
      "ACT          0.010777\n",
      "dtype: float64\n"
     ]
    }
   ],
   "source": [
    "print(res.bse)"
   ]
  },
  {
   "cell_type": "code",
   "execution_count": 10,
   "id": "007f1391-edcd-4aee-8c13-5a69ff1b19eb",
   "metadata": {
    "tags": []
   },
   "outputs": [
    {
     "name": "stdout",
     "output_type": "stream",
     "text": [
      "Intercept    0.356073\n",
      "hsGPA        0.098134\n",
      "ACT          0.010682\n",
      "dtype: float64\n"
     ]
    }
   ],
   "source": [
    "# extra robust standard errors\n",
    "print(res.HC0_se)"
   ]
  },
  {
   "cell_type": "markdown",
   "id": "d3da4f54-81fd-458c-af39-b3b27430feba",
   "metadata": {},
   "source": [
    "### 7.5.2 Top-Panel"
   ]
  },
  {
   "cell_type": "markdown",
   "id": "849939b4-63d5-44b8-b6e3-53f32fcdca37",
   "metadata": {},
   "source": [
    "### Adj. R-squared\n"
   ]
  },
  {
   "cell_type": "markdown",
   "id": "a9e31fdc-cdb5-46f3-a472-9afd572909ec",
   "metadata": {},
   "source": [
    "An issue arises when there are more than one independent variable: the more variable you add to the model, the higher fraction of total variation is explained - SSR/SST will increase. This will lead analysts to keep adding in more and more variables."
   ]
  },
  {
   "cell_type": "markdown",
   "id": "83111d93-5ef7-4454-a0a3-6e4786806ade",
   "metadata": {},
   "source": [
    "To address this problem, a new measure - $R^2_{adj}$ is developed to penalize the number of variables."
   ]
  },
  {
   "cell_type": "markdown",
   "id": "cc21bb91-f261-42be-8497-102a754fd5fc",
   "metadata": {},
   "source": [
    "$$R^2{adj} = 1-\\frac{SS_{error}/df_{error}}{SS_{total}/df_{total}}$$\n",
    "\n",
    "where $df_{error} = n-k-1$, because estimated residuals are restricted by **k+1** first order conditions. And $df_{tot}=n-1$ because $(y-\\bar{y})$ is restricted by $\\bar{y} = \\sum y$"
   ]
  },
  {
   "cell_type": "code",
   "execution_count": 11,
   "id": "777d82c1-0255-40d5-9447-3659e331a963",
   "metadata": {
    "tags": []
   },
   "outputs": [
    {
     "name": "stdout",
     "output_type": "stream",
     "text": [
      "0.17642159703480642\n",
      "0.1644856781512528\n"
     ]
    }
   ],
   "source": [
    "print(res.rsquared)\n",
    "print(res.rsquared_adj)"
   ]
  },
  {
   "cell_type": "markdown",
   "id": "1a953915-4355-4aad-8ddb-21d5ba0ec119",
   "metadata": {},
   "source": [
    "### F-statistic - overall significance test"
   ]
  },
  {
   "cell_type": "markdown",
   "id": "858ba176-2a7a-484a-8778-889ced8ac2b2",
   "metadata": {},
   "source": [
    "F distribution is result of a division of two $\\chi^2$ distributions adjusted by their corresponding degrees of freedom. For example, if $X \\sim \\chi^2(1)$ and $Y \\sim \\chi^2(2)$. Then $\\frac{X/1}{Y/2} \\sim F(1,2)$."
   ]
  },
  {
   "cell_type": "markdown",
   "id": "57c5740f-e07e-47b1-8021-277a2181a599",
   "metadata": {},
   "source": [
    "In the estimation table, obtain $SS_{error}$ from the original model, and $SS_{error}/\\sigma^2 \\sim \\chi^2(n-k-1)$. We obtain $SS_{error}^{restricted}$ from another regression called the restricted model.\n",
    "$$y = \\beta_0 + u$$"
   ]
  },
  {
   "cell_type": "markdown",
   "id": "3e0b0507-6bdb-4189-aab0-8bb81bb7062e",
   "metadata": {},
   "source": [
    "In the restricted model, all coefficients are assumed to be zero. And we know that $SS_{error}^r/\\sigma^2 \\sim \\chi^2(n-1)$."
   ]
  },
  {
   "cell_type": "markdown",
   "id": "5ffcb9b0-4857-43ca-bdfa-b4bd91d1b79e",
   "metadata": {},
   "source": [
    "$H_0: \\beta_1 = \\beta_2 =...=\\beta_k =0$"
   ]
  },
  {
   "cell_type": "markdown",
   "id": "61e63a88-9be5-4fe1-94e8-2b7f9e122c7e",
   "metadata": {},
   "source": [
    "If the null hypothesis is true. $\\frac{(SS^r_{error} - SS_{error}^u)}{SS^u_{error}} = \\frac{(SST - SS_{error})}{SS_{error}} \\sim F(k, n-k-1)$"
   ]
  },
  {
   "cell_type": "markdown",
   "id": "1791bf50-e424-41bf-b0c6-bbf51460b537",
   "metadata": {},
   "source": [
    "Therefore, when the F statistic is large or alternatively, when the corresponding p value is small, we will reject the null hypothesis and conclude that the model is overall significant."
   ]
  },
  {
   "cell_type": "code",
   "execution_count": 12,
   "id": "4b5f9977-d736-4b72-a821-784109680db7",
   "metadata": {
    "tags": []
   },
   "outputs": [
    {
     "name": "stdout",
     "output_type": "stream",
     "text": [
      "14.78073022747308\n",
      "1.526305641575321e-06\n"
     ]
    }
   ],
   "source": [
    "print(res.fvalue)\n",
    "print(res.f_pvalue)"
   ]
  },
  {
   "cell_type": "markdown",
   "id": "78790df3-e626-4dd3-9b11-c537c0200dd8",
   "metadata": {},
   "source": [
    "### Log-Likelihood, AIC, BIC"
   ]
  },
  {
   "cell_type": "markdown",
   "id": "ba1c8681-0048-4ddc-bf58-66d2541dcf72",
   "metadata": {},
   "source": [
    "We will introduce log-likelihood (abbr. $lnL$) in another chapter -  for now, you only need to know that this is a negative number (due to the logarithm), and the larger the number the better (more likely) the model fits to the data.\n",
    "\n",
    "The Akaike information criterion (AIC) = $2p-2lnL$ is similar to the adjusted $R^2$, where we penalize the number of independent variables. **The lower the value the better the model**.\n",
    "\n",
    "Bayesian information criterion (BIC) = $pln(n) - 2lnL$ is similar to AIC, but it is derived based on Bayes' Theorem. **The lower the value the better the model**."
   ]
  },
  {
   "cell_type": "code",
   "execution_count": 13,
   "id": "0379a4d7-e036-4924-b10f-f42d73602354",
   "metadata": {},
   "outputs": [
    {
     "name": "stdout",
     "output_type": "stream",
     "text": [
      "-46.572868963784174\n",
      "99.14573792756835\n",
      "107.99201759870286\n"
     ]
    }
   ],
   "source": [
    "print(res.llf)\n",
    "print(res.aic)\n",
    "print(res.bic)"
   ]
  },
  {
   "cell_type": "markdown",
   "id": "509884b4-e801-4e78-a685-d2773688658f",
   "metadata": {},
   "source": [
    "### 7.5.3 Bottom-Panel"
   ]
  },
  {
   "cell_type": "markdown",
   "id": "75a1806e-fa60-4b89-8a30-d7de3a3c65f8",
   "metadata": {},
   "source": [
    "### Condition Number"
   ]
  },
  {
   "cell_type": "markdown",
   "id": "516d9100-c9a4-4919-8da1-e46a4a0bf422",
   "metadata": {},
   "source": [
    "Conditional number is calculated as ratio of largest to smallest singular value of **X**. A large condition number (usually > 10,000) means that the matrix is close to being singular - multicollinearity."
   ]
  },
  {
   "cell_type": "code",
   "execution_count": 14,
   "id": "c142a292-c22e-4778-a5df-eef17d5cb3fd",
   "metadata": {},
   "outputs": [
    {
     "data": {
      "text/plain": [
       "298.0027257519856"
      ]
     },
     "execution_count": 14,
     "metadata": {},
     "output_type": "execute_result"
    }
   ],
   "source": [
    "res.condition_number"
   ]
  },
  {
   "cell_type": "markdown",
   "id": "42133b2e-ddbe-40a6-b881-c673c516893b",
   "metadata": {},
   "source": [
    "For a detailed illustration, see [this blog](https://blogs.mathworks.com/cleve/2017/07/17/what-is-the-condition-number-of-a-matrix/)"
   ]
  },
  {
   "cell_type": "markdown",
   "id": "5d16f2b4-5272-4d55-93f2-efaf218d7df6",
   "metadata": {},
   "source": [
    "### Use VIF to test for multicollinearity.\n",
    "\n",
    "The variance inflation factor ($VIF_j$) accounts for multicollinearity. If $x_j$ is highly related to the other regressors, $R_j^2$ - the $R^2$ from a regression of $x_j$ on all of the other regressors - will be high. \n",
    "\n",
    "And $VIF_j = \\frac{1}{1-R_j^2}$ will also be high.\n",
    "\n",
    "Thus, a high $VIF_j$ indicates multicollinearity.\n",
    "\n",
    "The name of VIF is from the fact that in a multiple regression: \n",
    "$$Var(\\hat{\\beta_j}) = \\frac{\\sigma^2}{nVar(x_j)}*VIF_j$$"
   ]
  },
  {
   "cell_type": "code",
   "execution_count": 15,
   "id": "fa635076-9934-4263-8818-2d41a4660c34",
   "metadata": {},
   "outputs": [
    {
     "name": "stdout",
     "output_type": "stream",
     "text": [
      "VIF\n",
      "hsGPA    1.14\n",
      "ACT      1.14\n"
     ]
    }
   ],
   "source": [
    "import statsmodels.api as sm\n",
    "import statsmodels.stats.outliers_influence as smo\n",
    "\n",
    "X = df[[\"hsGPA\",\"ACT\"]]\n",
    "X = sm.add_constant(X)\n",
    "\n",
    "print(\"VIF\")\n",
    "for i in range(1,X.shape[1]):\n",
    "    print(\"{:<8s} {:.2f}\".format(X.columns[i],smo.variance_inflation_factor(X.to_numpy(),i)))\n",
    "#convert DataFrame to numpy ndarray first. You can also use .values"
   ]
  },
  {
   "cell_type": "markdown",
   "id": "96a5e3c7-f960-48e5-83b2-9443c14bb4dc",
   "metadata": {},
   "source": [
    "> You can check [this tutorial](https://realpython.com/python-formatted-output/) for more about string formatting."
   ]
  },
  {
   "cell_type": "markdown",
   "id": "70322aa6-d7ce-4788-b2d6-04e7b04d0001",
   "metadata": {},
   "source": [
    "VIF of the constant term is usually not interpreted, because the constant term is added into the model to obtain better statistic properties, not to explain the dependent variable. A rule of thumb cut-off VIF is 5 (or 10), if VIF is greater than 5 (or 10), the model is subject to multicollinearity, and you should remove that variable from the model."
   ]
  },
  {
   "cell_type": "code",
   "execution_count": 16,
   "id": "00c34d93-112b-4dbd-afb7-54e60fb74471",
   "metadata": {},
   "outputs": [
    {
     "data": {
      "image/png": "[encoded data removed]",
      "text/plain": [
       "<Figure size 432x288 with 1 Axes>"
      ]
     },
     "metadata": {
      "needs_background": "light"
     },
     "output_type": "display_data"
    }
   ],
   "source": [
    "import seaborn as sns\n",
    "sns.regplot(x=\"hsGPA\",y=\"colGPA\",data=df)\n",
    "plt.show()\n",
    "# high VIF for const is due to the approximately horizontal relationship between hsGPA and colGPA."
   ]
  },
  {
   "cell_type": "markdown",
   "id": "921a1e64-d26e-4adc-888b-0c13181b33ba",
   "metadata": {},
   "source": [
    "## 7.6 Other useful tips\n",
    "\n",
    "### 7.6.1 Use all variables as independent variable\n",
    "\n",
    "To add in many variables at a time, you can construct the formula before you call the smf.ols function."
   ]
  },
  {
   "cell_type": "code",
   "execution_count": 17,
   "id": "eb8558da-3b0e-4184-9334-200288bb3d81",
   "metadata": {
    "tags": []
   },
   "outputs": [
    {
     "name": "stdout",
     "output_type": "stream",
     "text": [
      "<class 'pandas.core.frame.DataFrame'>\n",
      "RangeIndex: 141 entries, 0 to 140\n",
      "Data columns (total 29 columns):\n",
      " #   Column    Non-Null Count  Dtype  \n",
      "---  ------    --------------  -----  \n",
      " 0   age       141 non-null    int64  \n",
      " 1   soph      141 non-null    int64  \n",
      " 2   junior    141 non-null    int64  \n",
      " 3   senior    141 non-null    int64  \n",
      " 4   senior5   141 non-null    int64  \n",
      " 5   male      141 non-null    int64  \n",
      " 6   campus    141 non-null    int64  \n",
      " 7   business  141 non-null    int64  \n",
      " 8   engineer  141 non-null    int64  \n",
      " 9   colGPA    141 non-null    float64\n",
      " 10  hsGPA     141 non-null    float64\n",
      " 11  ACT       141 non-null    int64  \n",
      " 12  job19     141 non-null    int64  \n",
      " 13  job20     141 non-null    int64  \n",
      " 14  drive     141 non-null    int64  \n",
      " 15  bike      141 non-null    int64  \n",
      " 16  walk      141 non-null    int64  \n",
      " 17  voluntr   141 non-null    int64  \n",
      " 18  PC        141 non-null    int64  \n",
      " 19  greek     141 non-null    int64  \n",
      " 20  car       141 non-null    int64  \n",
      " 21  siblings  141 non-null    int64  \n",
      " 22  bgfriend  141 non-null    int64  \n",
      " 23  clubs     141 non-null    int64  \n",
      " 24  skipped   141 non-null    float64\n",
      " 25  alcohol   141 non-null    float64\n",
      " 26  gradMI    141 non-null    int64  \n",
      " 27  fathcoll  141 non-null    int64  \n",
      " 28  mothcoll  141 non-null    int64  \n",
      "dtypes: float64(4), int64(25)\n",
      "memory usage: 32.1 KB\n"
     ]
    }
   ],
   "source": [
    "df.info()"
   ]
  },
  {
   "cell_type": "code",
   "execution_count": 18,
   "id": "92c449a4-66be-4ec5-9636-0e189c5bdec0",
   "metadata": {},
   "outputs": [
    {
     "name": "stdout",
     "output_type": "stream",
     "text": [
      "colGPA~age+soph+junior+senior+senior5+male+campus+business+engineer+colGPA+hsGPA+ACT+job19+job20+drive+bike+walk+voluntr+PC+greek+car+siblings+bgfriend+clubs+skipped+alcohol+gradMI+fathcoll+mothcoll-colGPA\n"
     ]
    }
   ],
   "source": [
    "formula = \"+\".join(df.columns)\n",
    "# to revert: formula.split(\"+\")\n",
    "formula = \"colGPA~\" + formula + \"-colGPA\"\n",
    "print(formula)"
   ]
  },
  {
   "cell_type": "code",
   "execution_count": 19,
   "id": "1d542bba-9fdb-4371-9ae2-c0248b86e5f8",
   "metadata": {},
   "outputs": [
    {
     "name": "stdout",
     "output_type": "stream",
     "text": [
      "                            OLS Regression Results                            \n",
      "==============================================================================\n",
      "Dep. Variable:                 colGPA   R-squared:                       0.386\n",
      "Model:                            OLS   Adj. R-squared:                  0.246\n",
      "Method:                 Least Squares   F-statistic:                     2.754\n",
      "Date:                Mon, 11 Oct 2021   Prob (F-statistic):           0.000120\n",
      "Time:                        23:31:02   Log-Likelihood:                -25.896\n",
      "No. Observations:                 141   AIC:                             105.8\n",
      "Df Residuals:                     114   BIC:                             185.4\n",
      "Df Model:                          26                                         \n",
      "Covariance Type:            nonrobust                                         \n",
      "==============================================================================\n",
      "                 coef    std err          t      P>|t|      [0.025      0.975]\n",
      "------------------------------------------------------------------------------\n",
      "Intercept      0.2989      0.513      0.583      0.561      -0.717       1.315\n",
      "age            0.0347      0.031      1.110      0.269      -0.027       0.097\n",
      "soph           0.3154      0.197      1.597      0.113      -0.076       0.706\n",
      "junior         0.0168      0.135      0.125      0.901      -0.250       0.283\n",
      "senior        -0.0169      0.152     -0.111      0.912      -0.318       0.284\n",
      "senior5       -0.0163      0.182     -0.089      0.929      -0.378       0.345\n",
      "male           0.0611      0.070      0.868      0.387      -0.078       0.200\n",
      "campus        -0.0930      0.083     -1.117      0.266      -0.258       0.072\n",
      "business       0.0768      0.084      0.912      0.364      -0.090       0.244\n",
      "engineer      -0.1847      0.184     -1.005      0.317      -0.549       0.179\n",
      "hsGPA          0.4521      0.106      4.283      0.000       0.243       0.661\n",
      "ACT            0.0082      0.011      0.715      0.476      -0.015       0.031\n",
      "job19          0.0025      0.067      0.037      0.970      -0.131       0.136\n",
      "job20         -0.0454      0.088     -0.519      0.605      -0.219       0.128\n",
      "drive          0.1165      0.188      0.620      0.537      -0.256       0.489\n",
      "bike           0.0796      0.174      0.456      0.649      -0.266       0.425\n",
      "walk           0.1029      0.171      0.601      0.549      -0.236       0.442\n",
      "voluntr       -0.0667      0.078     -0.860      0.392      -0.220       0.087\n",
      "PC             0.1353      0.062      2.179      0.031       0.012       0.258\n",
      "greek          0.0750      0.065      1.150      0.252      -0.054       0.204\n",
      "car           -0.0572      0.073     -0.781      0.436      -0.202       0.088\n",
      "siblings      -0.0883      0.124     -0.711      0.479      -0.334       0.158\n",
      "bgfriend       0.0994      0.060      1.658      0.100      -0.019       0.218\n",
      "clubs          0.0932      0.061      1.525      0.130      -0.028       0.214\n",
      "skipped       -0.0890      0.032     -2.748      0.007      -0.153      -0.025\n",
      "alcohol        0.0182      0.026      0.693      0.490      -0.034       0.070\n",
      "gradMI         0.1783      0.090      1.986      0.049       0.000       0.356\n",
      "fathcoll       0.0501      0.065      0.771      0.442      -0.079       0.179\n",
      "mothcoll      -0.0572      0.069     -0.828      0.409      -0.194       0.080\n",
      "==============================================================================\n",
      "Omnibus:                        4.672   Durbin-Watson:                   2.000\n",
      "Prob(Omnibus):                  0.097   Jarque-Bera (JB):                2.851\n",
      "Skew:                          -0.138   Prob(JB):                        0.240\n",
      "Kurtosis:                       2.361   Cond. No.                     3.20e+16\n",
      "==============================================================================\n",
      "\n",
      "Notes:\n",
      "[1] Standard Errors assume that the covariance matrix of the errors is correctly specified.\n",
      "[2] The smallest eigenvalue is 1.45e-28. This might indicate that there are\n",
      "strong multicollinearity problems or that the design matrix is singular.\n"
     ]
    }
   ],
   "source": [
    "reg = smf.ols(formula = formula, data=df)\n",
    "res = reg.fit()\n",
    "print(res.summary())"
   ]
  },
  {
   "cell_type": "markdown",
   "id": "1659dd96-9be3-44a6-a52e-b25016306129",
   "metadata": {},
   "source": [
    "### 7.6.2 Categorical Variables and Dummy Variables\n",
    "\n",
    "Sometimes a variable may not contain numerical values (e.g. Country Name, ID). In this case you can use `C(varname)` in the formula. *smf* will convert the categorical variable to several indicators and add them into your model. For example"
   ]
  },
  {
   "cell_type": "code",
   "execution_count": 20,
   "id": "d83d6453-ec88-4434-951b-db6d8678d2b4",
   "metadata": {},
   "outputs": [
    {
     "name": "stdout",
     "output_type": "stream",
     "text": [
      "   GDP Region\n",
      "0    2     EU\n",
      "1    2     NA\n",
      "2    3     NA\n",
      "3    4     AS\n",
      "4    5     AF\n"
     ]
    }
   ],
   "source": [
    "import pandas as pd\n",
    "df2 = pd.DataFrame({\"GDP\":[2,2,3,4,5], \"Region\":[\"EU\",\"NA\",\"NA\",\"AS\",\"AF\"]})\n",
    "print(df2)"
   ]
  },
  {
   "cell_type": "code",
   "execution_count": 21,
   "id": "64925dbf-ae4e-47d1-9722-3c7e10fe2c44",
   "metadata": {},
   "outputs": [
    {
     "name": "stdout",
     "output_type": "stream",
     "text": [
      "                            OLS Regression Results                            \n",
      "==============================================================================\n",
      "Dep. Variable:                    GDP   R-squared:                       0.926\n",
      "Model:                            OLS   Adj. R-squared:                  0.706\n",
      "Method:                 Least Squares   F-statistic:                     4.200\n",
      "Date:                Mon, 11 Oct 2021   Prob (F-statistic):              0.341\n",
      "Time:                        23:31:02   Log-Likelihood:                -1.3382\n",
      "No. Observations:                   5   AIC:                             10.68\n",
      "Df Residuals:                       1   BIC:                             9.114\n",
      "Df Model:                           3                                         \n",
      "Covariance Type:            nonrobust                                         \n",
      "===================================================================================\n",
      "                      coef    std err          t      P>|t|      [0.025      0.975]\n",
      "-----------------------------------------------------------------------------------\n",
      "Intercept           5.0000      0.707      7.071      0.089      -3.985      13.985\n",
      "C(Region)[T.AS]    -1.0000      1.000     -1.000      0.500     -13.706      11.706\n",
      "C(Region)[T.EU]    -3.0000      1.000     -3.000      0.205     -15.706       9.706\n",
      "C(Region)[T.NA]    -2.5000      0.866     -2.887      0.212     -13.504       8.504\n",
      "==============================================================================\n",
      "Omnibus:                          nan   Durbin-Watson:                   3.000\n",
      "Prob(Omnibus):                    nan   Jarque-Bera (JB):                0.052\n",
      "Skew:                          -0.000   Prob(JB):                        0.974\n",
      "Kurtosis:                       2.500   Cond. No.                         5.42\n",
      "==============================================================================\n",
      "\n",
      "Notes:\n",
      "[1] Standard Errors assume that the covariance matrix of the errors is correctly specified.\n"
     ]
    },
    {
     "name": "stderr",
     "output_type": "stream",
     "text": [
      "/Users/benx/opt/anaconda3/lib/python3.8/site-packages/statsmodels/stats/stattools.py:74: ValueWarning: omni_normtest is not valid with less than 8 observations; 5 samples were given.\n",
      "  warn(\"omni_normtest is not valid with less than 8 observations; %i \"\n"
     ]
    }
   ],
   "source": [
    "print(smf.ols(\"GDP ~ C(Region)\", df2).fit().summary())"
   ]
  },
  {
   "cell_type": "markdown",
   "id": "72f94151-8199-44e1-8786-16adca6970c9",
   "metadata": {},
   "source": [
    "### 7.6.3 Functions inside formula\n",
    "You can also include functions inside the formula to transform your data"
   ]
  },
  {
   "cell_type": "code",
   "execution_count": 22,
   "id": "2f3c4411-0289-4add-965d-901a6bcb7a84",
   "metadata": {},
   "outputs": [
    {
     "name": "stdout",
     "output_type": "stream",
     "text": [
      "                            OLS Regression Results                            \n",
      "==============================================================================\n",
      "Dep. Variable:                 colGPA   R-squared:                       0.040\n",
      "Model:                            OLS   Adj. R-squared:                  0.033\n",
      "Method:                 Least Squares   F-statistic:                     5.737\n",
      "Date:                Mon, 11 Oct 2021   Prob (F-statistic):             0.0179\n",
      "Time:                        23:31:02   Log-Likelihood:                -57.405\n",
      "No. Observations:                 141   AIC:                             118.8\n",
      "Df Residuals:                     139   BIC:                             124.7\n",
      "Df Model:                           1                                         \n",
      "Covariance Type:            nonrobust                                         \n",
      "===============================================================================\n",
      "                  coef    std err          t      P>|t|      [0.025      0.975]\n",
      "-------------------------------------------------------------------------------\n",
      "Intercept       1.0914      0.821      1.329      0.186      -0.532       2.715\n",
      "np.log(ACT)     0.6185      0.258      2.395      0.018       0.108       1.129\n",
      "==============================================================================\n",
      "Omnibus:                        3.180   Durbin-Watson:                   1.913\n",
      "Prob(Omnibus):                  0.204   Jarque-Bera (JB):                2.804\n",
      "Skew:                           0.253   Prob(JB):                        0.246\n",
      "Kurtosis:                       2.530   Cond. No.                         93.0\n",
      "==============================================================================\n",
      "\n",
      "Notes:\n",
      "[1] Standard Errors assume that the covariance matrix of the errors is correctly specified.\n"
     ]
    }
   ],
   "source": [
    "import numpy as np\n",
    "print(smf.ols(data=df, formula = \"colGPA~np.log(ACT)\").fit().summary())"
   ]
  },
  {
   "cell_type": "markdown",
   "id": "150ef662-9bed-4c19-8ed6-71d733cf9b68",
   "metadata": {},
   "source": [
    "> [More](https://www.statsmodels.org/stable/examples/notebooks/generated/formulas.html#examples-notebooks-generated-formulas--page-root)"
   ]
  },
  {
   "cell_type": "markdown",
   "id": "f4145164-caf1-4f6a-96b3-e319e55c7be6",
   "metadata": {},
   "source": [
    "### 7.6.4 Curse of Dimensionality"
   ]
  },
  {
   "cell_type": "markdown",
   "id": "2513b1bd-d942-46c4-b020-f42b1606e7fe",
   "metadata": {},
   "source": [
    "The **curse of dimensionality** refers to various phenomena that arise when analyzing and organizing data in high-dimensional spaces.\n",
    "\n",
    "In a regression model, this means adding in more variables is not always good.\n",
    "\n",
    "The common theme of these problems is that when the dimensionality increases, the volume of the space increases so fast that the available data become sparse. This sparsity is problematic for any method that requires statistical significance. In order to obtain a statistically sound and reliable result, the amount of data needed to support the result often grows exponentially with the dimensionality. Also, organizing and searching data often relies on detecting areas where objects form groups with similar properties; in high dimensional data, however, all objects appear to be sparse and dissimilar in many ways, which prevents common data organization strategies from being efficient."
   ]
  }
 ],
 "metadata": {
  "kernelspec": {
   "display_name": "Python 3 (ipykernel)",
   "language": "python",
   "name": "python3"
  },
  "language_info": {
   "codemirror_mode": {
    "name": "ipython",
    "version": 3
   },
   "file_extension": ".py",
   "mimetype": "text/x-python",
   "name": "python",
   "nbconvert_exporter": "python",
   "pygments_lexer": "ipython3",
   "version": "3.8.8"
  }
 },
 "nbformat": 4,
 "nbformat_minor": 5
}
