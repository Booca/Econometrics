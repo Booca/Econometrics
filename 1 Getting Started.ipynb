{
 "cells": [
  {
   "cell_type": "markdown",
   "metadata": {
    "tags": []
   },
   "source": [
    "# 1 Python, Anaconda, Jupyter Lab\n",
    "\n",
    "\n",
    "- [1.1 Python Distribution: Anaconda](#1.1-Python-Distribution:-Anaconda)\n",
    "- [1.2 Run Python in IDE (Integrated Development Environment): JupyterLab](#1.2-Run-Python-in-IDE-(Integrated-Development-Environment):-JupyterLab)\n",
    "\n",
    "\n",
    "## 1.1 Python Distribution: Anaconda\n",
    "\n",
    "*Python* is a general-purpose, object-oriented programming laguage.\n",
    "\n",
    "*Programming Language*? Similar to human languages, it has grammer and syntaxes.\n",
    "\n",
    "*Object-Oriented*? Properties and methods. Example: walk into the class room\n",
    "\n",
    "*Python distribution*? A distribution of Python is a bundle that contains an implementation of Python along with a bunch of libraries or tools\n",
    "\n",
    "\n",
    "I recommend installing the *Python* distribution *Anaconda individual edition (also open source)* for purpose of this course. \n",
    "\n",
    "You can visit <https://www.anaconda.com>, go to the *Products* navigation menu and then click *Individual Edition*. At the bottom of this page, you can find the proper *Graphic* installer for your operating system. \n",
    "\n",
    "> ![anaconda download](images/chapter1/anaconda_download_page.png)\n",
    "  \n",
    "Once the installer is downloaded, follow the steps in the installation wizard to finish installing *Anaconda*.\n",
    "\n",
    "\n",
    "## 1.2 Run Python in IDE (Integrated Development Environment): JupyterLab\n",
    "\n",
    "IDE is your work space\n",
    "\n",
    "> ![carpenter](images/chapter1/carpenter.jpg)\n",
    "\n",
    "At the *Windows Start Menu (Launchpad for Mac)*, select Anaconda Navigator\n",
    "\n",
    "> ![anaconda navigator](images/chapter1/anaconda_navigator.png)\n",
    "\n",
    "1. On Navigator’s Home tab, in the Applications pane on the right, scroll to the JupyterLab tile. Launch Jupyter Lab by clicking the launch button.\n",
    "\n",
    "    This will launch a new browser window (or a new tab) showing the JupyterLab Dashboard.\n",
    "\n",
    "\n",
    "2. Create a new *Notebook* with the Python version you installed (version 3).\n",
    "\n",
    "3. Rename your Notebook by right-clicking the file on the left side bar. You can name it to whatever you would like.\n",
    "\n",
    "4. In the first line of the Notebook, type or copy/paste\n",
    "\n",
    "   "
   ]
  },
  {
   "cell_type": "code",
   "execution_count": 1,
   "metadata": {},
   "outputs": [
    {
     "name": "stdout",
     "output_type": "stream",
     "text": [
      "Hello World\n"
     ]
    }
   ],
   "source": [
    "print(\"Hello World\")"
   ]
  },
  {
   "cell_type": "markdown",
   "metadata": {},
   "source": [
    "Then run your new line of code by using <kbd>⌃ CRTL</kbd> + <kbd>⏎ Return</kbd>. Or if you would like to run the current cell and create a new cell in below, you can do <kbd>⌥Alt (Option)</kbd> + <kbd>⏎ Return</kbd>\n",
    "  \n",
    "5. You can also use Python as a calculator, Try typing 1+1 in the new cell and hit <kbd>⌃ CRTL</kbd> + <kbd>⏎ Return</kbd>"
   ]
  },
  {
   "cell_type": "code",
   "execution_count": 2,
   "metadata": {},
   "outputs": [
    {
     "data": {
      "text/plain": [
       "2"
      ]
     },
     "execution_count": 2,
     "metadata": {},
     "output_type": "execute_result"
    }
   ],
   "source": [
    "1+1"
   ]
  },
  {
   "cell_type": "markdown",
   "metadata": {},
   "source": [
    "6. Now click on the blank space to the left of the current cell. This will make JupyterLab enter **Command Mode**, where more shortcuts are available. Insert a cell below by pressing <kbd>B</kbd> (B stands for below. You can also try <kbd>A</kbd> to insert above a cell, <kbd>M</kbd> to toggle markdown so that you can comment on your code like this cell; If you want to delete a cell, enter Command Mode, select that cell and press <kbd>D</kbd> twice).\n",
    "\n",
    "    Let's try some other **[mathematical operations](https://www.w3schools.com/python/python_operators.asp)**"
   ]
  },
  {
   "cell_type": "code",
   "execution_count": 3,
   "metadata": {},
   "outputs": [
    {
     "data": {
      "text/plain": [
       "45"
      ]
     },
     "execution_count": 3,
     "metadata": {},
     "output_type": "execute_result"
    }
   ],
   "source": [
    "5*(4-1)**2"
   ]
  },
  {
   "cell_type": "markdown",
   "metadata": {},
   "source": [
    "> **Note**: the power operator in Python is **"
   ]
  },
  {
   "cell_type": "code",
   "execution_count": 4,
   "metadata": {},
   "outputs": [
    {
     "data": {
      "text/plain": [
       "33.333333333333336"
      ]
     },
     "execution_count": 4,
     "metadata": {},
     "output_type": "execute_result"
    }
   ],
   "source": [
    "100/3"
   ]
  },
  {
   "cell_type": "markdown",
   "metadata": {},
   "source": [
    "    Only need the integer part? Try the floor division operator"
   ]
  },
  {
   "cell_type": "code",
   "execution_count": 5,
   "metadata": {},
   "outputs": [
    {
     "data": {
      "text/plain": [
       "33"
      ]
     },
     "execution_count": 5,
     "metadata": {},
     "output_type": "execute_result"
    }
   ],
   "source": [
    "100//3"
   ]
  },
  {
   "cell_type": "markdown",
   "metadata": {},
   "source": [
    "    What about the mudulus"
   ]
  },
  {
   "cell_type": "code",
   "execution_count": 6,
   "metadata": {},
   "outputs": [
    {
     "data": {
      "text/plain": [
       "1"
      ]
     },
     "execution_count": 6,
     "metadata": {},
     "output_type": "execute_result"
    }
   ],
   "source": [
    "100%3"
   ]
  },
  {
   "cell_type": "markdown",
   "metadata": {},
   "source": [
    "    What about the Euler number \"e\""
   ]
  },
  {
   "cell_type": "code",
   "execution_count": 7,
   "metadata": {},
   "outputs": [
    {
     "ename": "NameError",
     "evalue": "name 'e' is not defined",
     "output_type": "error",
     "traceback": [
      "\u001b[0;31m---------------------------------------------------------------------------\u001b[0m",
      "\u001b[0;31mNameError\u001b[0m                                 Traceback (most recent call last)",
      "\u001b[0;32m<ipython-input-7-8f7011d35f61>\u001b[0m in \u001b[0;36m<module>\u001b[0;34m\u001b[0m\n\u001b[0;32m----> 1\u001b[0;31m \u001b[0me\u001b[0m\u001b[0;34m**\u001b[0m\u001b[0;36m2\u001b[0m\u001b[0;34m\u001b[0m\u001b[0;34m\u001b[0m\u001b[0m\n\u001b[0m",
      "\u001b[0;31mNameError\u001b[0m: name 'e' is not defined"
     ]
    }
   ],
   "source": [
    "e**2"
   ]
  },
  {
   "cell_type": "markdown",
   "metadata": {},
   "source": [
    "7. Oops, the vanilla Python cannot understand e, and therefore it throws a *NameError*. To use the Euler number, we can import the **numpy** package(a.k.a. module), and by convention, let's give it an alias *np*"
   ]
  },
  {
   "cell_type": "code",
   "execution_count": 8,
   "metadata": {},
   "outputs": [
    {
     "data": {
      "text/plain": [
       "7.38905609893065"
      ]
     },
     "execution_count": 8,
     "metadata": {},
     "output_type": "execute_result"
    }
   ],
   "source": [
    "import numpy as np\n",
    "np.exp(2)"
   ]
  },
  {
   "cell_type": "markdown",
   "metadata": {},
   "source": [
    "    You can also have access to $ \\pi $ by typing"
   ]
  },
  {
   "cell_type": "code",
   "execution_count": 9,
   "metadata": {},
   "outputs": [
    {
     "data": {
      "text/plain": [
       "3.141592653589793"
      ]
     },
     "execution_count": 9,
     "metadata": {},
     "output_type": "execute_result"
    }
   ],
   "source": [
    "np.pi"
   ]
  },
  {
   "cell_type": "markdown",
   "metadata": {},
   "source": [
    "8. In JupyterLab, we are coding in an interactive way (console like). But in a pure .py file, to let your program show the results, you need to use the **print()** function"
   ]
  },
  {
   "cell_type": "code",
   "execution_count": 10,
   "metadata": {},
   "outputs": [
    {
     "name": "stdout",
     "output_type": "stream",
     "text": [
      "The square root of 16 is: 4.0\n",
      "Python says Hello World\n"
     ]
    }
   ],
   "source": [
    "result1 = np.sqrt(16)\n",
    "print(\"The square root of 16 is: {}\".format(result1))\n",
    "\n",
    "result2 = \"Hello World\"\n",
    "print(\"Python says \" + result2)"
   ]
  },
  {
   "cell_type": "markdown",
   "metadata": {},
   "source": [
    "9. In the cell above, four things need to be clarified:\n",
    "\n",
    "    i. instead of presenting the results immmediately, we stored the values by assigning them to a **variable** - *result1* and *result2*\n",
    "    \n",
    "    ii. **Strings** must be wrapped with quotation marks (you can use either single quotation or double quotation)\n",
    "    \n",
    "    iii. To combine two Strings, simply use the <kbd>+</kbd> sign\n",
    "    \n",
    "    iv. To combine a String with a number, you need to use the **[format()](https://www.w3schools.com/python/ref_string_format.asp)** method. Variable in the parenthesis will be filled into the placeholder {}. If you have two candidates, use two placeholders, put two variable names in the format method in order and separate them using a comma. "
   ]
  },
  {
   "cell_type": "code",
   "execution_count": 11,
   "metadata": {},
   "outputs": [
    {
     "name": "stdout",
     "output_type": "stream",
     "text": [
      "Hello World, the square root of 16 is: 4.0 \n"
     ]
    }
   ],
   "source": [
    "print(\"{}, the square root of 16 is: {} \".format(result2, result1))"
   ]
  },
  {
   "cell_type": "markdown",
   "metadata": {},
   "source": [
    "10. Save your notebook. Jupyter notebook will autosave, but you can save it manually by using <kbd>CTRL</kbd>+<kbd>S</kbd> (or <kbd>⌘ Command</kbd>+<kbd>S</kbd> for mac)."
   ]
  },
  {
   "cell_type": "markdown",
   "metadata": {},
   "source": [
    "11. Let's proceed to the next notebook. Creating a new notebook (.ipynb file) by clicking the + button at the upper-left corner of the JupyterLab window.\n",
    "\n",
    "> ![create a new notebook](images/chapter1/create_new_notebook.png)"
   ]
  },
  {
   "cell_type": "code",
   "execution_count": 2,
   "metadata": {},
   "outputs": [],
   "source": [
    "! cd ~/Documents"
   ]
  }
 ],
 "metadata": {
  "kernelspec": {
   "display_name": "Python 3 (ipykernel)",
   "language": "python",
   "name": "python3"
  },
  "language_info": {
   "codemirror_mode": {
    "name": "ipython",
    "version": 3
   },
   "file_extension": ".py",
   "mimetype": "text/x-python",
   "name": "python",
   "nbconvert_exporter": "python",
   "pygments_lexer": "ipython3",
   "version": "3.8.8"
  }
 },
 "nbformat": 4,
 "nbformat_minor": 4
}
