{
 "cells": [
  {
   "cell_type": "markdown",
   "id": "533a3745-32ad-4fcd-a193-c320a3bd50f1",
   "metadata": {},
   "source": [
    "# 11 Instrumental Variables"
   ]
  },
  {
   "cell_type": "markdown",
   "id": "75d5b689-2066-4357-a201-97c6799d2152",
   "metadata": {
    "tags": []
   },
   "source": [
    "## 1 Why do we need instrumental variables\n",
    "\n",
    "We've shown in Chapter 7 that when a \"relevant\" variable is omitted. The estimators we obtained will be biased (and also inconsistent)."
   ]
  },
  {
   "cell_type": "markdown",
   "id": "d591e00c-e9fd-4245-9a65-85217ccf5f71",
   "metadata": {},
   "source": [
    "$$E(\\hat{\\beta}) = \\beta + \\alpha\\gamma$$"
   ]
  },
  {
   "cell_type": "markdown",
   "id": "90e3c933-b9cc-420f-ae56-787aee4c27e0",
   "metadata": {},
   "source": [
    "> Omitted variable bias is a special case of **endogeneity**. So sometimes people refer to it as the endogeneity problem, and refer to x as the endogenous variable."
   ]
  },
  {
   "cell_type": "markdown",
   "id": "e3a5b1f8-4193-4f0c-97d3-52161ceaea54",
   "metadata": {},
   "source": [
    "where $\\alpha$ is the contribution of the Omitted on y, and $\\gamma$ is the correlation between x and the omitted."
   ]
  },
  {
   "cell_type": "markdown",
   "id": "49ea90c6-94ca-4a68-8d39-8e1e685c69c4",
   "metadata": {},
   "source": [
    "To address this problem, we can add in the omitted variable. But this approach is not always available - consider the case when we regress wage on education, and the omitted variable is one's intelligence level."
   ]
  },
  {
   "cell_type": "markdown",
   "id": "13d0035d-1d56-4002-96da-360347c7e9e2",
   "metadata": {},
   "source": [
    ">![gear](./images/gear.png)"
   ]
  },
  {
   "cell_type": "markdown",
   "id": "805942be-1fda-48d1-9cbf-70471c269fca",
   "metadata": {},
   "source": [
    "The intuition behind the omitted variable bias is when you tune x, it will also change the omitted variable (call it o). And both o and x affect y. So with data on y and x but w/o o, we are not able to identify to sole effect of x on y."
   ]
  },
  {
   "cell_type": "markdown",
   "id": "5829427a-397f-4f49-b242-27aee66e6e8c",
   "metadata": {},
   "source": [
    "## 2 Instrumental variable"
   ]
  },
  {
   "cell_type": "markdown",
   "id": "160e850a-4d4d-45e0-8691-959080201425",
   "metadata": {},
   "source": [
    "To isolate the effect of x on y. We can picture that x can be break into 2 parts - one ($x_1$) correlates with the omitted variable o, the other part ($x_2$) does not. If we find a variable z that is only correlates with x but not o. Then we can identify the impact of x on y."
   ]
  },
  {
   "cell_type": "markdown",
   "id": "358535cb-938d-4854-a650-eccca6e5f84a",
   "metadata": {},
   "source": [
    "As an example, we use years of education of the individual's father as an instrument for educ. We can claim that the parent's education level does not necessarily correlate with the omitted intelligence, and it is correlated with the responder's education level."
   ]
  },
  {
   "cell_type": "markdown",
   "id": "b1c8891c-d507-4e17-b752-2bd26cb2a127",
   "metadata": {},
   "source": [
    "Alternatively, we can use college proximity as an IV for education. This is a valid IV, because it is both **inclusive** - i.e. $corr(x,z)\\neq 0$, and **exclusive** - i.e. $corr(o,z) = 0$."
   ]
  },
  {
   "cell_type": "markdown",
   "id": "6955a7e1-5edb-4305-b10f-a8539d6df0cd",
   "metadata": {},
   "source": [
    "> correlation is not transitive \\\n",
    "If x, y are demeaned, $corr(x,y) = \\frac{x \\cdot y}{||x||||y||} = cos\\theta$"
   ]
  },
  {
   "cell_type": "markdown",
   "id": "6e09dc64-98ea-46ab-8874-85bcfac3fbb8",
   "metadata": {},
   "source": [
    "## 3 What to do after you find an IV? "
   ]
  },
  {
   "cell_type": "markdown",
   "id": "9a9d5fd8-eafd-454b-8b47-a0b781588b27",
   "metadata": {},
   "source": [
    "There are two simple estimators using IV.\n",
    "\n",
    "The first one is named after IV, the **IV** estimator.\n",
    "\n",
    "The second one is called a **two stage least squares (2SLS)** estimator."
   ]
  },
  {
   "cell_type": "markdown",
   "id": "a21736c1-303a-4d08-b4b1-1f055e73455b",
   "metadata": {
    "tags": []
   },
   "source": [
    "## 4 IV estimator\n",
    "\n",
    "$$\\hat{\\beta}^{IV} =\\frac{ \\hat{Cov}(z,y)}{\\hat{Cov}(z,x)}$$"
   ]
  },
  {
   "cell_type": "markdown",
   "id": "dc48c6b7-df14-49b6-9ec7-d96348ece241",
   "metadata": {
    "tags": []
   },
   "source": [
    "### Example\n",
    "\n",
    "Use data from MROZ. We only analyze women with non-missing wage. (use the method dropna) to extract them. We want to estimate the return to education (**educ**) for these women. As an instrumental variable for education, we use the education of her father (**fatheduc**)"
   ]
  },
  {
   "cell_type": "markdown",
   "id": "90fcf55b-e830-495e-b7aa-21bf1cbe34a0",
   "metadata": {},
   "source": [
    "1. Import the dataset, print all column names using info()."
   ]
  },
  {
   "cell_type": "code",
   "execution_count": 1,
   "id": "6f7e7068-2cb6-4a9e-8d8b-1d0503a17444",
   "metadata": {
    "tags": []
   },
   "outputs": [
    {
     "name": "stdout",
     "output_type": "stream",
     "text": [
      "<class 'pandas.core.frame.DataFrame'>\n",
      "RangeIndex: 753 entries, 0 to 752\n",
      "Data columns (total 22 columns):\n",
      " #   Column    Non-Null Count  Dtype  \n",
      "---  ------    --------------  -----  \n",
      " 0   inlf      753 non-null    int64  \n",
      " 1   hours     753 non-null    int64  \n",
      " 2   kidslt6   753 non-null    int64  \n",
      " 3   kidsge6   753 non-null    int64  \n",
      " 4   age       753 non-null    int64  \n",
      " 5   educ      753 non-null    int64  \n",
      " 6   wage      428 non-null    float64\n",
      " 7   repwage   753 non-null    float64\n",
      " 8   hushrs    753 non-null    int64  \n",
      " 9   husage    753 non-null    int64  \n",
      " 10  huseduc   753 non-null    int64  \n",
      " 11  huswage   753 non-null    float64\n",
      " 12  faminc    753 non-null    float64\n",
      " 13  mtr       753 non-null    float64\n",
      " 14  motheduc  753 non-null    int64  \n",
      " 15  fatheduc  753 non-null    int64  \n",
      " 16  unem      753 non-null    float64\n",
      " 17  city      753 non-null    int64  \n",
      " 18  exper     753 non-null    int64  \n",
      " 19  nwifeinc  753 non-null    float64\n",
      " 20  lwage     428 non-null    float64\n",
      " 21  expersq   753 non-null    int64  \n",
      "dtypes: float64(8), int64(14)\n",
      "memory usage: 129.5 KB\n"
     ]
    }
   ],
   "source": [
    "import wooldridge as woo\n",
    "df = woo.data(\"MROZ\")\n",
    "df.info()"
   ]
  },
  {
   "cell_type": "code",
   "execution_count": 2,
   "id": "4c3a1e2a-25fc-4e36-96a0-7f0afc181c83",
   "metadata": {},
   "outputs": [],
   "source": [
    "df = df.dropna(subset=[\"wage\"])"
   ]
  },
  {
   "cell_type": "code",
   "execution_count": 3,
   "id": "afc8a54f-169a-48e6-b3b5-84f281b059b9",
   "metadata": {},
   "outputs": [
    {
     "name": "stdout",
     "output_type": "stream",
     "text": [
      "<class 'pandas.core.frame.DataFrame'>\n",
      "Int64Index: 428 entries, 0 to 427\n",
      "Data columns (total 22 columns):\n",
      " #   Column    Non-Null Count  Dtype  \n",
      "---  ------    --------------  -----  \n",
      " 0   inlf      428 non-null    int64  \n",
      " 1   hours     428 non-null    int64  \n",
      " 2   kidslt6   428 non-null    int64  \n",
      " 3   kidsge6   428 non-null    int64  \n",
      " 4   age       428 non-null    int64  \n",
      " 5   educ      428 non-null    int64  \n",
      " 6   wage      428 non-null    float64\n",
      " 7   repwage   428 non-null    float64\n",
      " 8   hushrs    428 non-null    int64  \n",
      " 9   husage    428 non-null    int64  \n",
      " 10  huseduc   428 non-null    int64  \n",
      " 11  huswage   428 non-null    float64\n",
      " 12  faminc    428 non-null    float64\n",
      " 13  mtr       428 non-null    float64\n",
      " 14  motheduc  428 non-null    int64  \n",
      " 15  fatheduc  428 non-null    int64  \n",
      " 16  unem      428 non-null    float64\n",
      " 17  city      428 non-null    int64  \n",
      " 18  exper     428 non-null    int64  \n",
      " 19  nwifeinc  428 non-null    float64\n",
      " 20  lwage     428 non-null    float64\n",
      " 21  expersq   428 non-null    int64  \n",
      "dtypes: float64(8), int64(14)\n",
      "memory usage: 76.9 KB\n"
     ]
    }
   ],
   "source": [
    "df.info()"
   ]
  },
  {
   "cell_type": "code",
   "execution_count": 2,
   "id": "fd96f6aa-2b5d-436e-8271-f076815e5a0f",
   "metadata": {},
   "outputs": [
    {
     "name": "stdout",
     "output_type": "stream",
     "text": [
      "<class 'pandas.core.frame.DataFrame'>\n",
      "RangeIndex: 753 entries, 0 to 752\n",
      "Data columns (total 22 columns):\n",
      " #   Column    Non-Null Count  Dtype  \n",
      "---  ------    --------------  -----  \n",
      " 0   inlf      753 non-null    int64  \n",
      " 1   hours     753 non-null    int64  \n",
      " 2   kidslt6   753 non-null    int64  \n",
      " 3   kidsge6   753 non-null    int64  \n",
      " 4   age       753 non-null    int64  \n",
      " 5   educ      753 non-null    int64  \n",
      " 6   wage      428 non-null    float64\n",
      " 7   repwage   753 non-null    float64\n",
      " 8   hushrs    753 non-null    int64  \n",
      " 9   husage    753 non-null    int64  \n",
      " 10  huseduc   753 non-null    int64  \n",
      " 11  huswage   753 non-null    float64\n",
      " 12  faminc    753 non-null    float64\n",
      " 13  mtr       753 non-null    float64\n",
      " 14  motheduc  753 non-null    int64  \n",
      " 15  fatheduc  753 non-null    int64  \n",
      " 16  unem      753 non-null    float64\n",
      " 17  city      753 non-null    int64  \n",
      " 18  exper     753 non-null    int64  \n",
      " 19  nwifeinc  753 non-null    float64\n",
      " 20  lwage     428 non-null    float64\n",
      " 21  expersq   753 non-null    int64  \n",
      "dtypes: float64(8), int64(14)\n",
      "memory usage: 129.5 KB\n"
     ]
    }
   ],
   "source": [
    "import wooldridge as woo\n",
    "df = woo.data(\"mroz\")\n",
    "df.info()"
   ]
  },
  {
   "cell_type": "markdown",
   "id": "cf6679e1-b56f-435f-ad62-251354227849",
   "metadata": {},
   "source": [
    "2.Drop observations with missing wage values."
   ]
  },
  {
   "cell_type": "code",
   "execution_count": 3,
   "id": "562e1a42-b797-45f9-9dee-0d788e294e95",
   "metadata": {
    "tags": []
   },
   "outputs": [],
   "source": [
    "df = df.dropna(subset=[\"wage\"])"
   ]
  },
  {
   "cell_type": "markdown",
   "id": "7c5eefa3-b0a7-49c2-9278-5bd44646b853",
   "metadata": {},
   "source": [
    "3.Compute covariances using numpy"
   ]
  },
  {
   "cell_type": "code",
   "execution_count": 4,
   "id": "a8d8e9c0-03f6-4df2-935f-fc0a2986d7fd",
   "metadata": {},
   "outputs": [
    {
     "data": {
      "text/plain": [
       "0.37566402287175477"
      ]
     },
     "execution_count": 4,
     "metadata": {},
     "output_type": "execute_result"
    }
   ],
   "source": [
    "import numpy as np\n",
    "cov_yz = np.cov(df[\"wage\"],df[\"fatheduc\"])[0,1]\n",
    "cov_xz = np.cov(df[\"educ\"],df[\"fatheduc\"])[0,1]\n",
    "b_iv = cov_yz/cov_xz\n",
    "b_iv"
   ]
  },
  {
   "cell_type": "code",
   "execution_count": 5,
   "id": "cac20e9e-38c9-4665-93de-873720acaaaa",
   "metadata": {
    "jupyter": {
     "source_hidden": true
    },
    "tags": []
   },
   "outputs": [],
   "source": [
    "import numpy as np\n",
    "x = df[\"educ\"]\n",
    "y = df[\"lwage\"]\n",
    "z = df[\"fatheduc\"]\n",
    "num = np.cov(y,z)[0,1]\n",
    "denom = np.cov(x,z)[0,1]"
   ]
  },
  {
   "cell_type": "markdown",
   "id": "f3a006b3-c410-407f-94ef-3f7520564bd9",
   "metadata": {},
   "source": [
    "4.Compute b_iv and compare it with the ols estimator."
   ]
  },
  {
   "cell_type": "code",
   "execution_count": 5,
   "id": "89a12c1b-2afa-46cb-a317-a125d6f5da43",
   "metadata": {},
   "outputs": [
    {
     "name": "stdout",
     "output_type": "stream",
     "text": [
      "                            OLS Regression Results                            \n",
      "==============================================================================\n",
      "Dep. Variable:                   wage   R-squared:                       0.117\n",
      "Model:                            OLS   Adj. R-squared:                  0.115\n",
      "Method:                 Least Squares   F-statistic:                     56.41\n",
      "Date:                Tue, 12 Apr 2022   Prob (F-statistic):           3.49e-13\n",
      "Time:                        12:56:27   Log-Likelihood:                -1092.5\n",
      "No. Observations:                 428   AIC:                             2189.\n",
      "Df Residuals:                     426   BIC:                             2197.\n",
      "Df Model:                           1                                         \n",
      "Covariance Type:            nonrobust                                         \n",
      "==============================================================================\n",
      "                 coef    std err          t      P>|t|      [0.025      0.975]\n",
      "------------------------------------------------------------------------------\n",
      "Intercept     -2.0924      0.848     -2.467      0.014      -3.760      -0.425\n",
      "educ           0.4953      0.066      7.511      0.000       0.366       0.625\n",
      "==============================================================================\n",
      "Omnibus:                      338.929   Durbin-Watson:                   2.053\n",
      "Prob(Omnibus):                  0.000   Jarque-Bera (JB):             6019.900\n",
      "Skew:                           3.312   Prob(JB):                         0.00\n",
      "Kurtosis:                      20.137   Cond. No.                         72.9\n",
      "==============================================================================\n",
      "\n",
      "Notes:\n",
      "[1] Standard Errors assume that the covariance matrix of the errors is correctly specified.\n"
     ]
    }
   ],
   "source": [
    "import statsmodels.formula.api as smf\n",
    "res = smf.ols(\"wage ~ educ\", data=df).fit()\n",
    "print(res.summary())"
   ]
  },
  {
   "cell_type": "code",
   "execution_count": 7,
   "id": "026c2357-17f7-46b7-99df-14f4e05bfa24",
   "metadata": {
    "tags": []
   },
   "outputs": [
    {
     "data": {
      "text/plain": [
       "0.05917347999936593"
      ]
     },
     "execution_count": 7,
     "metadata": {},
     "output_type": "execute_result"
    }
   ],
   "source": [
    "b_iv = num/denom\n",
    "b_iv"
   ]
  },
  {
   "cell_type": "code",
   "execution_count": 8,
   "id": "f99cecb4-c5c3-4502-898e-186c718888eb",
   "metadata": {
    "tags": []
   },
   "outputs": [
    {
     "name": "stdout",
     "output_type": "stream",
     "text": [
      "0.10864865517467533\n"
     ]
    }
   ],
   "source": [
    "import statsmodels.formula.api as smf\n",
    "reg = smf.ols(\"lwage~educ\", data=df)\n",
    "res = reg.fit()\n",
    "print(res.params[\"educ\"])"
   ]
  },
  {
   "cell_type": "markdown",
   "id": "0b7bfcd3-799f-4f43-94aa-2ce5bc4b1d68",
   "metadata": {},
   "source": [
    "## 5 2SLS\n",
    "Two stage least squares (2SLS) is a general approach for IV estimation when we have one or more endogenous regressors and at least as many additional instrumental variables. Consider the regression model."
   ]
  },
  {
   "cell_type": "markdown",
   "id": "8853178f-0948-4dc2-84e7-593cee0ea4d2",
   "metadata": {},
   "source": [
    "$$y = \\beta_0 + \\beta_1x_1 + \\beta_2 x_2 + \\beta_3 x_3 +u $$"
   ]
  },
  {
   "cell_type": "markdown",
   "id": "ec8f1633-6578-464d-a6dd-b80b6a6df88f",
   "metadata": {},
   "source": [
    "where both $x_1$ and $x_2$ are endogenous. Suppose we've found 3 instruments - $z_1$ for $x_1$, $z_2$ and $z_3$ for $x_2$. Then we can obtain unbiased $\\hat{\\beta_1}$ and $\\hat{\\beta_2}$ using the following steps."
   ]
  },
  {
   "cell_type": "markdown",
   "id": "4aa07d75-f9a5-4b88-b5a0-be134b7e648f",
   "metadata": {},
   "source": [
    "1. Separately regress $x_1$ and $x_2$ on $z_1 through z_3$ and $x_3$. Obtain fitted values $\\hat{x_1}$ and $\\hat{x_2}$.\n",
    "2. Regress $y_1$ on $\\hat{x_1}$, $\\hat{x_2}$, and $x_3$"
   ]
  },
  {
   "cell_type": "code",
   "execution_count": 10,
   "id": "70054e6f-e549-47ff-a91f-367414db3e64",
   "metadata": {},
   "outputs": [],
   "source": [
    "df[\"x_h\"] = smf.ols(\"educ~fatheduc+motheduc+exper\",data=df).fit().fittedvalues"
   ]
  },
  {
   "cell_type": "code",
   "execution_count": 11,
   "id": "d4cc688d-96fa-47b5-8171-afe1b180049a",
   "metadata": {},
   "outputs": [
    {
     "data": {
      "text/html": [
       "<table class=\"simpletable\">\n",
       "<caption>OLS Regression Results</caption>\n",
       "<tr>\n",
       "  <th>Dep. Variable:</th>          <td>wage</td>       <th>  R-squared:         </th> <td>   0.014</td>\n",
       "</tr>\n",
       "<tr>\n",
       "  <th>Model:</th>                   <td>OLS</td>       <th>  Adj. R-squared:    </th> <td>   0.009</td>\n",
       "</tr>\n",
       "<tr>\n",
       "  <th>Method:</th>             <td>Least Squares</td>  <th>  F-statistic:       </th> <td>   3.031</td>\n",
       "</tr>\n",
       "<tr>\n",
       "  <th>Date:</th>             <td>Tue, 12 Apr 2022</td> <th>  Prob (F-statistic):</th>  <td>0.0493</td> \n",
       "</tr>\n",
       "<tr>\n",
       "  <th>Time:</th>                 <td>13:09:53</td>     <th>  Log-Likelihood:    </th> <td> -1116.1</td>\n",
       "</tr>\n",
       "<tr>\n",
       "  <th>No. Observations:</th>      <td>   428</td>      <th>  AIC:               </th> <td>   2238.</td>\n",
       "</tr>\n",
       "<tr>\n",
       "  <th>Df Residuals:</th>          <td>   425</td>      <th>  BIC:               </th> <td>   2250.</td>\n",
       "</tr>\n",
       "<tr>\n",
       "  <th>Df Model:</th>              <td>     2</td>      <th>                     </th>     <td> </td>   \n",
       "</tr>\n",
       "<tr>\n",
       "  <th>Covariance Type:</th>      <td>nonrobust</td>    <th>                     </th>     <td> </td>   \n",
       "</tr>\n",
       "</table>\n",
       "<table class=\"simpletable\">\n",
       "<tr>\n",
       "      <td></td>         <th>coef</th>     <th>std err</th>      <th>t</th>      <th>P>|t|</th>  <th>[0.025</th>    <th>0.975]</th>  \n",
       "</tr>\n",
       "<tr>\n",
       "  <th>Intercept</th> <td>   -0.3399</td> <td>    1.960</td> <td>   -0.173</td> <td> 0.862</td> <td>   -4.192</td> <td>    3.512</td>\n",
       "</tr>\n",
       "<tr>\n",
       "  <th>x_h</th>       <td>    0.3321</td> <td>    0.152</td> <td>    2.181</td> <td> 0.030</td> <td>    0.033</td> <td>    0.631</td>\n",
       "</tr>\n",
       "<tr>\n",
       "  <th>exper</th>     <td>    0.0240</td> <td>    0.020</td> <td>    1.213</td> <td> 0.226</td> <td>   -0.015</td> <td>    0.063</td>\n",
       "</tr>\n",
       "</table>\n",
       "<table class=\"simpletable\">\n",
       "<tr>\n",
       "  <th>Omnibus:</th>       <td>324.758</td> <th>  Durbin-Watson:     </th> <td>   2.007</td>\n",
       "</tr>\n",
       "<tr>\n",
       "  <th>Prob(Omnibus):</th> <td> 0.000</td>  <th>  Jarque-Bera (JB):  </th> <td>4693.932</td>\n",
       "</tr>\n",
       "<tr>\n",
       "  <th>Skew:</th>          <td> 3.201</td>  <th>  Prob(JB):          </th> <td>    0.00</td>\n",
       "</tr>\n",
       "<tr>\n",
       "  <th>Kurtosis:</th>      <td>17.907</td>  <th>  Cond. No.          </th> <td>    237.</td>\n",
       "</tr>\n",
       "</table><br/><br/>Notes:<br/>[1] Standard Errors assume that the covariance matrix of the errors is correctly specified."
      ],
      "text/plain": [
       "<class 'statsmodels.iolib.summary.Summary'>\n",
       "\"\"\"\n",
       "                            OLS Regression Results                            \n",
       "==============================================================================\n",
       "Dep. Variable:                   wage   R-squared:                       0.014\n",
       "Model:                            OLS   Adj. R-squared:                  0.009\n",
       "Method:                 Least Squares   F-statistic:                     3.031\n",
       "Date:                Tue, 12 Apr 2022   Prob (F-statistic):             0.0493\n",
       "Time:                        13:09:53   Log-Likelihood:                -1116.1\n",
       "No. Observations:                 428   AIC:                             2238.\n",
       "Df Residuals:                     425   BIC:                             2250.\n",
       "Df Model:                           2                                         \n",
       "Covariance Type:            nonrobust                                         \n",
       "==============================================================================\n",
       "                 coef    std err          t      P>|t|      [0.025      0.975]\n",
       "------------------------------------------------------------------------------\n",
       "Intercept     -0.3399      1.960     -0.173      0.862      -4.192       3.512\n",
       "x_h            0.3321      0.152      2.181      0.030       0.033       0.631\n",
       "exper          0.0240      0.020      1.213      0.226      -0.015       0.063\n",
       "==============================================================================\n",
       "Omnibus:                      324.758   Durbin-Watson:                   2.007\n",
       "Prob(Omnibus):                  0.000   Jarque-Bera (JB):             4693.932\n",
       "Skew:                           3.201   Prob(JB):                         0.00\n",
       "Kurtosis:                      17.907   Cond. No.                         237.\n",
       "==============================================================================\n",
       "\n",
       "Notes:\n",
       "[1] Standard Errors assume that the covariance matrix of the errors is correctly specified.\n",
       "\"\"\""
      ]
     },
     "execution_count": 11,
     "metadata": {},
     "output_type": "execute_result"
    }
   ],
   "source": [
    "reg = smf.ols(\"wage~x_h+exper\",data=df)\n",
    "res = reg.fit()\n",
    "res.summary()"
   ]
  },
  {
   "cell_type": "markdown",
   "id": "a1496cfd-53b6-4f2c-a3e5-782ea3107b79",
   "metadata": {
    "tags": []
   },
   "source": [
    "### Example"
   ]
  },
  {
   "cell_type": "code",
   "execution_count": null,
   "id": "46dcdd22-20a7-40fe-8f11-3c65d84c8795",
   "metadata": {},
   "outputs": [],
   "source": []
  },
  {
   "cell_type": "markdown",
   "id": "44431808-c10b-4f7b-9bd0-914ce630d5ca",
   "metadata": {},
   "source": [
    "Using the previous example, but this time let's consider the model `lwage~ educ + exper + expersq`. Assume educ is endogenous, and it can instrumented by **motheduc** and **fatheduc**."
   ]
  },
  {
   "cell_type": "markdown",
   "id": "cd65ad21-8018-4f98-ac55-1c209794f3e4",
   "metadata": {},
   "source": [
    "1. First stage - regress educ on all instrumental and exogenous variables"
   ]
  },
  {
   "cell_type": "code",
   "execution_count": 9,
   "id": "5ba7f652-7cda-415c-98a7-3cf7daefc007",
   "metadata": {
    "tags": []
   },
   "outputs": [],
   "source": [
    "res1 = smf.ols(\"educ ~ motheduc + fatheduc + exper + expersq\", data=df).fit()"
   ]
  },
  {
   "cell_type": "markdown",
   "id": "3f0c507b-d1f5-4951-a08d-cc3cfd92224f",
   "metadata": {},
   "source": [
    "2.Add the fitted values to df, call it **educ_h**"
   ]
  },
  {
   "cell_type": "code",
   "execution_count": 10,
   "id": "6bfbf93a-cec3-4090-a3b4-71fe3eb739ee",
   "metadata": {
    "tags": []
   },
   "outputs": [],
   "source": [
    "df = df.reset_index(drop=True)\n",
    "df[\"educ_h\"] = res1.fittedvalues"
   ]
  },
  {
   "cell_type": "markdown",
   "id": "b979948a-cee0-4aba-b264-7b3e2b676c5f",
   "metadata": {},
   "source": [
    "3.Second stage - regress lwage on educ_h and other exogenous variables"
   ]
  },
  {
   "cell_type": "code",
   "execution_count": 11,
   "id": "a444a44b-1b59-48a0-bbb2-f22668971eae",
   "metadata": {
    "tags": []
   },
   "outputs": [
    {
     "name": "stdout",
     "output_type": "stream",
     "text": [
      "Intercept    0.048100\n",
      "educ_h       0.061397\n",
      "exper        0.044170\n",
      "expersq     -0.000899\n",
      "dtype: float64\n"
     ]
    }
   ],
   "source": [
    "res2 = smf.ols(\"lwage ~ educ_h + exper + expersq\", data=df).fit()\n",
    "print(res2.params)"
   ]
  },
  {
   "cell_type": "markdown",
   "id": "8bdc720e-cf81-46ca-86d8-bd452526c080",
   "metadata": {},
   "source": [
    "## 11.6 IV using linearmodels\n",
    "\n",
    "To implement IV regression in Python, the module **linearmodels** offers the command **iv.IV2SLS** ([here](https://bashtage.github.io/linearmodels/iv/iv/linearmodels.iv.model.IV2SLS.html#linearmodels.iv.model.IV2SLS)) including the convenient formula syntax we know from **statsmodels**. When working with IV regression in **linearmodels**, our first line of code always is: "
   ]
  },
  {
   "cell_type": "markdown",
   "id": "87cf2a07-ac9b-4671-bd23-54374e9f16c3",
   "metadata": {
    "tags": []
   },
   "source": [
    "### IV"
   ]
  },
  {
   "cell_type": "code",
   "execution_count": 13,
   "id": "3c4372aa-d244-48ae-ae86-01df1a3baf51",
   "metadata": {},
   "outputs": [],
   "source": [
    "import linearmodels.iv as iv"
   ]
  },
  {
   "cell_type": "markdown",
   "id": "212d4c62-3735-464a-b6cf-c9121ed21883",
   "metadata": {},
   "source": [
    "> Don't forget to `pip install linearmodels` first."
   ]
  },
  {
   "cell_type": "code",
   "execution_count": 14,
   "id": "73f2f8e6-b433-4a05-a2cf-cc9344d57f8d",
   "metadata": {},
   "outputs": [
    {
     "data": {
      "text/html": [
       "<table class=\"simpletable\">\n",
       "<caption>IV-2SLS Estimation Summary</caption>\n",
       "<tr>\n",
       "  <th>Dep. Variable:</th>          <td>wage</td>       <th>  R-squared:         </th> <td>0.1101</td> \n",
       "</tr>\n",
       "<tr>\n",
       "  <th>Estimator:</th>             <td>IV-2SLS</td>     <th>  Adj. R-squared:    </th> <td>0.1080</td> \n",
       "</tr>\n",
       "<tr>\n",
       "  <th>No. Observations:</th>        <td>428</td>       <th>  F-statistic:       </th> <td>4.5640</td> \n",
       "</tr>\n",
       "<tr>\n",
       "  <th>Date:</th>             <td>Tue, Apr 12 2022</td> <th>  P-value (F-stat)   </th> <td>0.0327</td> \n",
       "</tr>\n",
       "<tr>\n",
       "  <th>Time:</th>                 <td>13:13:36</td>     <th>  Distribution:      </th> <td>chi2(1)</td>\n",
       "</tr>\n",
       "<tr>\n",
       "  <th>Cov. Estimator:</th>        <td>robust</td>      <th>                     </th>    <td></td>    \n",
       "</tr>\n",
       "<tr>\n",
       "  <th></th>                          <td></td>         <th>                     </th>    <td></td>    \n",
       "</tr>\n",
       "</table>\n",
       "<table class=\"simpletable\">\n",
       "<caption>Parameter Estimates</caption>\n",
       "<tr>\n",
       "      <td></td>      <th>Parameter</th> <th>Std. Err.</th> <th>T-stat</th>  <th>P-value</th> <th>Lower CI</th> <th>Upper CI</th>\n",
       "</tr>\n",
       "<tr>\n",
       "  <th>Intercept</th>  <td>-0.5778</td>   <td>2.2191</td>   <td>-0.2604</td> <td>0.7946</td>   <td>-4.9272</td>  <td>3.7716</td> \n",
       "</tr>\n",
       "<tr>\n",
       "  <th>educ</th>       <td>0.3757</td>    <td>0.1758</td>   <td>2.1363</td>  <td>0.0327</td>   <td>0.0310</td>   <td>0.7203</td> \n",
       "</tr>\n",
       "</table><br/><br/>Endogenous: educ<br/>Instruments: fatheduc<br/>Robust Covariance (Heteroskedastic)<br/>Debiased: False"
      ],
      "text/plain": [
       "<class 'linearmodels.compat.statsmodels.Summary'>\n",
       "\"\"\"\n",
       "                          IV-2SLS Estimation Summary                          \n",
       "==============================================================================\n",
       "Dep. Variable:                   wage   R-squared:                      0.1101\n",
       "Estimator:                    IV-2SLS   Adj. R-squared:                 0.1080\n",
       "No. Observations:                 428   F-statistic:                    4.5640\n",
       "Date:                Tue, Apr 12 2022   P-value (F-stat)                0.0327\n",
       "Time:                        13:13:36   Distribution:                  chi2(1)\n",
       "Cov. Estimator:                robust                                         \n",
       "                                                                              \n",
       "                             Parameter Estimates                              \n",
       "==============================================================================\n",
       "            Parameter  Std. Err.     T-stat    P-value    Lower CI    Upper CI\n",
       "------------------------------------------------------------------------------\n",
       "Intercept     -0.5778     2.2191    -0.2604     0.7946     -4.9272      3.7716\n",
       "educ           0.3757     0.1758     2.1363     0.0327      0.0310      0.7203\n",
       "==============================================================================\n",
       "\n",
       "Endogenous: educ\n",
       "Instruments: fatheduc\n",
       "Robust Covariance (Heteroskedastic)\n",
       "Debiased: False\n",
       "\"\"\""
      ]
     },
     "execution_count": 14,
     "metadata": {},
     "output_type": "execute_result"
    }
   ],
   "source": [
    "reg_iv = iv.IV2SLS.from_formula(\"wage~ 1+[educ~fatheduc]\", data=df)\n",
    "res_iv = reg_iv.fit()\n",
    "res_iv.summary"
   ]
  },
  {
   "cell_type": "markdown",
   "id": "6d00c594-9b1a-4323-b4d4-178078431a97",
   "metadata": {},
   "source": [
    "> Remember that constants in **linearmodels** must be explicitly included by adding **1** to the formula."
   ]
  },
  {
   "cell_type": "code",
   "execution_count": 14,
   "id": "06ffb65d-da87-44a9-a8a8-ce9a143e8e53",
   "metadata": {},
   "outputs": [
    {
     "name": "stdout",
     "output_type": "stream",
     "text": [
      "                          IV-2SLS Estimation Summary                          \n",
      "==============================================================================\n",
      "Dep. Variable:                  lwage   R-squared:                      0.0934\n",
      "Estimator:                    IV-2SLS   Adj. R-squared:                 0.0913\n",
      "No. Observations:                 428   F-statistic:                    2.5656\n",
      "Date:                Mon, Apr 11 2022   P-value (F-stat)                0.1092\n",
      "Time:                        11:30:57   Distribution:                  chi2(1)\n",
      "Cov. Estimator:                robust                                         \n",
      "                                                                              \n",
      "                             Parameter Estimates                              \n",
      "==============================================================================\n",
      "            Parameter  Std. Err.     T-stat    P-value    Lower CI    Upper CI\n",
      "------------------------------------------------------------------------------\n",
      "Intercept      0.4411     0.4643     0.9501     0.3421     -0.4689      1.3511\n",
      "educ           0.0592     0.0369     1.6017     0.1092     -0.0132      0.1316\n",
      "==============================================================================\n",
      "\n",
      "Endogenous: educ\n",
      "Instruments: fatheduc\n",
      "Robust Covariance (Heteroskedastic)\n",
      "Debiased: False\n"
     ]
    }
   ],
   "source": [
    "print(res_iv.summary)"
   ]
  },
  {
   "cell_type": "markdown",
   "id": "973658c2-6ed6-4bf1-ad7d-5fc3f7550941",
   "metadata": {},
   "source": [
    "> Note that **summary** in linearmodels is an attribute not method. "
   ]
  },
  {
   "cell_type": "markdown",
   "id": "714e494a-d3ac-4500-bf95-c5fca1421299",
   "metadata": {},
   "source": [
    "### 2SLS"
   ]
  },
  {
   "cell_type": "markdown",
   "id": "fc9e2888-0401-40c5-890d-69ca84817412",
   "metadata": {},
   "source": [
    "When there are more than one instruments, we use the same module but with modified syntax."
   ]
  },
  {
   "cell_type": "code",
   "execution_count": 15,
   "id": "f322aa2b-2a91-4c3b-a87e-9eb0cf2c3f64",
   "metadata": {},
   "outputs": [
    {
     "name": "stdout",
     "output_type": "stream",
     "text": [
      "                          IV-2SLS Estimation Summary                          \n",
      "==============================================================================\n",
      "Dep. Variable:                  lwage   R-squared:                      0.1357\n",
      "Estimator:                    IV-2SLS   Adj. R-squared:                 0.1296\n",
      "No. Observations:                 428   F-statistic:                    18.611\n",
      "Date:                Mon, Apr 11 2022   P-value (F-stat)                0.0003\n",
      "Time:                        11:30:57   Distribution:                  chi2(3)\n",
      "Cov. Estimator:                robust                                         \n",
      "                                                                              \n",
      "                             Parameter Estimates                              \n",
      "==============================================================================\n",
      "            Parameter  Std. Err.     T-stat    P-value    Lower CI    Upper CI\n",
      "------------------------------------------------------------------------------\n",
      "Intercept      0.0481     0.4278     0.1124     0.9105     -0.7903      0.8865\n",
      "exper          0.0442     0.0155     2.8546     0.0043      0.0138      0.0745\n",
      "expersq       -0.0009     0.0004    -2.1001     0.0357     -0.0017  -5.997e-05\n",
      "educ           0.0614     0.0332     1.8503     0.0643     -0.0036      0.1264\n",
      "==============================================================================\n",
      "\n",
      "Endogenous: educ\n",
      "Instruments: motheduc, fatheduc\n",
      "Robust Covariance (Heteroskedastic)\n",
      "Debiased: False\n"
     ]
    }
   ],
   "source": [
    "reg_2sls = iv.IV2SLS.from_formula(\"lwage~1+exper + expersq + [educ~motheduc+fatheduc]\", data=df)\n",
    "res_2sls = reg_2sls.fit()\n",
    "print(res_2sls)"
   ]
  },
  {
   "cell_type": "markdown",
   "id": "563d8262-7e81-422e-bd22-a11d0273b7aa",
   "metadata": {
    "tags": []
   },
   "source": [
    "### Exercise\n",
    "Use *CARD* to estimate the return to education (lwage on educ). Education is allowed to be endogenous and instrumented with the dummy variable **nearc4** which indicates whether the individual grew up close to a college. In addition, we control for experience, race, and regional information (smsa, south, and reg662-reg669). These variables are assumed to be exogenous and act as their own instruments.\n"
   ]
  },
  {
   "cell_type": "code",
   "execution_count": 16,
   "id": "2287de27-d582-4be9-84e9-69b417eaad24",
   "metadata": {
    "tags": []
   },
   "outputs": [
    {
     "name": "stdout",
     "output_type": "stream",
     "text": [
      "<class 'pandas.core.frame.DataFrame'>\n",
      "RangeIndex: 3010 entries, 0 to 3009\n",
      "Data columns (total 34 columns):\n",
      " #   Column    Non-Null Count  Dtype  \n",
      "---  ------    --------------  -----  \n",
      " 0   id        3010 non-null   int64  \n",
      " 1   nearc2    3010 non-null   int64  \n",
      " 2   nearc4    3010 non-null   int64  \n",
      " 3   educ      3010 non-null   int64  \n",
      " 4   age       3010 non-null   int64  \n",
      " 5   fatheduc  2320 non-null   float64\n",
      " 6   motheduc  2657 non-null   float64\n",
      " 7   weight    3010 non-null   float64\n",
      " 8   momdad14  3010 non-null   int64  \n",
      " 9   sinmom14  3010 non-null   int64  \n",
      " 10  step14    3010 non-null   int64  \n",
      " 11  reg661    3010 non-null   int64  \n",
      " 12  reg662    3010 non-null   int64  \n",
      " 13  reg663    3010 non-null   int64  \n",
      " 14  reg664    3010 non-null   int64  \n",
      " 15  reg665    3010 non-null   int64  \n",
      " 16  reg666    3010 non-null   int64  \n",
      " 17  reg667    3010 non-null   int64  \n",
      " 18  reg668    3010 non-null   int64  \n",
      " 19  reg669    3010 non-null   int64  \n",
      " 20  south66   3010 non-null   int64  \n",
      " 21  black     3010 non-null   int64  \n",
      " 22  smsa      3010 non-null   int64  \n",
      " 23  south     3010 non-null   int64  \n",
      " 24  smsa66    3010 non-null   int64  \n",
      " 25  wage      3010 non-null   int64  \n",
      " 26  enroll    3010 non-null   int64  \n",
      " 27  KWW       2963 non-null   float64\n",
      " 28  IQ        2061 non-null   float64\n",
      " 29  married   3003 non-null   float64\n",
      " 30  libcrd14  2997 non-null   float64\n",
      " 31  exper     3010 non-null   int64  \n",
      " 32  lwage     3010 non-null   float64\n",
      " 33  expersq   3010 non-null   int64  \n",
      "dtypes: float64(8), int64(26)\n",
      "memory usage: 799.7 KB\n"
     ]
    }
   ],
   "source": [
    "df = woo.data(\"CARD\")\n",
    "df.info()"
   ]
  },
  {
   "cell_type": "code",
   "execution_count": 17,
   "id": "7dc3c509-910b-487f-be87-ab823b4dba2f",
   "metadata": {
    "tags": []
   },
   "outputs": [
    {
     "data": {
      "text/plain": [
       "'lwage ~ 1 + [educ~nearc4] + exper + black + smsa + south +reg661+reg662+reg663+reg664+reg665+reg666+reg667+reg668+reg669-reg661'"
      ]
     },
     "execution_count": 17,
     "metadata": {},
     "output_type": "execute_result"
    }
   ],
   "source": [
    "formula = \"lwage ~ 1 + [educ~nearc4] + exper + black + smsa + south +\"\n",
    "region = \"+\".join([c for c in df.columns if \"reg\" in c])\n",
    "formula += region\n",
    "formula += \"-reg661\"\n",
    "formula"
   ]
  },
  {
   "cell_type": "code",
   "execution_count": 18,
   "id": "26b9f477-b799-4a7a-ad8e-11d805df0050",
   "metadata": {
    "tags": []
   },
   "outputs": [
    {
     "name": "stdout",
     "output_type": "stream",
     "text": [
      "                          IV-2SLS Estimation Summary                          \n",
      "==============================================================================\n",
      "Dep. Variable:                  lwage   R-squared:                      0.1922\n",
      "Estimator:                    IV-2SLS   Adj. R-squared:                 0.1887\n",
      "No. Observations:                3010   F-statistic:                    735.97\n",
      "Date:                Tue, Apr 12 2022   P-value (F-stat)                0.0000\n",
      "Time:                        13:24:00   Distribution:                 chi2(13)\n",
      "Cov. Estimator:                robust                                         \n",
      "                                                                              \n",
      "                             Parameter Estimates                              \n",
      "==============================================================================\n",
      "            Parameter  Std. Err.     T-stat    P-value    Lower CI    Upper CI\n",
      "------------------------------------------------------------------------------\n",
      "Intercept      3.6277     0.8755     4.1436     0.0000      1.9118      5.3437\n",
      "exper          0.0677     0.0206     3.2843     0.0010      0.0273      0.1080\n",
      "black         -0.1331     0.0513    -2.5954     0.0094     -0.2337     -0.0326\n",
      "smsa           0.1198     0.0320     3.7502     0.0002      0.0572      0.1825\n",
      "south         -0.1481     0.0297    -4.9933     0.0000     -0.2062     -0.0900\n",
      "reg662         0.0991     0.0377     2.6325     0.0085      0.0253      0.1730\n",
      "reg663         0.1468     0.0369     3.9799     0.0001      0.0745      0.2191\n",
      "reg664         0.0465     0.0446     1.0439     0.2965     -0.0408      0.1339\n",
      "reg665         0.1468     0.0509     2.8815     0.0040      0.0469      0.2466\n",
      "reg666         0.1593     0.0535     2.9783     0.0029      0.0545      0.2641\n",
      "reg667         0.1408     0.0521     2.7013     0.0069      0.0386      0.2429\n",
      "reg668        -0.0861     0.0575    -1.4971     0.1344     -0.1988      0.0266\n",
      "reg669         0.1067     0.0422     2.5309     0.0114      0.0241      0.1893\n",
      "educ           0.1451     0.0522     2.7800     0.0054      0.0428      0.2473\n",
      "==============================================================================\n",
      "\n",
      "Endogenous: educ\n",
      "Instruments: nearc4\n",
      "Robust Covariance (Heteroskedastic)\n",
      "Debiased: False\n"
     ]
    }
   ],
   "source": [
    "reg = iv.IV2SLS.from_formula(formula, data=df)\n",
    "print(reg.fit().summary)"
   ]
  },
  {
   "cell_type": "code",
   "execution_count": 19,
   "id": "0ed564d7-999a-407e-a32f-6a0fcb453136",
   "metadata": {
    "collapsed": true,
    "jupyter": {
     "outputs_hidden": true
    },
    "tags": []
   },
   "outputs": [
    {
     "data": {
      "text/plain": [
       "'lwage~1 + [educ~nearc4]+ black + exper+ smsa+south+reg662+reg663+reg664+reg665+reg666+reg667+reg668+reg669'"
      ]
     },
     "execution_count": 19,
     "metadata": {},
     "output_type": "execute_result"
    }
   ],
   "source": [
    "import re\n",
    "formula = \"lwage~1 + [educ~nearc4]+ black + exper+ smsa+south+\"\n",
    "pattern = \"^reg66[2-9]\"\n",
    "exo = \"+\".join([c for c in df.columns if re.search(pattern,c)])\n",
    "formula += exo\n",
    "formula"
   ]
  },
  {
   "cell_type": "code",
   "execution_count": 20,
   "id": "15bc15ac-bc4a-4397-a96a-beae79754d0c",
   "metadata": {
    "collapsed": true,
    "jupyter": {
     "outputs_hidden": true,
     "source_hidden": true
    },
    "tags": []
   },
   "outputs": [
    {
     "name": "stdout",
     "output_type": "stream",
     "text": [
      "                          IV-2SLS Estimation Summary                          \n",
      "==============================================================================\n",
      "Dep. Variable:                  lwage   R-squared:                      0.1922\n",
      "Estimator:                    IV-2SLS   Adj. R-squared:                 0.1887\n",
      "No. Observations:                3010   F-statistic:                    735.97\n",
      "Date:                Mon, Apr 11 2022   P-value (F-stat)                0.0000\n",
      "Time:                        11:30:57   Distribution:                 chi2(13)\n",
      "Cov. Estimator:                robust                                         \n",
      "                                                                              \n",
      "                             Parameter Estimates                              \n",
      "==============================================================================\n",
      "            Parameter  Std. Err.     T-stat    P-value    Lower CI    Upper CI\n",
      "------------------------------------------------------------------------------\n",
      "Intercept      3.6277     0.8755     4.1436     0.0000      1.9118      5.3437\n",
      "black         -0.1331     0.0513    -2.5954     0.0094     -0.2337     -0.0326\n",
      "exper          0.0677     0.0206     3.2843     0.0010      0.0273      0.1080\n",
      "smsa           0.1198     0.0320     3.7502     0.0002      0.0572      0.1825\n",
      "south         -0.1481     0.0297    -4.9933     0.0000     -0.2062     -0.0900\n",
      "reg662         0.0991     0.0377     2.6325     0.0085      0.0253      0.1730\n",
      "reg663         0.1468     0.0369     3.9799     0.0001      0.0745      0.2191\n",
      "reg664         0.0465     0.0446     1.0439     0.2965     -0.0408      0.1339\n",
      "reg665         0.1468     0.0509     2.8815     0.0040      0.0469      0.2466\n",
      "reg666         0.1593     0.0535     2.9783     0.0029      0.0545      0.2641\n",
      "reg667         0.1408     0.0521     2.7013     0.0069      0.0386      0.2429\n",
      "reg668        -0.0861     0.0575    -1.4971     0.1344     -0.1988      0.0266\n",
      "reg669         0.1067     0.0422     2.5309     0.0114      0.0241      0.1893\n",
      "educ           0.1451     0.0522     2.7800     0.0054      0.0428      0.2473\n",
      "==============================================================================\n",
      "\n",
      "Endogenous: educ\n",
      "Instruments: nearc4\n",
      "Robust Covariance (Heteroskedastic)\n",
      "Debiased: False\n"
     ]
    }
   ],
   "source": [
    "reg_iv = iv.IV2SLS.from_formula(formula, data=df)\n",
    "res_iv = reg_iv.fit()\n",
    "print(res_iv.summary)"
   ]
  },
  {
   "cell_type": "markdown",
   "id": "93513908-848d-421b-bb9c-0f5122e637d4",
   "metadata": {},
   "source": [
    "### Exercise2"
   ]
  },
  {
   "cell_type": "markdown",
   "id": "2125f6fd-16c1-4058-a7c4-50eb3203027c",
   "metadata": {},
   "source": [
    "We now use WAGE2 to estimate the return to education for men.\n",
    "\n",
    "Task1: Regress lwage on educ, interpret the coefficient"
   ]
  },
  {
   "cell_type": "code",
   "execution_count": 21,
   "id": "f2d19274-51e0-4f5f-8c79-054dd19747ab",
   "metadata": {
    "collapsed": true,
    "jupyter": {
     "outputs_hidden": true,
     "source_hidden": true
    },
    "tags": []
   },
   "outputs": [
    {
     "data": {
      "text/html": [
       "<div>\n",
       "<style scoped>\n",
       "    .dataframe tbody tr th:only-of-type {\n",
       "        vertical-align: middle;\n",
       "    }\n",
       "\n",
       "    .dataframe tbody tr th {\n",
       "        vertical-align: top;\n",
       "    }\n",
       "\n",
       "    .dataframe thead th {\n",
       "        text-align: right;\n",
       "    }\n",
       "</style>\n",
       "<table border=\"1\" class=\"dataframe\">\n",
       "  <thead>\n",
       "    <tr style=\"text-align: right;\">\n",
       "      <th></th>\n",
       "      <th>wage</th>\n",
       "      <th>hours</th>\n",
       "      <th>IQ</th>\n",
       "      <th>KWW</th>\n",
       "      <th>educ</th>\n",
       "      <th>exper</th>\n",
       "      <th>tenure</th>\n",
       "      <th>age</th>\n",
       "      <th>married</th>\n",
       "      <th>black</th>\n",
       "      <th>south</th>\n",
       "      <th>urban</th>\n",
       "      <th>sibs</th>\n",
       "      <th>brthord</th>\n",
       "      <th>meduc</th>\n",
       "      <th>feduc</th>\n",
       "      <th>lwage</th>\n",
       "    </tr>\n",
       "  </thead>\n",
       "  <tbody>\n",
       "    <tr>\n",
       "      <th>0</th>\n",
       "      <td>769</td>\n",
       "      <td>40</td>\n",
       "      <td>93</td>\n",
       "      <td>35</td>\n",
       "      <td>12</td>\n",
       "      <td>11</td>\n",
       "      <td>2</td>\n",
       "      <td>31</td>\n",
       "      <td>1</td>\n",
       "      <td>0</td>\n",
       "      <td>0</td>\n",
       "      <td>1</td>\n",
       "      <td>1</td>\n",
       "      <td>2.0</td>\n",
       "      <td>8.0</td>\n",
       "      <td>8.0</td>\n",
       "      <td>6.645091</td>\n",
       "    </tr>\n",
       "    <tr>\n",
       "      <th>2</th>\n",
       "      <td>825</td>\n",
       "      <td>40</td>\n",
       "      <td>108</td>\n",
       "      <td>46</td>\n",
       "      <td>14</td>\n",
       "      <td>11</td>\n",
       "      <td>9</td>\n",
       "      <td>33</td>\n",
       "      <td>1</td>\n",
       "      <td>0</td>\n",
       "      <td>0</td>\n",
       "      <td>1</td>\n",
       "      <td>1</td>\n",
       "      <td>2.0</td>\n",
       "      <td>14.0</td>\n",
       "      <td>14.0</td>\n",
       "      <td>6.715384</td>\n",
       "    </tr>\n",
       "    <tr>\n",
       "      <th>3</th>\n",
       "      <td>650</td>\n",
       "      <td>40</td>\n",
       "      <td>96</td>\n",
       "      <td>32</td>\n",
       "      <td>12</td>\n",
       "      <td>13</td>\n",
       "      <td>7</td>\n",
       "      <td>32</td>\n",
       "      <td>1</td>\n",
       "      <td>0</td>\n",
       "      <td>0</td>\n",
       "      <td>1</td>\n",
       "      <td>4</td>\n",
       "      <td>3.0</td>\n",
       "      <td>12.0</td>\n",
       "      <td>12.0</td>\n",
       "      <td>6.476973</td>\n",
       "    </tr>\n",
       "    <tr>\n",
       "      <th>4</th>\n",
       "      <td>562</td>\n",
       "      <td>40</td>\n",
       "      <td>74</td>\n",
       "      <td>27</td>\n",
       "      <td>11</td>\n",
       "      <td>14</td>\n",
       "      <td>5</td>\n",
       "      <td>34</td>\n",
       "      <td>1</td>\n",
       "      <td>0</td>\n",
       "      <td>0</td>\n",
       "      <td>1</td>\n",
       "      <td>10</td>\n",
       "      <td>6.0</td>\n",
       "      <td>6.0</td>\n",
       "      <td>11.0</td>\n",
       "      <td>6.331502</td>\n",
       "    </tr>\n",
       "    <tr>\n",
       "      <th>6</th>\n",
       "      <td>600</td>\n",
       "      <td>40</td>\n",
       "      <td>91</td>\n",
       "      <td>24</td>\n",
       "      <td>10</td>\n",
       "      <td>13</td>\n",
       "      <td>0</td>\n",
       "      <td>30</td>\n",
       "      <td>0</td>\n",
       "      <td>0</td>\n",
       "      <td>0</td>\n",
       "      <td>1</td>\n",
       "      <td>1</td>\n",
       "      <td>2.0</td>\n",
       "      <td>8.0</td>\n",
       "      <td>8.0</td>\n",
       "      <td>6.396930</td>\n",
       "    </tr>\n",
       "  </tbody>\n",
       "</table>\n",
       "</div>"
      ],
      "text/plain": [
       "   wage  hours   IQ  KWW  educ  exper  tenure  age  married  black  south  \\\n",
       "0   769     40   93   35    12     11       2   31        1      0      0   \n",
       "2   825     40  108   46    14     11       9   33        1      0      0   \n",
       "3   650     40   96   32    12     13       7   32        1      0      0   \n",
       "4   562     40   74   27    11     14       5   34        1      0      0   \n",
       "6   600     40   91   24    10     13       0   30        0      0      0   \n",
       "\n",
       "   urban  sibs  brthord  meduc  feduc     lwage  \n",
       "0      1     1      2.0    8.0    8.0  6.645091  \n",
       "2      1     1      2.0   14.0   14.0  6.715384  \n",
       "3      1     4      3.0   12.0   12.0  6.476973  \n",
       "4      1    10      6.0    6.0   11.0  6.331502  \n",
       "6      1     1      2.0    8.0    8.0  6.396930  "
      ]
     },
     "execution_count": 21,
     "metadata": {},
     "output_type": "execute_result"
    }
   ],
   "source": [
    "import wooldridge as woo\n",
    "df = woo.data(\"wage2\")\n",
    "df = df.dropna()\n",
    "df.head()"
   ]
  },
  {
   "cell_type": "code",
   "execution_count": 22,
   "id": "9943566b-113b-45dc-9497-3bf1417bb445",
   "metadata": {
    "collapsed": true,
    "jupyter": {
     "outputs_hidden": true,
     "source_hidden": true
    },
    "tags": []
   },
   "outputs": [
    {
     "name": "stdout",
     "output_type": "stream",
     "text": [
      "<class 'pandas.core.frame.DataFrame'>\n",
      "Int64Index: 663 entries, 0 to 931\n",
      "Data columns (total 17 columns):\n",
      " #   Column   Non-Null Count  Dtype  \n",
      "---  ------   --------------  -----  \n",
      " 0   wage     663 non-null    int64  \n",
      " 1   hours    663 non-null    int64  \n",
      " 2   IQ       663 non-null    int64  \n",
      " 3   KWW      663 non-null    int64  \n",
      " 4   educ     663 non-null    int64  \n",
      " 5   exper    663 non-null    int64  \n",
      " 6   tenure   663 non-null    int64  \n",
      " 7   age      663 non-null    int64  \n",
      " 8   married  663 non-null    int64  \n",
      " 9   black    663 non-null    int64  \n",
      " 10  south    663 non-null    int64  \n",
      " 11  urban    663 non-null    int64  \n",
      " 12  sibs     663 non-null    int64  \n",
      " 13  brthord  663 non-null    float64\n",
      " 14  meduc    663 non-null    float64\n",
      " 15  feduc    663 non-null    float64\n",
      " 16  lwage    663 non-null    float64\n",
      "dtypes: float64(4), int64(13)\n",
      "memory usage: 93.2 KB\n"
     ]
    }
   ],
   "source": [
    "df.info()"
   ]
  },
  {
   "cell_type": "code",
   "execution_count": 23,
   "id": "e595aace-5abf-49ff-a3ec-ac57870f60be",
   "metadata": {
    "collapsed": true,
    "jupyter": {
     "outputs_hidden": true,
     "source_hidden": true
    },
    "tags": []
   },
   "outputs": [
    {
     "name": "stdout",
     "output_type": "stream",
     "text": [
      "                            OLS Regression Results                            \n",
      "==============================================================================\n",
      "Dep. Variable:                  lwage   R-squared:                       0.104\n",
      "Model:                            OLS   Adj. R-squared:                  0.103\n",
      "Method:                 Least Squares   F-statistic:                     76.69\n",
      "Date:                Mon, 11 Apr 2022   Prob (F-statistic):           1.67e-17\n",
      "Time:                        11:30:57   Log-Likelihood:                -316.30\n",
      "No. Observations:                 663   AIC:                             636.6\n",
      "Df Residuals:                     661   BIC:                             645.6\n",
      "Df Model:                           1                                         \n",
      "Covariance Type:            nonrobust                                         \n",
      "==============================================================================\n",
      "                 coef    std err          t      P>|t|      [0.025      0.975]\n",
      "------------------------------------------------------------------------------\n",
      "Intercept      5.9995      0.094     63.640      0.000       5.814       6.185\n",
      "educ           0.0596      0.007      8.757      0.000       0.046       0.073\n",
      "==============================================================================\n",
      "Omnibus:                       25.861   Durbin-Watson:                   1.840\n",
      "Prob(Omnibus):                  0.000   Jarque-Bera (JB):               34.430\n",
      "Skew:                          -0.370   Prob(JB):                     3.34e-08\n",
      "Kurtosis:                       3.836   Cond. No.                         86.6\n",
      "==============================================================================\n",
      "\n",
      "Notes:\n",
      "[1] Standard Errors assume that the covariance matrix of the errors is correctly specified.\n"
     ]
    }
   ],
   "source": [
    "import statsmodels.formula.api as smf\n",
    "reg = smf.ols(\"lwage ~ educ\", data=df)\n",
    "res = reg.fit()\n",
    "print(res.summary())"
   ]
  },
  {
   "cell_type": "markdown",
   "id": "b6227c88-16a6-422d-8c3c-63af20a4c9be",
   "metadata": {},
   "source": [
    "Task2: Explain why educ might be **endogenous** - i.e. there is some omitted variable o that is correlated with educ. \\\n",
    "Does $\\hat{\\beta}_{educ}$ over- or under- estimate the effect of education on wage."
   ]
  },
  {
   "cell_type": "markdown",
   "id": "46820973-7f32-4a39-baa2-1f0fecca9946",
   "metadata": {},
   "source": [
    "Task3: What variable(s) can be used as instruments for educ?"
   ]
  },
  {
   "cell_type": "markdown",
   "id": "bdd50352-3009-418c-b9d6-bf6aa51f9b24",
   "metadata": {},
   "source": [
    "wage: monthly earnings \\\n",
    "hours: average weekly hours \\\n",
    "IQ: IQ score \\\n",
    "KWW: knowledge of world work score \\\n",
    "educ: years of education \\\n",
    "exper: years of work experience \\\n",
    "tenure: years with current employer \\\n",
    "age: age in years \\\n",
    "married: =1 if married \\\n",
    "black: =1 if black \\\n",
    "south: =1 if live in south \\\n",
    "urban: =1 if live in SMSA \\\n",
    "sibs: number of siblings \\\n",
    "brthord: birth order \\\n",
    "meduc: mother's education \\\n",
    "feduc: father's education \\\n",
    "lwage: natural log of wage"
   ]
  },
  {
   "cell_type": "markdown",
   "id": "e4caf90b-27e6-4f8e-948a-c691e5a4f31d",
   "metadata": {},
   "source": [
    "Task4: Compute the IV estimator manually using sibs"
   ]
  },
  {
   "cell_type": "code",
   "execution_count": 24,
   "id": "611fbda0-b17d-4f19-9b28-85116a05cece",
   "metadata": {
    "collapsed": true,
    "jupyter": {
     "outputs_hidden": true,
     "source_hidden": true
    },
    "tags": []
   },
   "outputs": [
    {
     "data": {
      "text/plain": [
       "0.12558991602151698"
      ]
     },
     "execution_count": 24,
     "metadata": {},
     "output_type": "execute_result"
    }
   ],
   "source": [
    "import numpy as np\n",
    "cov_yz = np.cov(df[\"lwage\"],df[\"sibs\"])[0,1]\n",
    "cov_xz = np.cov(df[\"educ\"], df[\"sibs\"])[0,1]\n",
    "b_iv = cov_yz/cov_xz\n",
    "b_iv"
   ]
  },
  {
   "cell_type": "markdown",
   "id": "12dd1adc-fef9-4e3a-8eb7-9b326ba94b80",
   "metadata": {},
   "source": [
    "Task5: Compute the 2SLS estimator manually"
   ]
  },
  {
   "cell_type": "code",
   "execution_count": 25,
   "id": "55cfbbf6-00b1-496d-9c34-9a300b0cac60",
   "metadata": {
    "collapsed": true,
    "jupyter": {
     "outputs_hidden": true,
     "source_hidden": true
    },
    "tags": []
   },
   "outputs": [
    {
     "name": "stdout",
     "output_type": "stream",
     "text": [
      "                            OLS Regression Results                            \n",
      "==============================================================================\n",
      "Dep. Variable:                  lwage   R-squared:                       0.018\n",
      "Model:                            OLS   Adj. R-squared:                  0.016\n",
      "Method:                 Least Squares   F-statistic:                     12.09\n",
      "Date:                Mon, 11 Apr 2022   Prob (F-statistic):           0.000539\n",
      "Time:                        11:30:57   Log-Likelihood:                -346.68\n",
      "No. Observations:                 663   AIC:                             697.4\n",
      "Df Residuals:                     661   BIC:                             706.3\n",
      "Df Model:                           1                                         \n",
      "Covariance Type:            nonrobust                                         \n",
      "==============================================================================\n",
      "                 coef    std err          t      P>|t|      [0.025      0.975]\n",
      "------------------------------------------------------------------------------\n",
      "Intercept      5.0962      0.494     10.309      0.000       4.126       6.067\n",
      "educ_h         0.1256      0.036      3.477      0.001       0.055       0.197\n",
      "==============================================================================\n",
      "Omnibus:                       23.443   Durbin-Watson:                   1.809\n",
      "Prob(Omnibus):                  0.000   Jarque-Bera (JB):               31.787\n",
      "Skew:                          -0.336   Prob(JB):                     1.25e-07\n",
      "Kurtosis:                       3.836   Cond. No.                         428.\n",
      "==============================================================================\n",
      "\n",
      "Notes:\n",
      "[1] Standard Errors assume that the covariance matrix of the errors is correctly specified.\n"
     ]
    }
   ],
   "source": [
    "res_s1 = smf.ols(\"educ ~ sibs\",data=df).fit()\n",
    "df[\"educ_h\"] = res_s1.predict()\n",
    "res_s2 = smf.ols(\"lwage ~ educ_h\",data=df).fit()\n",
    "print(res_s2.summary())"
   ]
  },
  {
   "cell_type": "markdown",
   "id": "38060743-a60a-45aa-8329-3f2c4cd3eb06",
   "metadata": {},
   "source": [
    "Task6: Compute the IV2SLS estimator using linearmodels.iv"
   ]
  },
  {
   "cell_type": "code",
   "execution_count": 26,
   "id": "7c1e203d-69b7-42da-b4f8-84166b1a5a80",
   "metadata": {
    "collapsed": true,
    "jupyter": {
     "outputs_hidden": true,
     "source_hidden": true
    },
    "tags": []
   },
   "outputs": [
    {
     "name": "stdout",
     "output_type": "stream",
     "text": [
      "                          IV-2SLS Estimation Summary                          \n",
      "==============================================================================\n",
      "Dep. Variable:                  lwage   R-squared:                     -0.0238\n",
      "Estimator:                    IV-2SLS   Adj. R-squared:                -0.0253\n",
      "No. Observations:                 663   F-statistic:                    12.405\n",
      "Date:                Mon, Apr 11 2022   P-value (F-stat)                0.0004\n",
      "Time:                        11:30:57   Distribution:                  chi2(1)\n",
      "Cov. Estimator:                robust                                         \n",
      "                                                                              \n",
      "                             Parameter Estimates                              \n",
      "==============================================================================\n",
      "            Parameter  Std. Err.     T-stat    P-value    Lower CI    Upper CI\n",
      "------------------------------------------------------------------------------\n",
      "Intercept      5.0962     0.4878     10.448     0.0000      4.1402      6.0522\n",
      "educ           0.1256     0.0357     3.5220     0.0004      0.0557      0.1955\n",
      "==============================================================================\n",
      "\n",
      "Endogenous: educ\n",
      "Instruments: sibs\n",
      "Robust Covariance (Heteroskedastic)\n",
      "Debiased: False\n"
     ]
    }
   ],
   "source": [
    "import linearmodels.iv as iv\n",
    "res_iv2sls = iv.IV2SLS.from_formula(\"lwage~1+[educ~sibs]\",data=df).fit()\n",
    "print(res_iv2sls.summary)"
   ]
  }
 ],
 "metadata": {
  "kernelspec": {
   "display_name": "Python 3 (ipykernel)",
   "language": "python",
   "name": "python3"
  },
  "language_info": {
   "codemirror_mode": {
    "name": "ipython",
    "version": 3
   },
   "file_extension": ".py",
   "mimetype": "text/x-python",
   "name": "python",
   "nbconvert_exporter": "python",
   "pygments_lexer": "ipython3",
   "version": "3.8.8"
  }
 },
 "nbformat": 4,
 "nbformat_minor": 5
}
