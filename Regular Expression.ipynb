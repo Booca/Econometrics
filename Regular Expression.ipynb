{
 "cells": [
  {
   "cell_type": "markdown",
   "id": "b62dd473-ff0a-4a3e-a69b-7ced0755769b",
   "metadata": {},
   "source": [
    "# Python Regular Expression for String"
   ]
  },
  {
   "cell_type": "markdown",
   "id": "3bcab961-0c1a-4636-bc62-3da6d940ceb5",
   "metadata": {},
   "source": [
    "What if we want to keep all variables starting with \"l\"? In python, we can use the **re** package for pattern recognition.\n",
    "\n",
    "A RegEx, or Regular Expression, is a sequence of characters that forms a search pattern. RegEx can be used to check if a string contains the specified search pattern."
   ]
  },
  {
   "cell_type": "markdown",
   "id": "d45c5b8b-968f-4f63-b6b6-73ae6db9e696",
   "metadata": {},
   "source": [
    "`re.search()` searches a pattern in a string and returns a Match object"
   ]
  },
  {
   "cell_type": "code",
   "execution_count": 1,
   "id": "c73683e8-e06f-4f8a-8032-dea197b00f3e",
   "metadata": {},
   "outputs": [
    {
     "data": {
      "text/plain": [
       "<re.Match object; span=(11, 14), match='Ben'>"
      ]
     },
     "execution_count": 1,
     "metadata": {},
     "output_type": "execute_result"
    }
   ],
   "source": [
    "import re\n",
    "m = re.search(pattern=r\"Ben\", string=\"My name is Ben\") \n",
    "m"
   ]
  },
  {
   "cell_type": "markdown",
   "id": "2516804d-8b6d-4fbb-bf25-68a9f0278a47",
   "metadata": {},
   "source": [
    "`m.span()` returns the start and end position of the pattern (end index not included) \\\n",
    "`m.group(0)` returns the matched substring."
   ]
  },
  {
   "cell_type": "code",
   "execution_count": 2,
   "id": "09b90341-23d1-42fc-9c4f-c8dceeffe15d",
   "metadata": {},
   "outputs": [
    {
     "data": {
      "text/plain": [
       "(11, 14)"
      ]
     },
     "execution_count": 2,
     "metadata": {},
     "output_type": "execute_result"
    }
   ],
   "source": [
    "m.span()"
   ]
  },
  {
   "cell_type": "code",
   "execution_count": 3,
   "id": "c8da7fa6-600b-4875-b02f-c697a0767918",
   "metadata": {},
   "outputs": [
    {
     "data": {
      "text/plain": [
       "'Ben'"
      ]
     },
     "execution_count": 3,
     "metadata": {},
     "output_type": "execute_result"
    }
   ],
   "source": [
    "m.group(0)"
   ]
  },
  {
   "cell_type": "markdown",
   "id": "c71763fe-54d3-428d-88a9-e3177bdd5629",
   "metadata": {},
   "source": [
    "### 1 Build a pattern"
   ]
  },
  {
   "cell_type": "markdown",
   "id": "8c6992cc-12b1-4828-8d7a-b199adfe1d5d",
   "metadata": {},
   "source": [
    "To use `re`, we need to first specify the string pattern that we are looking for."
   ]
  },
  {
   "cell_type": "markdown",
   "id": "256c6e20-abe8-4c15-992a-ad1ddd92da0b",
   "metadata": {},
   "source": [
    "### Meta Characters\n",
    "\n",
    "Metacharacters are characters with a special meaning. In most cases, they only work together with other characters.\n",
    "\n",
    "![meta char](./images/meta_char.png)"
   ]
  },
  {
   "cell_type": "code",
   "execution_count": 4,
   "id": "e8346e6f-d64f-458a-b711-37f3f72f05d2",
   "metadata": {},
   "outputs": [
    {
     "data": {
      "text/plain": [
       "True"
      ]
     },
     "execution_count": 4,
     "metadata": {},
     "output_type": "execute_result"
    }
   ],
   "source": [
    "import re\n",
    "\n",
    "text = \"I love ECO301\"\n",
    "pattern = r\"ECO[0-9]\"\n",
    "bool(re.search(pattern,text))"
   ]
  },
  {
   "cell_type": "code",
   "execution_count": 5,
   "id": "d8ca2456-0627-43b6-a98f-35cfcf4c33b8",
   "metadata": {},
   "outputs": [
    {
     "data": {
      "text/plain": [
       "False"
      ]
     },
     "execution_count": 5,
     "metadata": {},
     "output_type": "execute_result"
    }
   ],
   "source": [
    "pattern = r\".+I\"\n",
    "bool(re.search(pattern, text))"
   ]
  },
  {
   "cell_type": "markdown",
   "id": "2702c188-1ab0-48e3-8b1b-75c966862204",
   "metadata": {},
   "source": [
    "### Special Sequences\n",
    "A special sequence is a `\\` followed by one of the characters in the list below, and has a special meaning:\n",
    "\n",
    "![Special Sequences](./images/special_seq.png)"
   ]
  },
  {
   "cell_type": "markdown",
   "id": "de050428-d05e-488b-b014-e3e19829738e",
   "metadata": {
    "tags": []
   },
   "source": [
    "### Sets\n",
    "\n",
    "![re sets](./images/re_sets.png)"
   ]
  },
  {
   "cell_type": "markdown",
   "id": "5e877e11-0d21-475b-b135-c764270e57f1",
   "metadata": {
    "tags": []
   },
   "source": [
    "### 2. re Methods\n",
    "\n",
    "The `re` module offers a lot of useful functions that allows us to search a string for a match, some examples are\n",
    "- `re.search(pattern, string)`\tReturns a Match object if there is a match anywhere in the string\n",
    "- `re.findall(pattern, string)`\tReturns a list containing all matches\n",
    "- `re.sub(pattern, repl, string)`\tReplaces one or many matches with a string"
   ]
  },
  {
   "cell_type": "markdown",
   "id": "e06fb46f-d09b-4227-b3ae-fa7dff818a0f",
   "metadata": {},
   "source": [
    "### 3. Some Applications"
   ]
  },
  {
   "cell_type": "markdown",
   "id": "d9e4456c-7299-4da3-b42d-b02f237d4421",
   "metadata": {},
   "source": [
    "1. Import gpa1 data, find all variables that contains `senior`"
   ]
  },
  {
   "cell_type": "code",
   "execution_count": 6,
   "id": "9fd59c8b-c3e2-4241-8f5e-bc4ca8a8a55a",
   "metadata": {
    "tags": []
   },
   "outputs": [],
   "source": [
    "import wooldridge as woo\n",
    "df = woo.data(\"gpa1\")"
   ]
  },
  {
   "cell_type": "code",
   "execution_count": 7,
   "id": "f17458e4-10b8-4a3b-b951-ba7c28325145",
   "metadata": {},
   "outputs": [],
   "source": [
    "pat = r\"senior[0-9]\"\n",
    "ls = []\n",
    "for c in df.columns:\n",
    "    if bool(re.search(pat,c)):\n",
    "        ls.append(c)"
   ]
  },
  {
   "cell_type": "code",
   "execution_count": 8,
   "id": "181375ee-44f1-4137-ad6f-650bd8cd208d",
   "metadata": {},
   "outputs": [
    {
     "data": {
      "text/plain": [
       "['senior5']"
      ]
     },
     "execution_count": 8,
     "metadata": {},
     "output_type": "execute_result"
    }
   ],
   "source": [
    "ls"
   ]
  },
  {
   "cell_type": "code",
   "execution_count": 9,
   "id": "a07e0bd6-bd9d-4995-ac07-752236633218",
   "metadata": {
    "tags": []
   },
   "outputs": [
    {
     "data": {
      "text/plain": [
       "['senior', 'senior5']"
      ]
     },
     "execution_count": 9,
     "metadata": {},
     "output_type": "execute_result"
    }
   ],
   "source": [
    "[c for c in df.columns if \"senior\" in c]"
   ]
  },
  {
   "cell_type": "markdown",
   "id": "d7bfe878-19a1-4fb1-a3ff-07574218a49d",
   "metadata": {},
   "source": [
    "2. Assume we have the following column names \\\n",
    "[\"gdp2011\", \"gdp2012\", \"gdp2013\", ..., \"gdp2022\"]. \\\n",
    "Obtain gdp variables on or before 2018."
   ]
  },
  {
   "cell_type": "code",
   "execution_count": 10,
   "id": "0d98954c-99ea-4922-9d09-71ec8982bd70",
   "metadata": {
    "tags": []
   },
   "outputs": [],
   "source": [
    "columns = [\"gdp\"+str(i) for i in range(2011,2023)]"
   ]
  },
  {
   "cell_type": "code",
   "execution_count": 11,
   "id": "38d0722d-a31d-4115-a500-66bc184528ee",
   "metadata": {
    "tags": []
   },
   "outputs": [
    {
     "data": {
      "text/plain": [
       "['gdp2011',\n",
       " 'gdp2012',\n",
       " 'gdp2013',\n",
       " 'gdp2014',\n",
       " 'gdp2015',\n",
       " 'gdp2016',\n",
       " 'gdp2017',\n",
       " 'gdp2018']"
      ]
     },
     "execution_count": 11,
     "metadata": {},
     "output_type": "execute_result"
    }
   ],
   "source": [
    "[c for c in columns if re.search(\"gdp201[1-8]\",c)]"
   ]
  },
  {
   "cell_type": "markdown",
   "id": "ddbff3ff-5095-40ee-817a-db001011a320",
   "metadata": {},
   "source": [
    "3. Assume we have the following column names \\\n",
    "`[\"male\", \"name\", \"Q1_m\",\"Q1_f\",\"Q2_m\",\"Q2_f\"]`. \\\n",
    "Obtain `[\"Q1_m\", \"Q2_m\"]`"
   ]
  },
  {
   "cell_type": "code",
   "execution_count": 12,
   "id": "b76070cb-a190-4a81-8c73-e4798fa099d5",
   "metadata": {
    "tags": []
   },
   "outputs": [],
   "source": [
    "columns = [\"male\", \"name\", \"Q1_m\",\"Q1_f\", \"Q2_m\",\"Q2_f\"]"
   ]
  },
  {
   "cell_type": "code",
   "execution_count": 13,
   "id": "abde3a4f-299f-4c06-a042-5aab4a269fca",
   "metadata": {
    "tags": []
   },
   "outputs": [
    {
     "data": {
      "text/plain": [
       "['Q1_m', 'Q2_m']"
      ]
     },
     "execution_count": 13,
     "metadata": {},
     "output_type": "execute_result"
    }
   ],
   "source": [
    "[c for c in columns if re.search(r\".?_m\", c)]"
   ]
  },
  {
   "cell_type": "markdown",
   "id": "34615daa-38ba-470b-a4a9-0744afba0803",
   "metadata": {},
   "source": [
    "4. Assume we have a column of email addresses. Create a new indicator variable `icloud` if the user uses an `@icloud` email address."
   ]
  },
  {
   "cell_type": "code",
   "execution_count": 14,
   "id": "41e5bfad-17c2-40af-94f2-517ced50659d",
   "metadata": {
    "tags": []
   },
   "outputs": [],
   "source": [
    "import pandas as pd\n",
    "email = pd.Series([\"aaa@gmail.com\",\"icloud@gmail.com\",\"bbb@icloud.com\"])"
   ]
  },
  {
   "cell_type": "code",
   "execution_count": 15,
   "id": "3d4a38a5-f3b8-46c8-b9f3-13d0b7d9a48e",
   "metadata": {
    "tags": []
   },
   "outputs": [
    {
     "data": {
      "text/plain": [
       "[0, 0, 1]"
      ]
     },
     "execution_count": 15,
     "metadata": {},
     "output_type": "execute_result"
    }
   ],
   "source": [
    "[1 if re.search(r\".+@icloud.com\",e) else 0 for e in email]"
   ]
  },
  {
   "cell_type": "code",
   "execution_count": 16,
   "id": "74092fda-4610-48d7-86f0-20f29dbaf013",
   "metadata": {},
   "outputs": [],
   "source": [
    "s = \"I love      ECO301\""
   ]
  },
  {
   "cell_type": "code",
   "execution_count": 17,
   "id": "fdf529c6-54ff-48d2-bba0-e198acd3323a",
   "metadata": {},
   "outputs": [
    {
     "data": {
      "text/plain": [
       "'I love ECO301'"
      ]
     },
     "execution_count": 17,
     "metadata": {},
     "output_type": "execute_result"
    }
   ],
   "source": [
    "pat = r\"\\s{2,}\"\n",
    "s=re.sub(pat,\" \",s)\n",
    "s"
   ]
  },
  {
   "cell_type": "code",
   "execution_count": 18,
   "id": "daf0ced1-7f80-452e-8e04-a2d005641231",
   "metadata": {},
   "outputs": [
    {
     "data": {
      "text/plain": [
       "['I', 'love', 'ECO301']"
      ]
     },
     "execution_count": 18,
     "metadata": {},
     "output_type": "execute_result"
    }
   ],
   "source": [
    "re.findall(r\"\\w+\",s)"
   ]
  },
  {
   "cell_type": "code",
   "execution_count": 19,
   "id": "a4a22054-8999-4965-aa19-7fbeb572e799",
   "metadata": {},
   "outputs": [
    {
     "data": {
      "text/plain": [
       "True"
      ]
     },
     "execution_count": 19,
     "metadata": {},
     "output_type": "execute_result"
    }
   ],
   "source": [
    "p1 = \"123-566-1111\"\n",
    "pat = r\"[1-9]\\d{2}-\\d{3}-\\d{4}\"\n",
    "bool(re.search(pat,p1))"
   ]
  },
  {
   "cell_type": "code",
   "execution_count": 20,
   "id": "8ae4a625-d27b-4172-b403-4d33eb8f249b",
   "metadata": {},
   "outputs": [
    {
     "data": {
      "text/plain": [
       "['2.5', '2.5']"
      ]
     },
     "execution_count": 20,
     "metadata": {},
     "output_type": "execute_result"
    }
   ],
   "source": [
    "ls=[\"2.5%\", \"2.5 APR\"]\n",
    "pat = r\"\\d+.\\d*\"\n",
    "\n",
    "[re.search(pat,r).group(0) for r in ls if re.search(pat, r)]"
   ]
  }
 ],
 "metadata": {
  "kernelspec": {
   "display_name": "Python 3 (ipykernel)",
   "language": "python",
   "name": "python3"
  },
  "language_info": {
   "codemirror_mode": {
    "name": "ipython",
    "version": 3
   },
   "file_extension": ".py",
   "mimetype": "text/x-python",
   "name": "python",
   "nbconvert_exporter": "python",
   "pygments_lexer": "ipython3",
   "version": "3.8.8"
  }
 },
 "nbformat": 4,
 "nbformat_minor": 5
}
