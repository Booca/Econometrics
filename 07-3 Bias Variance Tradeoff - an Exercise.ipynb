{
 "cells": [
  {
   "cell_type": "markdown",
   "id": "a7aeaba5-2a56-4c6f-8df5-39d08fda83c8",
   "metadata": {},
   "source": [
    "# 7-3 Bias Variance Tradeoff - an Exercise"
   ]
  },
  {
   "cell_type": "markdown",
   "id": "7a50c7f4-5a9f-4236-808b-95da375da739",
   "metadata": {},
   "source": [
    "Assume $y = 1 + 2x_1 + 3x_2 + 4 x_3 + u$, and $u\\sim \\mathcal{N}(0,1)$. We also know that $x_3\\sim U(1,10)$ is independent of both $x_1$ and $x_2$, while $x_1$ and $x_2$ are correlated and satisfies a bivariate normal distribution with \n",
    "$$\\mu= \\begin{bmatrix} 0 \\\\ 0\\end{bmatrix}$$\n",
    "and\n",
    "$$\\Sigma = \\begin{bmatrix} 4&5 \\\\ 5&9 \\end{bmatrix}$$"
   ]
  },
  {
   "cell_type": "markdown",
   "id": "d7556e15-c154-426d-9b98-7e8d3918be70",
   "metadata": {},
   "source": [
    "1. Generate a sample with 1000 observations. \\\n",
    "You can use `np.random.uniform` to generate $x_3$.\\\n",
    "use `np.random.multivariate_norm` to generate $x_1$ and $x_2$, \\\n",
    "use `np.random.randn` to generate u."
   ]
  },
  {
   "cell_type": "markdown",
   "id": "6e699cd0-cfa3-4962-a053-74d68b4431e4",
   "metadata": {},
   "source": [
    "For reproducibility, add `np.random.seed(1)`."
   ]
  },
  {
   "cell_type": "code",
   "execution_count": 12,
   "id": "844273b2-1a12-4880-b6c3-94b2d04cef6a",
   "metadata": {
    "tags": []
   },
   "outputs": [
    {
     "data": {
      "text/html": [
       "<div>\n",
       "<style scoped>\n",
       "    .dataframe tbody tr th:only-of-type {\n",
       "        vertical-align: middle;\n",
       "    }\n",
       "\n",
       "    .dataframe tbody tr th {\n",
       "        vertical-align: top;\n",
       "    }\n",
       "\n",
       "    .dataframe thead th {\n",
       "        text-align: right;\n",
       "    }\n",
       "</style>\n",
       "<table border=\"1\" class=\"dataframe\">\n",
       "  <thead>\n",
       "    <tr style=\"text-align: right;\">\n",
       "      <th></th>\n",
       "      <th>x1</th>\n",
       "      <th>x2</th>\n",
       "      <th>x3</th>\n",
       "      <th>u</th>\n",
       "      <th>y</th>\n",
       "    </tr>\n",
       "  </thead>\n",
       "  <tbody>\n",
       "    <tr>\n",
       "      <th>0</th>\n",
       "      <td>-1.063260</td>\n",
       "      <td>-2.308605</td>\n",
       "      <td>4.753198</td>\n",
       "      <td>0.296370</td>\n",
       "      <td>11.256825</td>\n",
       "    </tr>\n",
       "    <tr>\n",
       "      <th>1</th>\n",
       "      <td>-2.121900</td>\n",
       "      <td>-2.017276</td>\n",
       "      <td>7.482920</td>\n",
       "      <td>0.000008</td>\n",
       "      <td>20.636062</td>\n",
       "    </tr>\n",
       "    <tr>\n",
       "      <th>2</th>\n",
       "      <td>2.801666</td>\n",
       "      <td>4.252892</td>\n",
       "      <td>1.001029</td>\n",
       "      <td>-0.034211</td>\n",
       "      <td>23.331915</td>\n",
       "    </tr>\n",
       "    <tr>\n",
       "      <th>3</th>\n",
       "      <td>0.361978</td>\n",
       "      <td>0.154109</td>\n",
       "      <td>3.720993</td>\n",
       "      <td>-0.281499</td>\n",
       "      <td>16.788755</td>\n",
       "    </tr>\n",
       "    <tr>\n",
       "      <th>4</th>\n",
       "      <td>-0.120881</td>\n",
       "      <td>3.163531</td>\n",
       "      <td>2.320803</td>\n",
       "      <td>0.580178</td>\n",
       "      <td>20.112220</td>\n",
       "    </tr>\n",
       "  </tbody>\n",
       "</table>\n",
       "</div>"
      ],
      "text/plain": [
       "         x1        x2        x3         u          y\n",
       "0 -1.063260 -2.308605  4.753198  0.296370  11.256825\n",
       "1 -2.121900 -2.017276  7.482920  0.000008  20.636062\n",
       "2  2.801666  4.252892  1.001029 -0.034211  23.331915\n",
       "3  0.361978  0.154109  3.720993 -0.281499  16.788755\n",
       "4 -0.120881  3.163531  2.320803  0.580178  20.112220"
      ]
     },
     "execution_count": 12,
     "metadata": {},
     "output_type": "execute_result"
    }
   ],
   "source": [
    "import numpy as np\n",
    "import pandas as pd\n",
    "\n",
    "\n",
    "np.random.seed(1)\n",
    "x3 = np.random.uniform(1,10,1000)\n",
    "X12 = np.random.multivariate_normal([0,0],[[4,5],[5,9]],1000)\n",
    "u = np.random.randn(1000)\n",
    "\n",
    "\n",
    "df = pd.DataFrame({\"x1\":X12[:,0], \"x2\":X12[:,1],\"x3\":x3, \"u\":u})\n",
    "\n",
    "df[\"y\"] = 1 + 2*df[\"x1\"]+ 3* df[\"x2\"]+ 4*df[\"x3\"]+df[\"u\"]\n",
    "\n",
    "df.head()"
   ]
  },
  {
   "cell_type": "markdown",
   "id": "8f7504db-c237-44d7-8b09-d25634aa91d5",
   "metadata": {},
   "source": [
    "2. Regress y on x1, x2, and x3, and obtain the estimates."
   ]
  },
  {
   "cell_type": "code",
   "execution_count": 22,
   "id": "f584be03-049a-486b-b842-bde15a5ebe16",
   "metadata": {
    "collapsed": true,
    "jupyter": {
     "outputs_hidden": true,
     "source_hidden": true
    },
    "tags": []
   },
   "outputs": [
    {
     "data": {
      "text/plain": [
       "Intercept    0.921935\n",
       "x1           2.021681\n",
       "x2           2.994631\n",
       "x3           4.011834\n",
       "dtype: float64"
      ]
     },
     "execution_count": 22,
     "metadata": {},
     "output_type": "execute_result"
    }
   ],
   "source": [
    "import statsmodels.formula.api as smf\n",
    "reg = smf.ols(\"y~x1 + x2 + x3\", data = df)\n",
    "res = reg.fit()\n",
    "res.params"
   ]
  },
  {
   "cell_type": "markdown",
   "id": "daf02736-4a25-49a6-9f13-7226982e7710",
   "metadata": {},
   "source": [
    "3. If we omitted a key variable x2, what will happen to the estimated coefficient on x1? What about the coefficient on x3? What about the estimated constant? "
   ]
  },
  {
   "cell_type": "code",
   "execution_count": 23,
   "id": "3d588f15-bdce-4292-a104-284d4d0a5d93",
   "metadata": {
    "collapsed": true,
    "jupyter": {
     "outputs_hidden": true,
     "source_hidden": true
    },
    "tags": []
   },
   "outputs": [
    {
     "data": {
      "text/plain": [
       "Intercept    1.122309\n",
       "x1           5.837949\n",
       "x3           3.965432\n",
       "dtype: float64"
      ]
     },
     "execution_count": 23,
     "metadata": {},
     "output_type": "execute_result"
    }
   ],
   "source": [
    "reg2 = smf.ols(\"y~x1+x3\", data=df)\n",
    "res2 = reg2.fit()\n",
    "res2.params"
   ]
  },
  {
   "cell_type": "markdown",
   "id": "efc078b1-f2ca-408b-84be-32c1bfef6c35",
   "metadata": {},
   "source": [
    "4. If we omitted a key variable x3, what will happen to the estimated coefficient on x1? What about the standard error of $\\hat{\\beta_1}$"
   ]
  },
  {
   "cell_type": "code",
   "execution_count": 24,
   "id": "664993b6-2c9b-40cb-92d9-08e2cfb082f4",
   "metadata": {
    "collapsed": true,
    "jupyter": {
     "outputs_hidden": true,
     "source_hidden": true
    },
    "tags": []
   },
   "outputs": [
    {
     "data": {
      "text/plain": [
       "Intercept    22.990205\n",
       "x1            1.938675\n",
       "x2            2.840492\n",
       "dtype: float64"
      ]
     },
     "execution_count": 24,
     "metadata": {},
     "output_type": "execute_result"
    }
   ],
   "source": [
    "reg3 = smf.ols(\"y~x1+x2\", data=df)\n",
    "res3 = reg3.fit()\n",
    "res3.params"
   ]
  },
  {
   "cell_type": "code",
   "execution_count": 25,
   "id": "acca447b-4cb1-485f-9782-bb7409c1a581",
   "metadata": {
    "collapsed": true,
    "jupyter": {
     "outputs_hidden": true,
     "source_hidden": true
    },
    "tags": []
   },
   "outputs": [
    {
     "data": {
      "text/plain": [
       "Intercept    0.330763\n",
       "x1           0.304058\n",
       "x2           0.200900\n",
       "dtype: float64"
      ]
     },
     "execution_count": 25,
     "metadata": {},
     "output_type": "execute_result"
    }
   ],
   "source": [
    "res3.bse"
   ]
  },
  {
   "cell_type": "code",
   "execution_count": 26,
   "id": "f22facd9-c8b0-4d2b-9e76-f82849f6b412",
   "metadata": {
    "collapsed": true,
    "jupyter": {
     "outputs_hidden": true,
     "source_hidden": true
    },
    "tags": []
   },
   "outputs": [
    {
     "data": {
      "text/plain": [
       "Intercept    0.072874\n",
       "x1           0.028554\n",
       "x2           0.018871\n",
       "x3           0.011984\n",
       "dtype: float64"
      ]
     },
     "execution_count": 26,
     "metadata": {},
     "output_type": "execute_result"
    }
   ],
   "source": [
    "res.bse"
   ]
  },
  {
   "cell_type": "markdown",
   "id": "506463b8-d14c-472e-85f2-d3ca53228bb1",
   "metadata": {},
   "source": [
    "5. To avoid biased estimations, you regress y on x1, x2, x3, and $x_3^2$. Add the `x3sq` column to the df, and run a new regression. Comment on your findings."
   ]
  },
  {
   "cell_type": "code",
   "execution_count": 27,
   "id": "9c6abe3a-7cf4-420a-aa8d-3825a19823e3",
   "metadata": {
    "jupyter": {
     "source_hidden": true
    },
    "tags": []
   },
   "outputs": [],
   "source": [
    "df[\"x3sq\"] = df[\"x3\"]**2"
   ]
  },
  {
   "cell_type": "code",
   "execution_count": 28,
   "id": "c61dbf94-5cbe-4871-bdff-1481d01bef45",
   "metadata": {
    "collapsed": true,
    "jupyter": {
     "outputs_hidden": true,
     "source_hidden": true
    },
    "tags": []
   },
   "outputs": [
    {
     "data": {
      "text/plain": [
       "Intercept    0.841531\n",
       "x1           2.022856\n",
       "x2           2.993615\n",
       "x3           4.049749\n",
       "x3sq        -0.003465\n",
       "dtype: float64"
      ]
     },
     "execution_count": 28,
     "metadata": {},
     "output_type": "execute_result"
    }
   ],
   "source": [
    "reg4 = smf.ols(\"y~x1+x2+x3+x3sq\", data=df)\n",
    "res4 = reg4.fit()\n",
    "res4.params"
   ]
  },
  {
   "cell_type": "code",
   "execution_count": 29,
   "id": "a3b37d51-3f52-4e84-b4af-4fc5826bd735",
   "metadata": {
    "collapsed": true,
    "jupyter": {
     "outputs_hidden": true,
     "source_hidden": true
    },
    "tags": []
   },
   "outputs": [
    {
     "data": {
      "text/plain": [
       "Intercept    0.139316\n",
       "x1           0.028615\n",
       "x2           0.018936\n",
       "x3           0.057253\n",
       "x3sq         0.005116\n",
       "dtype: float64"
      ]
     },
     "execution_count": 29,
     "metadata": {},
     "output_type": "execute_result"
    }
   ],
   "source": [
    "res4.bse"
   ]
  },
  {
   "cell_type": "markdown",
   "id": "3382febb-888b-4663-a9f5-e5e406368794",
   "metadata": {},
   "source": [
    "6. What if we add in a variable x4 that is euqal to $x1+x2+x3$."
   ]
  },
  {
   "cell_type": "code",
   "execution_count": 65,
   "id": "e8127e16-69d9-4764-9348-327c0de504b8",
   "metadata": {
    "jupyter": {
     "source_hidden": true
    },
    "tags": []
   },
   "outputs": [],
   "source": [
    "e = np.random.randn(1000)\n",
    "df[\"x4\"] = df[\"x1\"] + df[\"x2\"] +df[\"x3\"]"
   ]
  },
  {
   "cell_type": "code",
   "execution_count": 66,
   "id": "807f88a3-1416-4035-99fd-07e1eede290b",
   "metadata": {
    "collapsed": true,
    "jupyter": {
     "outputs_hidden": true,
     "source_hidden": true
    },
    "tags": []
   },
   "outputs": [
    {
     "data": {
      "text/html": [
       "<table class=\"simpletable\">\n",
       "<caption>OLS Regression Results</caption>\n",
       "<tr>\n",
       "  <th>Dep. Variable:</th>            <td>y</td>        <th>  R-squared:         </th> <td>   0.996</td> \n",
       "</tr>\n",
       "<tr>\n",
       "  <th>Model:</th>                   <td>OLS</td>       <th>  Adj. R-squared:    </th> <td>   0.996</td> \n",
       "</tr>\n",
       "<tr>\n",
       "  <th>Method:</th>             <td>Least Squares</td>  <th>  F-statistic:       </th> <td>8.855e+04</td>\n",
       "</tr>\n",
       "<tr>\n",
       "  <th>Date:</th>             <td>Mon, 21 Mar 2022</td> <th>  Prob (F-statistic):</th>  <td>  0.00</td>  \n",
       "</tr>\n",
       "<tr>\n",
       "  <th>Time:</th>                 <td>13:34:39</td>     <th>  Log-Likelihood:    </th> <td> -1398.6</td> \n",
       "</tr>\n",
       "<tr>\n",
       "  <th>No. Observations:</th>      <td>  1000</td>      <th>  AIC:               </th> <td>   2805.</td> \n",
       "</tr>\n",
       "<tr>\n",
       "  <th>Df Residuals:</th>          <td>   996</td>      <th>  BIC:               </th> <td>   2825.</td> \n",
       "</tr>\n",
       "<tr>\n",
       "  <th>Df Model:</th>              <td>     3</td>      <th>                     </th>     <td> </td>    \n",
       "</tr>\n",
       "<tr>\n",
       "  <th>Covariance Type:</th>      <td>nonrobust</td>    <th>                     </th>     <td> </td>    \n",
       "</tr>\n",
       "</table>\n",
       "<table class=\"simpletable\">\n",
       "<tr>\n",
       "      <td></td>         <th>coef</th>     <th>std err</th>      <th>t</th>      <th>P>|t|</th>  <th>[0.025</th>    <th>0.975]</th>  \n",
       "</tr>\n",
       "<tr>\n",
       "  <th>Intercept</th> <td>    0.9219</td> <td>    0.073</td> <td>   12.651</td> <td> 0.000</td> <td>    0.779</td> <td>    1.065</td>\n",
       "</tr>\n",
       "<tr>\n",
       "  <th>x1</th>        <td>   -0.2354</td> <td>    0.026</td> <td>   -9.164</td> <td> 0.000</td> <td>   -0.286</td> <td>   -0.185</td>\n",
       "</tr>\n",
       "<tr>\n",
       "  <th>x2</th>        <td>    0.7376</td> <td>    0.021</td> <td>   35.622</td> <td> 0.000</td> <td>    0.697</td> <td>    0.778</td>\n",
       "</tr>\n",
       "<tr>\n",
       "  <th>x3</th>        <td>    1.7548</td> <td>    0.010</td> <td>  180.905</td> <td> 0.000</td> <td>    1.736</td> <td>    1.774</td>\n",
       "</tr>\n",
       "<tr>\n",
       "  <th>x4</th>        <td>    2.2570</td> <td>    0.005</td> <td>  438.244</td> <td> 0.000</td> <td>    2.247</td> <td>    2.267</td>\n",
       "</tr>\n",
       "</table>\n",
       "<table class=\"simpletable\">\n",
       "<tr>\n",
       "  <th>Omnibus:</th>       <td> 0.880</td> <th>  Durbin-Watson:     </th> <td>   1.938</td>\n",
       "</tr>\n",
       "<tr>\n",
       "  <th>Prob(Omnibus):</th> <td> 0.644</td> <th>  Jarque-Bera (JB):  </th> <td>   0.923</td>\n",
       "</tr>\n",
       "<tr>\n",
       "  <th>Skew:</th>          <td> 0.070</td> <th>  Prob(JB):          </th> <td>   0.630</td>\n",
       "</tr>\n",
       "<tr>\n",
       "  <th>Kurtosis:</th>      <td> 2.952</td> <th>  Cond. No.          </th> <td>2.05e+16</td>\n",
       "</tr>\n",
       "</table><br/><br/>Notes:<br/>[1] Standard Errors assume that the covariance matrix of the errors is correctly specified.<br/>[2] The smallest eigenvalue is 2.06e-28. This might indicate that there are<br/>strong multicollinearity problems or that the design matrix is singular."
      ],
      "text/plain": [
       "<class 'statsmodels.iolib.summary.Summary'>\n",
       "\"\"\"\n",
       "                            OLS Regression Results                            \n",
       "==============================================================================\n",
       "Dep. Variable:                      y   R-squared:                       0.996\n",
       "Model:                            OLS   Adj. R-squared:                  0.996\n",
       "Method:                 Least Squares   F-statistic:                 8.855e+04\n",
       "Date:                Mon, 21 Mar 2022   Prob (F-statistic):               0.00\n",
       "Time:                        13:34:39   Log-Likelihood:                -1398.6\n",
       "No. Observations:                1000   AIC:                             2805.\n",
       "Df Residuals:                     996   BIC:                             2825.\n",
       "Df Model:                           3                                         \n",
       "Covariance Type:            nonrobust                                         \n",
       "==============================================================================\n",
       "                 coef    std err          t      P>|t|      [0.025      0.975]\n",
       "------------------------------------------------------------------------------\n",
       "Intercept      0.9219      0.073     12.651      0.000       0.779       1.065\n",
       "x1            -0.2354      0.026     -9.164      0.000      -0.286      -0.185\n",
       "x2             0.7376      0.021     35.622      0.000       0.697       0.778\n",
       "x3             1.7548      0.010    180.905      0.000       1.736       1.774\n",
       "x4             2.2570      0.005    438.244      0.000       2.247       2.267\n",
       "==============================================================================\n",
       "Omnibus:                        0.880   Durbin-Watson:                   1.938\n",
       "Prob(Omnibus):                  0.644   Jarque-Bera (JB):                0.923\n",
       "Skew:                           0.070   Prob(JB):                        0.630\n",
       "Kurtosis:                       2.952   Cond. No.                     2.05e+16\n",
       "==============================================================================\n",
       "\n",
       "Notes:\n",
       "[1] Standard Errors assume that the covariance matrix of the errors is correctly specified.\n",
       "[2] The smallest eigenvalue is 2.06e-28. This might indicate that there are\n",
       "strong multicollinearity problems or that the design matrix is singular.\n",
       "\"\"\""
      ]
     },
     "execution_count": 66,
     "metadata": {},
     "output_type": "execute_result"
    }
   ],
   "source": [
    "reg5 = smf.ols(\"y~x1+x2+x3+x3+x4\", df)\n",
    "res5 = reg5.fit()\n",
    "res5.summary()"
   ]
  }
 ],
 "metadata": {
  "kernelspec": {
   "display_name": "Python 3 (ipykernel)",
   "language": "python",
   "name": "python3"
  },
  "language_info": {
   "codemirror_mode": {
    "name": "ipython",
    "version": 3
   },
   "file_extension": ".py",
   "mimetype": "text/x-python",
   "name": "python",
   "nbconvert_exporter": "python",
   "pygments_lexer": "ipython3",
   "version": "3.8.8"
  }
 },
 "nbformat": 4,
 "nbformat_minor": 5
}
