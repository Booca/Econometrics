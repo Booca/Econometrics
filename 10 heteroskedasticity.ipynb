{
 "cells": [
  {
   "cell_type": "markdown",
   "id": "44c5b8f9-b838-4fac-a33f-10b4a910b286",
   "metadata": {},
   "source": [
    "# Heteroskedasticity\n",
    "\n",
    "In Gauss-Markov assumptions, we assume $u_i$ are independently and identically distributed. This assumption is used to derive the formula of the standard error of $\\hat{\\beta}$.\n",
    "\n",
    "If $u_i$ are not identical, i.e. $u_i \\sim N(0, \\sigma_i^2)$ where $\\sigma_i$ varies in i, we say that error terms are **heteroskedastic** and call the corresponding issue heteroskedasticity.\n",
    "\n",
    "![hetero](./images/heteroskedasticity.jpeg)\n",
    "\n",
    "\n",
    "Under heteroskedasticity, the variance covariance matrix of $\\hat{\\beta}$ is no longer equal to $\\sigma^2(X^TX)^{-1}$. So all inferences that rely on the standard error of $\\hat{\\beta}$ - for example, t test and F test - would be invalid. "
   ]
  },
  {
   "cell_type": "markdown",
   "id": "dd39b363-d4ad-4868-9c5e-e88f7fd93b32",
   "metadata": {},
   "source": [
    "The remedy, though, is also intuitive - find the right variance covariance matrix of $\\hat{\\beta}$. With $cov(\\vec{\\sigma},\\vec{\\sigma}) = \\Omega$, \n",
    "\n",
    "$$cov(\\hat\\beta,\\hat\\beta) = (X^TX)^{-1}X^T\\Omega X(X^TX)^{-1}$$\n",
    "\n",
    "This is known as the heteroskedasticity-consistent (HC) standard errors or heteroskedasticity-robust standard errors (or simply robust standard errors)."
   ]
  },
  {
   "cell_type": "markdown",
   "id": "046feae8-ecbb-4ae9-86a5-282a46bfc555",
   "metadata": {},
   "source": [
    "In most cases $\\Omega$ is unknown, therefore we need to estimate this matrix using the residuals $\\hat{u_i}$. Different method used to the estimate this matrix leads to various version of robust standard errors.\n",
    "\n"
   ]
  },
  {
   "cell_type": "markdown",
   "id": "86cccab6-d2b3-4cd2-ba10-326e10ddefdc",
   "metadata": {},
   "source": [
    "Wooldridge (section 8.2) presents formulas for heteroskedasticity-robust standard errors. In **statsmodels**, an easy way to do these calculations is to make use of the argument cov_type in the method **fit**.  The argument **cov_type** can produce several refined versions of robust standard errors.\n",
    "\n",
    "If the regression model obtained by **ols** is stored in the variable **reg**, the variance-covariance matrix can be calculated using\n",
    "\n",
    "- **reg.fit(cov_type=\"nonrobust\")** or **reg.fit()** for the default homoscedasticity-based standard errors.\n",
    "- **reg.fit(cov_type=\"HC0\")** for the calssical version of White's robust varaince-covariance matrix presented by Wooldridge (Equation 8.4 in Section 8.2)\n",
    "- **reg.fit(cov_type=\"HC1\")** for a version of White's robust variance-covariance matrix corrected by degrees of freedom.\n",
    "- **reg.fit(cov_type=\"HC2\")** for a version with a small sample correction. This is the default behavior of *Stata*.\n",
    "- **reg.fit(cov_type=\"HC3\")** for the refined version of White's robust variance-covariance matrix.\n",
    "\n",
    "> In the exam, you an use any of these HC standard errors."
   ]
  },
  {
   "cell_type": "markdown",
   "id": "094b3775-720d-43bb-aab4-b06ea9801b11",
   "metadata": {
    "tags": []
   },
   "source": [
    "### Example\n",
    "\n",
    "1. As an example, let's import the gpa3 dataset from wooldridge and regress cumgpa on sat, hsperc, tothrs, female, black, white.\n",
    "\n",
    "2. In addition, we will use the **subset** argument to use only results from the spring term."
   ]
  },
  {
   "cell_type": "code",
   "execution_count": 16,
   "id": "183fac2f-72c6-47e4-a771-aceff5932d5b",
   "metadata": {},
   "outputs": [],
   "source": [
    "import wooldridge as woo\n",
    "\n",
    "df = woo.data(\"gpa3\")\n",
    "df2 = df.loc[df[\"term\"]==2]"
   ]
  },
  {
   "cell_type": "code",
   "execution_count": 19,
   "id": "1b94acfe-57de-4d60-8846-8335909e151b",
   "metadata": {},
   "outputs": [
    {
     "data": {
      "text/html": [
       "<table class=\"simpletable\">\n",
       "<caption>OLS Regression Results</caption>\n",
       "<tr>\n",
       "  <th>Dep. Variable:</th>         <td>cumgpa</td>      <th>  R-squared:         </th> <td>   0.332</td>\n",
       "</tr>\n",
       "<tr>\n",
       "  <th>Model:</th>                   <td>OLS</td>       <th>  Adj. R-squared:    </th> <td>   0.323</td>\n",
       "</tr>\n",
       "<tr>\n",
       "  <th>Method:</th>             <td>Least Squares</td>  <th>  F-statistic:       </th> <td>   35.85</td>\n",
       "</tr>\n",
       "<tr>\n",
       "  <th>Date:</th>             <td>Thu, 31 Mar 2022</td> <th>  Prob (F-statistic):</th> <td>9.22e-30</td>\n",
       "</tr>\n",
       "<tr>\n",
       "  <th>Time:</th>                 <td>12:25:43</td>     <th>  Log-Likelihood:    </th> <td> -258.61</td>\n",
       "</tr>\n",
       "<tr>\n",
       "  <th>No. Observations:</th>      <td>   366</td>      <th>  AIC:               </th> <td>   529.2</td>\n",
       "</tr>\n",
       "<tr>\n",
       "  <th>Df Residuals:</th>          <td>   360</td>      <th>  BIC:               </th> <td>   552.6</td>\n",
       "</tr>\n",
       "<tr>\n",
       "  <th>Df Model:</th>              <td>     5</td>      <th>                     </th>     <td> </td>   \n",
       "</tr>\n",
       "<tr>\n",
       "  <th>Covariance Type:</th>      <td>nonrobust</td>    <th>                     </th>     <td> </td>   \n",
       "</tr>\n",
       "</table>\n",
       "<table class=\"simpletable\">\n",
       "<tr>\n",
       "      <td></td>         <th>coef</th>     <th>std err</th>      <th>t</th>      <th>P>|t|</th>  <th>[0.025</th>    <th>0.975]</th>  \n",
       "</tr>\n",
       "<tr>\n",
       "  <th>Intercept</th> <td>    2.5592</td> <td>    0.162</td> <td>   15.760</td> <td> 0.000</td> <td>    2.240</td> <td>    2.879</td>\n",
       "</tr>\n",
       "<tr>\n",
       "  <th>hsperc</th>    <td>   -0.0114</td> <td>    0.001</td> <td>   -9.370</td> <td> 0.000</td> <td>   -0.014</td> <td>   -0.009</td>\n",
       "</tr>\n",
       "<tr>\n",
       "  <th>tothrs</th>    <td>    0.0018</td> <td>    0.001</td> <td>    2.378</td> <td> 0.018</td> <td>    0.000</td> <td>    0.003</td>\n",
       "</tr>\n",
       "<tr>\n",
       "  <th>female</th>    <td>    0.2843</td> <td>    0.062</td> <td>    4.576</td> <td> 0.000</td> <td>    0.162</td> <td>    0.406</td>\n",
       "</tr>\n",
       "<tr>\n",
       "  <th>black</th>     <td>   -0.2003</td> <td>    0.155</td> <td>   -1.294</td> <td> 0.197</td> <td>   -0.505</td> <td>    0.104</td>\n",
       "</tr>\n",
       "<tr>\n",
       "  <th>white</th>     <td>    0.0649</td> <td>    0.147</td> <td>    0.441</td> <td> 0.660</td> <td>   -0.225</td> <td>    0.354</td>\n",
       "</tr>\n",
       "</table>\n",
       "<table class=\"simpletable\">\n",
       "<tr>\n",
       "  <th>Omnibus:</th>       <td> 5.998</td> <th>  Durbin-Watson:     </th> <td>   1.915</td>\n",
       "</tr>\n",
       "<tr>\n",
       "  <th>Prob(Omnibus):</th> <td> 0.050</td> <th>  Jarque-Bera (JB):  </th> <td>   7.596</td>\n",
       "</tr>\n",
       "<tr>\n",
       "  <th>Skew:</th>          <td> 0.134</td> <th>  Prob(JB):          </th> <td>  0.0224</td>\n",
       "</tr>\n",
       "<tr>\n",
       "  <th>Kurtosis:</th>      <td> 3.653</td> <th>  Cond. No.          </th> <td>    709.</td>\n",
       "</tr>\n",
       "</table><br/><br/>Notes:<br/>[1] Standard Errors assume that the covariance matrix of the errors is correctly specified."
      ],
      "text/plain": [
       "<class 'statsmodels.iolib.summary.Summary'>\n",
       "\"\"\"\n",
       "                            OLS Regression Results                            \n",
       "==============================================================================\n",
       "Dep. Variable:                 cumgpa   R-squared:                       0.332\n",
       "Model:                            OLS   Adj. R-squared:                  0.323\n",
       "Method:                 Least Squares   F-statistic:                     35.85\n",
       "Date:                Thu, 31 Mar 2022   Prob (F-statistic):           9.22e-30\n",
       "Time:                        12:25:43   Log-Likelihood:                -258.61\n",
       "No. Observations:                 366   AIC:                             529.2\n",
       "Df Residuals:                     360   BIC:                             552.6\n",
       "Df Model:                           5                                         \n",
       "Covariance Type:            nonrobust                                         \n",
       "==============================================================================\n",
       "                 coef    std err          t      P>|t|      [0.025      0.975]\n",
       "------------------------------------------------------------------------------\n",
       "Intercept      2.5592      0.162     15.760      0.000       2.240       2.879\n",
       "hsperc        -0.0114      0.001     -9.370      0.000      -0.014      -0.009\n",
       "tothrs         0.0018      0.001      2.378      0.018       0.000       0.003\n",
       "female         0.2843      0.062      4.576      0.000       0.162       0.406\n",
       "black         -0.2003      0.155     -1.294      0.197      -0.505       0.104\n",
       "white          0.0649      0.147      0.441      0.660      -0.225       0.354\n",
       "==============================================================================\n",
       "Omnibus:                        5.998   Durbin-Watson:                   1.915\n",
       "Prob(Omnibus):                  0.050   Jarque-Bera (JB):                7.596\n",
       "Skew:                           0.134   Prob(JB):                       0.0224\n",
       "Kurtosis:                       3.653   Cond. No.                         709.\n",
       "==============================================================================\n",
       "\n",
       "Notes:\n",
       "[1] Standard Errors assume that the covariance matrix of the errors is correctly specified.\n",
       "\"\"\""
      ]
     },
     "execution_count": 19,
     "metadata": {},
     "output_type": "execute_result"
    }
   ],
   "source": [
    "import statsmodels.formula.api as smf\n",
    "reg = smf.ols(\"cumgpa~hsperc+tothrs+female+black+white\",data=df2)\n",
    "res = reg.fit()\n",
    "res.summary()"
   ]
  },
  {
   "cell_type": "code",
   "execution_count": 1,
   "id": "cc047e5d-b7f5-42c7-812f-eb43e2d764a8",
   "metadata": {
    "collapsed": true,
    "jupyter": {
     "outputs_hidden": true,
     "source_hidden": true
    },
    "tags": []
   },
   "outputs": [
    {
     "name": "stdout",
     "output_type": "stream",
     "text": [
      "                            OLS Regression Results                            \n",
      "==============================================================================\n",
      "Dep. Variable:                 cumgpa   R-squared:                       0.202\n",
      "Model:                            OLS   Adj. R-squared:                  0.200\n",
      "Method:                 Least Squares   F-statistic:                     92.02\n",
      "Date:                Wed, 30 Mar 2022   Prob (F-statistic):           1.41e-19\n",
      "Time:                        11:57:41   Log-Likelihood:                -291.31\n",
      "No. Observations:                 366   AIC:                             586.6\n",
      "Df Residuals:                     364   BIC:                             594.4\n",
      "Df Model:                           1                                         \n",
      "Covariance Type:            nonrobust                                         \n",
      "==============================================================================\n",
      "                 coef    std err          t      P>|t|      [0.025      0.975]\n",
      "------------------------------------------------------------------------------\n",
      "Intercept      0.8919      0.153      5.831      0.000       0.591       1.193\n",
      "sat            0.0016      0.000      9.593      0.000       0.001       0.002\n",
      "==============================================================================\n",
      "Omnibus:                       16.184   Durbin-Watson:                   1.718\n",
      "Prob(Omnibus):                  0.000   Jarque-Bera (JB):               22.588\n",
      "Skew:                          -0.354   Prob(JB):                     1.24e-05\n",
      "Kurtosis:                       3.989   Cond. No.                     4.98e+03\n",
      "==============================================================================\n",
      "\n",
      "Notes:\n",
      "[1] Standard Errors assume that the covariance matrix of the errors is correctly specified.\n",
      "[2] The condition number is large, 4.98e+03. This might indicate that there are\n",
      "strong multicollinearity or other numerical problems.\n"
     ]
    }
   ],
   "source": [
    "import statsmodels.formula.api as smf\n",
    "import wooldridge as woo\n",
    "\n",
    "df = woo.data(\"gpa3\")\n",
    "df2 = df[df[\"spring\"]==1]\n",
    "reg = smf.ols(\"cumgpa~sat\", data=df2)\n",
    "res = reg.fit()\n",
    "print(res.summary())"
   ]
  },
  {
   "cell_type": "markdown",
   "id": "52dfe3cf-2695-4d0d-8258-7313868ab78e",
   "metadata": {
    "tags": []
   },
   "source": [
    "- term: fall = 1, spring = 2\n",
    "- sat: SAT score\n",
    "- tothrs: total hours prior to term\n",
    "- cumgpa: cumulative GPA\n",
    "- season: =1 if in season\n",
    "- frstsem: =1 if student's 1st semester\n",
    "- crsgpa: weighted course GPA\n",
    "- verbmath: verbal SAT to math SAT ratio\n",
    "- trmgpa: term GPA\n",
    "- hssize: size h.s. grad. class\n",
    "- hsrank: rank in h.s. class\n",
    "- id: student identifier\n",
    "- spring: =1 if spring term\n",
    "- female: =1 if female\n",
    "- black: =1 if black\n",
    "- white: =1 if white\n",
    "- ctrmgpa: change in trmgpa\n",
    "- ctothrs: change in total hours\n",
    "- ccrsgpa: change in crsgpa\n",
    "- ccrspop: change in crspop\n",
    "- cseason: change in season\n",
    "- hsperc: percentile in h.s.\n",
    "- football: =1 if football player"
   ]
  },
  {
   "cell_type": "markdown",
   "id": "b3d99b69-3337-46ae-a5de-965642d9ba15",
   "metadata": {},
   "source": [
    "3. Scatter plot cumulative gpa against sat, only use data from the spring terms.\n",
    "\n",
    "4. Plot the regression line in the same graph"
   ]
  },
  {
   "cell_type": "code",
   "execution_count": 24,
   "id": "cdd72ffc-4575-4d5c-9f4c-2750882be9eb",
   "metadata": {},
   "outputs": [],
   "source": [
    "res = smf.ols(\"cumgpa~sat\",data=df2).fit()"
   ]
  },
  {
   "cell_type": "code",
   "execution_count": 26,
   "id": "8617e86d-1bc0-4e32-ba77-b7ee18d6c950",
   "metadata": {},
   "outputs": [
    {
     "data": {
      "image/png": "[encoded data removed]",
      "text/plain": [
       "<Figure size 432x288 with 1 Axes>"
      ]
     },
     "metadata": {
      "needs_background": "light"
     },
     "output_type": "display_data"
    }
   ],
   "source": [
    "import matplotlib.pyplot as plt\n",
    "plt.scatter(df2[\"sat\"],df2[\"cumgpa\"])\n",
    "plt.plot(df2[\"sat\"],res.fittedvalues,c=\"r\")\n",
    "plt.show()"
   ]
  },
  {
   "cell_type": "markdown",
   "id": "c518dc4f-d250-4ef6-957d-5ce78133a2f0",
   "metadata": {},
   "source": [
    "There is apparently heteroskedasticy. To obtain correct standard errors, Let's run another regression, but this time use HC2."
   ]
  },
  {
   "cell_type": "code",
   "execution_count": 27,
   "id": "3d569b5e-0b1a-4052-9cae-a653a2f02006",
   "metadata": {},
   "outputs": [
    {
     "data": {
      "text/plain": [
       "Intercept    0.152949\n",
       "sat          0.000167\n",
       "dtype: float64"
      ]
     },
     "execution_count": 27,
     "metadata": {},
     "output_type": "execute_result"
    }
   ],
   "source": [
    "res.bse"
   ]
  },
  {
   "cell_type": "code",
   "execution_count": 3,
   "id": "7c6499f3-2f52-4fb8-b155-abc1233613cb",
   "metadata": {},
   "outputs": [],
   "source": [
    "res_hc2 = reg.fit(cov_type=\"HC2\")\n",
    "# print(res_hc2.summary())\n",
    "# print(res.summary())"
   ]
  },
  {
   "cell_type": "markdown",
   "id": "9f896307-08f9-4ecf-ac63-88fa5520d674",
   "metadata": {},
   "source": [
    "5. Compare the coefficient from the two regressions, what do you find?"
   ]
  },
  {
   "cell_type": "code",
   "execution_count": 4,
   "id": "0a5e3104-64f4-4d10-8035-79bb809c3a05",
   "metadata": {
    "tags": []
   },
   "outputs": [
    {
     "name": "stdout",
     "output_type": "stream",
     "text": [
      "Intercept    0.891913\n",
      "sat          0.001604\n",
      "dtype: float64\n",
      "Intercept    0.891913\n",
      "sat          0.001604\n",
      "dtype: float64\n"
     ]
    }
   ],
   "source": [
    "print(res.params)\n",
    "print(res_hc2.params)"
   ]
  },
  {
   "cell_type": "markdown",
   "id": "0d8caa8e-92ae-4184-bb90-85bce342eba5",
   "metadata": {},
   "source": [
    "6. Compare the standard errors, what do you find?"
   ]
  },
  {
   "cell_type": "code",
   "execution_count": 5,
   "id": "a3effad7-9c80-4125-a400-8678b65927da",
   "metadata": {},
   "outputs": [
    {
     "name": "stdout",
     "output_type": "stream",
     "text": [
      "Intercept    0.152949\n",
      "sat          0.000167\n",
      "dtype: float64\n",
      "Intercept    0.144230\n",
      "sat          0.000168\n",
      "dtype: float64\n"
     ]
    }
   ],
   "source": [
    "print(res.bse)\n",
    "print(res_hc2.bse)"
   ]
  },
  {
   "cell_type": "markdown",
   "id": "1e14d6dd-0e96-4117-b6bf-46555e8474be",
   "metadata": {},
   "source": [
    "In **most** cases, the robust standard error will be slightly higher than the nonrobust standard error. "
   ]
  },
  {
   "cell_type": "markdown",
   "id": "00af6ec7-e934-40f2-a772-c6ec53be90be",
   "metadata": {},
   "source": [
    "## 8.2 Heteroskedasticity Tests\n",
    "\n",
    "When there is only one regressor, we can graphically display the heteroskedastic error terms. However, in multiple regression, a test statistic could be more useful."
   ]
  },
  {
   "cell_type": "markdown",
   "id": "835c239d-416b-4e48-99ba-869abb37c8cb",
   "metadata": {},
   "source": [
    "The Breusch-Pagan (BP) test for heteroskedasticity is easy to implement with basic OLS routines. After a model\n",
    "\n",
    "$$y = \\beta_0 + \\beta_1 x_1 + \\dots + \\beta_k x_k + u$$\n",
    "\n",
    "is estimated, we obtain the residuals $\\hat{u_i}$ for all observations $i=1,\\dots, n$. We regress their squared value on all independent variables from the original equation. We can either look at the standard F test of overall significance printed for example by the **summary** method. Or we can use an LM test by multiplying the $R^2$ from the second regression with the number of observations. The null hypotheses of both tests are \"there is no heteroskedasticity\".\n",
    "\n",
    "In **statsmodels**, this is done by **sm.stats.diagnostic.het_breuschpagan**. "
   ]
  },
  {
   "cell_type": "code",
   "execution_count": 28,
   "id": "db047817-0601-4927-948a-b8fcd1bcf0be",
   "metadata": {},
   "outputs": [],
   "source": [
    "X = df2[[\"sat\",\"hsperc\"]].to_numpy()\n",
    "X = sm.add_constant(X)"
   ]
  },
  {
   "cell_type": "code",
   "execution_count": 29,
   "id": "6da7bb65-cf90-4233-a42a-8c6642efa02f",
   "metadata": {},
   "outputs": [
    {
     "data": {
      "text/plain": [
       "array([[1.00000000e+00, 9.20000000e+02, 4.00000000e+01],\n",
       "       [1.00000000e+00, 7.80000000e+02, 8.29268265e+01],\n",
       "       [1.00000000e+00, 8.10000000e+02, 3.52941170e+01],\n",
       "       ...,\n",
       "       [1.00000000e+00, 1.17000000e+03, 2.99435024e+01],\n",
       "       [1.00000000e+00, 1.01000000e+03, 5.21739120e+01],\n",
       "       [1.00000000e+00, 7.00000000e+02, 4.00000000e+01]])"
      ]
     },
     "execution_count": 29,
     "metadata": {},
     "output_type": "execute_result"
    }
   ],
   "source": [
    "X"
   ]
  },
  {
   "cell_type": "code",
   "execution_count": 30,
   "id": "2e13d6ef-e367-483d-aa97-55230cf53efa",
   "metadata": {
    "tags": []
   },
   "outputs": [
    {
     "name": "stdout",
     "output_type": "stream",
     "text": [
      "lm_stat  14.459054375802312\n",
      "lm_pval  0.0007248635063763616\n",
      "f_stat  7.4651854979463925\n",
      "F_pval  0.0006649850278499255\n"
     ]
    }
   ],
   "source": [
    "import statsmodels.api as sm\n",
    "import patsy as pt\n",
    "\n",
    "formula = \"cumgpa ~ sat + hsperc\"\n",
    "reg = smf.ols(formula, data=df2)\n",
    "res = reg.fit()\n",
    "y, X = pt.dmatrices(formula, data=df2)\n",
    "bp_test = sm.stats.diagnostic.het_breuschpagan(res.resid, X)\n",
    "\n",
    "#lm_stat nR2\n",
    "print(\"lm_stat \",bp_test[0])\n",
    "\n",
    "#lm_pval\n",
    "print(\"lm_pval \",bp_test[1])\n",
    "      \n",
    "#F_stat \n",
    "print(\"f_stat \", bp_test[2])\n",
    "\n",
    "#F_pval\n",
    "print(\"F_pval \", bp_test[3]) "
   ]
  },
  {
   "cell_type": "code",
   "execution_count": 37,
   "id": "feaf490a-4a63-41a3-939d-bbc05214ccf1",
   "metadata": {},
   "outputs": [
    {
     "data": {
      "text/html": [
       "<table class=\"simpletable\">\n",
       "<caption>OLS Regression Results</caption>\n",
       "<tr>\n",
       "  <th>Dep. Variable:</th>          <td>u_h2</td>       <th>  R-squared:         </th> <td>   0.040</td>\n",
       "</tr>\n",
       "<tr>\n",
       "  <th>Model:</th>                   <td>OLS</td>       <th>  Adj. R-squared:    </th> <td>   0.034</td>\n",
       "</tr>\n",
       "<tr>\n",
       "  <th>Method:</th>             <td>Least Squares</td>  <th>  F-statistic:       </th> <td>   7.465</td>\n",
       "</tr>\n",
       "<tr>\n",
       "  <th>Date:</th>             <td>Thu, 31 Mar 2022</td> <th>  Prob (F-statistic):</th> <td>0.000665</td>\n",
       "</tr>\n",
       "<tr>\n",
       "  <th>Time:</th>                 <td>13:20:10</td>     <th>  Log-Likelihood:    </th> <td> -165.24</td>\n",
       "</tr>\n",
       "<tr>\n",
       "  <th>No. Observations:</th>      <td>   366</td>      <th>  AIC:               </th> <td>   336.5</td>\n",
       "</tr>\n",
       "<tr>\n",
       "  <th>Df Residuals:</th>          <td>   363</td>      <th>  BIC:               </th> <td>   348.2</td>\n",
       "</tr>\n",
       "<tr>\n",
       "  <th>Df Model:</th>              <td>     2</td>      <th>                     </th>     <td> </td>   \n",
       "</tr>\n",
       "<tr>\n",
       "  <th>Covariance Type:</th>      <td>nonrobust</td>    <th>                     </th>     <td> </td>   \n",
       "</tr>\n",
       "</table>\n",
       "<table class=\"simpletable\">\n",
       "<tr>\n",
       "      <td></td>         <th>coef</th>     <th>std err</th>      <th>t</th>      <th>P>|t|</th>  <th>[0.025</th>    <th>0.975]</th>  \n",
       "</tr>\n",
       "<tr>\n",
       "  <th>Intercept</th> <td>   -0.2633</td> <td>    0.132</td> <td>   -1.992</td> <td> 0.047</td> <td>   -0.523</td> <td>   -0.003</td>\n",
       "</tr>\n",
       "<tr>\n",
       "  <th>sat</th>       <td>    0.0005</td> <td>    0.000</td> <td>    3.814</td> <td> 0.000</td> <td>    0.000</td> <td>    0.001</td>\n",
       "</tr>\n",
       "<tr>\n",
       "  <th>hsperc</th>    <td>    0.0019</td> <td>    0.001</td> <td>    1.964</td> <td> 0.050</td> <td>-2.77e-06</td> <td>    0.004</td>\n",
       "</tr>\n",
       "</table>\n",
       "<table class=\"simpletable\">\n",
       "<tr>\n",
       "  <th>Omnibus:</th>       <td>282.051</td> <th>  Durbin-Watson:     </th> <td>   2.007</td>\n",
       "</tr>\n",
       "<tr>\n",
       "  <th>Prob(Omnibus):</th> <td> 0.000</td>  <th>  Jarque-Bera (JB):  </th> <td>3581.465</td>\n",
       "</tr>\n",
       "<tr>\n",
       "  <th>Skew:</th>          <td> 3.263</td>  <th>  Prob(JB):          </th> <td>    0.00</td>\n",
       "</tr>\n",
       "<tr>\n",
       "  <th>Kurtosis:</th>      <td>16.866</td>  <th>  Cond. No.          </th> <td>6.06e+03</td>\n",
       "</tr>\n",
       "</table><br/><br/>Notes:<br/>[1] Standard Errors assume that the covariance matrix of the errors is correctly specified.<br/>[2] The condition number is large, 6.06e+03. This might indicate that there are<br/>strong multicollinearity or other numerical problems."
      ],
      "text/plain": [
       "<class 'statsmodels.iolib.summary.Summary'>\n",
       "\"\"\"\n",
       "                            OLS Regression Results                            \n",
       "==============================================================================\n",
       "Dep. Variable:                   u_h2   R-squared:                       0.040\n",
       "Model:                            OLS   Adj. R-squared:                  0.034\n",
       "Method:                 Least Squares   F-statistic:                     7.465\n",
       "Date:                Thu, 31 Mar 2022   Prob (F-statistic):           0.000665\n",
       "Time:                        13:20:10   Log-Likelihood:                -165.24\n",
       "No. Observations:                 366   AIC:                             336.5\n",
       "Df Residuals:                     363   BIC:                             348.2\n",
       "Df Model:                           2                                         \n",
       "Covariance Type:            nonrobust                                         \n",
       "==============================================================================\n",
       "                 coef    std err          t      P>|t|      [0.025      0.975]\n",
       "------------------------------------------------------------------------------\n",
       "Intercept     -0.2633      0.132     -1.992      0.047      -0.523      -0.003\n",
       "sat            0.0005      0.000      3.814      0.000       0.000       0.001\n",
       "hsperc         0.0019      0.001      1.964      0.050   -2.77e-06       0.004\n",
       "==============================================================================\n",
       "Omnibus:                      282.051   Durbin-Watson:                   2.007\n",
       "Prob(Omnibus):                  0.000   Jarque-Bera (JB):             3581.465\n",
       "Skew:                           3.263   Prob(JB):                         0.00\n",
       "Kurtosis:                      16.866   Cond. No.                     6.06e+03\n",
       "==============================================================================\n",
       "\n",
       "Notes:\n",
       "[1] Standard Errors assume that the covariance matrix of the errors is correctly specified.\n",
       "[2] The condition number is large, 6.06e+03. This might indicate that there are\n",
       "strong multicollinearity or other numerical problems.\n",
       "\"\"\""
      ]
     },
     "execution_count": 37,
     "metadata": {},
     "output_type": "execute_result"
    }
   ],
   "source": [
    "res.summary()"
   ]
  },
  {
   "cell_type": "code",
   "execution_count": 31,
   "id": "cedd3f1f-c1cd-48b5-96b6-7508155cb384",
   "metadata": {},
   "outputs": [
    {
     "data": {
      "text/plain": [
       "(14.459054375802312,\n",
       " 0.0007248635063763616,\n",
       " 7.4651854979463925,\n",
       " 0.0006649850278499255)"
      ]
     },
     "execution_count": 31,
     "metadata": {},
     "output_type": "execute_result"
    }
   ],
   "source": [
    "bp_test"
   ]
  },
  {
   "cell_type": "code",
   "execution_count": 32,
   "id": "449f7115-bcaa-43ad-ac92-33eb614de8dd",
   "metadata": {},
   "outputs": [
    {
     "name": "stderr",
     "output_type": "stream",
     "text": [
      "/var/folders/jt/hphk8qzd0hd322w0ywqljvgh0000gn/T/ipykernel_4234/513914704.py:1: SettingWithCopyWarning: \n",
      "A value is trying to be set on a copy of a slice from a DataFrame.\n",
      "Try using .loc[row_indexer,col_indexer] = value instead\n",
      "\n",
      "See the caveats in the documentation: https://pandas.pydata.org/pandas-docs/stable/user_guide/indexing.html#returning-a-view-versus-a-copy\n",
      "  df2[\"u_h2\"] = res.resid**2\n"
     ]
    }
   ],
   "source": [
    "df2[\"u_h2\"] = res.resid**2"
   ]
  },
  {
   "cell_type": "code",
   "execution_count": 36,
   "id": "d3cfbfa3-8937-46ed-adbb-3f85d0396858",
   "metadata": {},
   "outputs": [
    {
     "data": {
      "text/plain": [
       "14.459054375802312"
      ]
     },
     "execution_count": 36,
     "metadata": {},
     "output_type": "execute_result"
    }
   ],
   "source": [
    "reg = smf.ols(\"u_h2~sat+hsperc\",data=df2)\n",
    "res = reg.fit()\n",
    "res.rsquared*len(df2)"
   ]
  },
  {
   "cell_type": "markdown",
   "id": "6d40211d-b8a8-41ea-9a21-22782b4ef746",
   "metadata": {},
   "source": [
    "Or we can do this manually."
   ]
  },
  {
   "cell_type": "code",
   "execution_count": 7,
   "id": "c6dff1b2-9d15-49c6-b46b-4e04bc864d66",
   "metadata": {
    "tags": []
   },
   "outputs": [
    {
     "name": "stdout",
     "output_type": "stream",
     "text": [
      "f_stat  0.06809548268973951\n",
      "f_pval  0.934195325573465\n",
      "lm_stat  0.2767122645469422\n",
      "lm_stat  0.8707885206225412\n"
     ]
    }
   ],
   "source": [
    "from scipy import stats\n",
    "df2 = df2.reset_index(drop=True)\n",
    "df2[\"u2\"] = res.resid**2\n",
    "\n",
    "reg_bp = smf.ols(\"u2 ~ sat + hsperc\", data=df2)\n",
    "res_bp = reg_bp.fit()\n",
    "\n",
    "print(\"f_stat \", res_bp.fvalue)\n",
    "print(\"f_pval \", res_bp.f_pvalue)\n",
    "\n",
    "lm_stat = res_bp.rsquared*len(df2)\n",
    "print(\"lm_stat \", lm_stat )\n",
    "print(\"lm_stat \", 1 - stats.chi2.cdf(lm_stat, 2)) #degrees of freedom = number of restrictions."
   ]
  },
  {
   "cell_type": "markdown",
   "id": "df701d3b-7ad2-4990-8467-5ae294aba7ba",
   "metadata": {},
   "source": [
    "## 8.3 Weighted Least Squares"
   ]
  },
  {
   "cell_type": "markdown",
   "id": "d45b6543-0341-46b3-a906-b7167f3cdcf7",
   "metadata": {},
   "source": [
    "Weighted Least Squares (WLS) attempts to provide a more efficient alternative to OLS. If the functional form of heteroskedasticity is known, such that \n",
    "$$var(u_i|x_i) = \\sigma^2 h(x_i)$$\n",
    "\n",
    "we can divide both side of the specification by the square root of h(x).In other words, we apply a weight = $\\frac{1}{\\sqrt{h(x)}}$ to the estimation.\n",
    "\n",
    "This can be done in **statsmodels** using the argument **weights** of the command **wls**. Note that you should supply 1/W to the **weights** parmeter, **wls** will automatically convert it to 1/sqrt(W).\n",
    "\n",
    "Assume in the cumulative gpa example, we know that $var(u_i|x) = \\sigma^2 sat$"
   ]
  },
  {
   "cell_type": "code",
   "execution_count": 8,
   "id": "22832bde-4d6c-4bdc-82a2-ae71ee287a93",
   "metadata": {},
   "outputs": [
    {
     "name": "stdout",
     "output_type": "stream",
     "text": [
      "                            WLS Regression Results                            \n",
      "==============================================================================\n",
      "Dep. Variable:                 cumgpa   R-squared:                       0.202\n",
      "Model:                            WLS   Adj. R-squared:                  0.200\n",
      "Method:                 Least Squares   F-statistic:                     92.42\n",
      "Date:                Wed, 30 Mar 2022   Prob (F-statistic):           1.20e-19\n",
      "Time:                        11:57:41   Log-Likelihood:                -278.99\n",
      "No. Observations:                 366   AIC:                             562.0\n",
      "Df Residuals:                     364   BIC:                             569.8\n",
      "Df Model:                           1                                         \n",
      "Covariance Type:            nonrobust                                         \n",
      "==============================================================================\n",
      "                 coef    std err          t      P>|t|      [0.025      0.975]\n",
      "------------------------------------------------------------------------------\n",
      "Intercept      1.0544      0.125      8.441      0.000       0.809       1.300\n",
      "sat            0.0014      0.000      9.614      0.000       0.001       0.002\n",
      "==============================================================================\n",
      "Omnibus:                       22.916   Durbin-Watson:                   1.745\n",
      "Prob(Omnibus):                  0.000   Jarque-Bera (JB):               40.706\n",
      "Skew:                          -0.389   Prob(JB):                     1.45e-09\n",
      "Kurtosis:                       4.436   Cond. No.                     4.05e+03\n",
      "==============================================================================\n",
      "\n",
      "Notes:\n",
      "[1] Standard Errors assume that the covariance matrix of the errors is correctly specified.\n",
      "[2] The condition number is large, 4.05e+03. This might indicate that there are\n",
      "strong multicollinearity or other numerical problems.\n"
     ]
    }
   ],
   "source": [
    "reg_wls = smf.wls(\"cumgpa~sat\", data=df2, weights=1/df2[\"sat\"])\n",
    "res_wls = reg_wls.fit()\n",
    "print(res_wls.summary())"
   ]
  },
  {
   "cell_type": "code",
   "execution_count": 9,
   "id": "268cce17-b9c8-4852-a8e0-c48aa9bfbb13",
   "metadata": {},
   "outputs": [
    {
     "name": "stdout",
     "output_type": "stream",
     "text": [
      "Intercept    0.124909\n",
      "sat          0.000148\n",
      "dtype: float64\n",
      "Intercept    0.170332\n",
      "sat          0.000164\n",
      "hsperc       0.001243\n",
      "dtype: float64\n"
     ]
    }
   ],
   "source": [
    "print(res_wls.bse)\n",
    "print(res.bse)"
   ]
  },
  {
   "cell_type": "code",
   "execution_count": 10,
   "id": "0ab94dd9-e1f8-4d18-b9ac-a1ecd39911c0",
   "metadata": {},
   "outputs": [
    {
     "data": {
      "text/plain": [
       "<matplotlib.collections.PathCollection at 0x7f9e9b4acdc0>"
      ]
     },
     "execution_count": 10,
     "metadata": {},
     "output_type": "execute_result"
    },
    {
     "data": {
      "image/png": "[encoded data removed]",
      "text/plain": [
       "<Figure size 432x288 with 1 Axes>"
      ]
     },
     "metadata": {
      "needs_background": "light"
     },
     "output_type": "display_data"
    }
   ],
   "source": [
    "plt.scatter(x=df2[\"sat\"],y=res_wls.resid)"
   ]
  },
  {
   "cell_type": "markdown",
   "id": "42b266bf-fee6-443e-ae15-5fbc9aa49484",
   "metadata": {
    "tags": []
   },
   "source": [
    "# Exercise\n",
    "\n",
    "Implement both OLS, Breusch-Pagan Test, OLS with HC2, WLS estimation for a regression of financial wealth (nettfa) on income (inc), age (age), gender (male) and eligibility for a pension plan (e401k) using the dataset **401ksubs**. We assume that the variance is proportional to the income variable inc. Therefore, `weights=1/df[\"inc\"]`."
   ]
  },
  {
   "cell_type": "code",
   "execution_count": 11,
   "id": "ac690ec8-41ab-438c-9bae-b0f85ec1dd60",
   "metadata": {},
   "outputs": [
    {
     "name": "stdout",
     "output_type": "stream",
     "text": [
      "                            OLS Regression Results                            \n",
      "==============================================================================\n",
      "Dep. Variable:                 nettfa   R-squared:                       0.172\n",
      "Model:                            OLS   Adj. R-squared:                  0.171\n",
      "Method:                 Least Squares   F-statistic:                     480.6\n",
      "Date:                Wed, 30 Mar 2022   Prob (F-statistic):               0.00\n",
      "Time:                        11:57:41   Log-Likelihood:                -50855.\n",
      "No. Observations:                9275   AIC:                         1.017e+05\n",
      "Df Residuals:                    9270   BIC:                         1.018e+05\n",
      "Df Model:                           4                                         \n",
      "Covariance Type:            nonrobust                                         \n",
      "==============================================================================\n",
      "                 coef    std err          t      P>|t|      [0.025      0.975]\n",
      "------------------------------------------------------------------------------\n",
      "Intercept    -63.6162      2.681    -23.728      0.000     -68.872     -58.361\n",
      "inc            0.9249      0.026     35.271      0.000       0.874       0.976\n",
      "age            1.0496      0.059     17.664      0.000       0.933       1.166\n",
      "male           4.4106      1.513      2.916      0.004       1.445       7.376\n",
      "e401k          6.0226      1.285      4.685      0.000       3.503       8.542\n",
      "==============================================================================\n",
      "Omnibus:                    15001.705   Durbin-Watson:                   1.932\n",
      "Prob(Omnibus):                  0.000   Jarque-Bera (JB):         14846750.566\n",
      "Skew:                          10.487   Prob(JB):                         0.00\n",
      "Kurtosis:                     197.878   Cond. No.                         270.\n",
      "==============================================================================\n",
      "\n",
      "Notes:\n",
      "[1] Standard Errors assume that the covariance matrix of the errors is correctly specified.\n"
     ]
    }
   ],
   "source": [
    "df = woo.data(\"401ksubs\")\n",
    "formula = \"nettfa ~ inc + age + male + e401k\"\n",
    "reg = smf.ols(formula, data=df)\n",
    "res = reg.fit()\n",
    "print(res.summary())"
   ]
  },
  {
   "cell_type": "code",
   "execution_count": 12,
   "id": "b9521ebc-803b-4f00-a5e6-1c69238f2785",
   "metadata": {
    "tags": []
   },
   "outputs": [
    {
     "name": "stdout",
     "output_type": "stream",
     "text": [
      "                            OLS Regression Results                            \n",
      "==============================================================================\n",
      "Dep. Variable:                 nettfa   R-squared:                       0.172\n",
      "Model:                            OLS   Adj. R-squared:                  0.171\n",
      "Method:                 Least Squares   F-statistic:                     125.2\n",
      "Date:                Wed, 30 Mar 2022   Prob (F-statistic):          3.02e-104\n",
      "Time:                        11:57:41   Log-Likelihood:                -50855.\n",
      "No. Observations:                9275   AIC:                         1.017e+05\n",
      "Df Residuals:                    9270   BIC:                         1.018e+05\n",
      "Df Model:                           4                                         \n",
      "Covariance Type:                  hc2                                         \n",
      "==============================================================================\n",
      "                 coef    std err          z      P>|z|      [0.025      0.975]\n",
      "------------------------------------------------------------------------------\n",
      "Intercept    -63.6162      3.748    -16.974      0.000     -70.962     -56.271\n",
      "inc            0.9249      0.074     12.484      0.000       0.780       1.070\n",
      "age            1.0496      0.066     15.851      0.000       0.920       1.179\n",
      "male           4.4106      1.456      3.030      0.002       1.557       7.264\n",
      "e401k          6.0226      1.529      3.939      0.000       3.026       9.020\n",
      "==============================================================================\n",
      "Omnibus:                    15001.705   Durbin-Watson:                   1.932\n",
      "Prob(Omnibus):                  0.000   Jarque-Bera (JB):         14846750.566\n",
      "Skew:                          10.487   Prob(JB):                         0.00\n",
      "Kurtosis:                     197.878   Cond. No.                         270.\n",
      "==============================================================================\n",
      "\n",
      "Notes:\n",
      "[1] Standard Errors are heteroscedasticity robust (HC2)\n"
     ]
    }
   ],
   "source": [
    "res_hc2 = reg.fit(cov_type=\"hc2\")\n",
    "print(res_hc2.summary())"
   ]
  },
  {
   "cell_type": "code",
   "execution_count": 13,
   "id": "41463a53-10e6-4bdb-a579-bbd5ba176901",
   "metadata": {},
   "outputs": [
    {
     "data": {
      "text/plain": [
       "(193.53701731546187,\n",
       " 9.208092185700945e-41,\n",
       " 49.38874259398204,\n",
       " 3.484720173293022e-41)"
      ]
     },
     "execution_count": 13,
     "metadata": {},
     "output_type": "execute_result"
    }
   ],
   "source": [
    "y,X = pt.dmatrices(formula, data=df)\n",
    "sm.stats.diagnostic.het_breuschpagan(res.resid, X)"
   ]
  },
  {
   "cell_type": "code",
   "execution_count": 14,
   "id": "fd732fe2-e36c-45f6-a307-f8b1d3d30fb2",
   "metadata": {},
   "outputs": [
    {
     "name": "stdout",
     "output_type": "stream",
     "text": [
      "                            WLS Regression Results                            \n",
      "==============================================================================\n",
      "Dep. Variable:                 nettfa   R-squared:                       0.140\n",
      "Model:                            WLS   Adj. R-squared:                  0.139\n",
      "Method:                 Least Squares   F-statistic:                     375.9\n",
      "Date:                Wed, 30 Mar 2022   Prob (F-statistic):          1.66e-300\n",
      "Time:                        11:57:41   Log-Likelihood:                -48094.\n",
      "No. Observations:                9275   AIC:                         9.620e+04\n",
      "Df Residuals:                    9270   BIC:                         9.623e+04\n",
      "Df Model:                           4                                         \n",
      "Covariance Type:            nonrobust                                         \n",
      "==============================================================================\n",
      "                 coef    std err          t      P>|t|      [0.025      0.975]\n",
      "------------------------------------------------------------------------------\n",
      "Intercept    -41.5236      1.796    -23.115      0.000     -45.045     -38.002\n",
      "inc            0.7427      0.025     30.197      0.000       0.694       0.791\n",
      "age            0.7004      0.040     17.726      0.000       0.623       0.778\n",
      "male           4.0553      1.010      4.015      0.000       2.075       6.035\n",
      "e401k          4.6908      0.932      5.032      0.000       2.863       6.518\n",
      "==============================================================================\n",
      "Omnibus:                    14276.284   Durbin-Watson:                   1.959\n",
      "Prob(Omnibus):                  0.000   Jarque-Bera (JB):         13292357.376\n",
      "Skew:                           9.444   Prob(JB):                         0.00\n",
      "Kurtosis:                     187.495   Cond. No.                         227.\n",
      "==============================================================================\n",
      "\n",
      "Notes:\n",
      "[1] Standard Errors assume that the covariance matrix of the errors is correctly specified.\n"
     ]
    }
   ],
   "source": [
    "reg_wls = smf.wls(formula, data=df, weights=1/df[\"inc\"])\n",
    "print(reg_wls.fit().summary())"
   ]
  }
 ],
 "metadata": {
  "kernelspec": {
   "display_name": "Python 3 (ipykernel)",
   "language": "python",
   "name": "python3"
  },
  "language_info": {
   "codemirror_mode": {
    "name": "ipython",
    "version": 3
   },
   "file_extension": ".py",
   "mimetype": "text/x-python",
   "name": "python",
   "nbconvert_exporter": "python",
   "pygments_lexer": "ipython3",
   "version": "3.8.8"
  }
 },
 "nbformat": 4,
 "nbformat_minor": 5
}
