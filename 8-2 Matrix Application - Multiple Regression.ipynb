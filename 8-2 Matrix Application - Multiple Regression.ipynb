{
 "cells": [
  {
   "cell_type": "markdown",
   "id": "dbe23860-eb80-4ccb-b208-7fe3ede5ba8b",
   "metadata": {},
   "source": [
    "# 8-2 Matrix Application - Multiple Regression"
   ]
  },
  {
   "cell_type": "markdown",
   "id": "09d16a32-b691-4a5a-a289-4f1aade9a1a1",
   "metadata": {},
   "source": [
    "*Numpy* package can deal with matrices and matrix operations. To create a matrix, you can use np.array() to convert a list of lists to a n-dimensional array."
   ]
  },
  {
   "cell_type": "code",
   "execution_count": 32,
   "id": "b6106cd9-140b-4af2-b7b0-a00984fbe8db",
   "metadata": {},
   "outputs": [
    {
     "data": {
      "text/plain": [
       "array([2, 5, 8])"
      ]
     },
     "execution_count": 32,
     "metadata": {},
     "output_type": "execute_result"
    }
   ],
   "source": [
    "import numpy as np\n",
    "A = [[1,2,3],\n",
    "     [4,5,6],\n",
    "     [7,8,9]]\n",
    "A = np.array(A)\n",
    "A[:,1]"
   ]
  },
  {
   "cell_type": "code",
   "execution_count": 35,
   "id": "7f9c0557-c6f7-47a5-954b-4fb3973a9050",
   "metadata": {},
   "outputs": [
    {
     "data": {
      "text/plain": [
       "array([1, 3, 5, 7])"
      ]
     },
     "execution_count": 35,
     "metadata": {},
     "output_type": "execute_result"
    }
   ],
   "source": [
    "a = np.array(range(20))\n",
    "a[1:9:2]"
   ]
  },
  {
   "cell_type": "code",
   "execution_count": 5,
   "id": "fc3454d2-78d2-45c0-ada1-be7383595880",
   "metadata": {
    "collapsed": true,
    "jupyter": {
     "outputs_hidden": true,
     "source_hidden": true
    },
    "tags": []
   },
   "outputs": [
    {
     "data": {
      "text/plain": [
       "array([[1, 2, 3],\n",
       "       [4, 5, 6],\n",
       "       [7, 8, 9]])"
      ]
     },
     "execution_count": 5,
     "metadata": {},
     "output_type": "execute_result"
    }
   ],
   "source": [
    "import numpy as np\n",
    "A = [[1,2,3],\n",
    "     [4,5,6],\n",
    "     [7,8,9]]\n",
    "A = np.array(A)\n",
    "A"
   ]
  },
  {
   "cell_type": "markdown",
   "id": "74ae019c-ce4c-4403-bf81-e22264084853",
   "metadata": {},
   "source": [
    "Numpy also enables matrix operations, for example, for matrices A and B:\n",
    " - Transpose of a matrix - A.T\n",
    " - Inverse of a matrix - np.linalg.inv(A)\n",
    " - Matrix multiplication - A@B\n",
    " - Diagonal of a matrix - np.diagonal(A)\n",
    " - Determinant of a matrix - np.linalg.det(A)\n",
    " - and [more](https://numpy.org/doc/stable/reference/routines.linalg.html)"
   ]
  },
  {
   "cell_type": "code",
   "execution_count": 36,
   "id": "73592f8c-e191-4777-9219-7c731ca11296",
   "metadata": {},
   "outputs": [
    {
     "data": {
      "text/plain": [
       "array([[1, 4, 7],\n",
       "       [2, 5, 8],\n",
       "       [3, 6, 9]])"
      ]
     },
     "execution_count": 36,
     "metadata": {},
     "output_type": "execute_result"
    }
   ],
   "source": [
    "A.T"
   ]
  },
  {
   "cell_type": "code",
   "execution_count": 37,
   "id": "8da7a7ec-ff0f-4bf4-a9e3-1e57e4c962f8",
   "metadata": {},
   "outputs": [
    {
     "data": {
      "text/plain": [
       "array([[-4.50359963e+15,  9.00719925e+15, -4.50359963e+15],\n",
       "       [ 9.00719925e+15, -1.80143985e+16,  9.00719925e+15],\n",
       "       [-4.50359963e+15,  9.00719925e+15, -4.50359963e+15]])"
      ]
     },
     "execution_count": 37,
     "metadata": {},
     "output_type": "execute_result"
    }
   ],
   "source": [
    "np.linalg.inv(A)"
   ]
  },
  {
   "cell_type": "code",
   "execution_count": 38,
   "id": "18895c53-6bf3-40b6-a5ad-6ce86d1dcfe0",
   "metadata": {},
   "outputs": [
    {
     "data": {
      "text/plain": [
       "array([22, 49, 76])"
      ]
     },
     "execution_count": 38,
     "metadata": {},
     "output_type": "execute_result"
    }
   ],
   "source": [
    "B = np.array([1,3,5])\n",
    "A@B"
   ]
  },
  {
   "cell_type": "code",
   "execution_count": 10,
   "id": "93d18483-627d-4ac1-bbac-087fab4f8797",
   "metadata": {
    "collapsed": true,
    "jupyter": {
     "outputs_hidden": true,
     "source_hidden": true
    },
    "tags": []
   },
   "outputs": [
    {
     "name": "stdout",
     "output_type": "stream",
     "text": [
      "[[1 4 7]\n",
      " [2 5 8]\n",
      " [3 6 9]]\n"
     ]
    }
   ],
   "source": [
    "b = np.array([1,3,5])\n",
    "# Transpose\n",
    "print(A.T)"
   ]
  },
  {
   "cell_type": "code",
   "execution_count": 24,
   "id": "4de2c014-ab4a-4bcf-888f-1fdd1c40cfe1",
   "metadata": {
    "collapsed": true,
    "jupyter": {
     "outputs_hidden": true,
     "source_hidden": true
    }
   },
   "outputs": [
    {
     "name": "stdout",
     "output_type": "stream",
     "text": [
      "[[-4.50359963e+15  9.00719925e+15 -4.50359963e+15]\n",
      " [ 9.00719925e+15 -1.80143985e+16  9.00719925e+15]\n",
      " [-4.50359963e+15  9.00719925e+15 -4.50359963e+15]]\n"
     ]
    }
   ],
   "source": [
    "#Inverse\n",
    "inv = np.linalg.inv(A)\n",
    "print(inv)"
   ]
  },
  {
   "cell_type": "code",
   "execution_count": 14,
   "id": "deb608f8-bcef-436a-9689-63e443a3d12b",
   "metadata": {
    "collapsed": true,
    "jupyter": {
     "outputs_hidden": true,
     "source_hidden": true
    }
   },
   "outputs": [
    {
     "name": "stdout",
     "output_type": "stream",
     "text": [
      "[22 49 76]\n"
     ]
    }
   ],
   "source": [
    "#Multiplication\n",
    "print(A@b)"
   ]
  },
  {
   "cell_type": "code",
   "execution_count": 15,
   "id": "66e76b07-ef27-4764-9263-559a45f3acc3",
   "metadata": {
    "collapsed": true,
    "jupyter": {
     "outputs_hidden": true,
     "source_hidden": true
    }
   },
   "outputs": [
    {
     "name": "stdout",
     "output_type": "stream",
     "text": [
      "[1 5 9]\n"
     ]
    }
   ],
   "source": [
    "#Diagonal\n",
    "print(np.diagonal(A))"
   ]
  },
  {
   "cell_type": "code",
   "execution_count": 39,
   "id": "75a91bf5-56e2-4b79-80bf-0c71e8efe1d1",
   "metadata": {},
   "outputs": [
    {
     "data": {
      "text/plain": [
       "array([1, 5, 9])"
      ]
     },
     "execution_count": 39,
     "metadata": {},
     "output_type": "execute_result"
    }
   ],
   "source": [
    "np.diagonal(A)"
   ]
  },
  {
   "cell_type": "markdown",
   "id": "1dcea6ca-2675-4e48-9e2b-8aa9c5911b34",
   "metadata": {},
   "source": [
    "Next, let's look at one application of matrix in multiple regress."
   ]
  },
  {
   "cell_type": "code",
   "execution_count": 40,
   "id": "b31295db-6a94-4377-a20b-d3081edce174",
   "metadata": {},
   "outputs": [
    {
     "data": {
      "text/html": [
       "<div>\n",
       "<style scoped>\n",
       "    .dataframe tbody tr th:only-of-type {\n",
       "        vertical-align: middle;\n",
       "    }\n",
       "\n",
       "    .dataframe tbody tr th {\n",
       "        vertical-align: top;\n",
       "    }\n",
       "\n",
       "    .dataframe thead th {\n",
       "        text-align: right;\n",
       "    }\n",
       "</style>\n",
       "<table border=\"1\" class=\"dataframe\">\n",
       "  <thead>\n",
       "    <tr style=\"text-align: right;\">\n",
       "      <th></th>\n",
       "      <th>wage</th>\n",
       "      <th>educ</th>\n",
       "      <th>exper</th>\n",
       "      <th>tenure</th>\n",
       "      <th>nonwhite</th>\n",
       "      <th>female</th>\n",
       "      <th>married</th>\n",
       "      <th>numdep</th>\n",
       "      <th>smsa</th>\n",
       "      <th>northcen</th>\n",
       "      <th>...</th>\n",
       "      <th>trcommpu</th>\n",
       "      <th>trade</th>\n",
       "      <th>services</th>\n",
       "      <th>profserv</th>\n",
       "      <th>profocc</th>\n",
       "      <th>clerocc</th>\n",
       "      <th>servocc</th>\n",
       "      <th>lwage</th>\n",
       "      <th>expersq</th>\n",
       "      <th>tenursq</th>\n",
       "    </tr>\n",
       "  </thead>\n",
       "  <tbody>\n",
       "    <tr>\n",
       "      <th>0</th>\n",
       "      <td>3.10</td>\n",
       "      <td>11</td>\n",
       "      <td>2</td>\n",
       "      <td>0</td>\n",
       "      <td>0</td>\n",
       "      <td>1</td>\n",
       "      <td>0</td>\n",
       "      <td>2</td>\n",
       "      <td>1</td>\n",
       "      <td>0</td>\n",
       "      <td>...</td>\n",
       "      <td>0</td>\n",
       "      <td>0</td>\n",
       "      <td>0</td>\n",
       "      <td>0</td>\n",
       "      <td>0</td>\n",
       "      <td>0</td>\n",
       "      <td>0</td>\n",
       "      <td>1.131402</td>\n",
       "      <td>4</td>\n",
       "      <td>0</td>\n",
       "    </tr>\n",
       "    <tr>\n",
       "      <th>1</th>\n",
       "      <td>3.24</td>\n",
       "      <td>12</td>\n",
       "      <td>22</td>\n",
       "      <td>2</td>\n",
       "      <td>0</td>\n",
       "      <td>1</td>\n",
       "      <td>1</td>\n",
       "      <td>3</td>\n",
       "      <td>1</td>\n",
       "      <td>0</td>\n",
       "      <td>...</td>\n",
       "      <td>0</td>\n",
       "      <td>0</td>\n",
       "      <td>1</td>\n",
       "      <td>0</td>\n",
       "      <td>0</td>\n",
       "      <td>0</td>\n",
       "      <td>1</td>\n",
       "      <td>1.175573</td>\n",
       "      <td>484</td>\n",
       "      <td>4</td>\n",
       "    </tr>\n",
       "    <tr>\n",
       "      <th>2</th>\n",
       "      <td>3.00</td>\n",
       "      <td>11</td>\n",
       "      <td>2</td>\n",
       "      <td>0</td>\n",
       "      <td>0</td>\n",
       "      <td>0</td>\n",
       "      <td>0</td>\n",
       "      <td>2</td>\n",
       "      <td>0</td>\n",
       "      <td>0</td>\n",
       "      <td>...</td>\n",
       "      <td>0</td>\n",
       "      <td>1</td>\n",
       "      <td>0</td>\n",
       "      <td>0</td>\n",
       "      <td>0</td>\n",
       "      <td>0</td>\n",
       "      <td>0</td>\n",
       "      <td>1.098612</td>\n",
       "      <td>4</td>\n",
       "      <td>0</td>\n",
       "    </tr>\n",
       "    <tr>\n",
       "      <th>3</th>\n",
       "      <td>6.00</td>\n",
       "      <td>8</td>\n",
       "      <td>44</td>\n",
       "      <td>28</td>\n",
       "      <td>0</td>\n",
       "      <td>0</td>\n",
       "      <td>1</td>\n",
       "      <td>0</td>\n",
       "      <td>1</td>\n",
       "      <td>0</td>\n",
       "      <td>...</td>\n",
       "      <td>0</td>\n",
       "      <td>0</td>\n",
       "      <td>0</td>\n",
       "      <td>0</td>\n",
       "      <td>0</td>\n",
       "      <td>1</td>\n",
       "      <td>0</td>\n",
       "      <td>1.791759</td>\n",
       "      <td>1936</td>\n",
       "      <td>784</td>\n",
       "    </tr>\n",
       "    <tr>\n",
       "      <th>4</th>\n",
       "      <td>5.30</td>\n",
       "      <td>12</td>\n",
       "      <td>7</td>\n",
       "      <td>2</td>\n",
       "      <td>0</td>\n",
       "      <td>0</td>\n",
       "      <td>1</td>\n",
       "      <td>1</td>\n",
       "      <td>0</td>\n",
       "      <td>0</td>\n",
       "      <td>...</td>\n",
       "      <td>0</td>\n",
       "      <td>0</td>\n",
       "      <td>0</td>\n",
       "      <td>0</td>\n",
       "      <td>0</td>\n",
       "      <td>0</td>\n",
       "      <td>0</td>\n",
       "      <td>1.667707</td>\n",
       "      <td>49</td>\n",
       "      <td>4</td>\n",
       "    </tr>\n",
       "  </tbody>\n",
       "</table>\n",
       "<p>5 rows × 24 columns</p>\n",
       "</div>"
      ],
      "text/plain": [
       "   wage  educ  exper  tenure  nonwhite  female  married  numdep  smsa  \\\n",
       "0  3.10    11      2       0         0       1        0       2     1   \n",
       "1  3.24    12     22       2         0       1        1       3     1   \n",
       "2  3.00    11      2       0         0       0        0       2     0   \n",
       "3  6.00     8     44      28         0       0        1       0     1   \n",
       "4  5.30    12      7       2         0       0        1       1     0   \n",
       "\n",
       "   northcen  ...  trcommpu  trade  services  profserv  profocc  clerocc  \\\n",
       "0         0  ...         0      0         0         0        0        0   \n",
       "1         0  ...         0      0         1         0        0        0   \n",
       "2         0  ...         0      1         0         0        0        0   \n",
       "3         0  ...         0      0         0         0        0        1   \n",
       "4         0  ...         0      0         0         0        0        0   \n",
       "\n",
       "   servocc     lwage  expersq  tenursq  \n",
       "0        0  1.131402        4        0  \n",
       "1        1  1.175573      484        4  \n",
       "2        0  1.098612        4        0  \n",
       "3        0  1.791759     1936      784  \n",
       "4        0  1.667707       49        4  \n",
       "\n",
       "[5 rows x 24 columns]"
      ]
     },
     "execution_count": 40,
     "metadata": {},
     "output_type": "execute_result"
    }
   ],
   "source": [
    "import wooldridge as woo\n",
    "\n",
    "df = woo.data(\"wage1\")\n",
    "df.head()"
   ]
  },
  {
   "cell_type": "markdown",
   "id": "e1d2cc43-64fb-4be4-ad26-9b96b13ba769",
   "metadata": {},
   "source": [
    "## 8-2.1 smf"
   ]
  },
  {
   "cell_type": "code",
   "execution_count": 41,
   "id": "7edb949d-9f5a-4d8c-ba61-188174d63c88",
   "metadata": {
    "tags": []
   },
   "outputs": [
    {
     "name": "stdout",
     "output_type": "stream",
     "text": [
      "                            OLS Regression Results                            \n",
      "==============================================================================\n",
      "Dep. Variable:           np.log(wage)   R-squared:                       0.316\n",
      "Model:                            OLS   Adj. R-squared:                  0.312\n",
      "Method:                 Least Squares   F-statistic:                     80.39\n",
      "Date:                Tue, 19 Oct 2021   Prob (F-statistic):           9.13e-43\n",
      "Time:                        12:27:42   Log-Likelihood:                -313.55\n",
      "No. Observations:                 526   AIC:                             635.1\n",
      "Df Residuals:                     522   BIC:                             652.2\n",
      "Df Model:                           3                                         \n",
      "Covariance Type:            nonrobust                                         \n",
      "==============================================================================\n",
      "                 coef    std err          t      P>|t|      [0.025      0.975]\n",
      "------------------------------------------------------------------------------\n",
      "Intercept      0.2844      0.104      2.729      0.007       0.080       0.489\n",
      "educ           0.0920      0.007     12.555      0.000       0.078       0.106\n",
      "exper          0.0041      0.002      2.391      0.017       0.001       0.008\n",
      "tenure         0.0221      0.003      7.133      0.000       0.016       0.028\n",
      "==============================================================================\n",
      "Omnibus:                       11.534   Durbin-Watson:                   1.769\n",
      "Prob(Omnibus):                  0.003   Jarque-Bera (JB):               20.941\n",
      "Skew:                           0.021   Prob(JB):                     2.84e-05\n",
      "Kurtosis:                       3.977   Cond. No.                         135.\n",
      "==============================================================================\n",
      "\n",
      "Notes:\n",
      "[1] Standard Errors assume that the covariance matrix of the errors is correctly specified.\n"
     ]
    }
   ],
   "source": [
    "import statsmodels.formula.api as smf\n",
    "import numpy as np\n",
    "\n",
    "res = smf.ols(\"np.log(wage) ~ educ + exper + tenure\", data=df).fit()\n",
    "print(res.summary())"
   ]
  },
  {
   "cell_type": "markdown",
   "id": "06d3f5b5-de0b-4e51-9cb8-1bfd8aed0cee",
   "metadata": {
    "tags": []
   },
   "source": [
    "### Estimators"
   ]
  },
  {
   "cell_type": "code",
   "execution_count": 42,
   "id": "41cc14db-08cb-428a-8212-567bc496f02f",
   "metadata": {},
   "outputs": [
    {
     "data": {
      "text/plain": [
       "Intercept    0.284360\n",
       "educ         0.092029\n",
       "exper        0.004121\n",
       "tenure       0.022067\n",
       "dtype: float64"
      ]
     },
     "execution_count": 42,
     "metadata": {},
     "output_type": "execute_result"
    }
   ],
   "source": [
    "res.params"
   ]
  },
  {
   "cell_type": "code",
   "execution_count": 3,
   "id": "7b1531d1-bc56-467d-b3f6-4bc2702b9a17",
   "metadata": {
    "collapsed": true,
    "jupyter": {
     "outputs_hidden": true,
     "source_hidden": true
    },
    "tags": []
   },
   "outputs": [
    {
     "data": {
      "text/plain": [
       "Intercept    0.284360\n",
       "educ         0.092029\n",
       "exper        0.004121\n",
       "tenure       0.022067\n",
       "dtype: float64"
      ]
     },
     "execution_count": 3,
     "metadata": {},
     "output_type": "execute_result"
    }
   ],
   "source": [
    "b_h = res.params\n",
    "b_h"
   ]
  },
  {
   "cell_type": "markdown",
   "id": "26fc0b22-d0de-4b36-96ef-0331ae13cdb8",
   "metadata": {
    "tags": []
   },
   "source": [
    "### Make Predictions (In sample)"
   ]
  },
  {
   "cell_type": "code",
   "execution_count": 44,
   "id": "da2da050-fd57-417a-a081-f244f0b44e2c",
   "metadata": {},
   "outputs": [],
   "source": [
    "y_h=res.predict()"
   ]
  },
  {
   "cell_type": "code",
   "execution_count": 4,
   "id": "977fb18f-ea0b-49bf-a70c-8c46e684ab6b",
   "metadata": {
    "collapsed": true,
    "jupyter": {
     "outputs_hidden": true,
     "source_hidden": true
    },
    "tags": []
   },
   "outputs": [
    {
     "data": {
      "text/plain": [
       "array([1.30492063, 1.52350623, 1.30492063, 1.81980234, 1.46168959])"
      ]
     },
     "execution_count": 4,
     "metadata": {},
     "output_type": "execute_result"
    }
   ],
   "source": [
    "y_h = res.predict()\n",
    "y_h[:5]"
   ]
  },
  {
   "cell_type": "markdown",
   "id": "9da44164-9b42-4cf3-aa08-64ffb95ffbce",
   "metadata": {
    "tags": []
   },
   "source": [
    "### Residuals"
   ]
  },
  {
   "cell_type": "code",
   "execution_count": 48,
   "id": "b0ff507b-49f5-40fe-a9b8-b31f0654c69e",
   "metadata": {},
   "outputs": [
    {
     "data": {
      "text/plain": [
       "0     -0.173519\n",
       "1     -0.347933\n",
       "2     -0.206308\n",
       "3     -0.028043\n",
       "4      0.206017\n",
       "         ...   \n",
       "521    0.849397\n",
       "522   -0.393112\n",
       "523   -0.574420\n",
       "524    0.648055\n",
       "525   -0.428877\n",
       "Name: wage, Length: 526, dtype: float64"
      ]
     },
     "execution_count": 48,
     "metadata": {},
     "output_type": "execute_result"
    }
   ],
   "source": [
    "res.resid\n",
    "np.log(df[\"wage\"])-y_h"
   ]
  },
  {
   "cell_type": "code",
   "execution_count": 5,
   "id": "0e788138-aaf2-4ee6-83e0-877ba0a07568",
   "metadata": {
    "collapsed": true,
    "jupyter": {
     "outputs_hidden": true,
     "source_hidden": true
    },
    "tags": []
   },
   "outputs": [
    {
     "data": {
      "text/plain": [
       "0     -0.173519\n",
       "1     -0.347933\n",
       "2     -0.206308\n",
       "3     -0.028043\n",
       "4      0.206017\n",
       "         ...   \n",
       "521    0.849397\n",
       "522   -0.393112\n",
       "523   -0.574420\n",
       "524    0.648055\n",
       "525   -0.428877\n",
       "Length: 526, dtype: float64"
      ]
     },
     "execution_count": 5,
     "metadata": {},
     "output_type": "execute_result"
    }
   ],
   "source": [
    "res.resid"
   ]
  },
  {
   "cell_type": "markdown",
   "id": "5f34783e-2897-4bbe-8e71-f357c5024e62",
   "metadata": {
    "tags": []
   },
   "source": [
    "### Standard Error of $\\hat{\\beta}$"
   ]
  },
  {
   "cell_type": "code",
   "execution_count": 49,
   "id": "5a86e7fc-4982-43bd-bd8d-1a0faa4230ea",
   "metadata": {},
   "outputs": [
    {
     "data": {
      "text/plain": [
       "Intercept    0.104190\n",
       "educ         0.007330\n",
       "exper        0.001723\n",
       "tenure       0.003094\n",
       "dtype: float64"
      ]
     },
     "execution_count": 49,
     "metadata": {},
     "output_type": "execute_result"
    }
   ],
   "source": [
    "res.bse"
   ]
  },
  {
   "cell_type": "code",
   "execution_count": 6,
   "id": "c00a082a-2634-4a8b-8ea7-e58847b7ca40",
   "metadata": {
    "collapsed": true,
    "jupyter": {
     "outputs_hidden": true,
     "source_hidden": true
    },
    "tags": []
   },
   "outputs": [
    {
     "data": {
      "text/plain": [
       "Intercept    0.104190\n",
       "educ         0.007330\n",
       "exper        0.001723\n",
       "tenure       0.003094\n",
       "dtype: float64"
      ]
     },
     "execution_count": 6,
     "metadata": {},
     "output_type": "execute_result"
    }
   ],
   "source": [
    "se = res.bse\n",
    "se"
   ]
  },
  {
   "cell_type": "markdown",
   "id": "ef15deb7-00cb-4cd3-a6f6-35fe9ef1661c",
   "metadata": {},
   "source": [
    "## 8-2.2 Matrix Solution"
   ]
  },
  {
   "cell_type": "markdown",
   "id": "f489442f-5a69-4918-bcc0-00fb19ed8277",
   "metadata": {},
   "source": [
    "### Build design matrix"
   ]
  },
  {
   "cell_type": "code",
   "execution_count": 51,
   "id": "1c596425-c0a6-461c-ae82-035830f605fb",
   "metadata": {},
   "outputs": [],
   "source": [
    "import patsy as pt\n",
    "import numpy as np\n",
    "\n",
    "y, X = pt.dmatrices(\"np.log(wage) ~ educ + exper + tenure\", data=df)"
   ]
  },
  {
   "cell_type": "code",
   "execution_count": 55,
   "id": "0eff2767-852f-4068-b374-b818d42a6f5b",
   "metadata": {},
   "outputs": [
    {
     "data": {
      "text/plain": [
       "array([[0.28435956],\n",
       "       [0.09202899],\n",
       "       [0.00412111],\n",
       "       [0.02206722]])"
      ]
     },
     "execution_count": 55,
     "metadata": {},
     "output_type": "execute_result"
    }
   ],
   "source": [
    "b_h = np.linalg.inv(X.T@X)@X.T@y\n",
    "b_h"
   ]
  },
  {
   "cell_type": "code",
   "execution_count": 56,
   "id": "5ac4d548-dfa3-4d71-93b7-ce7152e9a361",
   "metadata": {},
   "outputs": [
    {
     "data": {
      "text/plain": [
       "Intercept    0.284360\n",
       "educ         0.092029\n",
       "exper        0.004121\n",
       "tenure       0.022067\n",
       "dtype: float64"
      ]
     },
     "execution_count": 56,
     "metadata": {},
     "output_type": "execute_result"
    }
   ],
   "source": [
    "res.params"
   ]
  },
  {
   "cell_type": "markdown",
   "id": "81ad688b-f493-4016-8f9d-336adad20abe",
   "metadata": {},
   "source": [
    "### Get Multiple Regression Estimators"
   ]
  },
  {
   "cell_type": "code",
   "execution_count": 8,
   "id": "565c548b-f6d0-4f83-9d55-8b0ae46b83ee",
   "metadata": {},
   "outputs": [
    {
     "data": {
      "text/plain": [
       "array([[0.28435956],\n",
       "       [0.09202899],\n",
       "       [0.00412111],\n",
       "       [0.02206722]])"
      ]
     },
     "execution_count": 8,
     "metadata": {},
     "output_type": "execute_result"
    }
   ],
   "source": [
    "b_h = np.linalg.inv(X.T@X)@X.T@y\n",
    "b_h = np.array(b_h)\n",
    "b_h"
   ]
  },
  {
   "cell_type": "markdown",
   "id": "a9893b47-94a5-40db-8488-40fb2aa8379e",
   "metadata": {},
   "source": [
    "### Make Predictions"
   ]
  },
  {
   "cell_type": "code",
   "execution_count": 58,
   "id": "8f68fe12-2eb9-4577-a281-9aa1bd12a416",
   "metadata": {},
   "outputs": [
    {
     "data": {
      "text/plain": [
       "array([[1.30492063],\n",
       "       [1.52350623],\n",
       "       [1.30492063],\n",
       "       [1.81980234],\n",
       "       [1.46168959]])"
      ]
     },
     "execution_count": 58,
     "metadata": {},
     "output_type": "execute_result"
    }
   ],
   "source": [
    "y_h = X@b_h\n",
    "y_h[:5,]"
   ]
  },
  {
   "cell_type": "markdown",
   "id": "d14c9cd0-e212-433b-8d65-e7e1043c829d",
   "metadata": {
    "tags": []
   },
   "source": [
    "### Estimate Residuals"
   ]
  },
  {
   "cell_type": "code",
   "execution_count": 60,
   "id": "89308ec2-2b4d-4abc-a614-df4554f51fc7",
   "metadata": {},
   "outputs": [
    {
     "data": {
      "text/plain": [
       "array([[-0.17351855],\n",
       "       [-0.3479329 ],\n",
       "       [-0.20630834],\n",
       "       [-0.02804287],\n",
       "       [ 0.20601726]])"
      ]
     },
     "execution_count": 60,
     "metadata": {},
     "output_type": "execute_result"
    }
   ],
   "source": [
    "u_h = y-y_h\n",
    "u_h[:5,]"
   ]
  },
  {
   "cell_type": "markdown",
   "id": "b190213d-ca20-4a34-89cb-356ae5e8b3aa",
   "metadata": {},
   "source": [
    "### Standard Error of $\\hat{\\beta}$"
   ]
  },
  {
   "cell_type": "code",
   "execution_count": 62,
   "id": "598c6525-8d16-4d63-ab3a-aa1ac5502e6a",
   "metadata": {},
   "outputs": [],
   "source": [
    "s2 = sum(u_h**2)/(len(u_h)-X.shape[1])"
   ]
  },
  {
   "cell_type": "code",
   "execution_count": 64,
   "id": "c9a8b088-560c-442f-abc6-bad6a21af63e",
   "metadata": {},
   "outputs": [
    {
     "data": {
      "text/plain": [
       "array([[ 1.08556349e-02, -7.29352619e-04, -8.65548142e-05,\n",
       "         2.92773346e-05],\n",
       "       [-7.29352619e-04,  5.37277752e-05,  3.96431088e-06,\n",
       "        -2.56171608e-06],\n",
       "       [-8.65548142e-05,  3.96431088e-06,  2.96968431e-06,\n",
       "        -2.70017814e-06],\n",
       "       [ 2.92773346e-05, -2.56171608e-06, -2.70017814e-06,\n",
       "         9.57066532e-06]])"
      ]
     },
     "execution_count": 64,
     "metadata": {},
     "output_type": "execute_result"
    }
   ],
   "source": [
    "import pandas as pd\n",
    "vcov = s2*np.linalg.inv(X.T@X)\n",
    "vcov"
   ]
  },
  {
   "cell_type": "code",
   "execution_count": 66,
   "id": "c0078d26-09c7-4168-8895-8038ef054ed4",
   "metadata": {},
   "outputs": [
    {
     "data": {
      "text/plain": [
       "array([1.08556349e-02, 5.37277752e-05, 2.96968431e-06, 9.57066532e-06])"
      ]
     },
     "execution_count": 66,
     "metadata": {},
     "output_type": "execute_result"
    }
   ],
   "source": [
    "var = np.diagonal(vcov)\n",
    "var"
   ]
  },
  {
   "cell_type": "code",
   "execution_count": 67,
   "id": "ded45851-0bdf-4ea0-95be-4a83834787aa",
   "metadata": {},
   "outputs": [
    {
     "data": {
      "text/plain": [
       "array([0.10419038, 0.00732992, 0.00172328, 0.00309365])"
      ]
     },
     "execution_count": 67,
     "metadata": {},
     "output_type": "execute_result"
    }
   ],
   "source": [
    "np.sqrt(var)"
   ]
  },
  {
   "cell_type": "code",
   "execution_count": 12,
   "id": "ff2fdb71-e493-4c6f-838a-b1853f9693a7",
   "metadata": {
    "jupyter": {
     "source_hidden": true
    },
    "tags": []
   },
   "outputs": [
    {
     "data": {
      "text/plain": [
       "array([0.10419038, 0.00732992, 0.00172328, 0.00309365])"
      ]
     },
     "execution_count": 12,
     "metadata": {},
     "output_type": "execute_result"
    }
   ],
   "source": [
    "vcov = pd.DataFrame(vcov)\n",
    "var = np.diagonal(vcov)\n",
    "se = np.sqrt(var)\n",
    "se"
   ]
  }
 ],
 "metadata": {
  "kernelspec": {
   "display_name": "Python 3 (ipykernel)",
   "language": "python",
   "name": "python3"
  },
  "language_info": {
   "codemirror_mode": {
    "name": "ipython",
    "version": 3
   },
   "file_extension": ".py",
   "mimetype": "text/x-python",
   "name": "python",
   "nbconvert_exporter": "python",
   "pygments_lexer": "ipython3",
   "version": "3.8.8"
  }
 },
 "nbformat": 4,
 "nbformat_minor": 5
}
