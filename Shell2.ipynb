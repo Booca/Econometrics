{
 "cells": [
  {
   "cell_type": "markdown",
   "id": "50d04143-e59a-4f5e-9f1b-f4fde9277959",
   "metadata": {},
   "source": [
    "# Path in an operation system\n",
    "\n",
    "A **path** is a string of characters used to **uniquely** identify a **location** in a directory structure.\n",
    "\n",
    "Different layers of directories are separated using a `/` (sometimes other delimiting charaters are used, e.g. windows uses `\\`, but it can also recognize `/`). \n",
    "\n",
    "This **unique location** will help human or programming languages to locate a specific file. \n",
    "\n",
    "### Example\n",
    "1. `C:\\Users\\benx\\Desktop\\test.txt` indicate the file `test.txt` is located in a folder called `Desktop`, whose parent directory is `benx`, whose parent directory is `Users`, and the `Users` folder is in the `C` drive.\n",
    "\n",
    "2. `/Users/benx/Desktop/test.txt` indicates the file `test.txt` is located in a folder called `Desktop`\n",
    "\n",
    "> Note that Mac OS do not have a drive symbol. The path stars with a `\\`"
   ]
  },
  {
   "cell_type": "markdown",
   "id": "a8e5a329-97ab-42d5-8119-401111d9e98e",
   "metadata": {},
   "source": [
    "## How to find the full path?\n",
    "\n",
    "Mac: right click a file - press and hold <kbd>option</kbd> - copy xxx as path name\n",
    "\n",
    "Windows: right click a file - properties - location"
   ]
  },
  {
   "cell_type": "markdown",
   "id": "c214ab2c-0f11-41a7-9f76-ec201012e06e",
   "metadata": {
    "tags": []
   },
   "source": [
    "## Relative Path\n",
    "The two examples given above are the full path or the **absolute path** for a directory or a file. But for simplicity, we can shorten the expression using relative path.\n",
    "\n",
    "In both Mac and Windows system, we have:\n",
    " - `/` shorts for the **root** of file system for *all users*\n",
    " - `~` shorts for the **home directory**\n",
    " > This is the \"root\" of the current user, and the start-path of your terminal\n",
    " - `.` shorts for the **working directory**, which means the current location\n",
    " - `..` shorts for the **parent directory**\n",
    " \n",
    "You can then concatenate these symbols with the rest of the Path. For instance,\n",
    "\n",
    "`~/ECO301` prepends the **home directory** - `/Users/benx` to the rest of the Path. So it stands for the full path `/Users/benx/ECO301`.\n",
    "\n",
    "`./ECO301/week2` prepends the **working directory** - depending on where you locate - to the rest of the Path."
   ]
  },
  {
   "cell_type": "markdown",
   "id": "6dd88751-6c3c-41f2-a3d2-df6e5107503b",
   "metadata": {
    "tags": []
   },
   "source": [
    "# View text in Terminal\n",
    "\n",
    "`cat filename.txt` \n",
    "\n",
    "The output will display the contents of the file. Very often the contents of a text file are too large to fit on a single screen, and will go scrolling off the top before you can read it all. \n",
    "\n",
    "`head filename.txt` allows you to read the first few lines. \\\n",
    "`tail filename.txt` allows you to read the last few lines \\\n",
    "\n",
    "You can also specify the `-n ` option to read a specific number of lines"
   ]
  },
  {
   "cell_type": "code",
   "execution_count": 2,
   "id": "d57efe24-3565-4e17-8259-e06d69309987",
   "metadata": {},
   "outputs": [
    {
     "name": "stdout",
     "output_type": "stream",
     "text": [
      "1\n",
      "2\n"
     ]
    }
   ],
   "source": [
    "! head -n 2 test.txt"
   ]
  },
  {
   "cell_type": "markdown",
   "id": "99be5cf5-5ab2-4c33-9bce-0f3266351f57",
   "metadata": {},
   "source": [
    "# POWERSHELL Equivalent for head and tail\n",
    "\n",
    "`cat test.txt | Select-object -first 2` or \\\n",
    "`cat test.txt | Select-object -last 2`"
   ]
  }
 ],
 "metadata": {
  "kernelspec": {
   "display_name": "Python 3 (ipykernel)",
   "language": "python",
   "name": "python3"
  },
  "language_info": {
   "codemirror_mode": {
    "name": "ipython",
    "version": 3
   },
   "file_extension": ".py",
   "mimetype": "text/x-python",
   "name": "python",
   "nbconvert_exporter": "python",
   "pygments_lexer": "ipython3",
   "version": "3.8.8"
  }
 },
 "nbformat": 4,
 "nbformat_minor": 5
}
