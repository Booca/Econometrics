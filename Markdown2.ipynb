{
 "cells": [
  {
   "cell_type": "markdown",
   "id": "2ae9c1b8-00a7-43ba-9a22-797c1eb6702f",
   "metadata": {
    "tags": []
   },
   "source": [
    "# Markdown 2\n",
    "\n",
    "**link**\n",
    "\n",
    "`[name to display](https://...)`\n",
    "\n",
    "**figure**\n",
    "\n",
    "`![name to display if figure can't show](path to the figure)`\n",
    "\n",
    "\n",
    "**Code**\n",
    "\n",
    "```\n",
    "` `\n",
    "```\n",
    "\n",
    "**Code Block**\n",
    "\n",
    "````\n",
    "```\n",
    "```\n",
    "````"
   ]
  }
 ],
 "metadata": {
  "kernelspec": {
   "display_name": "Python 3 (ipykernel)",
   "language": "python",
   "name": "python3"
  },
  "language_info": {
   "codemirror_mode": {
    "name": "ipython",
    "version": 3
   },
   "file_extension": ".py",
   "mimetype": "text/x-python",
   "name": "python",
   "nbconvert_exporter": "python",
   "pygments_lexer": "ipython3",
   "version": "3.8.8"
  }
 },
 "nbformat": 4,
 "nbformat_minor": 5
}
