{
 "cells": [
  {
   "cell_type": "markdown",
   "id": "05d4535a-4446-4eb5-a3c7-c5d43f44a2cf",
   "metadata": {},
   "source": [
    "# OLS with Time Series Data"
   ]
  },
  {
   "cell_type": "markdown",
   "id": "977d70e9-5aa0-474c-922e-797d8ce1fd3a",
   "metadata": {},
   "source": [
    "## Time Series Data\n",
    "\n",
    "Time series differ from cross-sectional data in that each observation corresponds to one point or period in time, hence intertemporal correlations should also be considered while building the model."
   ]
  },
  {
   "cell_type": "markdown",
   "id": "7b79b594-0ee5-4aaa-aed2-fafef47a8673",
   "metadata": {},
   "source": [
    "## 1. Static Time Series Models\n",
    "\n",
    "Static time series regression model treats a time series model the same as a cross-sectional model, i.e.\n",
    "\n",
    "$$y_t = \\beta_0 + \\beta_1 x_{1t} + \\beta_2 x_{2t} + \\dots + u_t$$"
   ]
  },
  {
   "cell_type": "markdown",
   "id": "2780af6e-2016-4895-b813-1714672ff76d",
   "metadata": {},
   "source": [
    "In this specification, the fact that we have time series does not make any practical difference. This is a valid model, if the dependent variable is a flow- instead of stock- variable -- The acceleration of a car at time t+1 has nothing to do with its acceleration at time t."
   ]
  },
  {
   "cell_type": "markdown",
   "id": "46abebf1-7e19-4763-85a7-328ca8539652",
   "metadata": {},
   "source": [
    "We can still use **ols** from **statsmodels** to estimate the parameters and the other tools for statistical inference. We only have to be aware that the assumptions needed for unbiased estimation and valid inference differ somewhat. Important differences to cross-sectional data are that we have a potential omitted variable bias (if y dependents on its previous values), and a potential serial correlation."
   ]
  },
  {
   "cell_type": "markdown",
   "id": "3c1f03f1-b990-4719-8ea2-166b1bd9e64d",
   "metadata": {},
   "source": [
    "As an example, the static Phillips curve describes the contemporaneous trade-off between inflation and unemployment rate.\n",
    "$$inflation_t = \\beta_0 +\\beta_1 unemployment_t + u$$"
   ]
  },
  {
   "cell_type": "markdown",
   "id": "038503dc-6180-4cd4-975b-ba7881cf56aa",
   "metadata": {},
   "source": [
    "Exercise: The dataset INTDEF contains yearly information on interest rates and related time series between 1948 and 2003. Try to estimates a static model explaining the relationship of interest rate **i3** with the inflation rate **inf** and the federal budget deficit **def**. "
   ]
  },
  {
   "cell_type": "code",
   "execution_count": 1,
   "id": "c186863c-4aa7-452e-a4ce-b77ca7827191",
   "metadata": {
    "tags": []
   },
   "outputs": [
    {
     "name": "stdout",
     "output_type": "stream",
     "text": [
      "                            OLS Regression Results                            \n",
      "==============================================================================\n",
      "Dep. Variable:                     i3   R-squared:                       0.602\n",
      "Model:                            OLS   Adj. R-squared:                  0.587\n",
      "Method:                 Least Squares   F-statistic:                     40.09\n",
      "Date:                Wed, 27 Apr 2022   Prob (F-statistic):           2.48e-11\n",
      "Time:                        13:34:53   Log-Likelihood:                -112.16\n",
      "No. Observations:                  56   AIC:                             230.3\n",
      "Df Residuals:                      53   BIC:                             236.4\n",
      "Df Model:                           2                                         \n",
      "Covariance Type:            nonrobust                                         \n",
      "==============================================================================\n",
      "                 coef    std err          t      P>|t|      [0.025      0.975]\n",
      "------------------------------------------------------------------------------\n",
      "Intercept      1.7333      0.432      4.012      0.000       0.867       2.600\n",
      "Q('inf')       0.6059      0.082      7.376      0.000       0.441       0.771\n",
      "Q('def')       0.5131      0.118      4.334      0.000       0.276       0.751\n",
      "==============================================================================\n",
      "Omnibus:                        0.260   Durbin-Watson:                   0.716\n",
      "Prob(Omnibus):                  0.878   Jarque-Bera (JB):                0.015\n",
      "Skew:                          -0.028   Prob(JB):                        0.992\n",
      "Kurtosis:                       3.058   Cond. No.                         9.28\n",
      "==============================================================================\n",
      "\n",
      "Notes:\n",
      "[1] Standard Errors assume that the covariance matrix of the errors is correctly specified.\n"
     ]
    }
   ],
   "source": [
    "import wooldridge as woo\n",
    "import statsmodels.formula.api as smf\n",
    "df = woo.data(\"intdef\")\n",
    "\n",
    "#Q() avoids conflicts with keywords\n",
    "reg = smf.ols(\"i3~Q('inf')+Q('def')\", data=df)\n",
    "res = reg.fit()\n",
    "print(res.summary())"
   ]
  },
  {
   "cell_type": "markdown",
   "id": "a325c4d1-4d2a-42d4-bd4e-5e3bb5031e19",
   "metadata": {},
   "source": [
    "## 2. Dealing with Time Series Data using Pandas\n",
    "\n"
   ]
  },
  {
   "cell_type": "markdown",
   "id": "92fbf9d2-12b4-40d5-9d74-5d6cbc01c43b",
   "metadata": {},
   "source": [
    "Before we introduce other time series models, let's first take a look at how to generate lags, trends, and seasonal effects using **pandas**.\n",
    "\n",
    "### Equispaced Time Series\n",
    "\n",
    "pandas DataFrame provide convenient ways to deal with equispaced time series. Instead of create a new time column, we can use the **[date_range](https://pandas.pydata.org/docs/reference/api/pandas.date_range.html)** function to create a new time index for the data frame. \n",
    "\n",
    "```python\n",
    "df.index = pd.date_range(start='1978-02', periods=30, freq='M')\n",
    "```\n",
    "\n",
    "There four important arguments for `pd.date_range()` function \n",
    "\n",
    "- start/end: Left/ right bound of the timeframe is accepted in different formats. All examples create the same starting/ending date.\n",
    "\n",
    "    - start='1978-02'\n",
    "    - start='1978-02-01'\n",
    "    - start='02/01/1978'\n",
    "    - start='2/1/1978'\n",
    "\n",
    "- periods: Number of equispaced points in time you need to generate\n",
    "- freq: Number of observations per time unit. Examples:\n",
    "    - freq='Y': Yearly data (at the end of a year)\n",
    "    - freq='QS': Quarterly data (at the beginning of a quarter)\n",
    "    - freq='M': Monthly data(at the end of a month)\n",
    "\n",
    "> You need to specify at least 3 arguments.\n"
   ]
  },
  {
   "cell_type": "markdown",
   "id": "a3ac53ce-7a2d-4c53-92f7-a86ce3c727c3",
   "metadata": {},
   "source": [
    "Example: consider the data set *BARIUM*. It contains monthly data on imports of barium chloride from China between February 1978 and December 1988. "
   ]
  },
  {
   "cell_type": "code",
   "execution_count": 2,
   "id": "f7a3c5a4-bdbd-40b0-9a90-a56b59066f86",
   "metadata": {},
   "outputs": [
    {
     "data": {
      "text/html": [
       "<div>\n",
       "<style scoped>\n",
       "    .dataframe tbody tr th:only-of-type {\n",
       "        vertical-align: middle;\n",
       "    }\n",
       "\n",
       "    .dataframe tbody tr th {\n",
       "        vertical-align: top;\n",
       "    }\n",
       "\n",
       "    .dataframe thead th {\n",
       "        text-align: right;\n",
       "    }\n",
       "</style>\n",
       "<table border=\"1\" class=\"dataframe\">\n",
       "  <thead>\n",
       "    <tr style=\"text-align: right;\">\n",
       "      <th></th>\n",
       "      <th>chnimp</th>\n",
       "      <th>bchlimp</th>\n",
       "      <th>befile6</th>\n",
       "      <th>affile6</th>\n",
       "      <th>afdec6</th>\n",
       "      <th>befile12</th>\n",
       "      <th>affile12</th>\n",
       "      <th>afdec12</th>\n",
       "      <th>chempi</th>\n",
       "      <th>gas</th>\n",
       "      <th>...</th>\n",
       "      <th>apr</th>\n",
       "      <th>may</th>\n",
       "      <th>jun</th>\n",
       "      <th>jul</th>\n",
       "      <th>aug</th>\n",
       "      <th>sep</th>\n",
       "      <th>oct</th>\n",
       "      <th>nov</th>\n",
       "      <th>dec</th>\n",
       "      <th>percchn</th>\n",
       "    </tr>\n",
       "  </thead>\n",
       "  <tbody>\n",
       "    <tr>\n",
       "      <th>0</th>\n",
       "      <td>220.462006</td>\n",
       "      <td>9578.375977</td>\n",
       "      <td>0</td>\n",
       "      <td>0</td>\n",
       "      <td>0</td>\n",
       "      <td>0</td>\n",
       "      <td>0</td>\n",
       "      <td>0</td>\n",
       "      <td>100.099998</td>\n",
       "      <td>7.830000e+09</td>\n",
       "      <td>...</td>\n",
       "      <td>0</td>\n",
       "      <td>0</td>\n",
       "      <td>0</td>\n",
       "      <td>0</td>\n",
       "      <td>0</td>\n",
       "      <td>0</td>\n",
       "      <td>0</td>\n",
       "      <td>0</td>\n",
       "      <td>0</td>\n",
       "      <td>2.301664</td>\n",
       "    </tr>\n",
       "    <tr>\n",
       "      <th>1</th>\n",
       "      <td>94.797997</td>\n",
       "      <td>11219.480469</td>\n",
       "      <td>0</td>\n",
       "      <td>0</td>\n",
       "      <td>0</td>\n",
       "      <td>0</td>\n",
       "      <td>0</td>\n",
       "      <td>0</td>\n",
       "      <td>100.900002</td>\n",
       "      <td>8.820000e+09</td>\n",
       "      <td>...</td>\n",
       "      <td>0</td>\n",
       "      <td>0</td>\n",
       "      <td>0</td>\n",
       "      <td>0</td>\n",
       "      <td>0</td>\n",
       "      <td>0</td>\n",
       "      <td>0</td>\n",
       "      <td>0</td>\n",
       "      <td>0</td>\n",
       "      <td>0.844941</td>\n",
       "    </tr>\n",
       "    <tr>\n",
       "      <th>2</th>\n",
       "      <td>219.357498</td>\n",
       "      <td>9719.900391</td>\n",
       "      <td>0</td>\n",
       "      <td>0</td>\n",
       "      <td>0</td>\n",
       "      <td>0</td>\n",
       "      <td>0</td>\n",
       "      <td>0</td>\n",
       "      <td>101.099998</td>\n",
       "      <td>8.450000e+09</td>\n",
       "      <td>...</td>\n",
       "      <td>1</td>\n",
       "      <td>0</td>\n",
       "      <td>0</td>\n",
       "      <td>0</td>\n",
       "      <td>0</td>\n",
       "      <td>0</td>\n",
       "      <td>0</td>\n",
       "      <td>0</td>\n",
       "      <td>0</td>\n",
       "      <td>2.256788</td>\n",
       "    </tr>\n",
       "    <tr>\n",
       "      <th>3</th>\n",
       "      <td>317.421509</td>\n",
       "      <td>12920.950195</td>\n",
       "      <td>0</td>\n",
       "      <td>0</td>\n",
       "      <td>0</td>\n",
       "      <td>0</td>\n",
       "      <td>0</td>\n",
       "      <td>0</td>\n",
       "      <td>102.500000</td>\n",
       "      <td>9.240001e+09</td>\n",
       "      <td>...</td>\n",
       "      <td>0</td>\n",
       "      <td>1</td>\n",
       "      <td>0</td>\n",
       "      <td>0</td>\n",
       "      <td>0</td>\n",
       "      <td>0</td>\n",
       "      <td>0</td>\n",
       "      <td>0</td>\n",
       "      <td>0</td>\n",
       "      <td>2.456642</td>\n",
       "    </tr>\n",
       "    <tr>\n",
       "      <th>4</th>\n",
       "      <td>114.639000</td>\n",
       "      <td>9790.446289</td>\n",
       "      <td>0</td>\n",
       "      <td>0</td>\n",
       "      <td>0</td>\n",
       "      <td>0</td>\n",
       "      <td>0</td>\n",
       "      <td>0</td>\n",
       "      <td>104.099998</td>\n",
       "      <td>9.150000e+09</td>\n",
       "      <td>...</td>\n",
       "      <td>0</td>\n",
       "      <td>0</td>\n",
       "      <td>1</td>\n",
       "      <td>0</td>\n",
       "      <td>0</td>\n",
       "      <td>0</td>\n",
       "      <td>0</td>\n",
       "      <td>0</td>\n",
       "      <td>0</td>\n",
       "      <td>1.170927</td>\n",
       "    </tr>\n",
       "  </tbody>\n",
       "</table>\n",
       "<p>5 rows × 31 columns</p>\n",
       "</div>"
      ],
      "text/plain": [
       "       chnimp       bchlimp  befile6  affile6  afdec6  befile12  affile12  \\\n",
       "0  220.462006   9578.375977        0        0       0         0         0   \n",
       "1   94.797997  11219.480469        0        0       0         0         0   \n",
       "2  219.357498   9719.900391        0        0       0         0         0   \n",
       "3  317.421509  12920.950195        0        0       0         0         0   \n",
       "4  114.639000   9790.446289        0        0       0         0         0   \n",
       "\n",
       "   afdec12      chempi           gas  ...  apr  may  jun  jul  aug  sep  oct  \\\n",
       "0        0  100.099998  7.830000e+09  ...    0    0    0    0    0    0    0   \n",
       "1        0  100.900002  8.820000e+09  ...    0    0    0    0    0    0    0   \n",
       "2        0  101.099998  8.450000e+09  ...    1    0    0    0    0    0    0   \n",
       "3        0  102.500000  9.240001e+09  ...    0    1    0    0    0    0    0   \n",
       "4        0  104.099998  9.150000e+09  ...    0    0    1    0    0    0    0   \n",
       "\n",
       "   nov  dec   percchn  \n",
       "0    0    0  2.301664  \n",
       "1    0    0  0.844941  \n",
       "2    0    0  2.256788  \n",
       "3    0    0  2.456642  \n",
       "4    0    0  1.170927  \n",
       "\n",
       "[5 rows x 31 columns]"
      ]
     },
     "execution_count": 2,
     "metadata": {},
     "output_type": "execute_result"
    }
   ],
   "source": [
    "import wooldridge as woo\n",
    "import pandas as pd\n",
    "\n",
    "df = woo.data(\"barium\")\n",
    "df.head()"
   ]
  },
  {
   "cell_type": "code",
   "execution_count": 3,
   "id": "1fda2117-7efd-48ef-9f11-ced31766f10e",
   "metadata": {},
   "outputs": [
    {
     "data": {
      "text/plain": [
       "DatetimeIndex(['1978-02-28', '1978-03-31', '1978-04-30', '1978-05-31',\n",
       "               '1978-06-30', '1978-07-31', '1978-08-31', '1978-09-30',\n",
       "               '1978-10-31', '1978-11-30',\n",
       "               ...\n",
       "               '1988-02-29', '1988-03-31', '1988-04-30', '1988-05-31',\n",
       "               '1988-06-30', '1988-07-31', '1988-08-31', '1988-09-30',\n",
       "               '1988-10-31', '1988-11-30'],\n",
       "              dtype='datetime64[ns]', length=130, freq='M')"
      ]
     },
     "execution_count": 3,
     "metadata": {},
     "output_type": "execute_result"
    }
   ],
   "source": [
    "pd.date_range(\"1978-02\",\"1988-12\",freq=\"M\")"
   ]
  },
  {
   "cell_type": "code",
   "execution_count": 4,
   "id": "61ef63d3-c0bf-4f8f-a3e9-fba8c79fe693",
   "metadata": {},
   "outputs": [
    {
     "data": {
      "text/html": [
       "<div>\n",
       "<style scoped>\n",
       "    .dataframe tbody tr th:only-of-type {\n",
       "        vertical-align: middle;\n",
       "    }\n",
       "\n",
       "    .dataframe tbody tr th {\n",
       "        vertical-align: top;\n",
       "    }\n",
       "\n",
       "    .dataframe thead th {\n",
       "        text-align: right;\n",
       "    }\n",
       "</style>\n",
       "<table border=\"1\" class=\"dataframe\">\n",
       "  <thead>\n",
       "    <tr style=\"text-align: right;\">\n",
       "      <th></th>\n",
       "      <th>chnimp</th>\n",
       "      <th>bchlimp</th>\n",
       "      <th>befile6</th>\n",
       "      <th>affile6</th>\n",
       "      <th>afdec6</th>\n",
       "      <th>befile12</th>\n",
       "      <th>affile12</th>\n",
       "      <th>afdec12</th>\n",
       "      <th>chempi</th>\n",
       "      <th>gas</th>\n",
       "      <th>...</th>\n",
       "      <th>apr</th>\n",
       "      <th>may</th>\n",
       "      <th>jun</th>\n",
       "      <th>jul</th>\n",
       "      <th>aug</th>\n",
       "      <th>sep</th>\n",
       "      <th>oct</th>\n",
       "      <th>nov</th>\n",
       "      <th>dec</th>\n",
       "      <th>percchn</th>\n",
       "    </tr>\n",
       "  </thead>\n",
       "  <tbody>\n",
       "    <tr>\n",
       "      <th>1978-02-28</th>\n",
       "      <td>220.462006</td>\n",
       "      <td>9578.375977</td>\n",
       "      <td>0</td>\n",
       "      <td>0</td>\n",
       "      <td>0</td>\n",
       "      <td>0</td>\n",
       "      <td>0</td>\n",
       "      <td>0</td>\n",
       "      <td>100.099998</td>\n",
       "      <td>7.830000e+09</td>\n",
       "      <td>...</td>\n",
       "      <td>0</td>\n",
       "      <td>0</td>\n",
       "      <td>0</td>\n",
       "      <td>0</td>\n",
       "      <td>0</td>\n",
       "      <td>0</td>\n",
       "      <td>0</td>\n",
       "      <td>0</td>\n",
       "      <td>0</td>\n",
       "      <td>2.301664</td>\n",
       "    </tr>\n",
       "    <tr>\n",
       "      <th>1978-03-31</th>\n",
       "      <td>94.797997</td>\n",
       "      <td>11219.480469</td>\n",
       "      <td>0</td>\n",
       "      <td>0</td>\n",
       "      <td>0</td>\n",
       "      <td>0</td>\n",
       "      <td>0</td>\n",
       "      <td>0</td>\n",
       "      <td>100.900002</td>\n",
       "      <td>8.820000e+09</td>\n",
       "      <td>...</td>\n",
       "      <td>0</td>\n",
       "      <td>0</td>\n",
       "      <td>0</td>\n",
       "      <td>0</td>\n",
       "      <td>0</td>\n",
       "      <td>0</td>\n",
       "      <td>0</td>\n",
       "      <td>0</td>\n",
       "      <td>0</td>\n",
       "      <td>0.844941</td>\n",
       "    </tr>\n",
       "    <tr>\n",
       "      <th>1978-04-30</th>\n",
       "      <td>219.357498</td>\n",
       "      <td>9719.900391</td>\n",
       "      <td>0</td>\n",
       "      <td>0</td>\n",
       "      <td>0</td>\n",
       "      <td>0</td>\n",
       "      <td>0</td>\n",
       "      <td>0</td>\n",
       "      <td>101.099998</td>\n",
       "      <td>8.450000e+09</td>\n",
       "      <td>...</td>\n",
       "      <td>1</td>\n",
       "      <td>0</td>\n",
       "      <td>0</td>\n",
       "      <td>0</td>\n",
       "      <td>0</td>\n",
       "      <td>0</td>\n",
       "      <td>0</td>\n",
       "      <td>0</td>\n",
       "      <td>0</td>\n",
       "      <td>2.256788</td>\n",
       "    </tr>\n",
       "    <tr>\n",
       "      <th>1978-05-31</th>\n",
       "      <td>317.421509</td>\n",
       "      <td>12920.950195</td>\n",
       "      <td>0</td>\n",
       "      <td>0</td>\n",
       "      <td>0</td>\n",
       "      <td>0</td>\n",
       "      <td>0</td>\n",
       "      <td>0</td>\n",
       "      <td>102.500000</td>\n",
       "      <td>9.240001e+09</td>\n",
       "      <td>...</td>\n",
       "      <td>0</td>\n",
       "      <td>1</td>\n",
       "      <td>0</td>\n",
       "      <td>0</td>\n",
       "      <td>0</td>\n",
       "      <td>0</td>\n",
       "      <td>0</td>\n",
       "      <td>0</td>\n",
       "      <td>0</td>\n",
       "      <td>2.456642</td>\n",
       "    </tr>\n",
       "    <tr>\n",
       "      <th>1978-06-30</th>\n",
       "      <td>114.639000</td>\n",
       "      <td>9790.446289</td>\n",
       "      <td>0</td>\n",
       "      <td>0</td>\n",
       "      <td>0</td>\n",
       "      <td>0</td>\n",
       "      <td>0</td>\n",
       "      <td>0</td>\n",
       "      <td>104.099998</td>\n",
       "      <td>9.150000e+09</td>\n",
       "      <td>...</td>\n",
       "      <td>0</td>\n",
       "      <td>0</td>\n",
       "      <td>1</td>\n",
       "      <td>0</td>\n",
       "      <td>0</td>\n",
       "      <td>0</td>\n",
       "      <td>0</td>\n",
       "      <td>0</td>\n",
       "      <td>0</td>\n",
       "      <td>1.170927</td>\n",
       "    </tr>\n",
       "  </tbody>\n",
       "</table>\n",
       "<p>5 rows × 31 columns</p>\n",
       "</div>"
      ],
      "text/plain": [
       "                chnimp       bchlimp  befile6  affile6  afdec6  befile12  \\\n",
       "1978-02-28  220.462006   9578.375977        0        0       0         0   \n",
       "1978-03-31   94.797997  11219.480469        0        0       0         0   \n",
       "1978-04-30  219.357498   9719.900391        0        0       0         0   \n",
       "1978-05-31  317.421509  12920.950195        0        0       0         0   \n",
       "1978-06-30  114.639000   9790.446289        0        0       0         0   \n",
       "\n",
       "            affile12  afdec12      chempi           gas  ...  apr  may  jun  \\\n",
       "1978-02-28         0        0  100.099998  7.830000e+09  ...    0    0    0   \n",
       "1978-03-31         0        0  100.900002  8.820000e+09  ...    0    0    0   \n",
       "1978-04-30         0        0  101.099998  8.450000e+09  ...    1    0    0   \n",
       "1978-05-31         0        0  102.500000  9.240001e+09  ...    0    1    0   \n",
       "1978-06-30         0        0  104.099998  9.150000e+09  ...    0    0    1   \n",
       "\n",
       "            jul  aug  sep  oct  nov  dec   percchn  \n",
       "1978-02-28    0    0    0    0    0    0  2.301664  \n",
       "1978-03-31    0    0    0    0    0    0  0.844941  \n",
       "1978-04-30    0    0    0    0    0    0  2.256788  \n",
       "1978-05-31    0    0    0    0    0    0  2.456642  \n",
       "1978-06-30    0    0    0    0    0    0  1.170927  \n",
       "\n",
       "[5 rows x 31 columns]"
      ]
     },
     "execution_count": 4,
     "metadata": {},
     "output_type": "execute_result"
    }
   ],
   "source": [
    "df.index = pd.date_range(\"1978-02\",periods=len(df),freq=\"M\")\n",
    "df.head()"
   ]
  },
  {
   "cell_type": "markdown",
   "id": "49b7ca7d-c0d4-44c7-afb9-9ac5e4e73339",
   "metadata": {},
   "source": [
    "The datetime elements in the date_range column belong to a class called [pandas.Timestamp](https://pandas.pydata.org/docs/reference/api/pandas.Timestamp.html#pandas.Timestamp)."
   ]
  },
  {
   "cell_type": "code",
   "execution_count": 5,
   "id": "c1991aa2-f615-41c9-8050-e1ac0abf68dc",
   "metadata": {},
   "outputs": [
    {
     "data": {
      "text/plain": [
       "Int64Index([1978, 1978, 1978, 1978, 1978, 1978, 1978, 1978, 1978, 1978,\n",
       "            ...\n",
       "            1988, 1988, 1988, 1988, 1988, 1988, 1988, 1988, 1988, 1988],\n",
       "           dtype='int64', length=131)"
      ]
     },
     "execution_count": 5,
     "metadata": {},
     "output_type": "execute_result"
    }
   ],
   "source": [
    "pd.date_range(\"1978-02\",periods=len(df),freq=\"M\").year"
   ]
  },
  {
   "cell_type": "code",
   "execution_count": 6,
   "id": "5af81c17-4c5f-4107-9120-cd5b0ae809fd",
   "metadata": {},
   "outputs": [
    {
     "data": {
      "text/html": [
       "<div>\n",
       "<style scoped>\n",
       "    .dataframe tbody tr th:only-of-type {\n",
       "        vertical-align: middle;\n",
       "    }\n",
       "\n",
       "    .dataframe tbody tr th {\n",
       "        vertical-align: top;\n",
       "    }\n",
       "\n",
       "    .dataframe thead th {\n",
       "        text-align: right;\n",
       "    }\n",
       "</style>\n",
       "<table border=\"1\" class=\"dataframe\">\n",
       "  <thead>\n",
       "    <tr style=\"text-align: right;\">\n",
       "      <th></th>\n",
       "      <th>chnimp</th>\n",
       "      <th>bchlimp</th>\n",
       "      <th>befile6</th>\n",
       "      <th>affile6</th>\n",
       "      <th>afdec6</th>\n",
       "      <th>befile12</th>\n",
       "      <th>affile12</th>\n",
       "      <th>afdec12</th>\n",
       "      <th>chempi</th>\n",
       "      <th>gas</th>\n",
       "      <th>...</th>\n",
       "      <th>apr</th>\n",
       "      <th>may</th>\n",
       "      <th>jun</th>\n",
       "      <th>jul</th>\n",
       "      <th>aug</th>\n",
       "      <th>sep</th>\n",
       "      <th>oct</th>\n",
       "      <th>nov</th>\n",
       "      <th>dec</th>\n",
       "      <th>percchn</th>\n",
       "    </tr>\n",
       "  </thead>\n",
       "  <tbody>\n",
       "    <tr>\n",
       "      <th>1978-02-28</th>\n",
       "      <td>220.462006</td>\n",
       "      <td>9578.375977</td>\n",
       "      <td>0</td>\n",
       "      <td>0</td>\n",
       "      <td>0</td>\n",
       "      <td>0</td>\n",
       "      <td>0</td>\n",
       "      <td>0</td>\n",
       "      <td>100.099998</td>\n",
       "      <td>7.830000e+09</td>\n",
       "      <td>...</td>\n",
       "      <td>0</td>\n",
       "      <td>0</td>\n",
       "      <td>0</td>\n",
       "      <td>0</td>\n",
       "      <td>0</td>\n",
       "      <td>0</td>\n",
       "      <td>0</td>\n",
       "      <td>0</td>\n",
       "      <td>0</td>\n",
       "      <td>2.301664</td>\n",
       "    </tr>\n",
       "    <tr>\n",
       "      <th>1978-03-31</th>\n",
       "      <td>94.797997</td>\n",
       "      <td>11219.480469</td>\n",
       "      <td>0</td>\n",
       "      <td>0</td>\n",
       "      <td>0</td>\n",
       "      <td>0</td>\n",
       "      <td>0</td>\n",
       "      <td>0</td>\n",
       "      <td>100.900002</td>\n",
       "      <td>8.820000e+09</td>\n",
       "      <td>...</td>\n",
       "      <td>0</td>\n",
       "      <td>0</td>\n",
       "      <td>0</td>\n",
       "      <td>0</td>\n",
       "      <td>0</td>\n",
       "      <td>0</td>\n",
       "      <td>0</td>\n",
       "      <td>0</td>\n",
       "      <td>0</td>\n",
       "      <td>0.844941</td>\n",
       "    </tr>\n",
       "    <tr>\n",
       "      <th>1978-04-30</th>\n",
       "      <td>219.357498</td>\n",
       "      <td>9719.900391</td>\n",
       "      <td>0</td>\n",
       "      <td>0</td>\n",
       "      <td>0</td>\n",
       "      <td>0</td>\n",
       "      <td>0</td>\n",
       "      <td>0</td>\n",
       "      <td>101.099998</td>\n",
       "      <td>8.450000e+09</td>\n",
       "      <td>...</td>\n",
       "      <td>1</td>\n",
       "      <td>0</td>\n",
       "      <td>0</td>\n",
       "      <td>0</td>\n",
       "      <td>0</td>\n",
       "      <td>0</td>\n",
       "      <td>0</td>\n",
       "      <td>0</td>\n",
       "      <td>0</td>\n",
       "      <td>2.256788</td>\n",
       "    </tr>\n",
       "    <tr>\n",
       "      <th>1978-05-31</th>\n",
       "      <td>317.421509</td>\n",
       "      <td>12920.950195</td>\n",
       "      <td>0</td>\n",
       "      <td>0</td>\n",
       "      <td>0</td>\n",
       "      <td>0</td>\n",
       "      <td>0</td>\n",
       "      <td>0</td>\n",
       "      <td>102.500000</td>\n",
       "      <td>9.240001e+09</td>\n",
       "      <td>...</td>\n",
       "      <td>0</td>\n",
       "      <td>1</td>\n",
       "      <td>0</td>\n",
       "      <td>0</td>\n",
       "      <td>0</td>\n",
       "      <td>0</td>\n",
       "      <td>0</td>\n",
       "      <td>0</td>\n",
       "      <td>0</td>\n",
       "      <td>2.456642</td>\n",
       "    </tr>\n",
       "    <tr>\n",
       "      <th>1978-06-30</th>\n",
       "      <td>114.639000</td>\n",
       "      <td>9790.446289</td>\n",
       "      <td>0</td>\n",
       "      <td>0</td>\n",
       "      <td>0</td>\n",
       "      <td>0</td>\n",
       "      <td>0</td>\n",
       "      <td>0</td>\n",
       "      <td>104.099998</td>\n",
       "      <td>9.150000e+09</td>\n",
       "      <td>...</td>\n",
       "      <td>0</td>\n",
       "      <td>0</td>\n",
       "      <td>1</td>\n",
       "      <td>0</td>\n",
       "      <td>0</td>\n",
       "      <td>0</td>\n",
       "      <td>0</td>\n",
       "      <td>0</td>\n",
       "      <td>0</td>\n",
       "      <td>1.170927</td>\n",
       "    </tr>\n",
       "  </tbody>\n",
       "</table>\n",
       "<p>5 rows × 31 columns</p>\n",
       "</div>"
      ],
      "text/plain": [
       "                chnimp       bchlimp  befile6  affile6  afdec6  befile12  \\\n",
       "1978-02-28  220.462006   9578.375977        0        0       0         0   \n",
       "1978-03-31   94.797997  11219.480469        0        0       0         0   \n",
       "1978-04-30  219.357498   9719.900391        0        0       0         0   \n",
       "1978-05-31  317.421509  12920.950195        0        0       0         0   \n",
       "1978-06-30  114.639000   9790.446289        0        0       0         0   \n",
       "\n",
       "            affile12  afdec12      chempi           gas  ...  apr  may  jun  \\\n",
       "1978-02-28         0        0  100.099998  7.830000e+09  ...    0    0    0   \n",
       "1978-03-31         0        0  100.900002  8.820000e+09  ...    0    0    0   \n",
       "1978-04-30         0        0  101.099998  8.450000e+09  ...    1    0    0   \n",
       "1978-05-31         0        0  102.500000  9.240001e+09  ...    0    1    0   \n",
       "1978-06-30         0        0  104.099998  9.150000e+09  ...    0    0    1   \n",
       "\n",
       "            jul  aug  sep  oct  nov  dec   percchn  \n",
       "1978-02-28    0    0    0    0    0    0  2.301664  \n",
       "1978-03-31    0    0    0    0    0    0  0.844941  \n",
       "1978-04-30    0    0    0    0    0    0  2.256788  \n",
       "1978-05-31    0    0    0    0    0    0  2.456642  \n",
       "1978-06-30    0    0    0    0    0    0  1.170927  \n",
       "\n",
       "[5 rows x 31 columns]"
      ]
     },
     "execution_count": 6,
     "metadata": {},
     "output_type": "execute_result"
    }
   ],
   "source": [
    "df.index = pd.date_range(\"1978-02\",periods=len(df),freq=\"M\")\n",
    "df.head()"
   ]
  },
  {
   "cell_type": "code",
   "execution_count": 7,
   "id": "1fc97978-561a-4965-b14c-0f17b0fcacae",
   "metadata": {},
   "outputs": [
    {
     "data": {
      "image/png": "[encoded data removed]",
      "text/plain": [
       "<Figure size 432x288 with 1 Axes>"
      ]
     },
     "metadata": {
      "needs_background": "light"
     },
     "output_type": "display_data"
    }
   ],
   "source": [
    "import matplotlib.pyplot as plt\n",
    "plt.plot(df[\"chnimp\"]) # if only one series is provided, index is used by default\n",
    "plt.ylabel(\"chnimp\")\n",
    "plt.xlabel(\"time\")\n",
    "plt.show()"
   ]
  },
  {
   "cell_type": "markdown",
   "id": "2eadd2bd-4511-4182-bc9e-df1aa5887811",
   "metadata": {},
   "source": [
    "> Another function called pd.bdate_range() using business days by default."
   ]
  },
  {
   "cell_type": "markdown",
   "id": "c85d34b6-8043-494a-895b-f784b017d95c",
   "metadata": {},
   "source": [
    "### Custom frequency ranges\n",
    "\n",
    "bdate_range() can also generate a range of custom frequency dates by using the `weekmask` and `holidays` parameters. These parameters will only be used if a custom frequency string is passed."
   ]
  },
  {
   "cell_type": "code",
   "execution_count": 8,
   "id": "02670f12-4db0-40d1-a713-d676521774a8",
   "metadata": {},
   "outputs": [
    {
     "data": {
      "text/plain": [
       "DatetimeIndex(['2021-11-01', '2021-11-03', '2021-11-05', '2021-11-08',\n",
       "               '2021-11-10', '2021-11-12', '2021-11-15', '2021-11-17',\n",
       "               '2021-11-19', '2021-11-24', '2021-11-26', '2021-11-29',\n",
       "               '2021-12-01'],\n",
       "              dtype='datetime64[ns]', freq='C')"
      ]
     },
     "execution_count": 8,
     "metadata": {},
     "output_type": "execute_result"
    }
   ],
   "source": [
    "weekmask = \"Mon Wed Fri\"\n",
    "holidays = [\"2021-11-22\"]\n",
    "# use freq=\"C\" for custom frequencies\n",
    "pd.bdate_range(start=\"2021-11-01\", end=\"2021-12-01\", freq=\"C\", weekmask=weekmask, holidays=holidays)"
   ]
  },
  {
   "cell_type": "markdown",
   "id": "48ad931a-85e6-4c8c-af9e-f414b1373a0e",
   "metadata": {},
   "source": [
    "### Convert to Datetime\n",
    "\n",
    "To convert a Series or list-like object of date-like objects, you can use the pd.to_datetime() function. When passed a Series, this returns a Series (with the same index), while a list-like is converted to a DatetimeIndex:"
   ]
  },
  {
   "cell_type": "code",
   "execution_count": 9,
   "id": "9009a729-2cb9-42fe-81aa-2e9a508a3823",
   "metadata": {},
   "outputs": [
    {
     "data": {
      "text/plain": [
       "0   2009-07-31\n",
       "1   2010-01-10\n",
       "2          NaT\n",
       "dtype: datetime64[ns]"
      ]
     },
     "execution_count": 9,
     "metadata": {},
     "output_type": "execute_result"
    }
   ],
   "source": [
    "pd.to_datetime(pd.Series([\"Jul 31, 2009\", \"2010-01-10\", None]))"
   ]
  },
  {
   "cell_type": "code",
   "execution_count": 10,
   "id": "9a261198-1605-4e28-88b9-a3bf277aba26",
   "metadata": {},
   "outputs": [
    {
     "data": {
      "text/plain": [
       "DatetimeIndex(['2009-07-31', '2010-01-10', 'NaT'], dtype='datetime64[ns]', freq=None)"
      ]
     },
     "execution_count": 10,
     "metadata": {},
     "output_type": "execute_result"
    }
   ],
   "source": [
    "pd.to_datetime([\"Jul 31, 2009\", \"2010-01-10\", None])"
   ]
  },
  {
   "cell_type": "markdown",
   "id": "bea4fe70-04d3-4bd7-bd8d-401efcfe4b7b",
   "metadata": {},
   "source": [
    "If the string format is irregular, you can also provide a format string. A complete list of datetime format can be found [here](https://docs.python.org/3/library/datetime.html#strftime-and-strptime-behavior)"
   ]
  },
  {
   "cell_type": "code",
   "execution_count": 11,
   "id": "82e88182-9218-4f42-97fc-74056a80115a",
   "metadata": {},
   "outputs": [
    {
     "data": {
      "text/plain": [
       "DatetimeIndex(['2021-11-22', '2021-11-23'], dtype='datetime64[ns]', freq=None)"
      ]
     },
     "execution_count": 11,
     "metadata": {},
     "output_type": "execute_result"
    }
   ],
   "source": [
    "pd.to_datetime([\"2021/11/22\",\"2021/11/23\"], format=\"%Y/%m/%d\")"
   ]
  },
  {
   "cell_type": "code",
   "execution_count": 12,
   "id": "a4adcd04-261c-4060-87ce-4f83ca7b751f",
   "metadata": {},
   "outputs": [
    {
     "data": {
      "text/plain": [
       "DatetimeIndex(['2021-11-22', '2021-11-23'], dtype='datetime64[ns]', freq=None)"
      ]
     },
     "execution_count": 12,
     "metadata": {},
     "output_type": "execute_result"
    }
   ],
   "source": [
    "pd.to_datetime([\"Nov 22 of 2021\",\"Nov 23 of 2021\"], format=\"%b %d of %Y\")"
   ]
  },
  {
   "cell_type": "markdown",
   "id": "4d8e0363-aa93-4a37-89bd-6b74c9a485a6",
   "metadata": {},
   "source": [
    "### Assembling datetime from multiple DataFrame column\n",
    "You can also pass a DataFrame of integer or string columns to assemble into a Series of Timestamps."
   ]
  },
  {
   "cell_type": "code",
   "execution_count": 13,
   "id": "c596a98e-8bdc-43ba-b250-b03c33a3d7aa",
   "metadata": {},
   "outputs": [
    {
     "data": {
      "text/html": [
       "<div>\n",
       "<style scoped>\n",
       "    .dataframe tbody tr th:only-of-type {\n",
       "        vertical-align: middle;\n",
       "    }\n",
       "\n",
       "    .dataframe tbody tr th {\n",
       "        vertical-align: top;\n",
       "    }\n",
       "\n",
       "    .dataframe thead th {\n",
       "        text-align: right;\n",
       "    }\n",
       "</style>\n",
       "<table border=\"1\" class=\"dataframe\">\n",
       "  <thead>\n",
       "    <tr style=\"text-align: right;\">\n",
       "      <th></th>\n",
       "      <th>year</th>\n",
       "      <th>month</th>\n",
       "      <th>day</th>\n",
       "      <th>hour</th>\n",
       "    </tr>\n",
       "  </thead>\n",
       "  <tbody>\n",
       "    <tr>\n",
       "      <th>0</th>\n",
       "      <td>2015</td>\n",
       "      <td>2</td>\n",
       "      <td>4</td>\n",
       "      <td>2</td>\n",
       "    </tr>\n",
       "    <tr>\n",
       "      <th>1</th>\n",
       "      <td>2016</td>\n",
       "      <td>3</td>\n",
       "      <td>5</td>\n",
       "      <td>3</td>\n",
       "    </tr>\n",
       "  </tbody>\n",
       "</table>\n",
       "</div>"
      ],
      "text/plain": [
       "   year  month  day  hour\n",
       "0  2015      2    4     2\n",
       "1  2016      3    5     3"
      ]
     },
     "execution_count": 13,
     "metadata": {},
     "output_type": "execute_result"
    }
   ],
   "source": [
    "df = pd.DataFrame({\"year\": [2015, 2016], \"month\": [2, 3], \"day\": [4, 5], \"hour\": [2, 3]})\n",
    "df"
   ]
  },
  {
   "cell_type": "code",
   "execution_count": 14,
   "id": "2ce55d8c-9656-4a86-baa3-33c4ae73bcd3",
   "metadata": {},
   "outputs": [
    {
     "data": {
      "text/plain": [
       "0   2015-02-04 02:00:00\n",
       "1   2016-03-05 03:00:00\n",
       "dtype: datetime64[ns]"
      ]
     },
     "execution_count": 14,
     "metadata": {},
     "output_type": "execute_result"
    }
   ],
   "source": [
    "pd.to_datetime(df[[\"year\",\"month\",\"day\",\"hour\"]])"
   ]
  },
  {
   "cell_type": "markdown",
   "id": "930acf93-b2d7-43f3-b28e-98a9c296abd4",
   "metadata": {},
   "source": [
    "### Using the origin Parameter\n",
    "Using the origin parameter, one can specify an alternative starting point for creation of a DatetimeIndex. For example, to use 1960-01-01 as the starting date:"
   ]
  },
  {
   "cell_type": "code",
   "execution_count": 15,
   "id": "69cc04a4-ed32-4ae7-93a3-97eeaa927f36",
   "metadata": {},
   "outputs": [
    {
     "data": {
      "text/plain": [
       "DatetimeIndex(['1960-01-02', '1960-01-03', '1960-01-04'], dtype='datetime64[ns]', freq=None)"
      ]
     },
     "execution_count": 15,
     "metadata": {},
     "output_type": "execute_result"
    }
   ],
   "source": [
    "pd.to_datetime([1, 2, 3], unit=\"D\", origin=\"1960-01-01\")"
   ]
  },
  {
   "cell_type": "markdown",
   "id": "33f3a957-11bf-4bef-a8c1-d3a3f04b96f4",
   "metadata": {},
   "source": [
    "> Check [here](https://pandas.pydata.org/docs/user_guide/timeseries.html#timeseries-offset-aliases) for a list of frequency aliases."
   ]
  },
  {
   "cell_type": "markdown",
   "id": "114e1a19-3e70-4379-a90a-32b519b5ae88",
   "metadata": {},
   "source": [
    "### Stock Data\n",
    "\n",
    "Daily financial data sets are important examples of irregular time series.  Because of weekends and bank holidays, these data are not equispaced and each data point contains a time stamp - usually the date. To demonstrate this, we will briefly look at the module **pandas_datareader** to download financial data from Yahoo Finance."
   ]
  },
  {
   "cell_type": "markdown",
   "id": "715eb3f8-67aa-48a3-91e4-caf4ed90a3c3",
   "metadata": {},
   "source": [
    "You can find the documentation for using [pandas_datareader](https://pydata.github.io/pandas-datareader/devel/remote_data.html#remote-data-yahoo) to access remote data sources. The pdr.data.DataReader() function takes four arguments.\n",
    "1. ticker list\n",
    "2. source\n",
    "3. start_date\n",
    "4. end_date"
   ]
  },
  {
   "cell_type": "markdown",
   "id": "4f4179be-9b37-47ef-9ca0-1ea2664f1d7d",
   "metadata": {},
   "source": [
    "Example: Download stock data for Ford Motor Company from 2021-01-01 to date."
   ]
  },
  {
   "cell_type": "code",
   "execution_count": 47,
   "id": "bb642720-4b91-4824-99d9-d1c7baeed81c",
   "metadata": {},
   "outputs": [
    {
     "data": {
      "text/html": [
       "<div>\n",
       "<style scoped>\n",
       "    .dataframe tbody tr th:only-of-type {\n",
       "        vertical-align: middle;\n",
       "    }\n",
       "\n",
       "    .dataframe tbody tr th {\n",
       "        vertical-align: top;\n",
       "    }\n",
       "\n",
       "    .dataframe thead tr th {\n",
       "        text-align: left;\n",
       "    }\n",
       "\n",
       "    .dataframe thead tr:last-of-type th {\n",
       "        text-align: right;\n",
       "    }\n",
       "</style>\n",
       "<table border=\"1\" class=\"dataframe\">\n",
       "  <thead>\n",
       "    <tr>\n",
       "      <th>Attributes</th>\n",
       "      <th>Adj Close</th>\n",
       "      <th>Close</th>\n",
       "      <th>High</th>\n",
       "      <th>Low</th>\n",
       "      <th>Open</th>\n",
       "      <th>Volume</th>\n",
       "    </tr>\n",
       "    <tr>\n",
       "      <th>Symbols</th>\n",
       "      <th>TSLA</th>\n",
       "      <th>TSLA</th>\n",
       "      <th>TSLA</th>\n",
       "      <th>TSLA</th>\n",
       "      <th>TSLA</th>\n",
       "      <th>TSLA</th>\n",
       "    </tr>\n",
       "    <tr>\n",
       "      <th>Date</th>\n",
       "      <th></th>\n",
       "      <th></th>\n",
       "      <th></th>\n",
       "      <th></th>\n",
       "      <th></th>\n",
       "      <th></th>\n",
       "    </tr>\n",
       "  </thead>\n",
       "  <tbody>\n",
       "    <tr>\n",
       "      <th>2022-01-03</th>\n",
       "      <td>1199.780029</td>\n",
       "      <td>1199.780029</td>\n",
       "      <td>1201.069946</td>\n",
       "      <td>1136.040039</td>\n",
       "      <td>1147.750000</td>\n",
       "      <td>34643800</td>\n",
       "    </tr>\n",
       "    <tr>\n",
       "      <th>2022-01-04</th>\n",
       "      <td>1149.589966</td>\n",
       "      <td>1149.589966</td>\n",
       "      <td>1208.000000</td>\n",
       "      <td>1123.050049</td>\n",
       "      <td>1189.550049</td>\n",
       "      <td>33416100</td>\n",
       "    </tr>\n",
       "    <tr>\n",
       "      <th>2022-01-05</th>\n",
       "      <td>1088.119995</td>\n",
       "      <td>1088.119995</td>\n",
       "      <td>1170.339966</td>\n",
       "      <td>1081.010010</td>\n",
       "      <td>1146.650024</td>\n",
       "      <td>26706600</td>\n",
       "    </tr>\n",
       "    <tr>\n",
       "      <th>2022-01-06</th>\n",
       "      <td>1064.699951</td>\n",
       "      <td>1064.699951</td>\n",
       "      <td>1088.000000</td>\n",
       "      <td>1020.500000</td>\n",
       "      <td>1077.000000</td>\n",
       "      <td>30112200</td>\n",
       "    </tr>\n",
       "    <tr>\n",
       "      <th>2022-01-07</th>\n",
       "      <td>1026.959961</td>\n",
       "      <td>1026.959961</td>\n",
       "      <td>1080.930054</td>\n",
       "      <td>1010.000000</td>\n",
       "      <td>1080.369995</td>\n",
       "      <td>28054900</td>\n",
       "    </tr>\n",
       "  </tbody>\n",
       "</table>\n",
       "</div>"
      ],
      "text/plain": [
       "Attributes    Adj Close        Close         High          Low         Open  \\\n",
       "Symbols            TSLA         TSLA         TSLA         TSLA         TSLA   \n",
       "Date                                                                          \n",
       "2022-01-03  1199.780029  1199.780029  1201.069946  1136.040039  1147.750000   \n",
       "2022-01-04  1149.589966  1149.589966  1208.000000  1123.050049  1189.550049   \n",
       "2022-01-05  1088.119995  1088.119995  1170.339966  1081.010010  1146.650024   \n",
       "2022-01-06  1064.699951  1064.699951  1088.000000  1020.500000  1077.000000   \n",
       "2022-01-07  1026.959961  1026.959961  1080.930054  1010.000000  1080.369995   \n",
       "\n",
       "Attributes    Volume  \n",
       "Symbols         TSLA  \n",
       "Date                  \n",
       "2022-01-03  34643800  \n",
       "2022-01-04  33416100  \n",
       "2022-01-05  26706600  \n",
       "2022-01-06  30112200  \n",
       "2022-01-07  28054900  "
      ]
     },
     "execution_count": 47,
     "metadata": {},
     "output_type": "execute_result"
    }
   ],
   "source": [
    "import pandas_datareader as pdr\n",
    "from datetime import date\n",
    "\n",
    "tickers = [\"TSLA\"]\n",
    "start_date = \"2022-01-01\"\n",
    "end_date = date.today()\n",
    "\n",
    "df = pdr.data.DataReader(tickers, \"yahoo\", start_date, end_date)\n",
    "df.head()"
   ]
  },
  {
   "cell_type": "code",
   "execution_count": 48,
   "id": "f673d7d7-dbcc-42e5-867d-3f467b102c5f",
   "metadata": {},
   "outputs": [
    {
     "data": {
      "text/plain": [
       "array([1199.7800293 , 1149.58996582, 1088.11999512, 1064.69995117,\n",
       "       1026.95996094, 1058.11999512, 1064.40002441, 1106.2199707 ,\n",
       "       1031.56005859, 1049.60998535, 1030.51000977,  995.65002441,\n",
       "        996.27001953,  943.90002441,  930.        ,  918.40002441,\n",
       "        937.40997314,  829.09997559,  846.34997559,  936.7199707 ,\n",
       "        931.25      ,  905.65997314,  891.14001465,  923.32000732,\n",
       "        907.34002686,  922.        ,  932.        ,  904.54998779,\n",
       "        860.        ,  875.76000977,  922.42999268,  923.39001465,\n",
       "        876.34997559,  856.97998047,  821.5300293 ,  764.03997803,\n",
       "        800.77001953,  809.86999512,  870.42999268,  864.36999512,\n",
       "        879.89001465,  839.28997803,  838.28997803,  804.58001709,\n",
       "        824.40002441,  858.9699707 ,  838.29998779,  795.34997559,\n",
       "        766.36999512,  801.89001465,  840.22998047,  871.59997559,\n",
       "        905.39001465,  921.15997314,  993.97998047,  999.10998535,\n",
       "       1013.91998291, 1010.64001465, 1091.83996582, 1099.56994629,\n",
       "       1093.98999023, 1077.59997559, 1084.58996582, 1145.44995117,\n",
       "       1091.26000977, 1045.76000977, 1057.26000977, 1025.48999023,\n",
       "        975.92999268,  986.95001221, 1022.36999512,  985.        ,\n",
       "       1004.28997803, 1028.15002441,  977.20001221, 1008.7800293 ,\n",
       "       1005.04998779,  998.02001953,  876.41998291,  881.51000977,\n",
       "        863.2199707 ])"
      ]
     },
     "execution_count": 48,
     "metadata": {},
     "output_type": "execute_result"
    }
   ],
   "source": [
    "df[\"Adj Close\"].values.squeeze()"
   ]
  },
  {
   "cell_type": "code",
   "execution_count": 49,
   "id": "4ff9427d-40cf-4a83-9957-29cadcd28fee",
   "metadata": {},
   "outputs": [],
   "source": [
    "df = pd.DataFrame({\"price\":df[\"Adj Close\"].values.squeeze()})"
   ]
  },
  {
   "cell_type": "code",
   "execution_count": 50,
   "id": "3fbe09d1-cb4a-4247-b671-72118c77a49a",
   "metadata": {},
   "outputs": [
    {
     "data": {
      "text/html": [
       "<div>\n",
       "<style scoped>\n",
       "    .dataframe tbody tr th:only-of-type {\n",
       "        vertical-align: middle;\n",
       "    }\n",
       "\n",
       "    .dataframe tbody tr th {\n",
       "        vertical-align: top;\n",
       "    }\n",
       "\n",
       "    .dataframe thead th {\n",
       "        text-align: right;\n",
       "    }\n",
       "</style>\n",
       "<table border=\"1\" class=\"dataframe\">\n",
       "  <thead>\n",
       "    <tr style=\"text-align: right;\">\n",
       "      <th></th>\n",
       "      <th>price</th>\n",
       "    </tr>\n",
       "  </thead>\n",
       "  <tbody>\n",
       "    <tr>\n",
       "      <th>0</th>\n",
       "      <td>1199.780029</td>\n",
       "    </tr>\n",
       "    <tr>\n",
       "      <th>1</th>\n",
       "      <td>1149.589966</td>\n",
       "    </tr>\n",
       "    <tr>\n",
       "      <th>2</th>\n",
       "      <td>1088.119995</td>\n",
       "    </tr>\n",
       "    <tr>\n",
       "      <th>3</th>\n",
       "      <td>1064.699951</td>\n",
       "    </tr>\n",
       "    <tr>\n",
       "      <th>4</th>\n",
       "      <td>1026.959961</td>\n",
       "    </tr>\n",
       "  </tbody>\n",
       "</table>\n",
       "</div>"
      ],
      "text/plain": [
       "         price\n",
       "0  1199.780029\n",
       "1  1149.589966\n",
       "2  1088.119995\n",
       "3  1064.699951\n",
       "4  1026.959961"
      ]
     },
     "execution_count": 50,
     "metadata": {},
     "output_type": "execute_result"
    }
   ],
   "source": [
    "df.head()"
   ]
  },
  {
   "cell_type": "code",
   "execution_count": 51,
   "id": "88676f9e-ba3a-4ba7-8f25-4a05bffbc856",
   "metadata": {},
   "outputs": [],
   "source": [
    "df[\"price_l1\"] = df[\"price\"].shift(1)"
   ]
  },
  {
   "cell_type": "code",
   "execution_count": 53,
   "id": "97226cef-15c2-4e3f-a920-03a886fc7706",
   "metadata": {},
   "outputs": [],
   "source": [
    "df[\"pct_change\"] = (df[\"price\"]-df[\"price_l1\"])/df[\"price\"]"
   ]
  },
  {
   "cell_type": "code",
   "execution_count": 59,
   "id": "a5f0f859-b4fe-4584-8e42-2a989201b4f7",
   "metadata": {},
   "outputs": [
    {
     "data": {
      "text/plain": [
       "0             NaN\n",
       "1     1174.684998\n",
       "2     1118.854980\n",
       "3     1076.409973\n",
       "4     1045.829956\n",
       "         ...     \n",
       "76    1006.915009\n",
       "77    1001.535004\n",
       "78     937.220001\n",
       "79     878.964996\n",
       "80     872.364990\n",
       "Name: price, Length: 81, dtype: float64"
      ]
     },
     "execution_count": 59,
     "metadata": {},
     "output_type": "execute_result"
    }
   ],
   "source": [
    "df[\"price\"].rolling(2).mean()"
   ]
  },
  {
   "cell_type": "code",
   "execution_count": 55,
   "id": "19272356-474e-477d-b619-e5758073f5ac",
   "metadata": {},
   "outputs": [
    {
     "data": {
      "text/plain": [
       "0          NaN\n",
       "1    -0.041833\n",
       "2    -0.053471\n",
       "3    -0.021523\n",
       "4    -0.035447\n",
       "        ...   \n",
       "76   -0.003698\n",
       "77   -0.006995\n",
       "78   -0.121841\n",
       "79    0.005808\n",
       "80   -0.020749\n",
       "Name: price, Length: 81, dtype: float64"
      ]
     },
     "execution_count": 55,
     "metadata": {},
     "output_type": "execute_result"
    }
   ],
   "source": [
    "df[\"price\"].pct_change()"
   ]
  },
  {
   "cell_type": "code",
   "execution_count": 57,
   "id": "d7f2561e-df0e-4a82-a981-40bfd0311a75",
   "metadata": {},
   "outputs": [
    {
     "data": {
      "text/plain": [
       "0    -0.043659\n",
       "1    -0.043659\n",
       "2    -0.056492\n",
       "3    -0.021997\n",
       "4    -0.036749\n",
       "        ...   \n",
       "76   -0.003711\n",
       "77   -0.007044\n",
       "78   -0.138746\n",
       "79    0.005774\n",
       "80   -0.021188\n",
       "Name: pct_change, Length: 81, dtype: float64"
      ]
     },
     "execution_count": 57,
     "metadata": {},
     "output_type": "execute_result"
    }
   ],
   "source": [
    "df[\"pct_change\"].fillna(method=\"bfill\")"
   ]
  },
  {
   "cell_type": "code",
   "execution_count": 18,
   "id": "9b27be12-3275-476a-a8c4-132e434f801c",
   "metadata": {},
   "outputs": [
    {
     "data": {
      "image/png": "[encoded data removed]",
      "text/plain": [
       "<Figure size 1080x360 with 1 Axes>"
      ]
     },
     "metadata": {
      "needs_background": "light"
     },
     "output_type": "display_data"
    }
   ],
   "source": [
    "plt.figure(figsize=(15,5))\n",
    "plt.plot(df_F[\"Adj Close\"])\n",
    "plt.ylabel(\"Ford Adjusted Close Price\")\n",
    "plt.show()"
   ]
  },
  {
   "cell_type": "markdown",
   "id": "8e419637-b744-4c4a-9eec-6a7b0b97529a",
   "metadata": {
    "tags": []
   },
   "source": [
    "## 3. Finite Distributed Lag Models\n",
    "\n",
    "Finite distributed lag (FDL) models allow past values of *regressors* to affect the dependent variable. A FDL model of order q with an independent variable x can be written as\n",
    "\n",
    "$$y_t = \\alpha_0 + \\delta_0 x_t + \\delta_1 x_{t-1} + \\dots + \\delta_q x_{t-q} + u$$\n",
    "\n",
    "> Past values of the dependent variable are still not modeled.\n",
    "\n"
   ]
  },
  {
   "cell_type": "markdown",
   "id": "4c20bb43-3449-4ef9-ba9c-e1ee0c697c97",
   "metadata": {},
   "source": [
    "Wooldridge (Section 10.2) discusses the specification and interpretation of such models. For its implementation, we first need to generate the q additional lagged variables. \n",
    "> Be aware that this only works if rows are sorted in an ascending order by the time variable. `df.sort_values(by=['time_var'])`"
   ]
  },
  {
   "cell_type": "markdown",
   "id": "593ea6a8-5c09-4b0b-bceb-5bc1c317e2b3",
   "metadata": {},
   "source": [
    "We can then use `df[\"varname\"].shift()` to create lags"
   ]
  },
  {
   "cell_type": "markdown",
   "id": "c302f199-f037-4618-ae50-a415c5f79766",
   "metadata": {},
   "source": [
    "Example: The data set *FERTIL3* contains yearly information on the general fertility rate (**gfr**) and the personal tax exemption (**pe**) for the years 1913 through 1984. Dummy variables for the second world war (**ww2**) and the availability of the birth control pill (**pill**) are also included. Let's build a distributed lag model including using **pe** and two lags to explain **gfr**. "
   ]
  },
  {
   "cell_type": "code",
   "execution_count": 19,
   "id": "58becd42-8bf5-4259-92d6-0366f5715116",
   "metadata": {},
   "outputs": [
    {
     "data": {
      "text/html": [
       "<div>\n",
       "<style scoped>\n",
       "    .dataframe tbody tr th:only-of-type {\n",
       "        vertical-align: middle;\n",
       "    }\n",
       "\n",
       "    .dataframe tbody tr th {\n",
       "        vertical-align: top;\n",
       "    }\n",
       "\n",
       "    .dataframe thead th {\n",
       "        text-align: right;\n",
       "    }\n",
       "</style>\n",
       "<table border=\"1\" class=\"dataframe\">\n",
       "  <thead>\n",
       "    <tr style=\"text-align: right;\">\n",
       "      <th></th>\n",
       "      <th>gfr</th>\n",
       "      <th>pe</th>\n",
       "      <th>year</th>\n",
       "      <th>t</th>\n",
       "      <th>tsq</th>\n",
       "      <th>pe_1</th>\n",
       "      <th>pe_2</th>\n",
       "      <th>pe_3</th>\n",
       "      <th>pe_4</th>\n",
       "      <th>pill</th>\n",
       "      <th>...</th>\n",
       "      <th>cpe_1</th>\n",
       "      <th>cpe_2</th>\n",
       "      <th>cpe_3</th>\n",
       "      <th>cpe_4</th>\n",
       "      <th>gfr_1</th>\n",
       "      <th>cgfr_1</th>\n",
       "      <th>cgfr_2</th>\n",
       "      <th>cgfr_3</th>\n",
       "      <th>cgfr_4</th>\n",
       "      <th>gfr_2</th>\n",
       "    </tr>\n",
       "  </thead>\n",
       "  <tbody>\n",
       "    <tr>\n",
       "      <th>0</th>\n",
       "      <td>124.699997</td>\n",
       "      <td>0.00</td>\n",
       "      <td>1913</td>\n",
       "      <td>1</td>\n",
       "      <td>1</td>\n",
       "      <td>NaN</td>\n",
       "      <td>NaN</td>\n",
       "      <td>NaN</td>\n",
       "      <td>NaN</td>\n",
       "      <td>0</td>\n",
       "      <td>...</td>\n",
       "      <td>NaN</td>\n",
       "      <td>NaN</td>\n",
       "      <td>NaN</td>\n",
       "      <td>NaN</td>\n",
       "      <td>NaN</td>\n",
       "      <td>NaN</td>\n",
       "      <td>NaN</td>\n",
       "      <td>NaN</td>\n",
       "      <td>NaN</td>\n",
       "      <td>NaN</td>\n",
       "    </tr>\n",
       "    <tr>\n",
       "      <th>1</th>\n",
       "      <td>126.599998</td>\n",
       "      <td>0.00</td>\n",
       "      <td>1914</td>\n",
       "      <td>2</td>\n",
       "      <td>4</td>\n",
       "      <td>0.0</td>\n",
       "      <td>NaN</td>\n",
       "      <td>NaN</td>\n",
       "      <td>NaN</td>\n",
       "      <td>0</td>\n",
       "      <td>...</td>\n",
       "      <td>NaN</td>\n",
       "      <td>NaN</td>\n",
       "      <td>NaN</td>\n",
       "      <td>NaN</td>\n",
       "      <td>124.699997</td>\n",
       "      <td>NaN</td>\n",
       "      <td>NaN</td>\n",
       "      <td>NaN</td>\n",
       "      <td>NaN</td>\n",
       "      <td>NaN</td>\n",
       "    </tr>\n",
       "    <tr>\n",
       "      <th>2</th>\n",
       "      <td>125.000000</td>\n",
       "      <td>0.00</td>\n",
       "      <td>1915</td>\n",
       "      <td>3</td>\n",
       "      <td>9</td>\n",
       "      <td>0.0</td>\n",
       "      <td>0.0</td>\n",
       "      <td>NaN</td>\n",
       "      <td>NaN</td>\n",
       "      <td>0</td>\n",
       "      <td>...</td>\n",
       "      <td>0.0</td>\n",
       "      <td>NaN</td>\n",
       "      <td>NaN</td>\n",
       "      <td>NaN</td>\n",
       "      <td>126.599998</td>\n",
       "      <td>1.900002</td>\n",
       "      <td>NaN</td>\n",
       "      <td>NaN</td>\n",
       "      <td>NaN</td>\n",
       "      <td>124.699997</td>\n",
       "    </tr>\n",
       "    <tr>\n",
       "      <th>3</th>\n",
       "      <td>123.400002</td>\n",
       "      <td>0.00</td>\n",
       "      <td>1916</td>\n",
       "      <td>4</td>\n",
       "      <td>16</td>\n",
       "      <td>0.0</td>\n",
       "      <td>0.0</td>\n",
       "      <td>0.0</td>\n",
       "      <td>NaN</td>\n",
       "      <td>0</td>\n",
       "      <td>...</td>\n",
       "      <td>0.0</td>\n",
       "      <td>0.0</td>\n",
       "      <td>NaN</td>\n",
       "      <td>NaN</td>\n",
       "      <td>125.000000</td>\n",
       "      <td>-1.599998</td>\n",
       "      <td>1.900002</td>\n",
       "      <td>NaN</td>\n",
       "      <td>NaN</td>\n",
       "      <td>126.599998</td>\n",
       "    </tr>\n",
       "    <tr>\n",
       "      <th>4</th>\n",
       "      <td>121.000000</td>\n",
       "      <td>19.27</td>\n",
       "      <td>1917</td>\n",
       "      <td>5</td>\n",
       "      <td>25</td>\n",
       "      <td>0.0</td>\n",
       "      <td>0.0</td>\n",
       "      <td>0.0</td>\n",
       "      <td>0.0</td>\n",
       "      <td>0</td>\n",
       "      <td>...</td>\n",
       "      <td>0.0</td>\n",
       "      <td>0.0</td>\n",
       "      <td>0.0</td>\n",
       "      <td>NaN</td>\n",
       "      <td>123.400002</td>\n",
       "      <td>-1.599998</td>\n",
       "      <td>-1.599998</td>\n",
       "      <td>1.900002</td>\n",
       "      <td>NaN</td>\n",
       "      <td>125.000000</td>\n",
       "    </tr>\n",
       "  </tbody>\n",
       "</table>\n",
       "<p>5 rows × 24 columns</p>\n",
       "</div>"
      ],
      "text/plain": [
       "          gfr     pe  year  t  tsq  pe_1  pe_2  pe_3  pe_4  pill  ...  cpe_1  \\\n",
       "0  124.699997   0.00  1913  1    1   NaN   NaN   NaN   NaN     0  ...    NaN   \n",
       "1  126.599998   0.00  1914  2    4   0.0   NaN   NaN   NaN     0  ...    NaN   \n",
       "2  125.000000   0.00  1915  3    9   0.0   0.0   NaN   NaN     0  ...    0.0   \n",
       "3  123.400002   0.00  1916  4   16   0.0   0.0   0.0   NaN     0  ...    0.0   \n",
       "4  121.000000  19.27  1917  5   25   0.0   0.0   0.0   0.0     0  ...    0.0   \n",
       "\n",
       "   cpe_2  cpe_3  cpe_4       gfr_1    cgfr_1    cgfr_2    cgfr_3  cgfr_4  \\\n",
       "0    NaN    NaN    NaN         NaN       NaN       NaN       NaN     NaN   \n",
       "1    NaN    NaN    NaN  124.699997       NaN       NaN       NaN     NaN   \n",
       "2    NaN    NaN    NaN  126.599998  1.900002       NaN       NaN     NaN   \n",
       "3    0.0    NaN    NaN  125.000000 -1.599998  1.900002       NaN     NaN   \n",
       "4    0.0    0.0    NaN  123.400002 -1.599998 -1.599998  1.900002     NaN   \n",
       "\n",
       "        gfr_2  \n",
       "0         NaN  \n",
       "1         NaN  \n",
       "2  124.699997  \n",
       "3  126.599998  \n",
       "4  125.000000  \n",
       "\n",
       "[5 rows x 24 columns]"
      ]
     },
     "execution_count": 19,
     "metadata": {},
     "output_type": "execute_result"
    }
   ],
   "source": [
    "import statsmodels.formula.api as smf\n",
    "\n",
    "df = woo.data(\"fertil3\")\n",
    "df.head()"
   ]
  },
  {
   "cell_type": "code",
   "execution_count": 20,
   "id": "5830afec-e5bb-4e96-90f1-74104e6784b5",
   "metadata": {},
   "outputs": [
    {
     "data": {
      "text/html": [
       "<div>\n",
       "<style scoped>\n",
       "    .dataframe tbody tr th:only-of-type {\n",
       "        vertical-align: middle;\n",
       "    }\n",
       "\n",
       "    .dataframe tbody tr th {\n",
       "        vertical-align: top;\n",
       "    }\n",
       "\n",
       "    .dataframe thead th {\n",
       "        text-align: right;\n",
       "    }\n",
       "</style>\n",
       "<table border=\"1\" class=\"dataframe\">\n",
       "  <thead>\n",
       "    <tr style=\"text-align: right;\">\n",
       "      <th></th>\n",
       "      <th>gfr</th>\n",
       "      <th>pe</th>\n",
       "      <th>year</th>\n",
       "      <th>t</th>\n",
       "      <th>tsq</th>\n",
       "      <th>pe_1</th>\n",
       "      <th>pe_2</th>\n",
       "      <th>pe_3</th>\n",
       "      <th>pe_4</th>\n",
       "      <th>pill</th>\n",
       "      <th>...</th>\n",
       "      <th>cpe_1</th>\n",
       "      <th>cpe_2</th>\n",
       "      <th>cpe_3</th>\n",
       "      <th>cpe_4</th>\n",
       "      <th>gfr_1</th>\n",
       "      <th>cgfr_1</th>\n",
       "      <th>cgfr_2</th>\n",
       "      <th>cgfr_3</th>\n",
       "      <th>cgfr_4</th>\n",
       "      <th>gfr_2</th>\n",
       "    </tr>\n",
       "    <tr>\n",
       "      <th>year</th>\n",
       "      <th></th>\n",
       "      <th></th>\n",
       "      <th></th>\n",
       "      <th></th>\n",
       "      <th></th>\n",
       "      <th></th>\n",
       "      <th></th>\n",
       "      <th></th>\n",
       "      <th></th>\n",
       "      <th></th>\n",
       "      <th></th>\n",
       "      <th></th>\n",
       "      <th></th>\n",
       "      <th></th>\n",
       "      <th></th>\n",
       "      <th></th>\n",
       "      <th></th>\n",
       "      <th></th>\n",
       "      <th></th>\n",
       "      <th></th>\n",
       "      <th></th>\n",
       "    </tr>\n",
       "  </thead>\n",
       "  <tbody>\n",
       "    <tr>\n",
       "      <th>1913</th>\n",
       "      <td>124.699997</td>\n",
       "      <td>0.000000</td>\n",
       "      <td>1913</td>\n",
       "      <td>1</td>\n",
       "      <td>1</td>\n",
       "      <td>NaN</td>\n",
       "      <td>NaN</td>\n",
       "      <td>NaN</td>\n",
       "      <td>NaN</td>\n",
       "      <td>0</td>\n",
       "      <td>...</td>\n",
       "      <td>NaN</td>\n",
       "      <td>NaN</td>\n",
       "      <td>NaN</td>\n",
       "      <td>NaN</td>\n",
       "      <td>NaN</td>\n",
       "      <td>NaN</td>\n",
       "      <td>NaN</td>\n",
       "      <td>NaN</td>\n",
       "      <td>NaN</td>\n",
       "      <td>NaN</td>\n",
       "    </tr>\n",
       "    <tr>\n",
       "      <th>1914</th>\n",
       "      <td>126.599998</td>\n",
       "      <td>0.000000</td>\n",
       "      <td>1914</td>\n",
       "      <td>2</td>\n",
       "      <td>4</td>\n",
       "      <td>0.000000</td>\n",
       "      <td>NaN</td>\n",
       "      <td>NaN</td>\n",
       "      <td>NaN</td>\n",
       "      <td>0</td>\n",
       "      <td>...</td>\n",
       "      <td>NaN</td>\n",
       "      <td>NaN</td>\n",
       "      <td>NaN</td>\n",
       "      <td>NaN</td>\n",
       "      <td>124.699997</td>\n",
       "      <td>NaN</td>\n",
       "      <td>NaN</td>\n",
       "      <td>NaN</td>\n",
       "      <td>NaN</td>\n",
       "      <td>NaN</td>\n",
       "    </tr>\n",
       "    <tr>\n",
       "      <th>1915</th>\n",
       "      <td>125.000000</td>\n",
       "      <td>0.000000</td>\n",
       "      <td>1915</td>\n",
       "      <td>3</td>\n",
       "      <td>9</td>\n",
       "      <td>0.000000</td>\n",
       "      <td>0.000000</td>\n",
       "      <td>NaN</td>\n",
       "      <td>NaN</td>\n",
       "      <td>0</td>\n",
       "      <td>...</td>\n",
       "      <td>0.000000</td>\n",
       "      <td>NaN</td>\n",
       "      <td>NaN</td>\n",
       "      <td>NaN</td>\n",
       "      <td>126.599998</td>\n",
       "      <td>1.900002</td>\n",
       "      <td>NaN</td>\n",
       "      <td>NaN</td>\n",
       "      <td>NaN</td>\n",
       "      <td>124.699997</td>\n",
       "    </tr>\n",
       "    <tr>\n",
       "      <th>1916</th>\n",
       "      <td>123.400002</td>\n",
       "      <td>0.000000</td>\n",
       "      <td>1916</td>\n",
       "      <td>4</td>\n",
       "      <td>16</td>\n",
       "      <td>0.000000</td>\n",
       "      <td>0.000000</td>\n",
       "      <td>0.000000</td>\n",
       "      <td>NaN</td>\n",
       "      <td>0</td>\n",
       "      <td>...</td>\n",
       "      <td>0.000000</td>\n",
       "      <td>0.000000</td>\n",
       "      <td>NaN</td>\n",
       "      <td>NaN</td>\n",
       "      <td>125.000000</td>\n",
       "      <td>-1.599998</td>\n",
       "      <td>1.900002</td>\n",
       "      <td>NaN</td>\n",
       "      <td>NaN</td>\n",
       "      <td>126.599998</td>\n",
       "    </tr>\n",
       "    <tr>\n",
       "      <th>1917</th>\n",
       "      <td>121.000000</td>\n",
       "      <td>19.270000</td>\n",
       "      <td>1917</td>\n",
       "      <td>5</td>\n",
       "      <td>25</td>\n",
       "      <td>0.000000</td>\n",
       "      <td>0.000000</td>\n",
       "      <td>0.000000</td>\n",
       "      <td>0.000000</td>\n",
       "      <td>0</td>\n",
       "      <td>...</td>\n",
       "      <td>0.000000</td>\n",
       "      <td>0.000000</td>\n",
       "      <td>0.000000</td>\n",
       "      <td>NaN</td>\n",
       "      <td>123.400002</td>\n",
       "      <td>-1.599998</td>\n",
       "      <td>-1.599998</td>\n",
       "      <td>1.900002</td>\n",
       "      <td>NaN</td>\n",
       "      <td>125.000000</td>\n",
       "    </tr>\n",
       "    <tr>\n",
       "      <th>...</th>\n",
       "      <td>...</td>\n",
       "      <td>...</td>\n",
       "      <td>...</td>\n",
       "      <td>...</td>\n",
       "      <td>...</td>\n",
       "      <td>...</td>\n",
       "      <td>...</td>\n",
       "      <td>...</td>\n",
       "      <td>...</td>\n",
       "      <td>...</td>\n",
       "      <td>...</td>\n",
       "      <td>...</td>\n",
       "      <td>...</td>\n",
       "      <td>...</td>\n",
       "      <td>...</td>\n",
       "      <td>...</td>\n",
       "      <td>...</td>\n",
       "      <td>...</td>\n",
       "      <td>...</td>\n",
       "      <td>...</td>\n",
       "      <td>...</td>\n",
       "    </tr>\n",
       "    <tr>\n",
       "      <th>1980</th>\n",
       "      <td>68.400002</td>\n",
       "      <td>123.169998</td>\n",
       "      <td>1980</td>\n",
       "      <td>68</td>\n",
       "      <td>4624</td>\n",
       "      <td>132.929993</td>\n",
       "      <td>118.980003</td>\n",
       "      <td>116.110001</td>\n",
       "      <td>120.080002</td>\n",
       "      <td>1</td>\n",
       "      <td>...</td>\n",
       "      <td>13.949989</td>\n",
       "      <td>2.870003</td>\n",
       "      <td>-3.970001</td>\n",
       "      <td>-2.279999</td>\n",
       "      <td>67.199997</td>\n",
       "      <td>1.699997</td>\n",
       "      <td>-1.300003</td>\n",
       "      <td>1.000000</td>\n",
       "      <td>-0.199997</td>\n",
       "      <td>65.500000</td>\n",
       "    </tr>\n",
       "    <tr>\n",
       "      <th>1981</th>\n",
       "      <td>67.400002</td>\n",
       "      <td>119.309998</td>\n",
       "      <td>1981</td>\n",
       "      <td>69</td>\n",
       "      <td>4761</td>\n",
       "      <td>123.169998</td>\n",
       "      <td>132.929993</td>\n",
       "      <td>118.980003</td>\n",
       "      <td>116.110001</td>\n",
       "      <td>1</td>\n",
       "      <td>...</td>\n",
       "      <td>-9.759995</td>\n",
       "      <td>13.949989</td>\n",
       "      <td>2.870003</td>\n",
       "      <td>-3.970001</td>\n",
       "      <td>68.400002</td>\n",
       "      <td>1.200005</td>\n",
       "      <td>1.699997</td>\n",
       "      <td>-1.300003</td>\n",
       "      <td>1.000000</td>\n",
       "      <td>67.199997</td>\n",
       "    </tr>\n",
       "    <tr>\n",
       "      <th>1982</th>\n",
       "      <td>67.300003</td>\n",
       "      <td>102.040001</td>\n",
       "      <td>1982</td>\n",
       "      <td>70</td>\n",
       "      <td>4900</td>\n",
       "      <td>119.309998</td>\n",
       "      <td>123.169998</td>\n",
       "      <td>132.929993</td>\n",
       "      <td>118.980003</td>\n",
       "      <td>1</td>\n",
       "      <td>...</td>\n",
       "      <td>-3.860001</td>\n",
       "      <td>-9.759995</td>\n",
       "      <td>13.949989</td>\n",
       "      <td>2.870003</td>\n",
       "      <td>67.400002</td>\n",
       "      <td>-1.000000</td>\n",
       "      <td>1.200005</td>\n",
       "      <td>1.699997</td>\n",
       "      <td>-1.300003</td>\n",
       "      <td>68.400002</td>\n",
       "    </tr>\n",
       "    <tr>\n",
       "      <th>1983</th>\n",
       "      <td>65.800003</td>\n",
       "      <td>92.489998</td>\n",
       "      <td>1983</td>\n",
       "      <td>71</td>\n",
       "      <td>5041</td>\n",
       "      <td>102.040001</td>\n",
       "      <td>119.309998</td>\n",
       "      <td>123.169998</td>\n",
       "      <td>132.929993</td>\n",
       "      <td>1</td>\n",
       "      <td>...</td>\n",
       "      <td>-17.269997</td>\n",
       "      <td>-3.860001</td>\n",
       "      <td>-9.759995</td>\n",
       "      <td>13.949989</td>\n",
       "      <td>67.300003</td>\n",
       "      <td>-0.099998</td>\n",
       "      <td>-1.000000</td>\n",
       "      <td>1.200005</td>\n",
       "      <td>1.699997</td>\n",
       "      <td>67.400002</td>\n",
       "    </tr>\n",
       "    <tr>\n",
       "      <th>1984</th>\n",
       "      <td>65.400002</td>\n",
       "      <td>83.900002</td>\n",
       "      <td>1984</td>\n",
       "      <td>72</td>\n",
       "      <td>5184</td>\n",
       "      <td>92.489998</td>\n",
       "      <td>102.040001</td>\n",
       "      <td>119.309998</td>\n",
       "      <td>123.169998</td>\n",
       "      <td>1</td>\n",
       "      <td>...</td>\n",
       "      <td>-9.550003</td>\n",
       "      <td>-17.269997</td>\n",
       "      <td>-3.860001</td>\n",
       "      <td>-9.759995</td>\n",
       "      <td>65.800003</td>\n",
       "      <td>-1.500000</td>\n",
       "      <td>-0.099998</td>\n",
       "      <td>-1.000000</td>\n",
       "      <td>1.200005</td>\n",
       "      <td>67.300003</td>\n",
       "    </tr>\n",
       "  </tbody>\n",
       "</table>\n",
       "<p>72 rows × 24 columns</p>\n",
       "</div>"
      ],
      "text/plain": [
       "             gfr          pe  year   t   tsq        pe_1        pe_2  \\\n",
       "year                                                                   \n",
       "1913  124.699997    0.000000  1913   1     1         NaN         NaN   \n",
       "1914  126.599998    0.000000  1914   2     4    0.000000         NaN   \n",
       "1915  125.000000    0.000000  1915   3     9    0.000000    0.000000   \n",
       "1916  123.400002    0.000000  1916   4    16    0.000000    0.000000   \n",
       "1917  121.000000   19.270000  1917   5    25    0.000000    0.000000   \n",
       "...          ...         ...   ...  ..   ...         ...         ...   \n",
       "1980   68.400002  123.169998  1980  68  4624  132.929993  118.980003   \n",
       "1981   67.400002  119.309998  1981  69  4761  123.169998  132.929993   \n",
       "1982   67.300003  102.040001  1982  70  4900  119.309998  123.169998   \n",
       "1983   65.800003   92.489998  1983  71  5041  102.040001  119.309998   \n",
       "1984   65.400002   83.900002  1984  72  5184   92.489998  102.040001   \n",
       "\n",
       "            pe_3        pe_4  pill  ...      cpe_1      cpe_2      cpe_3  \\\n",
       "year                                ...                                    \n",
       "1913         NaN         NaN     0  ...        NaN        NaN        NaN   \n",
       "1914         NaN         NaN     0  ...        NaN        NaN        NaN   \n",
       "1915         NaN         NaN     0  ...   0.000000        NaN        NaN   \n",
       "1916    0.000000         NaN     0  ...   0.000000   0.000000        NaN   \n",
       "1917    0.000000    0.000000     0  ...   0.000000   0.000000   0.000000   \n",
       "...          ...         ...   ...  ...        ...        ...        ...   \n",
       "1980  116.110001  120.080002     1  ...  13.949989   2.870003  -3.970001   \n",
       "1981  118.980003  116.110001     1  ...  -9.759995  13.949989   2.870003   \n",
       "1982  132.929993  118.980003     1  ...  -3.860001  -9.759995  13.949989   \n",
       "1983  123.169998  132.929993     1  ... -17.269997  -3.860001  -9.759995   \n",
       "1984  119.309998  123.169998     1  ...  -9.550003 -17.269997  -3.860001   \n",
       "\n",
       "          cpe_4       gfr_1    cgfr_1    cgfr_2    cgfr_3    cgfr_4  \\\n",
       "year                                                                  \n",
       "1913        NaN         NaN       NaN       NaN       NaN       NaN   \n",
       "1914        NaN  124.699997       NaN       NaN       NaN       NaN   \n",
       "1915        NaN  126.599998  1.900002       NaN       NaN       NaN   \n",
       "1916        NaN  125.000000 -1.599998  1.900002       NaN       NaN   \n",
       "1917        NaN  123.400002 -1.599998 -1.599998  1.900002       NaN   \n",
       "...         ...         ...       ...       ...       ...       ...   \n",
       "1980  -2.279999   67.199997  1.699997 -1.300003  1.000000 -0.199997   \n",
       "1981  -3.970001   68.400002  1.200005  1.699997 -1.300003  1.000000   \n",
       "1982   2.870003   67.400002 -1.000000  1.200005  1.699997 -1.300003   \n",
       "1983  13.949989   67.300003 -0.099998 -1.000000  1.200005  1.699997   \n",
       "1984  -9.759995   65.800003 -1.500000 -0.099998 -1.000000  1.200005   \n",
       "\n",
       "           gfr_2  \n",
       "year              \n",
       "1913         NaN  \n",
       "1914         NaN  \n",
       "1915  124.699997  \n",
       "1916  126.599998  \n",
       "1917  125.000000  \n",
       "...          ...  \n",
       "1980   65.500000  \n",
       "1981   67.199997  \n",
       "1982   68.400002  \n",
       "1983   67.400002  \n",
       "1984   67.300003  \n",
       "\n",
       "[72 rows x 24 columns]"
      ]
     },
     "execution_count": 20,
     "metadata": {},
     "output_type": "execute_result"
    }
   ],
   "source": [
    "df.index = df[\"year\"]\n",
    "df"
   ]
  },
  {
   "cell_type": "code",
   "execution_count": 21,
   "id": "2d59a708-ae06-4cc7-96fd-9757669cdb1e",
   "metadata": {},
   "outputs": [],
   "source": [
    "# Generate lags\n",
    "\n",
    "df[\"pe_l1\"] =df[\"pe\"].shift(1)\n",
    "df[\"pe_l2\"] =df[\"pe\"].shift(2)"
   ]
  },
  {
   "cell_type": "code",
   "execution_count": 22,
   "id": "7593791d-bc25-4fa3-85f5-853e07a13ad1",
   "metadata": {},
   "outputs": [
    {
     "name": "stdout",
     "output_type": "stream",
     "text": [
      "                            OLS Regression Results                            \n",
      "==============================================================================\n",
      "Dep. Variable:                    gfr   R-squared:                       0.499\n",
      "Model:                            OLS   Adj. R-squared:                  0.459\n",
      "Method:                 Least Squares   F-statistic:                     12.73\n",
      "Date:                Wed, 27 Apr 2022   Prob (F-statistic):           1.35e-08\n",
      "Time:                        13:34:55   Log-Likelihood:                -282.26\n",
      "No. Observations:                  70   AIC:                             576.5\n",
      "Df Residuals:                      64   BIC:                             590.0\n",
      "Df Model:                           5                                         \n",
      "Covariance Type:            nonrobust                                         \n",
      "==============================================================================\n",
      "                 coef    std err          t      P>|t|      [0.025      0.975]\n",
      "------------------------------------------------------------------------------\n",
      "Intercept     95.8705      3.282     29.211      0.000      89.314     102.427\n",
      "pe             0.0727      0.126      0.579      0.565      -0.178       0.323\n",
      "pe_l1         -0.0058      0.156     -0.037      0.970      -0.317       0.305\n",
      "pe_l2          0.0338      0.126      0.268      0.790      -0.218       0.286\n",
      "ww2          -22.1265     10.732     -2.062      0.043     -43.566      -0.687\n",
      "pill         -31.3050      3.982     -7.862      0.000     -39.259     -23.351\n",
      "==============================================================================\n",
      "Omnibus:                        2.226   Durbin-Watson:                   0.189\n",
      "Prob(Omnibus):                  0.329   Jarque-Bera (JB):                1.705\n",
      "Skew:                           0.206   Prob(JB):                        0.426\n",
      "Kurtosis:                       2.356   Cond. No.                     1.31e+03\n",
      "==============================================================================\n",
      "\n",
      "Notes:\n",
      "[1] Standard Errors assume that the covariance matrix of the errors is correctly specified.\n",
      "[2] The condition number is large, 1.31e+03. This might indicate that there are\n",
      "strong multicollinearity or other numerical problems.\n"
     ]
    }
   ],
   "source": [
    "# regression\n",
    "\n",
    "reg = smf.ols(\"gfr~pe + pe_l1 + pe_l2 + ww2 + pill\", data=df)\n",
    "res = reg.fit()\n",
    "print(res.summary())"
   ]
  },
  {
   "cell_type": "markdown",
   "id": "7a75c12f-3740-4ee8-ba56-ac634f5062a9",
   "metadata": {},
   "source": [
    "> Task: Are coefficients on pe and its lags significantly different from 0? Try to conduct an F-test to test joint significance of all pe related coefficients. What do you find?"
   ]
  },
  {
   "cell_type": "code",
   "execution_count": 23,
   "id": "5693c31c-0b1f-49c8-927c-603356d656c0",
   "metadata": {},
   "outputs": [
    {
     "data": {
      "text/plain": [
       "<class 'statsmodels.stats.contrast.ContrastResults'>\n",
       "<F test: F=array([[3.97296405]]), p=0.011652005303127183, df_denom=64, df_num=3>"
      ]
     },
     "execution_count": 23,
     "metadata": {},
     "output_type": "execute_result"
    }
   ],
   "source": [
    "res.f_test([\"pe\",\"pe_l1\",\"pe_l2\"])"
   ]
  },
  {
   "cell_type": "markdown",
   "id": "669fa320-7e45-4c2a-8937-20c00d8e1574",
   "metadata": {},
   "source": [
    "> This points to a multicollinearity problem."
   ]
  },
  {
   "cell_type": "markdown",
   "id": "09438419-3208-4e6a-9984-2092b986b1c0",
   "metadata": {},
   "source": [
    "## 4. Trends\n",
    "Many economic time series have a common tendency of growing over time. We must recognize that some series contain a time trend in order to draw causal inference using time series data.\n",
    "\n",
    "![trend](./images/trend.png)\n",
    "\n",
    "The above figure contains a plot of labor productivity (output per hour of work) in the United States for the years 1947 through 1987. This series displays a clear upward trend, which reflects the fact that workers have become more productive over time."
   ]
  },
  {
   "cell_type": "markdown",
   "id": "81ec7ccd-c96d-44de-a184-c505ce1f90c5",
   "metadata": {},
   "source": [
    "What kind of statistical models adequately capture trending behavior? One popular formulation is to write the model as\n",
    "\n",
    "$$y_t = \\alpha_0 + \\alpha_1 t + u_t$$"
   ]
  },
  {
   "cell_type": "markdown",
   "id": "96117515-6bc1-47ef-adfc-bed9c1720d0e",
   "metadata": {},
   "source": [
    "Many economic time series are better approximated by an exponential trend, which follows when a series has the same average growth rate from period to period. Figure 10.3 plots data on annual nominal imports for the United States during the years 1948 through 1995 (ERP 1997, Table B-101)."
   ]
  },
  {
   "cell_type": "markdown",
   "id": "94ba2fe7-1a3a-433d-a2c8-ea94c3405045",
   "metadata": {},
   "source": [
    ">![trend2](./images/trend2.png)"
   ]
  },
  {
   "cell_type": "markdown",
   "id": "bfa1229a-6ad7-44a5-93f3-20142567ecad",
   "metadata": {},
   "source": [
    "In this case, we can rewrite the model as\n",
    "\n",
    "$$log(y_t) = \\alpha_0 + \\alpha_1 t + u_t$$"
   ]
  },
  {
   "cell_type": "markdown",
   "id": "60027f8d-a41c-4862-ba42-56e3d59f575f",
   "metadata": {},
   "source": [
    "Moreover, adding time trends can potentially fix the **spurious regression** problem, where both y and x increases over time, but there is no relationship between them.\n",
    "\n",
    "Example: The data in *HSEINV* are annual observations on housing investment and a housing price index in the United States for 1947 through 1988. Let **invpc** denote real per capita housing investment (in thousands of dollars) and let **price** denote a housing price index (equal to 1 in 1982). A simple regression in constant elasticity form, which can be thought of as a supply equation for housing stock can be modeled as\n",
    "$$lprice=\\beta_0 + \\beta_1 linvpc$$"
   ]
  },
  {
   "cell_type": "code",
   "execution_count": 24,
   "id": "37e0a694-de34-4e65-9995-6c9bf235bfff",
   "metadata": {},
   "outputs": [
    {
     "data": {
      "text/html": [
       "<div>\n",
       "<style scoped>\n",
       "    .dataframe tbody tr th:only-of-type {\n",
       "        vertical-align: middle;\n",
       "    }\n",
       "\n",
       "    .dataframe tbody tr th {\n",
       "        vertical-align: top;\n",
       "    }\n",
       "\n",
       "    .dataframe thead th {\n",
       "        text-align: right;\n",
       "    }\n",
       "</style>\n",
       "<table border=\"1\" class=\"dataframe\">\n",
       "  <thead>\n",
       "    <tr style=\"text-align: right;\">\n",
       "      <th></th>\n",
       "      <th>year</th>\n",
       "      <th>inv</th>\n",
       "      <th>pop</th>\n",
       "      <th>price</th>\n",
       "      <th>linv</th>\n",
       "      <th>lpop</th>\n",
       "      <th>lprice</th>\n",
       "      <th>t</th>\n",
       "      <th>invpc</th>\n",
       "      <th>linvpc</th>\n",
       "      <th>lprice_1</th>\n",
       "      <th>linvpc_1</th>\n",
       "      <th>gprice</th>\n",
       "      <th>ginvpc</th>\n",
       "    </tr>\n",
       "  </thead>\n",
       "  <tbody>\n",
       "    <tr>\n",
       "      <th>0</th>\n",
       "      <td>1947</td>\n",
       "      <td>54864.0</td>\n",
       "      <td>144126.0</td>\n",
       "      <td>0.8190</td>\n",
       "      <td>10.912613</td>\n",
       "      <td>11.878443</td>\n",
       "      <td>-0.199671</td>\n",
       "      <td>1</td>\n",
       "      <td>0.380667</td>\n",
       "      <td>-0.965831</td>\n",
       "      <td>NaN</td>\n",
       "      <td>NaN</td>\n",
       "      <td>NaN</td>\n",
       "      <td>NaN</td>\n",
       "    </tr>\n",
       "    <tr>\n",
       "      <th>1</th>\n",
       "      <td>1948</td>\n",
       "      <td>64717.0</td>\n",
       "      <td>146631.0</td>\n",
       "      <td>0.8649</td>\n",
       "      <td>11.077779</td>\n",
       "      <td>11.895675</td>\n",
       "      <td>-0.145141</td>\n",
       "      <td>2</td>\n",
       "      <td>0.441360</td>\n",
       "      <td>-0.817895</td>\n",
       "      <td>-0.199671</td>\n",
       "      <td>-0.965831</td>\n",
       "      <td>0.054530</td>\n",
       "      <td>0.147935</td>\n",
       "    </tr>\n",
       "    <tr>\n",
       "      <th>2</th>\n",
       "      <td>1949</td>\n",
       "      <td>63150.0</td>\n",
       "      <td>149188.0</td>\n",
       "      <td>0.8456</td>\n",
       "      <td>11.053268</td>\n",
       "      <td>11.912963</td>\n",
       "      <td>-0.167709</td>\n",
       "      <td>3</td>\n",
       "      <td>0.423291</td>\n",
       "      <td>-0.859694</td>\n",
       "      <td>-0.145141</td>\n",
       "      <td>-0.817895</td>\n",
       "      <td>-0.022567</td>\n",
       "      <td>-0.041799</td>\n",
       "    </tr>\n",
       "    <tr>\n",
       "      <th>3</th>\n",
       "      <td>1950</td>\n",
       "      <td>86014.0</td>\n",
       "      <td>151684.0</td>\n",
       "      <td>0.8765</td>\n",
       "      <td>11.362266</td>\n",
       "      <td>11.929555</td>\n",
       "      <td>-0.131819</td>\n",
       "      <td>4</td>\n",
       "      <td>0.567060</td>\n",
       "      <td>-0.567289</td>\n",
       "      <td>-0.167709</td>\n",
       "      <td>-0.859694</td>\n",
       "      <td>0.035890</td>\n",
       "      <td>0.292405</td>\n",
       "    </tr>\n",
       "    <tr>\n",
       "      <th>4</th>\n",
       "      <td>1951</td>\n",
       "      <td>70610.0</td>\n",
       "      <td>154287.0</td>\n",
       "      <td>0.8819</td>\n",
       "      <td>11.164927</td>\n",
       "      <td>11.946569</td>\n",
       "      <td>-0.125677</td>\n",
       "      <td>5</td>\n",
       "      <td>0.457654</td>\n",
       "      <td>-0.781643</td>\n",
       "      <td>-0.131819</td>\n",
       "      <td>-0.567289</td>\n",
       "      <td>0.006142</td>\n",
       "      <td>-0.214353</td>\n",
       "    </tr>\n",
       "  </tbody>\n",
       "</table>\n",
       "</div>"
      ],
      "text/plain": [
       "   year      inv       pop   price       linv       lpop    lprice  t  \\\n",
       "0  1947  54864.0  144126.0  0.8190  10.912613  11.878443 -0.199671  1   \n",
       "1  1948  64717.0  146631.0  0.8649  11.077779  11.895675 -0.145141  2   \n",
       "2  1949  63150.0  149188.0  0.8456  11.053268  11.912963 -0.167709  3   \n",
       "3  1950  86014.0  151684.0  0.8765  11.362266  11.929555 -0.131819  4   \n",
       "4  1951  70610.0  154287.0  0.8819  11.164927  11.946569 -0.125677  5   \n",
       "\n",
       "      invpc    linvpc  lprice_1  linvpc_1    gprice    ginvpc  \n",
       "0  0.380667 -0.965831       NaN       NaN       NaN       NaN  \n",
       "1  0.441360 -0.817895 -0.199671 -0.965831  0.054530  0.147935  \n",
       "2  0.423291 -0.859694 -0.145141 -0.817895 -0.022567 -0.041799  \n",
       "3  0.567060 -0.567289 -0.167709 -0.859694  0.035890  0.292405  \n",
       "4  0.457654 -0.781643 -0.131819 -0.567289  0.006142 -0.214353  "
      ]
     },
     "execution_count": 24,
     "metadata": {},
     "output_type": "execute_result"
    }
   ],
   "source": [
    "df = woo.data(\"HSEINV\")\n",
    "df.head()"
   ]
  },
  {
   "cell_type": "code",
   "execution_count": 25,
   "id": "13bb77e8-cd89-4288-b050-a99087be7bbb",
   "metadata": {},
   "outputs": [
    {
     "name": "stdout",
     "output_type": "stream",
     "text": [
      "                            OLS Regression Results                            \n",
      "==============================================================================\n",
      "Dep. Variable:                 lprice   R-squared:                       0.208\n",
      "Model:                            OLS   Adj. R-squared:                  0.189\n",
      "Method:                 Least Squares   F-statistic:                     10.53\n",
      "Date:                Wed, 27 Apr 2022   Prob (F-statistic):            0.00238\n",
      "Time:                        13:34:55   Log-Likelihood:                 61.618\n",
      "No. Observations:                  42   AIC:                            -119.2\n",
      "Df Residuals:                      40   BIC:                            -115.8\n",
      "Df Model:                           1                                         \n",
      "Covariance Type:            nonrobust                                         \n",
      "==============================================================================\n",
      "                 coef    std err          t      P>|t|      [0.025      0.975]\n",
      "------------------------------------------------------------------------------\n",
      "Intercept      0.0185      0.036      0.519      0.607      -0.053       0.090\n",
      "linvpc         0.1679      0.052      3.245      0.002       0.063       0.273\n",
      "==============================================================================\n",
      "Omnibus:                       12.058   Durbin-Watson:                   0.236\n",
      "Prob(Omnibus):                  0.002   Jarque-Bera (JB):               11.948\n",
      "Skew:                           1.210   Prob(JB):                      0.00254\n",
      "Kurtosis:                       3.988   Cond. No.                         8.52\n",
      "==============================================================================\n",
      "\n",
      "Notes:\n",
      "[1] Standard Errors assume that the covariance matrix of the errors is correctly specified.\n"
     ]
    }
   ],
   "source": [
    "reg = smf.ols(\"lprice~linvpc\", data=df)\n",
    "res = reg.fit()\n",
    "print(res.summary())"
   ]
  },
  {
   "cell_type": "markdown",
   "id": "93d7095b-5dc4-42c2-82b6-3dbf14458909",
   "metadata": {},
   "source": [
    "The elasticity of per capita investment with respect to price is very large and statistically significant. We must be careful here. Both **invpc** and **price** have upward trends, so the previous regression might demonstrate comovement instead causal relationship."
   ]
  },
  {
   "cell_type": "code",
   "execution_count": 26,
   "id": "79559ec4-943d-4161-bb83-53d9a4b8bc45",
   "metadata": {},
   "outputs": [
    {
     "data": {
      "image/png": "[encoded data removed]",
      "text/plain": [
       "<Figure size 432x288 with 1 Axes>"
      ]
     },
     "metadata": {
      "needs_background": "light"
     },
     "output_type": "display_data"
    }
   ],
   "source": [
    "plt.plot(\"year\",\"invpc\",data=df, c=\"r\")\n",
    "plt.text(1970,1.0, s=\"invpc\")\n",
    "plt.plot(\"year\",\"price\",data=df,c=\"b\")\n",
    "plt.text(1980,0.7, s=\"price\")\n",
    "plt.show()"
   ]
  },
  {
   "cell_type": "code",
   "execution_count": 27,
   "id": "260882e6-d192-4d58-9922-094bac39a827",
   "metadata": {},
   "outputs": [
    {
     "name": "stdout",
     "output_type": "stream",
     "text": [
      "                            OLS Regression Results                            \n",
      "==============================================================================\n",
      "Dep. Variable:                 lprice   R-squared:                       0.731\n",
      "Model:                            OLS   Adj. R-squared:                  0.717\n",
      "Method:                 Least Squares   F-statistic:                     53.02\n",
      "Date:                Wed, 27 Apr 2022   Prob (F-statistic):           7.53e-12\n",
      "Time:                        13:34:55   Log-Likelihood:                 84.293\n",
      "No. Observations:                  42   AIC:                            -162.6\n",
      "Df Residuals:                      39   BIC:                            -157.4\n",
      "Df Model:                           2                                         \n",
      "Covariance Type:            nonrobust                                         \n",
      "==============================================================================\n",
      "                 coef    std err          t      P>|t|      [0.025      0.975]\n",
      "------------------------------------------------------------------------------\n",
      "Intercept     -0.2061      0.033     -6.196      0.000      -0.273      -0.139\n",
      "linvpc        -0.0210      0.037     -0.561      0.578      -0.097       0.055\n",
      "t              0.0046      0.001      8.707      0.000       0.004       0.006\n",
      "==============================================================================\n",
      "Omnibus:                        4.484   Durbin-Watson:                   0.390\n",
      "Prob(Omnibus):                  0.106   Jarque-Bera (JB):                4.152\n",
      "Skew:                           0.763   Prob(JB):                        0.125\n",
      "Kurtosis:                       2.787   Cond. No.                         235.\n",
      "==============================================================================\n",
      "\n",
      "Notes:\n",
      "[1] Standard Errors assume that the covariance matrix of the errors is correctly specified.\n"
     ]
    }
   ],
   "source": [
    "reg = smf.ols(\"lprice~linvpc+t\",data=df)\n",
    "res = reg.fit()\n",
    "print(res.summary())"
   ]
  },
  {
   "cell_type": "markdown",
   "id": "90531c11-979d-4b13-8f9c-f31449fc3abf",
   "metadata": {},
   "source": [
    "The story is much different now: the estimated price elasticity is negative and not statis- tically different from zero. The time trend is statistically significant, and its coefficient implies an approximate 1% increase in invpc per year, on average."
   ]
  },
  {
   "cell_type": "markdown",
   "id": "74f33cbc-f2fc-4a38-8a68-00f5c02cd72f",
   "metadata": {},
   "source": [
    "Including a time trend in a regression model creates a nice interpretation in terms of detrending the original data series before using them in regression analysis. "
   ]
  },
  {
   "cell_type": "markdown",
   "id": "5e8be393-9aa9-4dbb-b397-d555b1a3b2a5",
   "metadata": {},
   "source": [
    "## 5. Seasonality\n",
    "Sometimes, we need to account for seasonal effects while building the regression model. For example, retail sales in the fourth quarter are typically higher than in the previous three quarters because of the Christmas holiday. To account for seasonality, we can add dummy variables for seasons. "
   ]
  }
 ],
 "metadata": {
  "kernelspec": {
   "display_name": "Python 3 (ipykernel)",
   "language": "python",
   "name": "python3"
  },
  "language_info": {
   "codemirror_mode": {
    "name": "ipython",
    "version": 3
   },
   "file_extension": ".py",
   "mimetype": "text/x-python",
   "name": "python",
   "nbconvert_exporter": "python",
   "pygments_lexer": "ipython3",
   "version": "3.8.8"
  }
 },
 "nbformat": 4,
 "nbformat_minor": 5
}
