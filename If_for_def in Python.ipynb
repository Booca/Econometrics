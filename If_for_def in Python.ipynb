{
 "cells": [
  {
   "cell_type": "markdown",
   "id": "610ed411",
   "metadata": {},
   "source": [
    "# Advanced Python"
   ]
  },
  {
   "cell_type": "markdown",
   "id": "3f40aec8-8bf7-4dbc-a7c7-e06833524f19",
   "metadata": {},
   "source": [
    "## 1. Conditional Statement (if statement)\n",
    "\n",
    "We might want some parts of our code to be executed only under certain conditions. This can achieved with an **if** statement. The Python syntax for conditional statement is \n",
    "\n",
    "```Python\n",
    "if condition:\n",
    "    statement(s)\n",
    "```\n",
    "where the `condition` is a boolean object, and the `statement(s)` can be replaced by any code.\n",
    "\n",
    ">Python uses indentation to recognize blocks of codes, so be extremely careful with indentation.\n",
    "\n",
    "As an example, let's create a program for grading midterm exams. If the entered graded is greater than 100, the program will throw an error."
   ]
  },
  {
   "cell_type": "code",
   "execution_count": null,
   "id": "3332bec8-9e8b-4c2c-8d19-6263453a8867",
   "metadata": {
    "tags": []
   },
   "outputs": [],
   "source": [
    "s = input(\"What is the student's grade?\")\n",
    "if int(s) > 100:\n",
    "    print(\"the grade should be <= 100\")\n",
    "    \n",
    "print(s)"
   ]
  },
  {
   "cell_type": "markdown",
   "id": "149390d9-9770-4d63-87b6-4b7211cf1287",
   "metadata": {},
   "source": [
    "If the input is <= 100, codes inside the if statement will not be executed. Another example"
   ]
  },
  {
   "cell_type": "code",
   "execution_count": null,
   "id": "4bce999c-fee7-4fa2-b5b0-923a9954af11",
   "metadata": {
    "tags": []
   },
   "outputs": [],
   "source": [
    "a = 33\n",
    "b = 200\n",
    "if b > a:\n",
    "  print(\"b is greater than a\")"
   ]
  },
  {
   "cell_type": "markdown",
   "id": "6e89ff04-fad1-4e33-bbc8-9962870a2ec5",
   "metadata": {},
   "source": [
    "### else\n",
    "\n",
    "Sometimes, you want to evaluate a condition and take one path if it is true but specify an alternative path if it is not. This is accomplished with an else clause:\n",
    "\n",
    "```python\n",
    "if condition:\n",
    "    statement(s)\n",
    "else:\n",
    "    statement(s)\n",
    "```"
   ]
  },
  {
   "cell_type": "markdown",
   "id": "142f6bff-90ff-45a1-8adc-b3662d63edf3",
   "metadata": {},
   "source": [
    "If `condition` is true, the first suite is executed, and the second is skipped. If <expr> is false, the first suite is skipped and the second is executed. Either way, execution then resumes after the second suite. Both suites are defined by indentation, as described above."
   ]
  },
  {
   "cell_type": "code",
   "execution_count": null,
   "id": "6be4b00f-9f74-49bb-864f-209d0178d851",
   "metadata": {},
   "outputs": [],
   "source": [
    "a=2\n",
    "b=3\n",
    "\n",
    "if a>b:\n",
    "    print(\"a is greater than b\")\n",
    "else:\n",
    "    print(\"a is not greater than b\")"
   ]
  },
  {
   "cell_type": "markdown",
   "id": "cc6c35ee-a43d-421f-adf4-39342048cde2",
   "metadata": {},
   "source": [
    "In this example, x is less than 50, so the first suite are executed, and the second suite are skipped. But line 7 is executed regardless the `condition`."
   ]
  },
  {
   "cell_type": "markdown",
   "id": "bb6c74f8-c00d-460a-8c82-651f9bbb7ae1",
   "metadata": {
    "tags": []
   },
   "source": [
    "### elif\n",
    "\n",
    "There is also syntax for branching execution based on several alternatives. For this, use one or more elif (short for else if) clauses. Python evaluates each `condition` in turn and executes the suite corresponding to the first that is true. If none of the expressions are true, and an else clause is specified, then its suite is executed:\n",
    "\n",
    "Let's create a program to convert numerical grades to letter grades"
   ]
  },
  {
   "cell_type": "code",
   "execution_count": null,
   "id": "58967b82-9c0f-431a-99e8-9f40eccfb92c",
   "metadata": {
    "tags": []
   },
   "outputs": [],
   "source": [
    "n = input(\"Please enter the student's numerical grade\")\n",
    "\n",
    "if int(n)>=94:\n",
    "    l = \"A\"\n",
    "elif int(n)>=90:\n",
    "    l = \"A-\"\n",
    "elif int(n)>=87:\n",
    "    l = \"B+\"\n",
    "else:\n",
    "    l = \"F\"\n",
    "\n",
    "print(l)"
   ]
  },
  {
   "cell_type": "markdown",
   "id": "b37967b9-298b-4076-8f6a-76697a07d0bf",
   "metadata": {},
   "source": [
    "### Nested if\n",
    "You can have if statements inside if statements, this is called nested if statements."
   ]
  },
  {
   "cell_type": "code",
   "execution_count": null,
   "id": "9e9c6055-e1c7-411f-927c-aa6c196b036a",
   "metadata": {
    "tags": []
   },
   "outputs": [],
   "source": [
    "x = 41\n",
    "\n",
    "if x > 10:\n",
    "  print(\"Above ten,\")\n",
    "  if x > 20:\n",
    "    print(\"and also above 20!\")\n",
    "  else:\n",
    "    print(\"but not above 20.\")\n",
    "else:\n",
    "    print(\"Less than or equal to 10\")"
   ]
  },
  {
   "cell_type": "markdown",
   "id": "03e2091b-1107-44ae-94b6-d14b2aa21335",
   "metadata": {},
   "source": [
    "### The pass Statement\n",
    "if statements cannot be empty, but if you for some reason have an if statement with no content, put in the pass statement to avoid getting an error."
   ]
  },
  {
   "cell_type": "code",
   "execution_count": null,
   "id": "c18fc85f-f190-4840-a000-8dd7d589e62e",
   "metadata": {
    "tags": []
   },
   "outputs": [],
   "source": [
    "a=11\n",
    "if a>10:\n",
    "    pass"
   ]
  },
  {
   "cell_type": "markdown",
   "id": "8032537b-451b-4601-b212-d13e9e000730",
   "metadata": {},
   "source": [
    "### Ternary operator\n",
    "\n",
    "Python supports one additional decision-making entity called a conditional **expression**. (It is also referred to as a conditional operator or ternary operator in various places in the Python documentation.\n",
    "\n",
    "In its simplest form, the syntax of the conditional expression is as follows:\n",
    "\n",
    "`<expr1> if <conditional_expr> else <expr2>`"
   ]
  },
  {
   "cell_type": "markdown",
   "id": "13467b00-42bf-45de-b0f5-8ae75c29e1e4",
   "metadata": {},
   "source": [
    "You can use ternary operator to shorten the following codes"
   ]
  },
  {
   "cell_type": "code",
   "execution_count": null,
   "id": "9b006a99-4664-4e26-bfe0-f6d28c04b28c",
   "metadata": {
    "tags": []
   },
   "outputs": [],
   "source": [
    "x = int(input(\"Value of x:\"))\n",
    "\n",
    "if x%2 == 0:\n",
    "    y = x/2\n",
    "else:\n",
    "    y = (x+1)/2\n",
    "    \n",
    "print(y)"
   ]
  },
  {
   "cell_type": "markdown",
   "id": "cf00c7b5-e965-40c2-ab2e-b25e96702e18",
   "metadata": {},
   "source": [
    "To ...."
   ]
  },
  {
   "cell_type": "code",
   "execution_count": null,
   "id": "a06a6f2a-24d8-41fc-a85d-74116bb9ea03",
   "metadata": {
    "tags": []
   },
   "outputs": [],
   "source": [
    "x = int(input(\"value of x:\"))\n",
    "y = x/2 if x%2==0 else (x+1)/2\n",
    "print(y)"
   ]
  },
  {
   "cell_type": "code",
   "execution_count": null,
   "id": "f727ec25-6aa0-4551-a187-b431775f437a",
   "metadata": {},
   "outputs": [],
   "source": [
    "g = 100\n",
    "\n",
    "l = \"A\" if g>=94 else \"not A\""
   ]
  },
  {
   "cell_type": "code",
   "execution_count": null,
   "id": "053d2b1e-ff71-4025-af3e-b96cfeefcab9",
   "metadata": {},
   "outputs": [],
   "source": [
    "l"
   ]
  },
  {
   "cell_type": "markdown",
   "id": "b7fd90a0-fdd4-40d3-aace-e9b9829705e2",
   "metadata": {},
   "source": [
    "## 2. Loops"
   ]
  },
  {
   "cell_type": "markdown",
   "id": "ca55630c-05fc-46d4-9b48-c22260a38b4d",
   "metadata": {},
   "source": [
    "### 2.1 for loop\n",
    "\n",
    "A `for` loop is used for iterating over a sequence (that is either a list, a tuple, a dictionary, a set, or a string). \n",
    "\n",
    "```python\n",
    "for x in sequence:\n",
    "    statements\n",
    "```\n",
    "\n",
    "The loop variable **x** (can be replace with any variable name) will take the value of each element of the **sequence**, one after another. For each of these elements, some statements are executed. For example"
   ]
  },
  {
   "cell_type": "code",
   "execution_count": null,
   "id": "f5503adc-ccc3-4f64-aeed-4468aeed2b2e",
   "metadata": {
    "jupyter": {
     "source_hidden": true
    },
    "tags": []
   },
   "outputs": [],
   "source": [
    "seq = [1,2,3,4,5]\n",
    "for i in seq:\n",
    "    print(i)"
   ]
  },
  {
   "cell_type": "code",
   "execution_count": null,
   "id": "dfbb77d2-d7ce-4e12-8c02-120318fd23e5",
   "metadata": {},
   "outputs": [],
   "source": [
    "x = [1,2,3,4,5]\n",
    "for i in x:\n",
    "    print(i, end=\"\\r\")"
   ]
  },
  {
   "cell_type": "markdown",
   "id": "67803f71-1ce3-4244-8f69-f1ec530a5b2a",
   "metadata": {},
   "source": [
    "`String` is also an iterable data type"
   ]
  },
  {
   "cell_type": "code",
   "execution_count": null,
   "id": "1813e0e4-0d42-49ac-be35-6d520fd3f4e7",
   "metadata": {},
   "outputs": [],
   "source": [
    "s = \"hello\"\n",
    "for i in s:\n",
    "    print(i)"
   ]
  },
  {
   "cell_type": "markdown",
   "id": "99ad3c0d-294b-4f01-bc0b-843caa04cfe3",
   "metadata": {},
   "source": [
    "### Exercise\n",
    "Print 1 to 20 one after another"
   ]
  },
  {
   "cell_type": "code",
   "execution_count": null,
   "id": "7df64059-cad8-4c5e-9e73-abb7636de54a",
   "metadata": {},
   "outputs": [],
   "source": [
    "for i in range(20):\n",
    "    print(i+1, end=\" \")"
   ]
  },
  {
   "cell_type": "code",
   "execution_count": null,
   "id": "070049f5-5b4c-41a8-b130-c3e3bc0ffb27",
   "metadata": {},
   "outputs": [],
   "source": [
    "for i in range(1,21,2):\n",
    "    print(i, end=\" \")"
   ]
  },
  {
   "cell_type": "code",
   "execution_count": null,
   "id": "08117f72-82f0-4297-92ec-4721c9bb2246",
   "metadata": {},
   "outputs": [],
   "source": [
    "for i in range(20):\n",
    "    if (i+1)%2!=0:\n",
    "        print(i+1, end=\" \")"
   ]
  },
  {
   "cell_type": "code",
   "execution_count": null,
   "id": "934432ad-3f50-4c95-bc80-f6b5421add80",
   "metadata": {},
   "outputs": [],
   "source": [
    "if [0]:\n",
    "    print(\"not empty\")"
   ]
  },
  {
   "cell_type": "code",
   "execution_count": null,
   "id": "d713d715-8785-4a71-bf2d-30809dc4222a",
   "metadata": {},
   "outputs": [],
   "source": [
    "a = [1,2,3,4]\n",
    "ans= [0]*4\n",
    "for i in range(len(a)):\n",
    "    ans[i] = sum(a[:i+1])"
   ]
  },
  {
   "cell_type": "code",
   "execution_count": null,
   "id": "bc952fc0-fd70-4544-bbf1-6d0a893bf67b",
   "metadata": {},
   "outputs": [],
   "source": [
    "ans"
   ]
  },
  {
   "cell_type": "code",
   "execution_count": null,
   "id": "ab6a9841-e8d6-4ff8-8ada-4b02a0923cc7",
   "metadata": {},
   "outputs": [],
   "source": [
    "for i in range(len(a)):\n",
    "    if i==0:\n",
    "        ans[0] = a[0]\n",
    "    else:\n",
    "        ans[i] = ans[i-1]+a[i]"
   ]
  },
  {
   "cell_type": "code",
   "execution_count": null,
   "id": "4dbd4eab-891f-4d66-aca3-3d1018fd21a0",
   "metadata": {},
   "outputs": [],
   "source": [
    "ans"
   ]
  },
  {
   "cell_type": "code",
   "execution_count": null,
   "id": "da086fc1-0ba0-40d8-b3dd-caaac9875f28",
   "metadata": {
    "jupyter": {
     "source_hidden": true
    },
    "tags": []
   },
   "outputs": [],
   "source": [
    "x = [1,2,3,4]\n",
    "x = [1,1,1]\n",
    "x = [1]*3\n",
    "print(x)\n",
    "\"a\"*3"
   ]
  },
  {
   "cell_type": "code",
   "execution_count": null,
   "id": "fbf48c90-1fb2-4fca-a0b6-34494dcaace1",
   "metadata": {
    "tags": []
   },
   "outputs": [],
   "source": [
    "for i in range(10):\n",
    "    if i % 2 == 0:\n",
    "        pass\n",
    "    else:\n",
    "        print(\"*\"*i)"
   ]
  },
  {
   "cell_type": "markdown",
   "id": "b908ff8d-bf1a-430f-a7a0-817e557ffd7a",
   "metadata": {},
   "source": [
    "### The break Statement\n",
    "With the `break` statement we can stop the loop before it has looped through all the items:"
   ]
  },
  {
   "cell_type": "markdown",
   "id": "57e9e28c-3eac-4f38-82fe-574eeba1dd22",
   "metadata": {},
   "source": [
    "For example, exit the loop when name is equal to Ben:"
   ]
  },
  {
   "cell_type": "code",
   "execution_count": null,
   "id": "81b98f77-1b71-4365-ae01-d4fcf484d6be",
   "metadata": {
    "tags": []
   },
   "outputs": [],
   "source": [
    "names = [\"Alice\",\"Bob\",\"Ben\",\"Cindy\"]\n",
    "\n",
    "i = 0\n",
    "for n in names:\n",
    "    i=i+1\n",
    "    print(i, end=\" \")\n",
    "    if n==\"Ben\":\n",
    "        print(\"Ben is found!\")\n",
    "        break\n",
    "    else:\n",
    "        print(n)"
   ]
  },
  {
   "cell_type": "markdown",
   "id": "0a72dc2d-b0ac-4753-82bd-df1533e31490",
   "metadata": {
    "tags": []
   },
   "source": [
    "### The continue Statement\n",
    "\n",
    "With the `continue` statement we can stop the current iteration of the loop, and continue with the next:\n",
    "\n"
   ]
  },
  {
   "cell_type": "markdown",
   "id": "ba6d14ba-6f45-413f-b3d6-7a232f8dc70d",
   "metadata": {},
   "source": [
    "Example: do not print Ben"
   ]
  },
  {
   "cell_type": "code",
   "execution_count": null,
   "id": "b80bb0dd-677f-48e1-bf49-483e76cca43b",
   "metadata": {
    "tags": []
   },
   "outputs": [],
   "source": [
    "for n in names:\n",
    "    if n==\"Ben\":\n",
    "        continue\n",
    "    else:\n",
    "        print(n)"
   ]
  },
  {
   "cell_type": "markdown",
   "id": "6f2b15d9-167a-4287-8b49-7b784d53e839",
   "metadata": {},
   "source": [
    "### Exercise\n",
    "\n",
    "Semivariance is a measurement of data that can be used to estimate the potential downside risk of an investment portfolio. Semivariance is calculated by measuring the dispersion of all observations that fall below the mean or target value of a set of data.\n",
    "\n",
    "$Semivariance = \\frac{\\sum_{x<\\bar{x}}^n (x-\\bar{x})^2}{n}$"
   ]
  },
  {
   "cell_type": "markdown",
   "id": "b8e3661c-e5e0-435d-be8c-02247b503d4e",
   "metadata": {},
   "source": [
    "Try to calculate the semivariance of the following return data. "
   ]
  },
  {
   "cell_type": "code",
   "execution_count": null,
   "id": "4200fd82-5605-4f16-b12b-01c0587b4ba6",
   "metadata": {},
   "outputs": [],
   "source": [
    "x = [1,3,5,7,8]"
   ]
  },
  {
   "cell_type": "code",
   "execution_count": null,
   "id": "9eb1efe3-27ff-4396-a2f1-1b14d0fd52f2",
   "metadata": {},
   "outputs": [],
   "source": [
    "import numpy as np"
   ]
  },
  {
   "cell_type": "code",
   "execution_count": null,
   "id": "7a70e162-b6b9-4b90-a3a8-e0a523fe9ae4",
   "metadata": {},
   "outputs": [],
   "source": [
    "x_bar = np.mean(x)"
   ]
  },
  {
   "cell_type": "code",
   "execution_count": null,
   "id": "0995b003-4115-45c9-b344-98fb3f23ac5c",
   "metadata": {},
   "outputs": [],
   "source": [
    "ans = 0\n",
    "for _ in x:\n",
    "    if _ < x_bar:\n",
    "        ans += (_-x_bar)**2\n",
    "    else:\n",
    "        continue\n",
    "\n",
    "ans/len(x)"
   ]
  },
  {
   "cell_type": "code",
   "execution_count": null,
   "id": "f013c2db-cfa3-440c-8fd5-f8fe775385aa",
   "metadata": {
    "tags": []
   },
   "outputs": [],
   "source": [
    "r_ls =[-10, 5, 6, 8, 20, -6]"
   ]
  },
  {
   "cell_type": "code",
   "execution_count": null,
   "id": "ebe953a9-e9f5-4dda-8463-480254c82e18",
   "metadata": {},
   "outputs": [],
   "source": [
    "import numpy as np\n",
    "numerator = 0\n",
    "for r in r_ls:\n",
    "    if r < np.mean(r_ls):\n",
    "        numerator += (r-np.mean(r_ls))**2\n",
    "    else:\n",
    "        continue\n",
    "\n",
    "print(numerator/len(r_ls))"
   ]
  },
  {
   "cell_type": "code",
   "execution_count": null,
   "id": "726d6fa5-ebf7-4dae-b414-cf4ca4e0a3ac",
   "metadata": {
    "jupyter": {
     "source_hidden": true
    },
    "tags": []
   },
   "outputs": [],
   "source": [
    "r_bar = np.mean(r_ls)\n",
    "numerator = 0\n",
    "for r in r_ls:\n",
    "    if r<r_bar:\n",
    "        numerator += (r-r_bar)**2\n",
    "    else:\n",
    "        continue\n",
    "        \n",
    "semivar = numerator/len(r_ls)\n",
    "print(semivar)"
   ]
  },
  {
   "cell_type": "markdown",
   "id": "93da5bbf-9b93-4c87-9e6a-8135f0669ad0",
   "metadata": {},
   "source": [
    "### List comprehension\n",
    "\n",
    "Consider the following example: try create a new list from x=[0,1,2,3,..,9], where every element of the new list is equal to $x_i^2$"
   ]
  },
  {
   "cell_type": "code",
   "execution_count": null,
   "id": "bd390d9c-6d18-4e87-825b-e5120f4fca89",
   "metadata": {
    "jupyter": {
     "source_hidden": true
    },
    "tags": []
   },
   "outputs": [],
   "source": [
    "y=[]\n",
    "for i in range(10):\n",
    "    y.append(i**2)\n",
    "print(y)"
   ]
  },
  {
   "cell_type": "markdown",
   "id": "c7d29261-e986-4fae-bd2f-85ca29a84809",
   "metadata": {},
   "source": [
    "**List comprehension** offers a shorter syntax when you want to create a new list based on the values of an existing list. The above task can be completed in one line of code."
   ]
  },
  {
   "cell_type": "code",
   "execution_count": null,
   "id": "9e9639dc-b645-456c-906e-6abdcc33c125",
   "metadata": {},
   "outputs": [],
   "source": [
    "ls = [1,2,3,4,5,6]\n",
    "ans = []\n",
    "for x in ls:\n",
    "    ans.append(x**2)\n",
    "ans"
   ]
  },
  {
   "cell_type": "code",
   "execution_count": null,
   "id": "5963245c-ea48-45af-b9da-af0b780510d3",
   "metadata": {},
   "outputs": [],
   "source": [
    "ans = [x**2 for x in ls]\n",
    "ans"
   ]
  },
  {
   "cell_type": "code",
   "execution_count": null,
   "id": "6b9dcc80-02f6-4961-a82a-c7c2da8b5088",
   "metadata": {
    "tags": []
   },
   "outputs": [],
   "source": [
    "y=[i**2 for i in range(10)]\n",
    "print(y)"
   ]
  },
  {
   "cell_type": "markdown",
   "id": "0fab01e1-c109-47de-b836-48fec6402fe9",
   "metadata": {},
   "source": [
    "Formally the syntax for list comprehension is:\n",
    "```python\n",
    "newlist = [expression for item in iterable if condition == True]\n",
    "```"
   ]
  },
  {
   "cell_type": "code",
   "execution_count": null,
   "id": "4c335914-a435-4173-88be-b626d7dbbeb7",
   "metadata": {
    "jupyter": {
     "source_hidden": true
    },
    "tags": []
   },
   "outputs": [],
   "source": [
    "x = (1,2,3,4)\n",
    "y = [i for i in x if i%2==0]\n",
    "y"
   ]
  },
  {
   "cell_type": "markdown",
   "id": "899a4abf-b815-4e25-be12-f464a7e32deb",
   "metadata": {},
   "source": [
    "### 2.2 While Loop\n",
    "\n",
    "The `for loop` has a well-defined number of iterations. But sometimes we want the program to keep running until something happens. In this case, the `while loop` comes into handy.\n",
    "\n",
    "```python\n",
    "while condition:\n",
    "    statement(s)\n",
    "    statement to modify the condition\n",
    "```"
   ]
  },
  {
   "cell_type": "markdown",
   "id": "b4b73a81-f727-47b5-b8d8-bc5ae4d0b6b0",
   "metadata": {},
   "source": [
    "As long as the condition is True, the while loop will keep running the statements. There has to be one statement within the while loop to modify the condition or exit the loop, otherwise the while loop can run forever."
   ]
  },
  {
   "cell_type": "code",
   "execution_count": null,
   "id": "541587ef-9271-4ff2-ba97-2c43c015bf46",
   "metadata": {
    "tags": []
   },
   "outputs": [],
   "source": [
    "# Print i as long as i is less than 6:\n",
    "\n",
    "i = 1\n",
    "while i < 6:\n",
    "  print(i)\n",
    "  i += 1"
   ]
  },
  {
   "cell_type": "markdown",
   "id": "4a0482b4-0572-4296-8b80-af998982d221",
   "metadata": {},
   "source": [
    "## 3. Functions\n",
    "\n",
    "A function is a block of code that is executed when the function is called by its name. You can also provide arguments to the function and the function can (not necessarily) return a result.\n",
    "\n",
    "To define a function in Python, use the `def` keyword. As an example\n",
    "\n",
    "```python\n",
    "def myFunction():\n",
    "  print(\"Hello from a function\")\n",
    "```\n",
    "\n",
    "defines a function named my_function, it takes zero parameters, print a String and does not return anything. To call the function, use its name:\n",
    "\n",
    "```python\n",
    "myFunction()\n",
    "```"
   ]
  },
  {
   "cell_type": "markdown",
   "id": "c3bb8c72-4abd-45cd-823b-75e4c551c2fe",
   "metadata": {},
   "source": [
    "### Arguments\n",
    "\n",
    "Information can be passed into functions as arguments.\n",
    "\n",
    "Parameters (the value it takes is known as arguments) are specified after the function name, inside the parentheses. You can add as many parameters as you want, just separate them with a comma.\n",
    "\n",
    "The following example has a function with one parameter (fname). When the function is called, we pass along a first name, which is used inside the function to print the full name:"
   ]
  },
  {
   "cell_type": "code",
   "execution_count": null,
   "id": "39288859-5d2e-4c71-84c5-91c4dc5ea1c8",
   "metadata": {},
   "outputs": [],
   "source": [
    "def my_function(fname):\n",
    "  print(fname + \" Xue\")\n",
    "\n",
    "my_function(\"Ben\")"
   ]
  },
  {
   "cell_type": "markdown",
   "id": "7c83fc72-4b7c-4e37-aaaa-0cb79a8d3459",
   "metadata": {},
   "source": [
    "### Default (optional) Parameter Value\n",
    "\n",
    "The following example shows how to use a default parameter value.\n",
    "If we call the function without argument, it uses the default value:\n",
    "\n",
    "```python\n",
    "def my_function(fname = \"Ben\"):\n",
    "  print(fname + \" Xue\")\n",
    "\n",
    "my_function()\n",
    "```"
   ]
  },
  {
   "cell_type": "markdown",
   "id": "1dd5ce17-e98d-4395-ab16-bfeb43903490",
   "metadata": {},
   "source": [
    "### Keyword Arguments\n",
    "\n",
    "In cases where there are multiple parameters and some of them are optional, specifying the keyword might be useful to keep track of the arguments.\n",
    "\n",
    "We've seen a lot of examples of using keyword arguments so for, for example in `plt.bar(x=,height=)`, x and height are keyword arguments."
   ]
  },
  {
   "cell_type": "markdown",
   "id": "8d9d7ce6-5958-40c7-bcb9-ff2e5d639650",
   "metadata": {},
   "source": [
    "### Arbitrary Arguments, *args\n",
    "\n",
    "If you do not know how many arguments that will be passed into your function (e.g. the `print()` function), add a * before the parameter name in the function definition. This way the function will receive a tuple of arguments, and can access the items accordingly:"
   ]
  },
  {
   "cell_type": "code",
   "execution_count": null,
   "id": "ae22311d-2190-49e6-b616-051d442fd652",
   "metadata": {},
   "outputs": [],
   "source": [
    "def avg(*num):\n",
    "    print(sum(num)/len(num))\n",
    "\n",
    "avg(1,2,3,4)"
   ]
  },
  {
   "cell_type": "markdown",
   "id": "018bcd04-2146-4a23-8735-104085a1e8d6",
   "metadata": {},
   "source": [
    "> Arbitrary Arguments are often shortened to *args in Python documentations."
   ]
  },
  {
   "cell_type": "markdown",
   "id": "612d5bf2-723a-47e7-8243-831ad5409f0e",
   "metadata": {},
   "source": [
    "### Arbitrary keyword arguments, **kwargs\n",
    "\n",
    "If you do not know how many keyword arguments that will be passed into your function, add two asterisk: ** before the parameter name in the function definition.\n",
    "\n",
    "This way the function will receive a dictionary of arguments, and you can access the items accordingly:"
   ]
  },
  {
   "cell_type": "code",
   "execution_count": null,
   "id": "4fac4e6f-b336-41d8-b8d0-7e637852acce",
   "metadata": {},
   "outputs": [],
   "source": [
    "def my_function(**name):\n",
    "    if \"lname\" in name.keys():\n",
    "        print(\"His last name is \" + name[\"lname\"])\n",
    "    else:\n",
    "        print(\"I don't know his last name, but his first name is\" + name[\"fname\"])\n",
    "\n",
    "my_function(fname = \"Ben\", lname=\"Xue\")"
   ]
  },
  {
   "cell_type": "markdown",
   "id": "2e6ffdcb-c7d6-4dba-910d-1f5afa69e5a6",
   "metadata": {},
   "source": [
    "### Return values\n",
    "\n",
    "So far, we've defined functions than can execute several statement. But what if we need a function that can return an object like the `woo.data(\"wage\")` function.\n",
    "\n",
    "In Python functions, you can use the `return` statement to return values."
   ]
  },
  {
   "cell_type": "code",
   "execution_count": null,
   "id": "fec2ccf5-f495-480a-acc2-d99ff19ec4a1",
   "metadata": {},
   "outputs": [],
   "source": [
    "def square(x):\n",
    "    return x**2\n",
    "\n",
    "y = square(2)\n",
    "print(y)"
   ]
  },
  {
   "cell_type": "markdown",
   "id": "0b8669b9-e8ab-4e8e-a09c-886c738a2304",
   "metadata": {},
   "source": [
    "### Return multiple values\n",
    "\n",
    "Python functions can return multiple values as a *Tuple*, "
   ]
  },
  {
   "cell_type": "code",
   "execution_count": null,
   "id": "9e5208b6-2878-447e-915d-25e5e6873420",
   "metadata": {},
   "outputs": [],
   "source": [
    "def myFunc():\n",
    "    a = 1\n",
    "    b = 2\n",
    "    return a,b # or return (a,b)\n",
    "\n",
    "# you can receive the returned tuple using one varible\n",
    "res = myFunc()\n",
    "print(res)\n",
    "\n",
    "# you can also recieve distinct values using multiple varialbes, this statement will automatically unpack the Tuple\n",
    "res1, res2 = myFunc()\n",
    "print(res1)\n",
    "print(res2)"
   ]
  }
 ],
 "metadata": {
  "kernelspec": {
   "display_name": "Python 3 (ipykernel)",
   "language": "python",
   "name": "python3"
  },
  "language_info": {
   "codemirror_mode": {
    "name": "ipython",
    "version": 3
   },
   "file_extension": ".py",
   "mimetype": "text/x-python",
   "name": "python",
   "nbconvert_exporter": "python",
   "pygments_lexer": "ipython3",
   "version": "3.8.8"
  }
 },
 "nbformat": 4,
 "nbformat_minor": 5
}
