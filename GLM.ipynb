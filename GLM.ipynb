{
 "cells": [
  {
   "cell_type": "markdown",
   "id": "1b4711f7-e384-4bad-9180-fb1f7843c085",
   "metadata": {},
   "source": [
    "# Generalized Linear Models"
   ]
  },
  {
   "cell_type": "markdown",
   "id": "6d62d6cc-90ff-459c-8c95-012f4128b9a7",
   "metadata": {},
   "source": [
    "MLE inspires more flexible model specifications. Generalized linear models were formulated by John Nelder and Robert Wedderburn as a way of unifying various other statistical models, including linear regression, logistic regression and Poisson regression."
   ]
  },
  {
   "cell_type": "markdown",
   "id": "5a0ba8cb-7605-41b7-a0b7-1a750f3451dd",
   "metadata": {},
   "source": [
    "## 1. Linear Exponential Family\n",
    "\n",
    "Any distribution that can be expressed in the following formats belongs to the Linear Exponential Family (LEF)\n",
    "\n",
    "$$f(y|\\mu) = exp(a(\\mu)+b(y)+c(\\mu)y))$$"
   ]
  },
  {
   "cell_type": "markdown",
   "id": "ad2a261a-4dd1-4100-880b-a6754c1c439d",
   "metadata": {},
   "source": [
    "This family of distributions share several convenient algebraic [properties](https://en.wikipedia.org/wiki/Exponential_family). For example, we have"
   ]
  },
  {
   "cell_type": "markdown",
   "id": "6c9d7470-ae65-47ac-b410-f8290cff1402",
   "metadata": {},
   "source": [
    "1. $Var(y) = [c'(\\mu)]^{-1}$\n",
    "2. lnf = $a(\\mu)+b(y)+c(\\mu)y$"
   ]
  },
  {
   "cell_type": "markdown",
   "id": "15b5ff36-331d-4b7f-b54b-b2645e3f8a12",
   "metadata": {},
   "source": [
    "### Examples of exponential family distributions"
   ]
  },
  {
   "cell_type": "markdown",
   "id": "fdb3864d-a112-4478-91ae-1ee7baf5c7e3",
   "metadata": {},
   "source": [
    "**Normal Distribution**\n",
    "\n",
    "$f(y) = exp(\\frac{-\\mu^2}{2\\sigma}-\\frac{1}{2}ln(2\\pi\\sigma^2)-\\frac{y^2}{2\\sigma^2}+\\mu/\\sigma^2 y)$\n",
    "\n",
    "$Var(y) = sigma^2$\n",
    "\n",
    "\n",
    "**Bernoulli Distribution**\n",
    "\n",
    "\n",
    "$f(y) = exp(ln(1-\\mu)+ln(\\mu/1-\\mu)y)$\n",
    "\n",
    "$Var(y) = \\mu(1-\\mu)$\n",
    "\n",
    "**Exponential Distribution**\n",
    "\n",
    "$f(y) = exp(ln(1/\\mu) - \\frac{y}{\\mu})$\n",
    "\n",
    "$Var(y) = \\mu^2$\n",
    "\n",
    "**Poisson Distribution**\n",
    "\n",
    "$f(y) = exp(-\\mu - lny! + yln\\mu)$\n",
    "\n",
    "$Var(y) = \\mu$"
   ]
  },
  {
   "cell_type": "markdown",
   "id": "e9e264f0-5165-4de7-b029-067ad9ee0be7",
   "metadata": {},
   "source": [
    "## 2. Integrate OLS-like specifications in MLE"
   ]
  },
  {
   "cell_type": "markdown",
   "id": "e55f0b27-86ba-4fd8-8475-6e8ec04b2596",
   "metadata": {},
   "source": [
    "Note that the simple linear and multiple linear regression models provides the specification of $E[y|x]$. But in order to use MLE, we need to find $f(y)$. Distributions that belong to the LEF build the connection between the two method. Specifically, we can specify the conditional mean as\n",
    "\n",
    "$E[y|x] = \\mu = g^{-1}(x\\beta)$\n",
    "\n",
    "where $g(.)$ is called the link function. In linear regression, we used an identity link function. But in a more generalized case, the link function is selected according to the support of the distribution of y, or simply the range of y."
   ]
  },
  {
   "cell_type": "markdown",
   "id": "d60b07d3-b818-42ac-906e-db50930dd823",
   "metadata": {},
   "source": [
    "For example, when y can only take positive values, we can choose the log link function, i.e.\n",
    "\n",
    "$\\mu = exp(x\\beta)$"
   ]
  },
  {
   "cell_type": "markdown",
   "id": "6c17d0ab-f45e-48b2-b52a-61aa82993cab",
   "metadata": {},
   "source": [
    "When y can only take 0 or 1 values, we know that $\\mu$ is less than 0 and greater than 1. So we can choose the logit link function.\n",
    "\n",
    "$\\mu = \\frac{exp(x\\beta)}{1+exp(x\\beta)}$"
   ]
  },
  {
   "cell_type": "markdown",
   "id": "a8e005cf-2c74-4a41-9997-20a6e0c3a3c2",
   "metadata": {},
   "source": [
    "We can then choose a specific distribution of y and estimate the parameters using MLE."
   ]
  },
  {
   "cell_type": "markdown",
   "id": "ed8dffc7-581e-40f0-89e8-937e4462acb8",
   "metadata": {},
   "source": [
    "## 3. GLM\n",
    "\n",
    "Models based on an assumed LEF density are called generalized-linear-models. \n",
    "\n",
    "> A model combines steps mentioned in Section 1 (choose a density function) and Section 2 (choose a link function) is called GLM."
   ]
  },
  {
   "cell_type": "markdown",
   "id": "e99c049b-b8f2-43a5-b335-08ff35a2a882",
   "metadata": {},
   "source": [
    "One import property of GLM: As long as $\\mu$ is correctly specified, MLE estimator is always consistent, regardless of the choice of the LEF density function."
   ]
  },
  {
   "cell_type": "markdown",
   "id": "1cd3c475-0807-450e-8e39-49f5b27bd9d4",
   "metadata": {},
   "source": [
    "## 4.Implement GLM in statsmodels"
   ]
  },
  {
   "cell_type": "markdown",
   "id": "a83db39d-f53f-43c7-aed0-812b2b23751f",
   "metadata": {},
   "source": [
    "The implementation GLM in statsmodels is straight forward. Use [smf.glm()](https://www.statsmodels.org/dev/generated/statsmodels.genmod.generalized_linear_model.GLM.html#statsmodels.genmod.generalized_linear_model.GLM)"
   ]
  },
  {
   "cell_type": "markdown",
   "id": "0603e40c-1c4f-4e49-a034-90db93861a25",
   "metadata": {},
   "source": [
    "Click to find details about the dataset [Taxation Powers Vote for the Scottish Parliament 1997](https://www.statsmodels.org/devel/datasets/generated/scotland.html)"
   ]
  },
  {
   "cell_type": "code",
   "execution_count": 19,
   "id": "b9594c5e-85eb-4fd5-9844-4f82ffe62e09",
   "metadata": {},
   "outputs": [
    {
     "name": "stdout",
     "output_type": "stream",
     "text": [
      "                 Generalized Linear Model Regression Results                  \n",
      "==============================================================================\n",
      "Dep. Variable:                    YES   No. Observations:                   32\n",
      "Model:                            GLM   Df Residuals:                       24\n",
      "Model Family:                   Gamma   Df Model:                            7\n",
      "Link Function:                    log   Scale:                       0.0035927\n",
      "Method:                          IRLS   Log-Likelihood:                -83.110\n",
      "Date:                Wed, 20 Apr 2022   Deviance:                     0.087988\n",
      "Time:                        23:35:07   Pearson chi2:                   0.0862\n",
      "No. Iterations:                     7                                         \n",
      "Covariance Type:            nonrobust                                         \n",
      "======================================================================================\n",
      "                         coef    std err          z      P>|z|      [0.025      0.975]\n",
      "--------------------------------------------------------------------------------------\n",
      "Intercept              5.6581      0.680      8.318      0.000       4.325       6.991\n",
      "COUTAX                -0.0024      0.001     -2.466      0.014      -0.004      -0.000\n",
      "UNEMPF                -0.1005      0.031     -3.269      0.001      -0.161      -0.040\n",
      "MOR                    0.0048      0.002      2.946      0.003       0.002       0.008\n",
      "ACT                   -0.0067      0.003     -2.534      0.011      -0.012      -0.002\n",
      "GDP                 8.173e-06   7.19e-06      1.136      0.256   -5.93e-06    2.23e-05\n",
      "AGE                    0.0298      0.015      2.009      0.045       0.001       0.059\n",
      "COUTAX_FEMALEUNEMP     0.0001   4.33e-05      2.724      0.006    3.31e-05       0.000\n",
      "======================================================================================\n"
     ]
    }
   ],
   "source": [
    "# Load modules and data\n",
    "import statsmodels.formula.api as smf\n",
    "import statsmodels.api as sm\n",
    "import statsmodels.genmod.families.links as links\n",
    "\n",
    "data = sm.datasets.scotland.load_pandas()\n",
    "\n",
    "# Instantiate a gamma family model with the default link function.\n",
    "exog = \"+\".join(data.exog_name)\n",
    "reg = smf.glm(\"YES ~ \"+exog, data = data.data, family=sm.families.Gamma(link=links.log()))\n",
    "res = reg.fit()\n",
    "\n",
    "print(res.summary())"
   ]
  },
  {
   "cell_type": "markdown",
   "id": "bf9943ae-9e8b-414a-bd89-54335a83e28e",
   "metadata": {},
   "source": [
    "### Exercise\n",
    "\n",
    "Use the [strikes](https://www.statsmodels.org/devel/datasets/generated/strikes.html) dataset from sm.datasets and estimate the effect of unanticipated industrial production on the duration of strikes."
   ]
  },
  {
   "cell_type": "markdown",
   "id": "2d1ee73e-ec5b-4532-8cc8-bffbc67bf51d",
   "metadata": {},
   "source": [
    "Try different family and link functions (https://www.statsmodels.org/dev/glm.html)"
   ]
  },
  {
   "cell_type": "code",
   "execution_count": 26,
   "id": "bf112883-0451-4eda-b7df-ce25c64caaf1",
   "metadata": {},
   "outputs": [
    {
     "data": {
      "text/html": [
       "<div>\n",
       "<style scoped>\n",
       "    .dataframe tbody tr th:only-of-type {\n",
       "        vertical-align: middle;\n",
       "    }\n",
       "\n",
       "    .dataframe tbody tr th {\n",
       "        vertical-align: top;\n",
       "    }\n",
       "\n",
       "    .dataframe thead th {\n",
       "        text-align: right;\n",
       "    }\n",
       "</style>\n",
       "<table border=\"1\" class=\"dataframe\">\n",
       "  <thead>\n",
       "    <tr style=\"text-align: right;\">\n",
       "      <th></th>\n",
       "      <th>duration</th>\n",
       "      <th>iprod</th>\n",
       "    </tr>\n",
       "  </thead>\n",
       "  <tbody>\n",
       "    <tr>\n",
       "      <th>0</th>\n",
       "      <td>7.0</td>\n",
       "      <td>0.01138</td>\n",
       "    </tr>\n",
       "    <tr>\n",
       "      <th>1</th>\n",
       "      <td>9.0</td>\n",
       "      <td>0.01138</td>\n",
       "    </tr>\n",
       "    <tr>\n",
       "      <th>2</th>\n",
       "      <td>13.0</td>\n",
       "      <td>0.01138</td>\n",
       "    </tr>\n",
       "    <tr>\n",
       "      <th>3</th>\n",
       "      <td>14.0</td>\n",
       "      <td>0.01138</td>\n",
       "    </tr>\n",
       "    <tr>\n",
       "      <th>4</th>\n",
       "      <td>26.0</td>\n",
       "      <td>0.01138</td>\n",
       "    </tr>\n",
       "    <tr>\n",
       "      <th>...</th>\n",
       "      <td>...</td>\n",
       "      <td>...</td>\n",
       "    </tr>\n",
       "    <tr>\n",
       "      <th>57</th>\n",
       "      <td>21.0</td>\n",
       "      <td>-0.00700</td>\n",
       "    </tr>\n",
       "    <tr>\n",
       "      <th>58</th>\n",
       "      <td>27.0</td>\n",
       "      <td>-0.00700</td>\n",
       "    </tr>\n",
       "    <tr>\n",
       "      <th>59</th>\n",
       "      <td>38.0</td>\n",
       "      <td>-0.00700</td>\n",
       "    </tr>\n",
       "    <tr>\n",
       "      <th>60</th>\n",
       "      <td>42.0</td>\n",
       "      <td>-0.00700</td>\n",
       "    </tr>\n",
       "    <tr>\n",
       "      <th>61</th>\n",
       "      <td>117.0</td>\n",
       "      <td>-0.00700</td>\n",
       "    </tr>\n",
       "  </tbody>\n",
       "</table>\n",
       "<p>62 rows × 2 columns</p>\n",
       "</div>"
      ],
      "text/plain": [
       "    duration    iprod\n",
       "0        7.0  0.01138\n",
       "1        9.0  0.01138\n",
       "2       13.0  0.01138\n",
       "3       14.0  0.01138\n",
       "4       26.0  0.01138\n",
       "..       ...      ...\n",
       "57      21.0 -0.00700\n",
       "58      27.0 -0.00700\n",
       "59      38.0 -0.00700\n",
       "60      42.0 -0.00700\n",
       "61     117.0 -0.00700\n",
       "\n",
       "[62 rows x 2 columns]"
      ]
     },
     "execution_count": 26,
     "metadata": {},
     "output_type": "execute_result"
    }
   ],
   "source": [
    "ds = sm.datasets.strikes.load_pandas()\n",
    "df = ds.data\n",
    "df"
   ]
  },
  {
   "cell_type": "code",
   "execution_count": 33,
   "id": "17d8a237-3e3b-423f-a93c-39e76f809da1",
   "metadata": {},
   "outputs": [
    {
     "data": {
      "text/plain": [
       "<AxesSubplot:>"
      ]
     },
     "execution_count": 33,
     "metadata": {},
     "output_type": "execute_result"
    },
    {
     "data": {
      "image/png": "[encoded data removed]",
      "text/plain": [
       "<Figure size 432x288 with 1 Axes>"
      ]
     },
     "metadata": {
      "needs_background": "light"
     },
     "output_type": "display_data"
    }
   ],
   "source": [
    "df[\"duration\"].hist()"
   ]
  },
  {
   "cell_type": "code",
   "execution_count": 34,
   "id": "9fcf9f0d-6b3d-4966-8148-1e85caa88c8f",
   "metadata": {},
   "outputs": [
    {
     "name": "stdout",
     "output_type": "stream",
     "text": [
      "                 Generalized Linear Model Regression Results                  \n",
      "==============================================================================\n",
      "Dep. Variable:               duration   No. Observations:                   62\n",
      "Model:                            GLM   Df Residuals:                       60\n",
      "Model Family:        NegativeBinomial   Df Model:                            1\n",
      "Link Function:                    log   Scale:                          1.0000\n",
      "Method:                          IRLS   Log-Likelihood:                -290.58\n",
      "Date:                Thu, 21 Apr 2022   Deviance:                       66.880\n",
      "Time:                        00:11:22   Pearson chi2:                     54.9\n",
      "No. Iterations:                     7                                         \n",
      "Covariance Type:            nonrobust                                         \n",
      "==============================================================================\n",
      "                 coef    std err          z      P>|z|      [0.025      0.975]\n",
      "------------------------------------------------------------------------------\n",
      "Intercept      3.7760      0.132     28.590      0.000       3.517       4.035\n",
      "iprod         -9.3280      2.798     -3.334      0.001     -14.812      -3.845\n",
      "==============================================================================\n"
     ]
    }
   ],
   "source": [
    "# Instantiate a gamma family model with the default link function.\n",
    "reg = smf.glm(\"duration ~ iprod\", data = df, family=sm.families.NegativeBinomial())\n",
    "res = reg.fit()\n",
    "\n",
    "print(res.summary())"
   ]
  }
 ],
 "metadata": {
  "kernelspec": {
   "display_name": "Python 3 (ipykernel)",
   "language": "python",
   "name": "python3"
  },
  "language_info": {
   "codemirror_mode": {
    "name": "ipython",
    "version": 3
   },
   "file_extension": ".py",
   "mimetype": "text/x-python",
   "name": "python",
   "nbconvert_exporter": "python",
   "pygments_lexer": "ipython3",
   "version": "3.8.8"
  }
 },
 "nbformat": 4,
 "nbformat_minor": 5
}
