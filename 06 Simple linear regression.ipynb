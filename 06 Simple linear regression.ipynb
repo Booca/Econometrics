{
 "cells": [
  {
   "cell_type": "markdown",
   "id": "494b2c96-e986-4a23-856c-d4fb24c09813",
   "metadata": {},
   "source": [
    "# 6 Simple Regression"
   ]
  },
  {
   "cell_type": "markdown",
   "id": "97950214-afbd-48cb-9222-1848bd97bef8",
   "metadata": {},
   "source": [
    "# 6.1 Insight and Mathematical Foundations\n",
    "\n",
    "Regression model is used to describe the relationship between **independent** and **dependent** variables. When there is only on independent variable, the model is called a **simple regression model**. When there are more than one independent variables, the model is called a **multiple regression model**. When there are more than one dependent variables, the model is called **multivariate regression model**, but often times we will estimate separate models for each dependent variable instead of estimating them all at once.\n",
    "\n",
    "First, formulate the regression using a simple linear form.\n",
    "\n",
    "$$y=\\beta_0+\\beta_1 x+u$$\n",
    "\n",
    "$\\beta_0$ is called the **intercept**, $\\beta_1$ is called the **slope** of the regression, and $u$ is the residual (aka unobservables), which is a catch-all term that captures all unexplained variations of y."
   ]
  },
  {
   "cell_type": "markdown",
   "id": "6b7ef4bd-af4e-4f13-b6f1-30e09965b053",
   "metadata": {},
   "source": [
    "## Method - OLS"
   ]
  },
  {
   "cell_type": "markdown",
   "id": "579346ba-fc6e-441a-9e66-503f9b4da8de",
   "metadata": {},
   "source": [
    "Now, we are concerned with estimating the **population parameters** $\\beta_0$ and $\\beta_1$ with the data we have. There are, indeed, numerous ways to estimate the parameters, but the most famous method is called **ordinary least squares**. Mathematically, it solves the following optimization problem.\n",
    "\n",
    "$$\\min_{\\beta_0,\\beta_1} \\sum_i [y_i-(\\beta_0+\\beta_1 x)]^2$$"
   ]
  },
  {
   "cell_type": "markdown",
   "id": "460c00a8-aed9-48e2-bc0b-0203d42671c2",
   "metadata": {},
   "source": [
    "After solving the first order condition, there is an analytical solution ($\\hat{\\beta_0}, \\hat{\\beta_1}$) to this optimization problem.\n",
    "\n",
    "$$\\hat{\\beta_0} = \\bar{y}-\\hat{\\beta_1}\\bar{x}$$\n",
    "$$\\hat{\\beta_1} = \\frac{Cov(x,y)}{Var(x)}$$\n"
   ]
  },
  {
   "cell_type": "markdown",
   "id": "bcf15518-ad31-4bfd-9843-89ef5ce2a2af",
   "metadata": {},
   "source": [
    "For a given sample, we just need to calculate the four statistics $\\bar{y}, \\bar{x}, Cov(x,y), \\text{and }Var(x)$ and plug them into these equations. Let's give it a try!"
   ]
  },
  {
   "cell_type": "markdown",
   "id": "f9ef090d-ff8b-41b1-b79e-ac05e1b70f29",
   "metadata": {},
   "source": [
    "## Implement your own simple OLS"
   ]
  },
  {
   "cell_type": "markdown",
   "id": "587d28f7-ac6a-41bd-9ebf-cd582e69630e",
   "metadata": {},
   "source": [
    "- Task 1: define a function that takes two arguments x and y.\n",
    "- Task 2: inside the function, you should calculate $\\bar{y}, \\bar{x}, Cov(x,y), \\text{and }Var(x)$, and return two values called beta0 and beta1.\n",
    "- Task 3: Import *CEOSAL1* from *wooldridge* and fit your model - $salary = \\beta_0 +\\beta_1roe+u$ - to the data. What are your estimates?"
   ]
  },
  {
   "cell_type": "code",
   "execution_count": 1,
   "id": "15ac2a88-cbbe-4d61-a926-0a3a450855ce",
   "metadata": {},
   "outputs": [],
   "source": [
    "import numpy as np\n",
    "def ols(x,y):\n",
    "    cov = np.cov(x,y)[0,1]\n",
    "    var = np.cov(x,y)[0,0]\n",
    "    b1 = cov/var\n",
    "    b0 = np.mean(y)- b1*np.mean(x)\n",
    "    return b0, b1"
   ]
  },
  {
   "cell_type": "code",
   "execution_count": 2,
   "id": "d51c5880-c1e7-4ec8-b3d0-800962506a2f",
   "metadata": {},
   "outputs": [
    {
     "data": {
      "text/html": [
       "<div>\n",
       "<style scoped>\n",
       "    .dataframe tbody tr th:only-of-type {\n",
       "        vertical-align: middle;\n",
       "    }\n",
       "\n",
       "    .dataframe tbody tr th {\n",
       "        vertical-align: top;\n",
       "    }\n",
       "\n",
       "    .dataframe thead th {\n",
       "        text-align: right;\n",
       "    }\n",
       "</style>\n",
       "<table border=\"1\" class=\"dataframe\">\n",
       "  <thead>\n",
       "    <tr style=\"text-align: right;\">\n",
       "      <th></th>\n",
       "      <th>salary</th>\n",
       "      <th>pcsalary</th>\n",
       "      <th>sales</th>\n",
       "      <th>roe</th>\n",
       "      <th>pcroe</th>\n",
       "      <th>ros</th>\n",
       "      <th>indus</th>\n",
       "      <th>finance</th>\n",
       "      <th>consprod</th>\n",
       "      <th>utility</th>\n",
       "      <th>lsalary</th>\n",
       "      <th>lsales</th>\n",
       "    </tr>\n",
       "  </thead>\n",
       "  <tbody>\n",
       "    <tr>\n",
       "      <th>0</th>\n",
       "      <td>1095</td>\n",
       "      <td>20</td>\n",
       "      <td>27595.000000</td>\n",
       "      <td>14.1</td>\n",
       "      <td>106.400002</td>\n",
       "      <td>191</td>\n",
       "      <td>1</td>\n",
       "      <td>0</td>\n",
       "      <td>0</td>\n",
       "      <td>0</td>\n",
       "      <td>6.998509</td>\n",
       "      <td>10.225389</td>\n",
       "    </tr>\n",
       "    <tr>\n",
       "      <th>1</th>\n",
       "      <td>1001</td>\n",
       "      <td>32</td>\n",
       "      <td>9958.000000</td>\n",
       "      <td>10.9</td>\n",
       "      <td>-30.600000</td>\n",
       "      <td>13</td>\n",
       "      <td>1</td>\n",
       "      <td>0</td>\n",
       "      <td>0</td>\n",
       "      <td>0</td>\n",
       "      <td>6.908755</td>\n",
       "      <td>9.206132</td>\n",
       "    </tr>\n",
       "    <tr>\n",
       "      <th>2</th>\n",
       "      <td>1122</td>\n",
       "      <td>9</td>\n",
       "      <td>6125.899902</td>\n",
       "      <td>23.5</td>\n",
       "      <td>-16.299999</td>\n",
       "      <td>14</td>\n",
       "      <td>1</td>\n",
       "      <td>0</td>\n",
       "      <td>0</td>\n",
       "      <td>0</td>\n",
       "      <td>7.022868</td>\n",
       "      <td>8.720281</td>\n",
       "    </tr>\n",
       "    <tr>\n",
       "      <th>3</th>\n",
       "      <td>578</td>\n",
       "      <td>-9</td>\n",
       "      <td>16246.000000</td>\n",
       "      <td>5.9</td>\n",
       "      <td>-25.700001</td>\n",
       "      <td>-21</td>\n",
       "      <td>1</td>\n",
       "      <td>0</td>\n",
       "      <td>0</td>\n",
       "      <td>0</td>\n",
       "      <td>6.359574</td>\n",
       "      <td>9.695602</td>\n",
       "    </tr>\n",
       "    <tr>\n",
       "      <th>4</th>\n",
       "      <td>1368</td>\n",
       "      <td>7</td>\n",
       "      <td>21783.199219</td>\n",
       "      <td>13.8</td>\n",
       "      <td>-3.000000</td>\n",
       "      <td>56</td>\n",
       "      <td>1</td>\n",
       "      <td>0</td>\n",
       "      <td>0</td>\n",
       "      <td>0</td>\n",
       "      <td>7.221105</td>\n",
       "      <td>9.988894</td>\n",
       "    </tr>\n",
       "  </tbody>\n",
       "</table>\n",
       "</div>"
      ],
      "text/plain": [
       "   salary  pcsalary         sales   roe       pcroe  ros  indus  finance  \\\n",
       "0    1095        20  27595.000000  14.1  106.400002  191      1        0   \n",
       "1    1001        32   9958.000000  10.9  -30.600000   13      1        0   \n",
       "2    1122         9   6125.899902  23.5  -16.299999   14      1        0   \n",
       "3     578        -9  16246.000000   5.9  -25.700001  -21      1        0   \n",
       "4    1368         7  21783.199219  13.8   -3.000000   56      1        0   \n",
       "\n",
       "   consprod  utility   lsalary     lsales  \n",
       "0         0        0  6.998509  10.225389  \n",
       "1         0        0  6.908755   9.206132  \n",
       "2         0        0  7.022868   8.720281  \n",
       "3         0        0  6.359574   9.695602  \n",
       "4         0        0  7.221105   9.988894  "
      ]
     },
     "execution_count": 2,
     "metadata": {},
     "output_type": "execute_result"
    }
   ],
   "source": [
    "import wooldridge as woo\n",
    "df = woo.data(\"ceosal1\")\n",
    "df.head()"
   ]
  },
  {
   "cell_type": "code",
   "execution_count": 3,
   "id": "f0725ebb-5611-4e65-a4e7-c46635753167",
   "metadata": {},
   "outputs": [],
   "source": [
    "x = [1,2,3,4]\n",
    "y = [2*i for i in x]"
   ]
  },
  {
   "cell_type": "code",
   "execution_count": 4,
   "id": "9ecfd52b-0438-4af2-94fa-35d828f8610d",
   "metadata": {},
   "outputs": [
    {
     "data": {
      "text/plain": [
       "(0.0, 2.0)"
      ]
     },
     "execution_count": 4,
     "metadata": {},
     "output_type": "execute_result"
    }
   ],
   "source": [
    "ols(x,y)"
   ]
  },
  {
   "cell_type": "markdown",
   "id": "24672d94-84b2-49cc-aa7b-981c3e336e24",
   "metadata": {},
   "source": [
    "# 6.2 Implementing using statsmodels\n",
    "\n",
    "While calculating OLS coefficients using this pedestrian approach is straghtforward, there is a more convenient and powerful way to do it - a package called **statsmodels**"
   ]
  },
  {
   "cell_type": "code",
   "execution_count": 5,
   "id": "6036dc58-fdae-48f4-9d6d-e09d3defe930",
   "metadata": {},
   "outputs": [],
   "source": [
    "import statsmodels.formula.api as smf"
   ]
  },
  {
   "cell_type": "markdown",
   "id": "cd0cfba3-44a8-4e8a-9b02-7cb7e5167cd0",
   "metadata": {},
   "source": [
    "The logic is a bit different from our own implementation, because it is expressed in an object-oriented way.\n",
    "\n",
    "**Step 1**: Create an OLS regression *object*, with two required arguments - formula and data. See [this documentation](https://www.statsmodels.org/stable/generated/statsmodels.formula.api.ols.html#statsmodels.formula.api.ols)"
   ]
  },
  {
   "cell_type": "markdown",
   "id": "95e26283-89d2-46d8-9c1a-08959f61a79d",
   "metadata": {},
   "source": [
    "The *data* parameter takes a DataFrame as input. And the *formula* parameter specifies the structure of the model."
   ]
  },
  {
   "cell_type": "code",
   "execution_count": 6,
   "id": "60df0ab0-b4df-45a3-a490-4d71801b51ac",
   "metadata": {},
   "outputs": [],
   "source": [
    "reg = smf.ols(formula = \"salary ~ roe\", data = df)"
   ]
  },
  {
   "cell_type": "markdown",
   "id": "9f930926-be36-49a9-b8a6-eaa9c539395b",
   "metadata": {},
   "source": [
    "**Step 2**: To estimate parameters, use *reg.fit()* and assign the result to a variable."
   ]
  },
  {
   "cell_type": "code",
   "execution_count": 7,
   "id": "678caee9-7717-4e5b-ba57-5dd2427690c0",
   "metadata": {},
   "outputs": [],
   "source": [
    "result = reg.fit()"
   ]
  },
  {
   "cell_type": "markdown",
   "id": "b03e20ae-0b37-4c16-b8ab-207cfd0e4af7",
   "metadata": {},
   "source": [
    "**Step 3**: To display the estimation table, use *result.summary()*. To display the estimators use *result.params*"
   ]
  },
  {
   "cell_type": "code",
   "execution_count": 8,
   "id": "093bc8cc-dd97-4d86-8e34-070939193795",
   "metadata": {},
   "outputs": [
    {
     "name": "stdout",
     "output_type": "stream",
     "text": [
      "                            OLS Regression Results                            \n",
      "==============================================================================\n",
      "Dep. Variable:                 salary   R-squared:                       0.013\n",
      "Model:                            OLS   Adj. R-squared:                  0.008\n",
      "Method:                 Least Squares   F-statistic:                     2.767\n",
      "Date:                Mon, 04 Oct 2021   Prob (F-statistic):             0.0978\n",
      "Time:                        14:34:41   Log-Likelihood:                -1804.5\n",
      "No. Observations:                 209   AIC:                             3613.\n",
      "Df Residuals:                     207   BIC:                             3620.\n",
      "Df Model:                           1                                         \n",
      "Covariance Type:            nonrobust                                         \n",
      "==============================================================================\n",
      "                 coef    std err          t      P>|t|      [0.025      0.975]\n",
      "------------------------------------------------------------------------------\n",
      "Intercept    963.1913    213.240      4.517      0.000     542.790    1383.592\n",
      "roe           18.5012     11.123      1.663      0.098      -3.428      40.431\n",
      "==============================================================================\n",
      "Omnibus:                      311.096   Durbin-Watson:                   2.105\n",
      "Prob(Omnibus):                  0.000   Jarque-Bera (JB):            31120.902\n",
      "Skew:                           6.915   Prob(JB):                         0.00\n",
      "Kurtosis:                      61.158   Cond. No.                         43.3\n",
      "==============================================================================\n",
      "\n",
      "Notes:\n",
      "[1] Standard Errors assume that the covariance matrix of the errors is correctly specified.\n"
     ]
    }
   ],
   "source": [
    "print(result.summary())"
   ]
  },
  {
   "cell_type": "markdown",
   "id": "ba493dba-7913-4f40-af6d-1f4b70f5f1cc",
   "metadata": {},
   "source": [
    "> To save the table use as_csv(), as_text(), as_latex() function, with the Python io."
   ]
  },
  {
   "cell_type": "code",
   "execution_count": 9,
   "id": "5bb1fb32-7984-48ec-8fb8-34c08cc23db2",
   "metadata": {
    "tags": []
   },
   "outputs": [],
   "source": [
    "f = open(\"result.txt\", \"w\")\n",
    "f.write(result.summary().as_text())\n",
    "f.close()\n",
    "\n",
    "# or alternatively\n",
    "\n",
    "with open(\"result.txt\",\"w\") as f:\n",
    "    f.write(result.summary().as_text())"
   ]
  },
  {
   "cell_type": "code",
   "execution_count": 10,
   "id": "208dab4e-4dca-4503-a212-676b21bcb89c",
   "metadata": {
    "tags": []
   },
   "outputs": [
    {
     "name": "stdout",
     "output_type": "stream",
     "text": [
      "<class 'statsmodels.regression.linear_model.RegressionResultsWrapper'>\n"
     ]
    },
    {
     "data": {
      "text/plain": [
       "Intercept    963.191336\n",
       "roe           18.501186\n",
       "dtype: float64"
      ]
     },
     "execution_count": 10,
     "metadata": {},
     "output_type": "execute_result"
    }
   ],
   "source": [
    "print(type(result))\n",
    "result.params"
   ]
  },
  {
   "cell_type": "markdown",
   "id": "bf95c757-6d10-44fb-9310-a3276010bf91",
   "metadata": {},
   "source": [
    "There are a lot more properties and methods of an result object. [Check here](https://www.statsmodels.org/stable/generated/statsmodels.regression.linear_model.RegressionResults.html#statsmodels.regression.linear_model.RegressionResults)."
   ]
  },
  {
   "cell_type": "markdown",
   "id": "58c5f02d-3b77-48ba-b4e0-6319e9ef82a7",
   "metadata": {},
   "source": [
    "## Advanced formula\n",
    "The “-” sign can be used to remove columns/variables. For instance, we can remove the intercept from a model by:"
   ]
  },
  {
   "cell_type": "code",
   "execution_count": 11,
   "id": "83971399-ff4b-4f94-9cd4-6e0db5263ace",
   "metadata": {},
   "outputs": [
    {
     "data": {
      "text/plain": [
       "roe    63.537955\n",
       "dtype: float64"
      ]
     },
     "execution_count": 11,
     "metadata": {},
     "output_type": "execute_result"
    }
   ],
   "source": [
    "smf.ols(formula='salary ~ roe - 1 ', data=df).fit().params"
   ]
  },
  {
   "cell_type": "markdown",
   "id": "4a800699-24e7-467c-a641-eb49bb204105",
   "metadata": {},
   "source": [
    "More details about the formula parameter can be find [here](https://www.statsmodels.org/stable/example_formulas.html?highlight=formula)"
   ]
  },
  {
   "cell_type": "markdown",
   "id": "e56921b9-ffc2-4ff9-87dd-57640ff8e117",
   "metadata": {},
   "source": [
    "# 6.3 Visulize the fitted model"
   ]
  },
  {
   "cell_type": "code",
   "execution_count": 12,
   "id": "7bb1779f-1f06-470c-b8f1-2c533f368a2b",
   "metadata": {},
   "outputs": [
    {
     "data": {
      "image/png": "[encoded data removed]",
      "text/plain": [
       "<Figure size 432x288 with 1 Axes>"
      ]
     },
     "metadata": {
      "needs_background": "light"
     },
     "output_type": "display_data"
    }
   ],
   "source": [
    "import matplotlib.pyplot as plt\n",
    "yhat = result.fittedvalues\n",
    "\n",
    "# stack plt functions to plot on the same figure\n",
    "plt.scatter(x=df[\"roe\"], y=df[\"salary\"])\n",
    "plt.plot(df[\"roe\"], yhat, c = \"r\") # \n",
    "plt.xlabel(\"roe\")\n",
    "plt.ylabel(\"salary\")\n",
    "plt.show()"
   ]
  },
  {
   "cell_type": "markdown",
   "id": "9782b308-c790-4c22-a69a-2196e64aa8b3",
   "metadata": {},
   "source": [
    "> In plt.plot(), x and y arguments cannot be passed as keyword arguments."
   ]
  },
  {
   "cell_type": "markdown",
   "id": "7a9a4729-b4ea-424a-8344-2b50fd153a66",
   "metadata": {},
   "source": [
    "# 6.4 Interpret the Estimation Table - Top"
   ]
  },
  {
   "cell_type": "code",
   "execution_count": 13,
   "id": "c5408acb-d9ee-4be7-8036-53c475ef463f",
   "metadata": {},
   "outputs": [
    {
     "name": "stdout",
     "output_type": "stream",
     "text": [
      "                            OLS Regression Results                            \n",
      "==============================================================================\n",
      "Dep. Variable:                 salary   R-squared:                       0.013\n",
      "Model:                            OLS   Adj. R-squared:                  0.008\n",
      "Method:                 Least Squares   F-statistic:                     2.767\n",
      "Date:                Mon, 04 Oct 2021   Prob (F-statistic):             0.0978\n",
      "Time:                        14:34:41   Log-Likelihood:                -1804.5\n",
      "No. Observations:                 209   AIC:                             3613.\n",
      "Df Residuals:                     207   BIC:                             3620.\n",
      "Df Model:                           1                                         \n",
      "Covariance Type:            nonrobust                                         \n",
      "==============================================================================\n",
      "                 coef    std err          t      P>|t|      [0.025      0.975]\n",
      "------------------------------------------------------------------------------\n",
      "Intercept    963.1913    213.240      4.517      0.000     542.790    1383.592\n",
      "roe           18.5012     11.123      1.663      0.098      -3.428      40.431\n",
      "==============================================================================\n",
      "Omnibus:                      311.096   Durbin-Watson:                   2.105\n",
      "Prob(Omnibus):                  0.000   Jarque-Bera (JB):            31120.902\n",
      "Skew:                           6.915   Prob(JB):                         0.00\n",
      "Kurtosis:                      61.158   Cond. No.                         43.3\n",
      "==============================================================================\n",
      "\n",
      "Notes:\n",
      "[1] Standard Errors assume that the covariance matrix of the errors is correctly specified.\n"
     ]
    }
   ],
   "source": [
    "print(result.summary())"
   ]
  },
  {
   "cell_type": "markdown",
   "id": "0643540a-572f-4e9a-9d6a-5ec993b30a67",
   "metadata": {},
   "source": [
    "### Degrees of freedom for residuals and model\n",
    "In statistics, the degrees of freedom of a vector is the number of independent component (dimension of a vector space). In laymen terms, this means the maximal number of values that can vary freely and simultaneously without violating any constraints.\n",
    "\n",
    "For instance, consider the constant term in the simple regression model. It is defined as a constant, so in the entire column of $constant_i$, there is only one value that can change freely (all the rest values must change \"accordingly\"). So, Df constant = 1.\n",
    "\n",
    "For Df Residuals, the degrees of freedom is **n-(k+1)** when there is a constant. Because there are two F.O.C restricting the residuals. More formally, you need to prove that SSE satisfies a $\\chi^2(n-k-1)$ distribution."
   ]
  },
  {
   "cell_type": "markdown",
   "id": "bd0d1224-5201-46c1-88cf-6bdd78ccdfc1",
   "metadata": {},
   "source": [
    "Degrees of freedom of the model is the degree of freedom for SSR, this is equal to **k** - number of independent variables. Informally, this is because $\\hat{y} = \\beta_0+\\beta_1 x_1 + ... + \\beta_k x_k$, so given the estimated parameters, only the k regressors can vary independently."
   ]
  },
  {
   "cell_type": "markdown",
   "id": "900043e9-01c9-4775-9422-89a1b5342ba2",
   "metadata": {},
   "source": [
    "### R-squared\n",
    "\n",
    "Sum of squares total: $SST = \\sum_{i=1}^n(y_i-\\bar{y})^2$ \\\n",
    "Sum of squares regression: $SSR = \\sum_{i=1}^n(\\hat{y} - \\bar{y})^2$ \\\n",
    "Sum of squares error: $SSE = \\sum_{i=1}^n(y_i-\\hat{y})^2$ \n",
    "\n",
    "For regression models with a **constant**, we have\n",
    "$$SST = SSR + SSE$$\n",
    "Or in other words: **Total variability = Explained variability + Unexplained variability**.\n",
    "\n",
    "Therefore, it is rational to use $R^2 = \\frac{SSR}{SST}$, which is in the range of [0,1] as a ratio measure for the model's **goodness of fit**. A larger **R-squared** means a larger portion of variability is explained by the regression model, and therefore a better fit."
   ]
  },
  {
   "cell_type": "markdown",
   "id": "ed0df537-8fe3-413f-accf-0de4ab74f8e7",
   "metadata": {},
   "source": [
    "# 6.5 The middle of the estimation table - Coefficients and Significance Tests"
   ]
  },
  {
   "cell_type": "markdown",
   "id": "4fc94294-4b20-4dbe-aa52-6946dbaa63ac",
   "metadata": {},
   "source": [
    "### Coef.\n",
    "\n",
    "We have already illustrated how to mathematically calculate the estimators - coefficients. But we haven't talked about the randomness (uncertainty) of $\\hat{\\beta_0}$ and $\\hat{\\beta_1}$.\n",
    "\n",
    "Given x, y is still a random variable due to the unobserved error term. Since both estimators are functions of x and y. Even after conditioning on x, $\\hat{\\beta_0}$ and $\\hat{\\beta_1}$ are still subject to uncertainty from u. In other words, if u takes a different value, $\\hat{\\beta_0}$ and $\\hat{\\beta_1}$ will be different."
   ]
  },
  {
   "cell_type": "markdown",
   "id": "025a8274-fc0c-4e07-9f24-0449ff9e6405",
   "metadata": {},
   "source": [
    "Hence, $\\hat{\\beta_0}$ and $\\hat{\\beta_1}$ are random variables and can be proved to follow a Normal distribution when the number of observations n is large, and follow a t(n-k-1) distribution when n is small (rule of thumb 30)."
   ]
  },
  {
   "cell_type": "markdown",
   "id": "942d3ed6-c22d-4da5-9f5d-c54a300996a0",
   "metadata": {},
   "source": [
    "To see this, let's consider an example where the value y is determined by two variables x and u (**dgp** - data generating process). Variable x is observable, but u is unobservable, therefore even after controlling for x, y still varies."
   ]
  },
  {
   "cell_type": "code",
   "execution_count": 23,
   "id": "af80519f-667e-49aa-9978-e3a4520b6d63",
   "metadata": {
    "tags": []
   },
   "outputs": [],
   "source": [
    "import numpy as np\n",
    "import matplotlib.pyplot as plt\n",
    "\n",
    "b0_ls = []\n",
    "b1_ls = []\n",
    "for i in range(100):\n",
    "    x = np.array([1,2,3,4,5,6])\n",
    "    u = np.random.randn(len(x))\n",
    "    y = 1 + x + u\n",
    " \n",
    "    b0, b1 = ols(x,y)\n",
    "    b0_ls.append(b0)\n",
    "    b1_ls.append(b1)"
   ]
  },
  {
   "cell_type": "code",
   "execution_count": 24,
   "id": "edd50ace-f137-42ab-b64b-ee676f7eca82",
   "metadata": {},
   "outputs": [
    {
     "data": {
      "image/png": "[encoded data removed]",
      "text/plain": [
       "<Figure size 432x288 with 2 Axes>"
      ]
     },
     "metadata": {
      "needs_background": "light"
     },
     "output_type": "display_data"
    }
   ],
   "source": [
    "fig, ax = plt.subplots(1,2)\n",
    "ax[0].hist(x=b0_ls)\n",
    "ax[0].set_title(\"b0_hat\")\n",
    "ax[0].axvline(np.mean(b0_ls),c=\"r\")\n",
    "ax[1].hist(x=b1_ls)\n",
    "ax[1].set_title(\"b1_hat\")\n",
    "ax[1].axvline(np.mean(b1_ls),c=\"r\")\n",
    "plt.show()"
   ]
  },
  {
   "cell_type": "markdown",
   "id": "eb27bc18-0b61-4b7f-95b9-2ba48100a7dc",
   "metadata": {},
   "source": [
    "> This process of generating an empirical distribution with simulations is called **Monte-Carlo Simulation**"
   ]
  },
  {
   "cell_type": "markdown",
   "id": "751b3ad9-74b0-48f7-b213-7416d0b9eacd",
   "metadata": {},
   "source": [
    "### Exercise\n",
    "\n",
    "1. $\\chi^2(dof)$ distribution is defined as the summation of *dof* number of squared normal distributions. As an example, assume $Z\\sim N(0,1)$, and $X = Z^2$. Try to simulate the distribution of X, this will give you an approximation of the distribution of X."
   ]
  },
  {
   "cell_type": "markdown",
   "id": "1ad5cfa0-87dc-45fb-9f64-7a8fce7f0389",
   "metadata": {},
   "source": [
    "2. Next, pack the above codes as a function - named *chi2sim*, takes one argument *dof*, and displays the simulated $\\chi^2(dof)$ distribution."
   ]
  },
  {
   "cell_type": "markdown",
   "id": "71353961-0f95-447b-94b5-74a665440468",
   "metadata": {},
   "source": [
    "### Standard Error of an Estimator\n",
    "\n",
    "Standard Error is the standard deviation of an estimator - $\\hat{\\beta}$. We can get an analytical standard error based on the functional form of the estimator and central limit theorem. Or alternatively, we can compute the standard error using computation approach such as the bootstrap method.\n",
    "\n",
    "For the simple OLS estimator\n",
    "$$se(\\hat{\\beta_0})=s\\sqrt{\\frac{1}{n}+\\frac{\\bar{x}^2}{\\sum(x_i-\\bar{x})^2}}$$\n",
    "\n",
    "$$se(\\hat{\\beta_1})=\\frac{s}{\\sqrt{\\sum(x_i-\\bar{x})^2}}$$\n",
    "\n",
    "where s is the sample standard deviation of the error term $\\hat{u}$."
   ]
  },
  {
   "cell_type": "markdown",
   "id": "18691490-3c69-440f-8a90-1d521596873f",
   "metadata": {},
   "source": [
    "### t-statistic\n",
    "This is the t statistics calculated using the following formula.\n",
    "\n",
    "$$ t = \\frac{\\hat{\\beta}}{se(\\hat{\\beta})}$$"
   ]
  },
  {
   "cell_type": "markdown",
   "id": "10aaf0d9-56bc-4d88-9867-b615363269e9",
   "metadata": {},
   "source": [
    "### p-value\n",
    "This is $P(t > |t_{statistic}|)$ in a $t(n-k-1)$ distribution. The smaller the value (compare with 0.01, 0.05, 0.1), the more confident we can claim that parameter $\\beta$ is not equal to 0."
   ]
  },
  {
   "cell_type": "markdown",
   "id": "48a09d53-7dc9-43e3-ade4-ac38337690b9",
   "metadata": {},
   "source": [
    "### Confidence Interval \n",
    "Confidence interval is the probability bounds for an estimator. Bounds are numbers such that $P(\\text{lower bound}<\\beta<\\text{upper bound}) = \\text{confidence level}$.\n",
    "\n",
    "More specifically for OLS estimators\n",
    "\n",
    "$$\\text{lower bound} = \\hat{\\beta} - t_{\\alpha/2} se(\\hat{\\beta})$$\n",
    "and\n",
    "$$\\text{upper bound} = \\hat{\\beta} + t_{\\alpha/2} se(\\hat{\\beta})$$"
   ]
  },
  {
   "cell_type": "markdown",
   "id": "4317735c-714f-4acc-8d64-87504ef140d1",
   "metadata": {},
   "source": [
    "where $1-\\alpha$ is the confidence level. And there is a $1-\\alpha$ probability that the population parameter $\\beta$ is within this interval"
   ]
  },
  {
   "cell_type": "markdown",
   "id": "783c00af-7c22-4e9c-965f-917d9ee6a7f3",
   "metadata": {},
   "source": [
    "# 6.6 Interpret the bottom of the estimation table - Diagnostic Test"
   ]
  },
  {
   "cell_type": "markdown",
   "id": "85f2a8a1-cb46-4a98-8634-2d5d4c52e60b",
   "metadata": {},
   "source": [
    "To guarantee the estimators have good statistical properties - unbiased, consistent, efficient. We will need to make four assumptions before running OLS.\n",
    "1. Correct specification of E[Y|x]. i.e. $E[Y|x] = \\beta_0+\\beta_1*x$ is the true model that generates the data. This is equivalent to $E[U|x] = 0$, and implies $Cov(X,U)=0$"
   ]
  },
  {
   "cell_type": "markdown",
   "id": "e240b9d4-7c67-416d-bf2a-d7458e970707",
   "metadata": {},
   "source": [
    "> Ensures unbiasness and consistency."
   ]
  },
  {
   "cell_type": "markdown",
   "id": "4e517f3b-72b9-4f40-8eca-f1dd7b9de9da",
   "metadata": {},
   "source": [
    "2. Errors are normally distributed across the data. Mathematically, this means $U|x \\sim N(0,\\sigma_x^2)$"
   ]
  },
  {
   "cell_type": "markdown",
   "id": "76e64c72-de39-4d70-b155-b5217346340e",
   "metadata": {},
   "source": [
    "> Ensures efficiency"
   ]
  },
  {
   "cell_type": "markdown",
   "id": "677aa2da-b5aa-46ef-8be4-ff8f7079976d",
   "metadata": {},
   "source": [
    "3. $u_i$ are independently and identically distributed (i.i.d). This implies two properties\n",
    "    1. Homoscedasticity. This means that the variance of the errors is consistent across values of X. We want to avoid situations where the error rate grows in a particular direction. \n",
    "    2. No serial correlation. $u_i$s are independent with each other. "
   ]
  },
  {
   "cell_type": "markdown",
   "id": "c529bb7e-6dcd-430c-a480-2964968824a7",
   "metadata": {},
   "source": [
    "> Ensures efficiency"
   ]
  },
  {
   "cell_type": "markdown",
   "id": "5ba381de-8da0-471e-9992-b1ff52375937",
   "metadata": {},
   "source": [
    "4. The independent variables are not collinear (for multiple regression only)"
   ]
  },
  {
   "cell_type": "markdown",
   "id": "042ad8fa-90cf-41f7-93be-b321a2c0ab5f",
   "metadata": {},
   "source": [
    "> Ensures the identifiability"
   ]
  },
  {
   "cell_type": "markdown",
   "id": "be0171e6-3200-4e2e-a956-754873fced7e",
   "metadata": {},
   "source": [
    "> These four assumptions are known as Gauss Markov Assumptions."
   ]
  },
  {
   "cell_type": "markdown",
   "id": "ac28a3fb-63f7-4b84-8352-e32a07190ee3",
   "metadata": {},
   "source": [
    "### Omnibus (Diagnose assumption 2)\n",
    "In statistics, an omnibus test is any statistical test that tests for the significance of several parameters in a model at once. F-test is one omnibus test. But in the estimation table, the omnibus test stands for the D’Agostino Omnibus test for normality. D’Agostino(1990) describes a normality test that combines the tests for skewness and kurtosis. This statistic satisfies a $\\chi^2(2)$ distribution. $H_0: Skew(u)=0\\text{ and }Kurtosis(u)=3$"
   ]
  },
  {
   "cell_type": "markdown",
   "id": "d64607d3-afd0-40a7-8255-f36408de3dab",
   "metadata": {},
   "source": [
    "### Durbin-Watson (Diagnose assumption 3.B)\n",
    "\n",
    "A test for serial correlation. We hope to have a value between 1.5 to 2.5 (rule of thumb). "
   ]
  },
  {
   "cell_type": "markdown",
   "id": "dec3543b-8494-428b-ac81-c95a80d8a57c",
   "metadata": {},
   "source": [
    "$$DW = \\frac{\\sum (\\hat{u_i} - \\hat{u_{i-1}})^2}{\\sum \\hat{u_i}^2}$$"
   ]
  },
  {
   "cell_type": "markdown",
   "id": "f03e503d-5135-436b-8aff-dc020662d040",
   "metadata": {},
   "source": [
    "The value always lies between 0 and 4, and DW=2 indicates no lag-1 serial correlation (autocorrelation)."
   ]
  },
  {
   "cell_type": "markdown",
   "id": "b6120b1d-c0fd-41bc-ad1d-2949cae86d6d",
   "metadata": {},
   "source": [
    "### Jarque-Bera (JB)/Prob(JB) (Diagnose assumption 2)\n",
    "\n",
    "The Jarque–Bera test is a goodness-of-fit test of whether sample data have the skewness and kurtosis matching a normal distribution. JB statistic = $\\frac{n}{6}(S^2+\\frac{1}{4}(K-3)^2)$, and it satisfies a $\\chi^2(2)$ distribution. $H_0: Skew(u)=0\\text{ and }Kurtosis(u)=3$"
   ]
  },
  {
   "cell_type": "markdown",
   "id": "fcb134f0-f0f1-4c2f-a333-0c978ddb813c",
   "metadata": {},
   "source": [
    "# Exercise"
   ]
  },
  {
   "cell_type": "markdown",
   "id": "edffd752-5937-4ab1-aa1d-f6cb4ea44a7c",
   "metadata": {},
   "source": [
    "Use the data set *WAGE1* and study the relationship between education and wage."
   ]
  }
 ],
 "metadata": {
  "kernelspec": {
   "display_name": "Python 3 (ipykernel)",
   "language": "python",
   "name": "python3"
  },
  "language_info": {
   "codemirror_mode": {
    "name": "ipython",
    "version": 3
   },
   "file_extension": ".py",
   "mimetype": "text/x-python",
   "name": "python",
   "nbconvert_exporter": "python",
   "pygments_lexer": "ipython3",
   "version": "3.8.8"
  }
 },
 "nbformat": 4,
 "nbformat_minor": 5
}
