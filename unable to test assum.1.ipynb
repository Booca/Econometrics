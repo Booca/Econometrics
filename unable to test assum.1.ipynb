{
 "cells": [
  {
   "cell_type": "markdown",
   "id": "795a9815-4550-4490-9a01-948699f164ef",
   "metadata": {},
   "source": [
    "### Unable to Test Gauss-Markov Assumption 1 using x and $\\hat{u}$."
   ]
  },
  {
   "cell_type": "markdown",
   "id": "9035adbe-c3d9-4e1b-a1a5-52aa2aeae4aa",
   "metadata": {},
   "source": [
    "OLS method solves the following minimization problem (SSE):"
   ]
  },
  {
   "cell_type": "markdown",
   "id": "25c96bc1-b90f-4731-954f-916531f5eb6f",
   "metadata": {},
   "source": [
    "$$min \\sum_i (y_i-\\beta_0 - \\beta_1 x_i)^2 $$"
   ]
  },
  {
   "cell_type": "markdown",
   "id": "187943d0-1f15-47ce-a22a-e748dfd7c70d",
   "metadata": {},
   "source": [
    "The analytical results of $\\hat{\\beta_0}$ and $\\hat{\\beta_1}$ can be obtained using two first order conditions"
   ]
  },
  {
   "cell_type": "markdown",
   "id": "5e05181b-7089-4251-b281-d59f71188f44",
   "metadata": {},
   "source": [
    "$$ (1) \\hspace{2px} \\frac{\\partial SSE}{\\partial \\beta_0} = 2\\sum -(y_i-\\beta_0-\\beta_1x_i) = 0 $$"
   ]
  },
  {
   "cell_type": "markdown",
   "id": "5ed0ea2d-8942-4da2-9a9c-ddfdf249f4a0",
   "metadata": {},
   "source": [
    "and\n",
    "\n",
    "$$(2)\\hspace{2px} \\frac{\\partial SSE}{\\partial \\beta_1} = 2\\sum -x_i(y_i-\\beta_0-\\beta_1x_i) = 0$$"
   ]
  },
  {
   "cell_type": "markdown",
   "id": "0fa54056-ef77-4b3f-add1-4325dca24a7c",
   "metadata": {},
   "source": [
    "When OLS estimators $\\hat{\\beta_0}$ and $\\hat{\\beta_1}$ are used to compute the $\\hat{u_i}$ (or $\\hat{y_i}$), the sample mean of $\\hat{u}$ is always equal to zero (F.O.C (1)), and the sample covariance of $x$ and $\\hat{u}$ is always equal to zero (F.O.C (2))."
   ]
  },
  {
   "cell_type": "markdown",
   "id": "9ba92c5c-5b55-46f0-a15a-0db5c1f9263d",
   "metadata": {},
   "source": [
    "Indeed, OLS solves for $\\beta_0$ and $\\beta_1$ such that they ensures the validity of Gauss-Markov assumption 1. Hence, attempts that use x and $\\hat{u}$ to test Assumption 1 are circular reasoning and not possible."
   ]
  }
 ],
 "metadata": {
  "kernelspec": {
   "display_name": "Python 3 (ipykernel)",
   "language": "python",
   "name": "python3"
  },
  "language_info": {
   "codemirror_mode": {
    "name": "ipython",
    "version": 3
   },
   "file_extension": ".py",
   "mimetype": "text/x-python",
   "name": "python",
   "nbconvert_exporter": "python",
   "pygments_lexer": "ipython3",
   "version": "3.8.8"
  }
 },
 "nbformat": 4,
 "nbformat_minor": 5
}
