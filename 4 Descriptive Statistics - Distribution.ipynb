{
 "cells": [
  {
   "cell_type": "markdown",
   "id": "8e7684c4",
   "metadata": {
    "tags": []
   },
   "source": [
    "# Descriptive Statistics - Distribution"
   ]
  },
  {
   "cell_type": "markdown",
   "id": "7d609c38-4bfd-4eb8-a8e7-915b7399ec71",
   "metadata": {},
   "source": [
    "**Data** are pieces of information that usually comes with high volume. It is neither efficient nor economical to demonstrate the entire dataset to your audience. Therefore, we use **descriptive statistics** to summarize and present the most relevant information.\n",
    "\n",
    "*Descriptive analysis* is the start point of statistical analyses, it provides summary of the data set which can be *tabular*, *graphical*, or *numerical*. A good data analyst should have all of these tools in their toolkit and be able to choose the most suitable descriptive presentation according to the audience of the analysis. In this chapter, we will focus on the tabular and graphical display of descriptive statistics. We will categorize tools by the number of variables to be analyzed and their continuity."
   ]
  },
  {
   "cell_type": "markdown",
   "id": "f0a38b37-3062-4407-a077-cf751c8fbfba",
   "metadata": {},
   "source": [
    "## 1. One Categorical Variable\n",
    "\n",
    "We begin our discussion by learning to **slice** a pandas dataframe and extract only one variable, the resulting single column belongs to the **Series** class.\n",
    "\n",
    "Let's begin our analysis by importing the \"affairs\" example dataset from the wooldridge module. Descriptions of this dataset can be found [here](https://rdrr.io/cran/wooldridge/man/affairs.html)."
   ]
  },
  {
   "cell_type": "markdown",
   "id": "70cf8645-ed39-4eee-a026-8e9a1c28dd8d",
   "metadata": {},
   "source": [
    "**varaible** is also known as:\n",
    "1. Feature\n",
    "2. Attribute\n",
    "\n",
    "**observation** is also known as:\n",
    "1. record\n",
    "2. row\n",
    "\n",
    "Categorical variable vs Quantitative:\n",
    "\n",
    "Frequency distribution table\n",
    "Relative Frequency distribution table\n",
    "\n",
    "Bar chart\n",
    "Pie chart"
   ]
  },
  {
   "cell_type": "code",
   "execution_count": 1,
   "id": "9039bd75",
   "metadata": {
    "tags": []
   },
   "outputs": [
    {
     "data": {
      "text/html": [
       "<div>\n",
       "<style scoped>\n",
       "    .dataframe tbody tr th:only-of-type {\n",
       "        vertical-align: middle;\n",
       "    }\n",
       "\n",
       "    .dataframe tbody tr th {\n",
       "        vertical-align: top;\n",
       "    }\n",
       "\n",
       "    .dataframe thead th {\n",
       "        text-align: right;\n",
       "    }\n",
       "</style>\n",
       "<table border=\"1\" class=\"dataframe\">\n",
       "  <thead>\n",
       "    <tr style=\"text-align: right;\">\n",
       "      <th></th>\n",
       "      <th>id</th>\n",
       "      <th>male</th>\n",
       "      <th>age</th>\n",
       "      <th>yrsmarr</th>\n",
       "      <th>kids</th>\n",
       "      <th>relig</th>\n",
       "      <th>educ</th>\n",
       "      <th>occup</th>\n",
       "      <th>ratemarr</th>\n",
       "      <th>naffairs</th>\n",
       "      <th>affair</th>\n",
       "      <th>vryhap</th>\n",
       "      <th>hapavg</th>\n",
       "      <th>avgmarr</th>\n",
       "      <th>unhap</th>\n",
       "      <th>vryrel</th>\n",
       "      <th>smerel</th>\n",
       "      <th>slghtrel</th>\n",
       "      <th>notrel</th>\n",
       "    </tr>\n",
       "  </thead>\n",
       "  <tbody>\n",
       "    <tr>\n",
       "      <th>0</th>\n",
       "      <td>4</td>\n",
       "      <td>1</td>\n",
       "      <td>37.0</td>\n",
       "      <td>10.0</td>\n",
       "      <td>0</td>\n",
       "      <td>3</td>\n",
       "      <td>18</td>\n",
       "      <td>7</td>\n",
       "      <td>4</td>\n",
       "      <td>0</td>\n",
       "      <td>0</td>\n",
       "      <td>0</td>\n",
       "      <td>1</td>\n",
       "      <td>0</td>\n",
       "      <td>0</td>\n",
       "      <td>0</td>\n",
       "      <td>0</td>\n",
       "      <td>1</td>\n",
       "      <td>0</td>\n",
       "    </tr>\n",
       "    <tr>\n",
       "      <th>1</th>\n",
       "      <td>5</td>\n",
       "      <td>0</td>\n",
       "      <td>27.0</td>\n",
       "      <td>4.0</td>\n",
       "      <td>0</td>\n",
       "      <td>4</td>\n",
       "      <td>14</td>\n",
       "      <td>6</td>\n",
       "      <td>4</td>\n",
       "      <td>0</td>\n",
       "      <td>0</td>\n",
       "      <td>0</td>\n",
       "      <td>1</td>\n",
       "      <td>0</td>\n",
       "      <td>0</td>\n",
       "      <td>0</td>\n",
       "      <td>1</td>\n",
       "      <td>0</td>\n",
       "      <td>0</td>\n",
       "    </tr>\n",
       "    <tr>\n",
       "      <th>2</th>\n",
       "      <td>6</td>\n",
       "      <td>1</td>\n",
       "      <td>27.0</td>\n",
       "      <td>1.5</td>\n",
       "      <td>0</td>\n",
       "      <td>3</td>\n",
       "      <td>18</td>\n",
       "      <td>4</td>\n",
       "      <td>4</td>\n",
       "      <td>3</td>\n",
       "      <td>1</td>\n",
       "      <td>0</td>\n",
       "      <td>1</td>\n",
       "      <td>0</td>\n",
       "      <td>0</td>\n",
       "      <td>0</td>\n",
       "      <td>0</td>\n",
       "      <td>1</td>\n",
       "      <td>0</td>\n",
       "    </tr>\n",
       "    <tr>\n",
       "      <th>3</th>\n",
       "      <td>11</td>\n",
       "      <td>0</td>\n",
       "      <td>32.0</td>\n",
       "      <td>15.0</td>\n",
       "      <td>1</td>\n",
       "      <td>1</td>\n",
       "      <td>12</td>\n",
       "      <td>1</td>\n",
       "      <td>4</td>\n",
       "      <td>0</td>\n",
       "      <td>0</td>\n",
       "      <td>0</td>\n",
       "      <td>1</td>\n",
       "      <td>0</td>\n",
       "      <td>0</td>\n",
       "      <td>0</td>\n",
       "      <td>0</td>\n",
       "      <td>0</td>\n",
       "      <td>0</td>\n",
       "    </tr>\n",
       "    <tr>\n",
       "      <th>4</th>\n",
       "      <td>12</td>\n",
       "      <td>0</td>\n",
       "      <td>27.0</td>\n",
       "      <td>4.0</td>\n",
       "      <td>1</td>\n",
       "      <td>3</td>\n",
       "      <td>17</td>\n",
       "      <td>1</td>\n",
       "      <td>5</td>\n",
       "      <td>3</td>\n",
       "      <td>1</td>\n",
       "      <td>1</td>\n",
       "      <td>0</td>\n",
       "      <td>0</td>\n",
       "      <td>0</td>\n",
       "      <td>0</td>\n",
       "      <td>0</td>\n",
       "      <td>1</td>\n",
       "      <td>0</td>\n",
       "    </tr>\n",
       "  </tbody>\n",
       "</table>\n",
       "</div>"
      ],
      "text/plain": [
       "   id  male   age  yrsmarr  kids  relig  educ  occup  ratemarr  naffairs  \\\n",
       "0   4     1  37.0     10.0     0      3    18      7         4         0   \n",
       "1   5     0  27.0      4.0     0      4    14      6         4         0   \n",
       "2   6     1  27.0      1.5     0      3    18      4         4         3   \n",
       "3  11     0  32.0     15.0     1      1    12      1         4         0   \n",
       "4  12     0  27.0      4.0     1      3    17      1         5         3   \n",
       "\n",
       "   affair  vryhap  hapavg  avgmarr  unhap  vryrel  smerel  slghtrel  notrel  \n",
       "0       0       0       1        0      0       0       0         1       0  \n",
       "1       0       0       1        0      0       0       1         0       0  \n",
       "2       1       0       1        0      0       0       0         1       0  \n",
       "3       0       0       1        0      0       0       0         0       0  \n",
       "4       1       1       0        0      0       0       0         1       0  "
      ]
     },
     "execution_count": 1,
     "metadata": {},
     "output_type": "execute_result"
    }
   ],
   "source": [
    "import wooldridge as woo\n",
    "\n",
    "# Import the affairs dataset\n",
    "df = woo.data(\"affairs\")\n",
    "df.head()"
   ]
  },
  {
   "cell_type": "markdown",
   "id": "996f8e09",
   "metadata": {},
   "source": [
    "Use DataFrame.**info()** method to display the number of observations, all column name, and their datatypes"
   ]
  },
  {
   "cell_type": "code",
   "execution_count": 2,
   "id": "d46617f2",
   "metadata": {
    "tags": []
   },
   "outputs": [
    {
     "name": "stdout",
     "output_type": "stream",
     "text": [
      "<class 'pandas.core.frame.DataFrame'>\n",
      "RangeIndex: 601 entries, 0 to 600\n",
      "Data columns (total 19 columns):\n",
      " #   Column    Non-Null Count  Dtype  \n",
      "---  ------    --------------  -----  \n",
      " 0   id        601 non-null    int64  \n",
      " 1   male      601 non-null    int64  \n",
      " 2   age       601 non-null    float64\n",
      " 3   yrsmarr   601 non-null    float64\n",
      " 4   kids      601 non-null    int64  \n",
      " 5   relig     601 non-null    int64  \n",
      " 6   educ      601 non-null    int64  \n",
      " 7   occup     601 non-null    int64  \n",
      " 8   ratemarr  601 non-null    int64  \n",
      " 9   naffairs  601 non-null    int64  \n",
      " 10  affair    601 non-null    int64  \n",
      " 11  vryhap    601 non-null    int64  \n",
      " 12  hapavg    601 non-null    int64  \n",
      " 13  avgmarr   601 non-null    int64  \n",
      " 14  unhap     601 non-null    int64  \n",
      " 15  vryrel    601 non-null    int64  \n",
      " 16  smerel    601 non-null    int64  \n",
      " 17  slghtrel  601 non-null    int64  \n",
      " 18  notrel    601 non-null    int64  \n",
      "dtypes: float64(2), int64(17)\n",
      "memory usage: 89.3 KB\n"
     ]
    }
   ],
   "source": [
    "df.info()"
   ]
  },
  {
   "cell_type": "markdown",
   "id": "d8bb8f42",
   "metadata": {},
   "source": [
    "There are a total of 601 observations and 19 variables in the affairs dataset. Let's extract the kids column"
   ]
  },
  {
   "cell_type": "code",
   "execution_count": 3,
   "id": "ae9d50f7",
   "metadata": {},
   "outputs": [],
   "source": [
    "# Extract the kids column\n",
    "kids = df[\"kids\"]"
   ]
  },
  {
   "cell_type": "markdown",
   "id": "ec3a3566-81bc-4d05-b2fe-00a08d24f4fc",
   "metadata": {},
   "source": [
    "Next, we need to convert values in kids to the **category** datatype."
   ]
  },
  {
   "cell_type": "markdown",
   "id": "39450177",
   "metadata": {},
   "source": [
    "> The single column is stored as a **Series** class.\n",
    "\n",
    "Next, let's convert it to a **categorical** data type, in order to use methods designed for categorical objects."
   ]
  },
  {
   "cell_type": "code",
   "execution_count": 4,
   "id": "197a782e",
   "metadata": {},
   "outputs": [
    {
     "data": {
      "text/plain": [
       "0      0\n",
       "1      0\n",
       "2      0\n",
       "3      1\n",
       "4      1\n",
       "      ..\n",
       "596    0\n",
       "597    1\n",
       "598    1\n",
       "599    1\n",
       "600    1\n",
       "Name: kids, Length: 601, dtype: category\n",
       "Categories (2, int64): [0, 1]"
      ]
     },
     "execution_count": 4,
     "metadata": {},
     "output_type": "execute_result"
    }
   ],
   "source": [
    "# Use the .astype method\n",
    "kids=kids.astype(\"category\")\n",
    "kids"
   ]
  },
  {
   "cell_type": "markdown",
   "id": "6659908c",
   "metadata": {},
   "source": [
    "Now that we have a categorical array, we can play around with its [attributes and methods](https://pandas.pydata.org/docs/reference/api/pandas.Categorical.categories.html)"
   ]
  },
  {
   "cell_type": "code",
   "execution_count": 5,
   "id": "908681d4",
   "metadata": {},
   "outputs": [
    {
     "name": "stdout",
     "output_type": "stream",
     "text": [
      "Int64Index([0, 1], dtype='int64')\n"
     ]
    }
   ],
   "source": [
    "print(kids.cat.categories)"
   ]
  },
  {
   "cell_type": "code",
   "execution_count": 6,
   "id": "2b1667f7",
   "metadata": {
    "tags": []
   },
   "outputs": [
    {
     "name": "stdout",
     "output_type": "stream",
     "text": [
      "0     no\n",
      "1     no\n",
      "2     no\n",
      "3    yes\n",
      "4    yes\n",
      "Name: kids, dtype: category\n",
      "Categories (2, object): ['no', 'yes']\n"
     ]
    }
   ],
   "source": [
    "# Assign labels to each category: 0 -> \"no\", 1-> \"yes\"\n",
    "\n",
    "\"\"\"\n",
    "[0,1] are the original category names, we replace the two names with [\"no\", \"yes\"], respectively. \n",
    "Note that the order matters\n",
    "\"\"\"\n",
    "\n",
    "kids.cat.categories = [\"no\",\"yes\"]\n",
    "print(kids.head())\n",
    "\n",
    "# assign the new categorical column back to the dataframe\n",
    "df[\"kids\"] = kids"
   ]
  },
  {
   "cell_type": "code",
   "execution_count": 7,
   "id": "b79e05a4-941b-4d49-b927-2755bac1a1f6",
   "metadata": {},
   "outputs": [
    {
     "data": {
      "text/plain": [
       "0       no\n",
       "1       no\n",
       "2       no\n",
       "3      yes\n",
       "4      yes\n",
       "      ... \n",
       "596     no\n",
       "597    yes\n",
       "598    yes\n",
       "599    yes\n",
       "600    yes\n",
       "Name: kids, Length: 601, dtype: category\n",
       "Categories (2, object): ['no', 'yes']"
      ]
     },
     "execution_count": 7,
     "metadata": {},
     "output_type": "execute_result"
    }
   ],
   "source": [
    "# Or alternatively\n",
    "kids.cat.rename_categories([\"no\",\"yes\"])"
   ]
  },
  {
   "cell_type": "code",
   "execution_count": 8,
   "id": "59096355-da2e-4957-9cc1-07fbadd38c04",
   "metadata": {},
   "outputs": [
    {
     "data": {
      "text/plain": [
       "0       no\n",
       "1       no\n",
       "2       no\n",
       "3      yes\n",
       "4      yes\n",
       "      ... \n",
       "596     no\n",
       "597    yes\n",
       "598    yes\n",
       "599    yes\n",
       "600    yes\n",
       "Name: kids, Length: 601, dtype: category\n",
       "Categories (2, object): ['yes', 'no']"
      ]
     },
     "execution_count": 8,
     "metadata": {},
     "output_type": "execute_result"
    }
   ],
   "source": [
    "# Change category orders\n",
    "kids.cat.reorder_categories([\"yes\",\"no\"])"
   ]
  },
  {
   "cell_type": "markdown",
   "id": "569c3556-2aed-4352-a719-ec3a98b682e2",
   "metadata": {},
   "source": [
    "> We can also relabel categories using logical slicing."
   ]
  },
  {
   "cell_type": "code",
   "execution_count": 9,
   "id": "21efd049-a693-4924-82f6-c2d9127f4a00",
   "metadata": {},
   "outputs": [
    {
     "data": {
      "text/plain": [
       "0      yes\n",
       "1        0\n",
       "2      yes\n",
       "3        0\n",
       "4        0\n",
       "      ... \n",
       "596    yes\n",
       "597      0\n",
       "598    yes\n",
       "599    yes\n",
       "600      0\n",
       "Name: male, Length: 601, dtype: object"
      ]
     },
     "execution_count": 9,
     "metadata": {},
     "output_type": "execute_result"
    }
   ],
   "source": [
    "df.loc[df[\"male\"]==1,\"male\"] = \"yes\"\n",
    "df[\"male\"]"
   ]
  },
  {
   "cell_type": "markdown",
   "id": "b729763d-c509-4f2f-9b4f-be3b768e818c",
   "metadata": {},
   "source": [
    "### Summary\n",
    "\n",
    "1. Comparison operation on a pandas Series will return a column of boolean values. e.g. df[\"column_name\"] == 1\n",
    "2. df.loc[,] method can take boolean Series as a slicing reference. e.g. df.loc[df[\"column_name\"]==1,:]\n",
    "3. Replacing values in a DataFrame can be achieved through reassigning. e.g. df.loc[0,1]=1\n",
    "4. Create a new column in a DataFrame can be achieved through assigning."
   ]
  },
  {
   "cell_type": "markdown",
   "id": "32deb016-3b47-45d4-8c05-b41894697e1f",
   "metadata": {},
   "source": [
    "### Exercise\n",
    "Replace zeros in the male column with \"no\""
   ]
  },
  {
   "cell_type": "markdown",
   "id": "c814c49c",
   "metadata": {},
   "source": [
    "### 1.1 Frequency Distribution table\n",
    "\n",
    "The most commonly used tabular display of a discrete variable is the frequency distribution table\n",
    "\n",
    "> A frequency distribution is a tabular summary of data showing the number (frequency) of observations in each of several *nonoverlapping* categories or classes.\n",
    "\n",
    "Both series objects and categorical objects have the [value_counts()](https://pandas.pydata.org/docs/reference/api/pandas.Series.value_counts.html) method that returns a frequency distribution table."
   ]
  },
  {
   "cell_type": "code",
   "execution_count": 10,
   "id": "532e8e0a",
   "metadata": {},
   "outputs": [
    {
     "name": "stdout",
     "output_type": "stream",
     "text": [
      "Frequency Table for kids\n",
      "\n",
      "no     171\n",
      "yes    430\n",
      "Name: kids, dtype: int64\n",
      "<class 'pandas.core.series.Series'>\n"
     ]
    }
   ],
   "source": [
    "kids = df[\"kids\"].astype(\"category\")\n",
    "freq = kids.value_counts(sort=False)\n",
    "\n",
    "print(\"Frequency Table for kids\\n\")\n",
    "print(freq)\n",
    "print(type(freq))"
   ]
  },
  {
   "cell_type": "markdown",
   "id": "15a77421",
   "metadata": {
    "tags": []
   },
   "source": [
    "From this table, we can see that there are 430 yes observations and 171 no observations. \n",
    "> The value_counts() method returns a Series datatype. So, refer to the [pandas.Series](https://pandas.pydata.org/docs/reference/api/pandas.Series.html) documentation for its attributes and methods"
   ]
  },
  {
   "cell_type": "markdown",
   "id": "c730e3c8-3e86-4dfb-a8ef-739456f649b3",
   "metadata": {},
   "source": [
    "If the **normalize** parameter is set to **True**, a relative frequency distribution table is returned. "
   ]
  },
  {
   "cell_type": "markdown",
   "id": "4bace78b",
   "metadata": {},
   "source": [
    "### 1.2 Relative Frequency Distribution table\n",
    "\n",
    "A frequency distribution shows the number (frequency) of observations in each of several nonoverlapping categories. However, we are often interested in the proportion, or percentage, of observations in each class. \n",
    "\n",
    "> Relative frequency of a category = $\\frac{\\text{Frequency of the class}}{n}$\n",
    "\n",
    "To generate a relative frequency table, assign True to the *normalize* parameter of the *value_counts()* method"
   ]
  },
  {
   "cell_type": "code",
   "execution_count": 11,
   "id": "b582fd39-df4d-4c22-835d-78eb4f7ee97f",
   "metadata": {},
   "outputs": [
    {
     "data": {
      "text/plain": [
       "woman    0.524126\n",
       "man      0.475874\n",
       "Name: male, dtype: float64"
      ]
     },
     "execution_count": 11,
     "metadata": {},
     "output_type": "execute_result"
    }
   ],
   "source": [
    "df[\"male\"]=df[\"male\"].astype(\"category\")\n",
    "df[\"male\"]=df[\"male\"].cat.rename_categories([\"woman\",\"man\"])\n",
    "rel_freq = df[\"male\"].value_counts(normalize=True)\n",
    "rel_freq"
   ]
  },
  {
   "cell_type": "markdown",
   "id": "955b584a-76dc-463d-96cb-24f18fcf3dd1",
   "metadata": {},
   "source": [
    "### 1.3 Bar Chart\n",
    "\n",
    "A **bar chart** uses the height of the bars to represent frequency. To create a bar chart, we need to import the **matplotlib.pyplot** module."
   ]
  },
  {
   "cell_type": "code",
   "execution_count": 12,
   "id": "ee89b7ab",
   "metadata": {},
   "outputs": [
    {
     "data": {
      "image/png": "[encoded data removed]",
      "text/plain": [
       "<Figure size 432x288 with 1 Axes>"
      ]
     },
     "metadata": {
      "needs_background": "light"
     },
     "output_type": "display_data"
    }
   ],
   "source": [
    "import matplotlib.pyplot as plt\n",
    "\n",
    "plt.bar(x = freq.index, height=freq)\n",
    "# x, height, bottom, align\n",
    "# if x is an array of strings, it will be treated as categories\n",
    "# if x is an array of numerical values, it will be treated as positions\n",
    "\n",
    "plt.title(\"Bar chart with frequncy\\n\") #set title\n",
    "plt.xlabel(\"has kids\") #set x label\n",
    "plt.ylabel(\"frequency\") #set y label\n",
    "# plt.savefig(\"bar.png\")\n",
    "plt.show() # print plot to the screen"
   ]
  },
  {
   "cell_type": "code",
   "execution_count": 13,
   "id": "1d4ca9ee",
   "metadata": {},
   "outputs": [
    {
     "data": {
      "image/png": "[encoded data removed]",
      "text/plain": [
       "<Figure size 432x288 with 1 Axes>"
      ]
     },
     "metadata": {
      "needs_background": "light"
     },
     "output_type": "display_data"
    }
   ],
   "source": [
    "# relative frequency bar plot\n",
    "\n",
    "plt.bar(x = rel_freq.index, height=rel_freq, color=[\"tab:blue\",\"tab:orange\"])\n",
    "plt.title(\"Bar chart with relative frequncy \\n\") #set title\n",
    "plt.xlabel(\"Gender\") #set x label\n",
    "plt.ylabel(\"Relative frequency\") #set y label\n",
    "\n",
    "plt.show()"
   ]
  },
  {
   "cell_type": "markdown",
   "id": "43c77c28-7b5b-4465-8cfd-ae8635205f95",
   "metadata": {},
   "source": [
    "### 1.4 Pie Chart\n",
    "\n",
    "A **pie chart** is created from a relative/percent frequency distribution to show the proportion of each category."
   ]
  },
  {
   "cell_type": "markdown",
   "id": "8ad9f569",
   "metadata": {},
   "source": [
    "> Try different colors using this [color table](https://matplotlib.org/stable/gallery/color/named_colors.html).\n",
    "\n",
    "\n",
    "The **pie chart** provides another graphical display for presenting relative frequency for categorical data."
   ]
  },
  {
   "cell_type": "code",
   "execution_count": 14,
   "id": "dcffbbb1-4e8b-42e2-9954-0d955bca05ca",
   "metadata": {},
   "outputs": [
    {
     "data": {
      "image/png": "[encoded data removed]",
      "text/plain": [
       "<Figure size 432x288 with 1 Axes>"
      ]
     },
     "metadata": {},
     "output_type": "display_data"
    }
   ],
   "source": [
    "plt.pie(x=rel_freq,labels=rel_freq.index,autopct=\"%.2f%%\")\n",
    "plt.title(\"Pie chart\")\n",
    "plt.show()"
   ]
  },
  {
   "cell_type": "markdown",
   "id": "92c5303f-f3fb-4811-9687-82c4ef1cdf51",
   "metadata": {},
   "source": [
    "### Exercise\n",
    "download the soft_drink dataset from CourseSet \n",
    "1. create a frequency distribution table\n",
    "2. draw a bar chart\n",
    "3. draw a pie chart"
   ]
  },
  {
   "cell_type": "markdown",
   "id": "d95d7a49",
   "metadata": {},
   "source": [
    "## 2. One Continuous Variable\n",
    "\n",
    "### 2.1 Cut to bins\n",
    "When dealing with a continuous variable, we can categorize its values into several bins and then treat it as a categorical variable. For example, the age column in the affairs dataset can be treated as a continuous variable. \n",
    "\n",
    "By setting the **bins** parameter of the [value_counts()](https://pandas.pydata.org/docs/reference/api/pandas.Series.value_counts.html) method, we can create equal-width bins and count the number of the observations within each bin. But an advanced way of creating categorical variables is using the [pd.cut()](https://pandas.pydata.org/docs/reference/api/pandas.cut.html) method."
   ]
  },
  {
   "cell_type": "code",
   "execution_count": 15,
   "id": "11d06c89-94c2-42d0-a8c6-fcecc1bff9ac",
   "metadata": {},
   "outputs": [
    {
     "data": {
      "text/plain": [
       "<BarContainer object of 5 artists>"
      ]
     },
     "execution_count": 15,
     "metadata": {},
     "output_type": "execute_result"
    },
    {
     "data": {
      "image/png": "[encoded data removed]",
      "text/plain": [
       "<Figure size 432x288 with 1 Axes>"
      ]
     },
     "metadata": {
      "needs_background": "light"
     },
     "output_type": "display_data"
    }
   ],
   "source": [
    "freq = df[\"age\"].value_counts(bins=5)\n",
    "plt.bar(x=freq.index.astype(\"str\"), height=freq)"
   ]
  },
  {
   "cell_type": "markdown",
   "id": "84d7084a-a922-4ec2-846c-7df7ce46f0b4",
   "metadata": {},
   "source": [
    "An advanced way of converting a quantitative variable a categorical variable to to use [pd.cut()](https://pandas.pydata.org/docs/reference/api/pandas.cut.html)."
   ]
  },
  {
   "cell_type": "code",
   "execution_count": 16,
   "id": "d4f55f3d",
   "metadata": {
    "tags": []
   },
   "outputs": [
    {
     "data": {
      "text/html": [
       "<div>\n",
       "<style scoped>\n",
       "    .dataframe tbody tr th:only-of-type {\n",
       "        vertical-align: middle;\n",
       "    }\n",
       "\n",
       "    .dataframe tbody tr th {\n",
       "        vertical-align: top;\n",
       "    }\n",
       "\n",
       "    .dataframe thead th {\n",
       "        text-align: right;\n",
       "    }\n",
       "</style>\n",
       "<table border=\"1\" class=\"dataframe\">\n",
       "  <thead>\n",
       "    <tr style=\"text-align: right;\">\n",
       "      <th></th>\n",
       "      <th>age</th>\n",
       "      <th>age_cat</th>\n",
       "    </tr>\n",
       "  </thead>\n",
       "  <tbody>\n",
       "    <tr>\n",
       "      <th>0</th>\n",
       "      <td>37.0</td>\n",
       "      <td>(30, 40]</td>\n",
       "    </tr>\n",
       "    <tr>\n",
       "      <th>1</th>\n",
       "      <td>27.0</td>\n",
       "      <td>(20, 30]</td>\n",
       "    </tr>\n",
       "    <tr>\n",
       "      <th>2</th>\n",
       "      <td>27.0</td>\n",
       "      <td>(20, 30]</td>\n",
       "    </tr>\n",
       "    <tr>\n",
       "      <th>3</th>\n",
       "      <td>32.0</td>\n",
       "      <td>(30, 40]</td>\n",
       "    </tr>\n",
       "    <tr>\n",
       "      <th>4</th>\n",
       "      <td>27.0</td>\n",
       "      <td>(20, 30]</td>\n",
       "    </tr>\n",
       "  </tbody>\n",
       "</table>\n",
       "</div>"
      ],
      "text/plain": [
       "    age   age_cat\n",
       "0  37.0  (30, 40]\n",
       "1  27.0  (20, 30]\n",
       "2  27.0  (20, 30]\n",
       "3  32.0  (30, 40]\n",
       "4  27.0  (20, 30]"
      ]
     },
     "execution_count": 16,
     "metadata": {},
     "output_type": "execute_result"
    }
   ],
   "source": [
    "# create a list of a categories (10-19,20-29,30-39,40-49,50-59)\n",
    "import pandas as pd\n",
    "\n",
    "bin_edges = [10,20,30,40,50,60] \n",
    "# both the left-most and right-most edges should be provided\n",
    "# intervals = pd.IntervalIndex.from_tuples([(10,20),(20,30),(30,40),(40,50),(50,60)])\n",
    "# labels = [\"10 to 20\", \"20 to 30\", \"30 to 40\", \"40 to 50\", \"50 to 60\"]\n",
    "\n",
    "# Advanced - Use list comprehensions to create a list from a list\n",
    "# labels=[\"{} to {}\".format(i, i+9) for i in [10,20,30,40,50]]\n",
    "\n",
    "\n",
    "# cut the age column and export the result to a new column to the dataframe\n",
    "df[\"age_cat\"] = pd.cut(x=df[\"age\"],bins = bin_edges)\n",
    "# bins = can be a scalar, a list of bin_edges, or an IntervalIndex object\n",
    "# right = True by default, left open, right closed.\n",
    "# labels = a list of labels\n",
    "\n",
    "# show results\n",
    "df[[\"age\",\"age_cat\"]].head()"
   ]
  },
  {
   "cell_type": "code",
   "execution_count": 17,
   "id": "49c44db4",
   "metadata": {
    "tags": []
   },
   "outputs": [
    {
     "name": "stdout",
     "output_type": "stream",
     "text": [
      "(10, 20]      6\n",
      "(20, 30]    270\n",
      "(30, 40]    203\n",
      "(40, 50]     79\n",
      "(50, 60]     43\n",
      "Name: age_cat, dtype: int64\n"
     ]
    },
    {
     "data": {
      "image/png": "[encoded data removed]",
      "text/plain": [
       "<Figure size 432x288 with 1 Axes>"
      ]
     },
     "metadata": {
      "needs_background": "light"
     },
     "output_type": "display_data"
    }
   ],
   "source": [
    "#  we can draw bar charts using this frequency distribution table\n",
    "freq = df[\"age_cat\"].value_counts(sort=False)\n",
    "print(freq)\n",
    "plt.bar(x=freq.index.astype(\"str\"), height=freq)\n",
    "\n",
    "plt.title(\"Bar charts for age categories\\n\")\n",
    "plt.show()"
   ]
  },
  {
   "cell_type": "markdown",
   "id": "0b01a153",
   "metadata": {},
   "source": [
    "### Histogram\n",
    "\n",
    "A common graphical display of continuous data is a **histogram**. A histogram is constructed by placing the variable of interest on the horizontal axis and the frequency, relative frequency, or density on the vertical axis.\n",
    "\n",
    "We can plot our first histogram and take a look at the distribution of the age variable."
   ]
  },
  {
   "cell_type": "code",
   "execution_count": 18,
   "id": "24ef956f",
   "metadata": {},
   "outputs": [
    {
     "data": {
      "image/png": "[encoded data removed]",
      "text/plain": [
       "<Figure size 432x288 with 1 Axes>"
      ]
     },
     "metadata": {
      "needs_background": "light"
     },
     "output_type": "display_data"
    }
   ],
   "source": [
    "plt.hist(x=df[\"age\"])\n",
    "#nbins = 10 by default\n",
    "#range = a tuple or None\n",
    "#density = False by default\n",
    "\n",
    "plt.title(\"Histogram for age \\n\")\n",
    "plt.xlabel(\"age\")\n",
    "plt.ylabel(\"density\")\n",
    "plt.show()\n"
   ]
  },
  {
   "cell_type": "markdown",
   "id": "5c2c8d65",
   "metadata": {},
   "source": [
    "One of the most important usage of a histogram is to provide information about the shape, or form, of a distribution. From the above age histogram, we see that the age distribution is right-skewed, with the most observations between 35.40 and 29.35 years old. No observations are found in [37.25, 41.20)."
   ]
  },
  {
   "cell_type": "markdown",
   "id": "df1d2823",
   "metadata": {},
   "source": [
    "## 3. Two Categorical Variables\n",
    "\n",
    "Thus far in this chapter, we have focused on using tabular and graphical displays to summarize the data for a single categorical or quantitative variable. Often a manager or decision maker needs to summarize the data for two variables in order to reveal the **relationship** - if any - between the variables.\n",
    "\n",
    "### Crosstabulation\n",
    "\n",
    "A **crosstabulation** is a tabular summary of data for two variables. it provides the bivariate distribution, where the frequency or relative frequency of each possible combined outcome is demonstrated. \n",
    "\n",
    "As an example, let's explore the bivariate distribution of two categorical variables - whether has kid and the rate of marital happiness - in the affairs dataset. Again, We begin our analysis by converting the ratemarr variable to categorical and assign proper labels according to [this documentation](https://rdrr.io/cran/wooldridge/man/affairs.html)."
   ]
  },
  {
   "cell_type": "code",
   "execution_count": 19,
   "id": "1b3dbe07",
   "metadata": {},
   "outputs": [
    {
     "name": "stdout",
     "output_type": "stream",
     "text": [
      "Int64Index([1, 2, 3, 4, 5], dtype='int64')\n"
     ]
    }
   ],
   "source": [
    "# convert the rate of marital happiness column to categorical\n",
    "df[\"ratemarr\"] = df[\"ratemarr\"].astype(\"category\")\n",
    "\n",
    "# check the category names and their order\n",
    "print(df[\"ratemarr\"].cat.categories) ##\n",
    "\n",
    "# rename categories\n",
    "df[\"ratemarr\"].cat.categories = [\"vry unhap\", \"smewht unhap\", \"avg\", \"hap than avg\", \"vry hap marr\"]"
   ]
  },
  {
   "cell_type": "markdown",
   "id": "edd9fe65",
   "metadata": {},
   "source": [
    "---\n",
    "\n",
    "We can use the .crosstab() **class method** to crosstabulate the *kids* and the *ratemarr* variables. Read how to configure pd.crosstab() [here](https://pandas.pydata.org/docs/reference/api/pandas.crosstab.html).\n",
    "\n",
    "> A class method is a method which is bound to the class and not the object of the class."
   ]
  },
  {
   "cell_type": "code",
   "execution_count": 20,
   "id": "5655739e",
   "metadata": {},
   "outputs": [
    {
     "name": "stdout",
     "output_type": "stream",
     "text": [
      "Crosstabulation of marital happiness and whether has kids\n"
     ]
    },
    {
     "data": {
      "text/html": [
       "<div>\n",
       "<style scoped>\n",
       "    .dataframe tbody tr th:only-of-type {\n",
       "        vertical-align: middle;\n",
       "    }\n",
       "\n",
       "    .dataframe tbody tr th {\n",
       "        vertical-align: top;\n",
       "    }\n",
       "\n",
       "    .dataframe thead th {\n",
       "        text-align: right;\n",
       "    }\n",
       "</style>\n",
       "<table border=\"1\" class=\"dataframe\">\n",
       "  <thead>\n",
       "    <tr style=\"text-align: right;\">\n",
       "      <th>ratemarr</th>\n",
       "      <th>vry unhap</th>\n",
       "      <th>smewht unhap</th>\n",
       "      <th>avg</th>\n",
       "      <th>hap than avg</th>\n",
       "      <th>vry hap marr</th>\n",
       "    </tr>\n",
       "    <tr>\n",
       "      <th>kids</th>\n",
       "      <th></th>\n",
       "      <th></th>\n",
       "      <th></th>\n",
       "      <th></th>\n",
       "      <th></th>\n",
       "    </tr>\n",
       "  </thead>\n",
       "  <tbody>\n",
       "    <tr>\n",
       "      <th>no</th>\n",
       "      <td>0.017544</td>\n",
       "      <td>0.046784</td>\n",
       "      <td>0.140351</td>\n",
       "      <td>0.233918</td>\n",
       "      <td>0.561404</td>\n",
       "    </tr>\n",
       "    <tr>\n",
       "      <th>yes</th>\n",
       "      <td>0.030233</td>\n",
       "      <td>0.134884</td>\n",
       "      <td>0.160465</td>\n",
       "      <td>0.358140</td>\n",
       "      <td>0.316279</td>\n",
       "    </tr>\n",
       "    <tr>\n",
       "      <th>All</th>\n",
       "      <td>0.026622</td>\n",
       "      <td>0.109817</td>\n",
       "      <td>0.154742</td>\n",
       "      <td>0.322795</td>\n",
       "      <td>0.386023</td>\n",
       "    </tr>\n",
       "  </tbody>\n",
       "</table>\n",
       "</div>"
      ],
      "text/plain": [
       "ratemarr  vry unhap  smewht unhap       avg  hap than avg  vry hap marr\n",
       "kids                                                                   \n",
       "no         0.017544      0.046784  0.140351      0.233918      0.561404\n",
       "yes        0.030233      0.134884  0.160465      0.358140      0.316279\n",
       "All        0.026622      0.109817  0.154742      0.322795      0.386023"
      ]
     },
     "execution_count": 20,
     "metadata": {},
     "output_type": "execute_result"
    }
   ],
   "source": [
    "# crosstabulation with frequency\n",
    "\n",
    "print(\"Crosstabulation of marital happiness and whether has kids\")\n",
    "crosstab = pd.crosstab(index = df[\"kids\"], columns = df[\"ratemarr\"],margins=True, normalize=\"index\")\n",
    "# margins       bool, default False\n",
    "# margins_name\n",
    "# normalize     bool, {‘all’, ‘index’, ‘columns’}, or {0,1}, default False\n",
    "# don't forget you can ignore the parameter names as long as they are in the right position\n",
    "crosstab"
   ]
  },
  {
   "cell_type": "markdown",
   "id": "368c645b",
   "metadata": {},
   "source": [
    "In reviewing the table above, we see that the greatest number of people in the sample have a happy than average marriage and have kids. Only 3 people find their marriage very unhappy and don't have any kids. Similar interpretations of the other frequencies can be made. In addition, note that the right and bottom margins of the crosstabulation provide the frequency distributions for *kids* and *ratemarr* separately.\n",
    "\n",
    "We can also calculate the relative frequencies of each combination with respect to the row or column margins."
   ]
  },
  {
   "cell_type": "code",
   "execution_count": 21,
   "id": "0883c4e1",
   "metadata": {},
   "outputs": [
    {
     "name": "stdout",
     "output_type": "stream",
     "text": [
      "Crosstabulation with row percentage\n"
     ]
    },
    {
     "data": {
      "text/html": [
       "<div>\n",
       "<style scoped>\n",
       "    .dataframe tbody tr th:only-of-type {\n",
       "        vertical-align: middle;\n",
       "    }\n",
       "\n",
       "    .dataframe tbody tr th {\n",
       "        vertical-align: top;\n",
       "    }\n",
       "\n",
       "    .dataframe thead th {\n",
       "        text-align: right;\n",
       "    }\n",
       "</style>\n",
       "<table border=\"1\" class=\"dataframe\">\n",
       "  <thead>\n",
       "    <tr style=\"text-align: right;\">\n",
       "      <th>ratemarr</th>\n",
       "      <th>vry unhap</th>\n",
       "      <th>smewht unhap</th>\n",
       "      <th>avg</th>\n",
       "      <th>hap than avg</th>\n",
       "      <th>vry hap marr</th>\n",
       "    </tr>\n",
       "    <tr>\n",
       "      <th>kids</th>\n",
       "      <th></th>\n",
       "      <th></th>\n",
       "      <th></th>\n",
       "      <th></th>\n",
       "      <th></th>\n",
       "    </tr>\n",
       "  </thead>\n",
       "  <tbody>\n",
       "    <tr>\n",
       "      <th>no</th>\n",
       "      <td>0.017544</td>\n",
       "      <td>0.046784</td>\n",
       "      <td>0.140351</td>\n",
       "      <td>0.233918</td>\n",
       "      <td>0.561404</td>\n",
       "    </tr>\n",
       "    <tr>\n",
       "      <th>yes</th>\n",
       "      <td>0.030233</td>\n",
       "      <td>0.134884</td>\n",
       "      <td>0.160465</td>\n",
       "      <td>0.358140</td>\n",
       "      <td>0.316279</td>\n",
       "    </tr>\n",
       "  </tbody>\n",
       "</table>\n",
       "</div>"
      ],
      "text/plain": [
       "ratemarr  vry unhap  smewht unhap       avg  hap than avg  vry hap marr\n",
       "kids                                                                   \n",
       "no         0.017544      0.046784  0.140351      0.233918      0.561404\n",
       "yes        0.030233      0.134884  0.160465      0.358140      0.316279"
      ]
     },
     "execution_count": 21,
     "metadata": {},
     "output_type": "execute_result"
    }
   ],
   "source": [
    "# crosstabulation with row percentage\n",
    "\n",
    "print(\"Crosstabulation with row percentage\")\n",
    "pd.crosstab(index = df[\"kids\"], columns = df[\"ratemarr\"], normalize = \"index\")\n",
    "#margins = True\n",
    "# normalize = \"index\" or \"column\" or \"all\""
   ]
  },
  {
   "cell_type": "code",
   "execution_count": 22,
   "id": "5a6b386b",
   "metadata": {},
   "outputs": [
    {
     "name": "stdout",
     "output_type": "stream",
     "text": [
      "Crosstabulation with row percentage\n"
     ]
    },
    {
     "data": {
      "text/html": [
       "<div>\n",
       "<style scoped>\n",
       "    .dataframe tbody tr th:only-of-type {\n",
       "        vertical-align: middle;\n",
       "    }\n",
       "\n",
       "    .dataframe tbody tr th {\n",
       "        vertical-align: top;\n",
       "    }\n",
       "\n",
       "    .dataframe thead th {\n",
       "        text-align: right;\n",
       "    }\n",
       "</style>\n",
       "<table border=\"1\" class=\"dataframe\">\n",
       "  <thead>\n",
       "    <tr style=\"text-align: right;\">\n",
       "      <th>ratemarr</th>\n",
       "      <th>vry unhap</th>\n",
       "      <th>smewht unhap</th>\n",
       "      <th>avg</th>\n",
       "      <th>hap than avg</th>\n",
       "      <th>vry hap marr</th>\n",
       "    </tr>\n",
       "    <tr>\n",
       "      <th>kids</th>\n",
       "      <th></th>\n",
       "      <th></th>\n",
       "      <th></th>\n",
       "      <th></th>\n",
       "      <th></th>\n",
       "    </tr>\n",
       "  </thead>\n",
       "  <tbody>\n",
       "    <tr>\n",
       "      <th>no</th>\n",
       "      <td>0.02</td>\n",
       "      <td>0.05</td>\n",
       "      <td>0.14</td>\n",
       "      <td>0.23</td>\n",
       "      <td>0.56</td>\n",
       "    </tr>\n",
       "    <tr>\n",
       "      <th>yes</th>\n",
       "      <td>0.03</td>\n",
       "      <td>0.13</td>\n",
       "      <td>0.16</td>\n",
       "      <td>0.36</td>\n",
       "      <td>0.32</td>\n",
       "    </tr>\n",
       "  </tbody>\n",
       "</table>\n",
       "</div>"
      ],
      "text/plain": [
       "ratemarr  vry unhap  smewht unhap  avg  hap than avg  vry hap marr\n",
       "kids                                                              \n",
       "no             0.02          0.05 0.14          0.23          0.56\n",
       "yes            0.03          0.13 0.16          0.36          0.32"
      ]
     },
     "execution_count": 22,
     "metadata": {},
     "output_type": "execute_result"
    }
   ],
   "source": [
    "# Too messy? Let's change the display settings\n",
    "pd.options.display.float_format = '{:.2f}'.format\n",
    "\n",
    "# crosstabulation with column percentage\n",
    "print(\"Crosstabulation with row percentage\")\n",
    "pd.crosstab(index = df[\"kids\"], columns = df[\"ratemarr\"], normalize = \"index\")"
   ]
  },
  {
   "cell_type": "code",
   "execution_count": 23,
   "id": "4de73781",
   "metadata": {
    "tags": []
   },
   "outputs": [
    {
     "name": "stdout",
     "output_type": "stream",
     "text": [
      "Probability distribution\n"
     ]
    },
    {
     "data": {
      "text/html": [
       "<div>\n",
       "<style scoped>\n",
       "    .dataframe tbody tr th:only-of-type {\n",
       "        vertical-align: middle;\n",
       "    }\n",
       "\n",
       "    .dataframe tbody tr th {\n",
       "        vertical-align: top;\n",
       "    }\n",
       "\n",
       "    .dataframe thead th {\n",
       "        text-align: right;\n",
       "    }\n",
       "</style>\n",
       "<table border=\"1\" class=\"dataframe\">\n",
       "  <thead>\n",
       "    <tr style=\"text-align: right;\">\n",
       "      <th>ratemarr</th>\n",
       "      <th>vry unhap</th>\n",
       "      <th>smewht unhap</th>\n",
       "      <th>avg</th>\n",
       "      <th>hap than avg</th>\n",
       "      <th>vry hap marr</th>\n",
       "      <th>All</th>\n",
       "    </tr>\n",
       "    <tr>\n",
       "      <th>kids</th>\n",
       "      <th></th>\n",
       "      <th></th>\n",
       "      <th></th>\n",
       "      <th></th>\n",
       "      <th></th>\n",
       "      <th></th>\n",
       "    </tr>\n",
       "  </thead>\n",
       "  <tbody>\n",
       "    <tr>\n",
       "      <th>no</th>\n",
       "      <td>0.00</td>\n",
       "      <td>0.01</td>\n",
       "      <td>0.04</td>\n",
       "      <td>0.07</td>\n",
       "      <td>0.16</td>\n",
       "      <td>0.28</td>\n",
       "    </tr>\n",
       "    <tr>\n",
       "      <th>yes</th>\n",
       "      <td>0.02</td>\n",
       "      <td>0.10</td>\n",
       "      <td>0.11</td>\n",
       "      <td>0.26</td>\n",
       "      <td>0.23</td>\n",
       "      <td>0.72</td>\n",
       "    </tr>\n",
       "    <tr>\n",
       "      <th>All</th>\n",
       "      <td>0.03</td>\n",
       "      <td>0.11</td>\n",
       "      <td>0.15</td>\n",
       "      <td>0.32</td>\n",
       "      <td>0.39</td>\n",
       "      <td>1.00</td>\n",
       "    </tr>\n",
       "  </tbody>\n",
       "</table>\n",
       "</div>"
      ],
      "text/plain": [
       "ratemarr  vry unhap  smewht unhap  avg  hap than avg  vry hap marr  All\n",
       "kids                                                                   \n",
       "no             0.00          0.01 0.04          0.07          0.16 0.28\n",
       "yes            0.02          0.10 0.11          0.26          0.23 0.72\n",
       "All            0.03          0.11 0.15          0.32          0.39 1.00"
      ]
     },
     "execution_count": 23,
     "metadata": {},
     "output_type": "execute_result"
    }
   ],
   "source": [
    "# crosstabulation with total percentage - probability distribution\n",
    "\n",
    "print(\"Probability distribution\")\n",
    "pd.crosstab(index = df[\"kids\"], columns = df[\"ratemarr\"], margins = True, normalize = \"all\")"
   ]
  },
  {
   "cell_type": "markdown",
   "id": "56df9f2a",
   "metadata": {},
   "source": [
    "### Side-by-Side and Stacked Bar Charts\n",
    "\n",
    "Side-by-side bar charts and stacked bar charts are extensions of basic bar charts that are used to display the joint distribution of two variables.\n",
    "\n",
    "> A **side-by-side bar chart** is a graphical display for depicting multiple bar charts on the same display. \n",
    "\n",
    "> A **stacked bar chart** is a bar chart in which each bar is broken into rectangular segments of a different color showing the relative frequency of each class in a manner similar to a pie chart.\n",
    "\n",
    "To draw a side-by-side or a stacked bar chart, we can use the *matplotlib.pyplot* module."
   ]
  },
  {
   "cell_type": "code",
   "execution_count": 24,
   "id": "6c4056ad",
   "metadata": {},
   "outputs": [
    {
     "data": {
      "image/png": "[encoded data removed]",
      "text/plain": [
       "<Figure size 432x288 with 1 Axes>"
      ]
     },
     "metadata": {
      "needs_background": "light"
     },
     "output_type": "display_data"
    }
   ],
   "source": [
    "# side-by-side bar chart\n",
    "\n",
    "# add left bars first and move bars to the left\n",
    "\n",
    "bin_width = 0.8\n",
    "x_pos_left = [i-bin_width/2 for i in range(0,10,2)]\n",
    "x_pos_right = [i+bin_width/2 for i in range(0,10,2)]\n",
    "\n",
    "plt.bar(x = x_pos_left, height = crosstab.loc[\"yes\",], label = \"yes\")\n",
    "# width: float or array-like, default: 0.8\n",
    "\n",
    "# # add right bars first and move bars to the right\n",
    "plt.bar(x = x_pos_right, height = crosstab.loc[\"no\",], label = \"no\")\n",
    "\n",
    "plt.ylabel(\"frequency\")\n",
    "\n",
    "# add xticks and xlabels\n",
    "plt.xticks(ticks = range(0,10,2), labels = df[\"ratemarr\"].cat.categories)\n",
    "plt.legend()\n",
    "plt.title(\"Side-by-side bar chart for marrital happiness and whether has kids\\n\")\n",
    "\n",
    "plt.show()"
   ]
  },
  {
   "cell_type": "code",
   "execution_count": 25,
   "id": "706c1fe9",
   "metadata": {},
   "outputs": [
    {
     "data": {
      "image/png": "[encoded data removed]",
      "text/plain": [
       "<Figure size 432x288 with 1 Axes>"
      ]
     },
     "metadata": {
      "needs_background": "light"
     },
     "output_type": "display_data"
    }
   ],
   "source": [
    "# stacked bar plot\n",
    "\n",
    "plt.bar(x = df[\"ratemarr\"].cat.categories, height = crosstab.loc[\"yes\",\"vry unhap\":\"vry hap marr\"], label = \"yes\")\n",
    "# kids=no are added on top of kids=yes\n",
    "plt.bar(x = df[\"ratemarr\"].cat.categories, height = crosstab.loc[\"no\",\"vry unhap\":\"vry hap marr\"], bottom = crosstab.loc[\"yes\",\"vry unhap\":\"vry hap marr\"], label = \"no\")\n",
    "\n",
    "plt.ylabel(\"frequency\")\n",
    "plt.legend()\n",
    "plt.title(\"Stacked bar chart for rate of happiness and whether have kids\\n\")\n",
    "\n",
    "plt.show()"
   ]
  },
  {
   "cell_type": "markdown",
   "id": "a10cbf8d-3cfc-4fb0-b186-c33ff7020d1c",
   "metadata": {},
   "source": [
    "### Seaborn - An even better visualization module\n",
    "\n",
    "[*Seaborn*](https://seaborn.pydata.org/api.html) is a python module built on matplotlib. It provides simplified and prettified visualization APIs. We can use the sns.countplot() method to draw a side-by-side bar plot with only one line of code."
   ]
  },
  {
   "cell_type": "code",
   "execution_count": 26,
   "id": "bb3ee04b",
   "metadata": {},
   "outputs": [
    {
     "data": {
      "image/png": "[encoded data removed]",
      "text/plain": [
       "<Figure size 432x288 with 1 Axes>"
      ]
     },
     "metadata": {
      "needs_background": "light"
     },
     "output_type": "display_data"
    },
    {
     "data": {
      "image/png": "[encoded data removed]",
      "text/plain": [
       "<Figure size 432x288 with 1 Axes>"
      ]
     },
     "metadata": {
      "needs_background": "light"
     },
     "output_type": "display_data"
    }
   ],
   "source": [
    "import seaborn as sns\n",
    "\n",
    "sns.countplot(x=\"ratemarr\", hue=\"kids\", data = df)\n",
    "plt.title(\"Seaborn countplot\\n\" )\n",
    "plt.show()\n",
    "\n",
    "# OR use histplot\n",
    "sns.histplot(data = df, x=\"ratemarr\", hue=\"kids\", multiple = \"dodge\", shrink=0.8)\n",
    "\n",
    "# hue: group by\n",
    "# multiple: style to display multiple hues - {“layer”, “dodge”, “stack”, “fill”}\n",
    "# use shrink= to show gaps\n",
    "\n",
    "plt.title(\"Seaborn histplot with gaps\\n\" )\n",
    "plt.show()"
   ]
  },
  {
   "cell_type": "code",
   "execution_count": 27,
   "id": "41ad99f7",
   "metadata": {},
   "outputs": [
    {
     "data": {
      "image/png": "[encoded data removed]",
      "text/plain": [
       "<Figure size 432x288 with 1 Axes>"
      ]
     },
     "metadata": {
      "needs_background": "light"
     },
     "output_type": "display_data"
    }
   ],
   "source": [
    "# Stacked bar plot\n",
    "sns.histplot(data = df, x = \"ratemarr\", hue=\"kids\", multiple = \"stack\", shrink=0.8)\n",
    "plt.title(\"Seaborn histplot with stack display\\n\" )\n",
    "plt.show()"
   ]
  },
  {
   "cell_type": "markdown",
   "id": "c3d405bc",
   "metadata": {},
   "source": [
    "## 4. Two Continuous Variables\n",
    "\n",
    "Next, we are back to the continuous case again. It is always possible to convert a continuous variable to categorical first and apply methods introduced in the previous section. So here, I am going to skip this convert-and-conquer method and add two more useful tools to your analytical toolbox.\n",
    "\n",
    "### Joint plot\n",
    "\n",
    "The first graphical display generate from the histogram. In a traditional histogram, we use the height of the bar to represent the frequency, relative frequency, or density of a range of value. However, when it comes to two variables, the \"height\" of a two-dimensional value combination would probe into the 3rd dimension. Of course, we can draw a three-dimensional histogram in this situation, but a better practice is to use the darkness of color to represent such heights.\n",
    "\n",
    "For example, we would like to analyze the joint distribution of *wage* and *years of education* in the *wage1* dataset. Both variables are continuous, so we use the *.histplot()* method from the seaborn (alias sns) module."
   ]
  },
  {
   "cell_type": "code",
   "execution_count": 28,
   "id": "be5ff670",
   "metadata": {
    "tags": []
   },
   "outputs": [
    {
     "data": {
      "text/html": [
       "<div>\n",
       "<style scoped>\n",
       "    .dataframe tbody tr th:only-of-type {\n",
       "        vertical-align: middle;\n",
       "    }\n",
       "\n",
       "    .dataframe tbody tr th {\n",
       "        vertical-align: top;\n",
       "    }\n",
       "\n",
       "    .dataframe thead th {\n",
       "        text-align: right;\n",
       "    }\n",
       "</style>\n",
       "<table border=\"1\" class=\"dataframe\">\n",
       "  <thead>\n",
       "    <tr style=\"text-align: right;\">\n",
       "      <th></th>\n",
       "      <th>wage</th>\n",
       "      <th>educ</th>\n",
       "      <th>exper</th>\n",
       "      <th>tenure</th>\n",
       "      <th>nonwhite</th>\n",
       "      <th>female</th>\n",
       "      <th>married</th>\n",
       "      <th>numdep</th>\n",
       "      <th>smsa</th>\n",
       "      <th>northcen</th>\n",
       "      <th>...</th>\n",
       "      <th>trcommpu</th>\n",
       "      <th>trade</th>\n",
       "      <th>services</th>\n",
       "      <th>profserv</th>\n",
       "      <th>profocc</th>\n",
       "      <th>clerocc</th>\n",
       "      <th>servocc</th>\n",
       "      <th>lwage</th>\n",
       "      <th>expersq</th>\n",
       "      <th>tenursq</th>\n",
       "    </tr>\n",
       "  </thead>\n",
       "  <tbody>\n",
       "    <tr>\n",
       "      <th>0</th>\n",
       "      <td>3.10</td>\n",
       "      <td>11</td>\n",
       "      <td>2</td>\n",
       "      <td>0</td>\n",
       "      <td>0</td>\n",
       "      <td>1</td>\n",
       "      <td>0</td>\n",
       "      <td>2</td>\n",
       "      <td>1</td>\n",
       "      <td>0</td>\n",
       "      <td>...</td>\n",
       "      <td>0</td>\n",
       "      <td>0</td>\n",
       "      <td>0</td>\n",
       "      <td>0</td>\n",
       "      <td>0</td>\n",
       "      <td>0</td>\n",
       "      <td>0</td>\n",
       "      <td>1.13</td>\n",
       "      <td>4</td>\n",
       "      <td>0</td>\n",
       "    </tr>\n",
       "    <tr>\n",
       "      <th>1</th>\n",
       "      <td>3.24</td>\n",
       "      <td>12</td>\n",
       "      <td>22</td>\n",
       "      <td>2</td>\n",
       "      <td>0</td>\n",
       "      <td>1</td>\n",
       "      <td>1</td>\n",
       "      <td>3</td>\n",
       "      <td>1</td>\n",
       "      <td>0</td>\n",
       "      <td>...</td>\n",
       "      <td>0</td>\n",
       "      <td>0</td>\n",
       "      <td>1</td>\n",
       "      <td>0</td>\n",
       "      <td>0</td>\n",
       "      <td>0</td>\n",
       "      <td>1</td>\n",
       "      <td>1.18</td>\n",
       "      <td>484</td>\n",
       "      <td>4</td>\n",
       "    </tr>\n",
       "    <tr>\n",
       "      <th>2</th>\n",
       "      <td>3.00</td>\n",
       "      <td>11</td>\n",
       "      <td>2</td>\n",
       "      <td>0</td>\n",
       "      <td>0</td>\n",
       "      <td>0</td>\n",
       "      <td>0</td>\n",
       "      <td>2</td>\n",
       "      <td>0</td>\n",
       "      <td>0</td>\n",
       "      <td>...</td>\n",
       "      <td>0</td>\n",
       "      <td>1</td>\n",
       "      <td>0</td>\n",
       "      <td>0</td>\n",
       "      <td>0</td>\n",
       "      <td>0</td>\n",
       "      <td>0</td>\n",
       "      <td>1.10</td>\n",
       "      <td>4</td>\n",
       "      <td>0</td>\n",
       "    </tr>\n",
       "    <tr>\n",
       "      <th>3</th>\n",
       "      <td>6.00</td>\n",
       "      <td>8</td>\n",
       "      <td>44</td>\n",
       "      <td>28</td>\n",
       "      <td>0</td>\n",
       "      <td>0</td>\n",
       "      <td>1</td>\n",
       "      <td>0</td>\n",
       "      <td>1</td>\n",
       "      <td>0</td>\n",
       "      <td>...</td>\n",
       "      <td>0</td>\n",
       "      <td>0</td>\n",
       "      <td>0</td>\n",
       "      <td>0</td>\n",
       "      <td>0</td>\n",
       "      <td>1</td>\n",
       "      <td>0</td>\n",
       "      <td>1.79</td>\n",
       "      <td>1936</td>\n",
       "      <td>784</td>\n",
       "    </tr>\n",
       "    <tr>\n",
       "      <th>4</th>\n",
       "      <td>5.30</td>\n",
       "      <td>12</td>\n",
       "      <td>7</td>\n",
       "      <td>2</td>\n",
       "      <td>0</td>\n",
       "      <td>0</td>\n",
       "      <td>1</td>\n",
       "      <td>1</td>\n",
       "      <td>0</td>\n",
       "      <td>0</td>\n",
       "      <td>...</td>\n",
       "      <td>0</td>\n",
       "      <td>0</td>\n",
       "      <td>0</td>\n",
       "      <td>0</td>\n",
       "      <td>0</td>\n",
       "      <td>0</td>\n",
       "      <td>0</td>\n",
       "      <td>1.67</td>\n",
       "      <td>49</td>\n",
       "      <td>4</td>\n",
       "    </tr>\n",
       "  </tbody>\n",
       "</table>\n",
       "<p>5 rows × 24 columns</p>\n",
       "</div>"
      ],
      "text/plain": [
       "   wage  educ  exper  tenure  nonwhite  female  married  numdep  smsa  \\\n",
       "0  3.10    11      2       0         0       1        0       2     1   \n",
       "1  3.24    12     22       2         0       1        1       3     1   \n",
       "2  3.00    11      2       0         0       0        0       2     0   \n",
       "3  6.00     8     44      28         0       0        1       0     1   \n",
       "4  5.30    12      7       2         0       0        1       1     0   \n",
       "\n",
       "   northcen  ...  trcommpu  trade  services  profserv  profocc  clerocc  \\\n",
       "0         0  ...         0      0         0         0        0        0   \n",
       "1         0  ...         0      0         1         0        0        0   \n",
       "2         0  ...         0      1         0         0        0        0   \n",
       "3         0  ...         0      0         0         0        0        1   \n",
       "4         0  ...         0      0         0         0        0        0   \n",
       "\n",
       "   servocc  lwage  expersq  tenursq  \n",
       "0        0   1.13        4        0  \n",
       "1        1   1.18      484        4  \n",
       "2        0   1.10        4        0  \n",
       "3        0   1.79     1936      784  \n",
       "4        0   1.67       49        4  \n",
       "\n",
       "[5 rows x 24 columns]"
      ]
     },
     "execution_count": 28,
     "metadata": {},
     "output_type": "execute_result"
    }
   ],
   "source": [
    "df2 = woo.data(\"wage1\")\n",
    "df2.head()"
   ]
  },
  {
   "cell_type": "code",
   "execution_count": 29,
   "id": "da89e54e",
   "metadata": {
    "tags": []
   },
   "outputs": [
    {
     "data": {
      "image/png": "[encoded data removed]",
      "text/plain": [
       "<Figure size 432x288 with 1 Axes>"
      ]
     },
     "metadata": {
      "needs_background": "light"
     },
     "output_type": "display_data"
    },
    {
     "data": {
      "image/png": "[encoded data removed]",
      "text/plain": [
       "<Figure size 432x432 with 3 Axes>"
      ]
     },
     "metadata": {
      "needs_background": "light"
     },
     "output_type": "display_data"
    }
   ],
   "source": [
    "sns.histplot(x=\"wage\",y=\"educ\",data=df2,)\n",
    "plt.title(\"2-dimensional histogram\\n\" )\n",
    "plt.show()\n",
    "\n",
    "sns.jointplot(x=\"wage\",y=\"educ\",data=df2)\n",
    "plt.show()"
   ]
  },
  {
   "cell_type": "markdown",
   "id": "7f48b424",
   "metadata": {},
   "source": [
    "We distinguish a two-dimensional histogram from the one-dimensional vanilla case by adding a *y* parameter. The **jointplot()** method provides two separate histograms on the top and the right margins and a scatter plot in its main frame."
   ]
  },
  {
   "cell_type": "markdown",
   "id": "4cb6836c",
   "metadata": {},
   "source": [
    "### Scatter plot\n",
    "\n",
    "A **scatter plot** is a graphical display of the relationship between two quantitative (continuous) variables, and a **trendline** is a line that provides an approximation of the relationship. Each point in the scatter plot represent an observation (row) in the dataset.\n",
    "\n",
    "Let's depict a scatter plot for *wage* and *years of education*."
   ]
  },
  {
   "cell_type": "code",
   "execution_count": 30,
   "id": "aca4c2a7",
   "metadata": {
    "tags": []
   },
   "outputs": [
    {
     "data": {
      "image/png": "[encoded data removed]",
      "text/plain": [
       "<Figure size 432x288 with 1 Axes>"
      ]
     },
     "metadata": {
      "needs_background": "light"
     },
     "output_type": "display_data"
    },
    {
     "data": {
      "image/png": "[encoded data removed]",
      "text/plain": [
       "<Figure size 432x288 with 1 Axes>"
      ]
     },
     "metadata": {
      "needs_background": "light"
     },
     "output_type": "display_data"
    }
   ],
   "source": [
    "# Scatterplot\n",
    "sns.scatterplot(x= \"wage\", y=\"educ\",data=df2)\n",
    "\n",
    "plt.title(\"Scatter Plot for wage and education\\n\")\n",
    "plt.show()\n",
    "\n",
    "# Scatterplot with trendline\n",
    "sns.regplot(x= \"wage\", y=\"educ\",data=df2, ci=None)\n",
    "plt.title(\"Scatter Plot with trendline\\n\")\n",
    "plt.show()"
   ]
  },
  {
   "cell_type": "markdown",
   "id": "3a2f7234",
   "metadata": {},
   "source": [
    "The scatter diagram in Figure 3.13 and Figure 3.14 indicates a positive relationship between years of education and the happiness of marriage. \n",
    "\n",
    "See also [plt.scatter()](https://matplotlib.org/stable/api/_as_gen/matplotlib.pyplot.scatter.html) and [plt.hist2d()](https://matplotlib.org/stable/api/_as_gen/matplotlib.pyplot.hist2d.html) for similar figures."
   ]
  },
  {
   "cell_type": "markdown",
   "id": "df4de01a",
   "metadata": {},
   "source": [
    "> To combine the two plots in one figure, use [plt.subplots()](https://matplotlib.org/stable/api/_as_gen/matplotlib.pyplot.subplots.html)"
   ]
  },
  {
   "cell_type": "markdown",
   "id": "074e7c33-e9bc-4609-9762-766971773e93",
   "metadata": {
    "tags": []
   },
   "source": [
    "### Some matplotlib terminologies:\n",
    "\n",
    "The **Figure** is the final image that may contain 1 or more Axes.\n",
    "\n",
    "The **Axes** represent an individual plot (don't confuse this with the word \"axis\", which refers to the x/y axis of a plot)."
   ]
  },
  {
   "cell_type": "code",
   "execution_count": 31,
   "id": "ece301e0",
   "metadata": {
    "tags": []
   },
   "outputs": [
    {
     "data": {
      "image/png": "[encoded data removed]",
      "text/plain": [
       "<Figure size 720x360 with 2 Axes>"
      ]
     },
     "metadata": {
      "needs_background": "light"
     },
     "output_type": "display_data"
    }
   ],
   "source": [
    "# subplots method returns two objects\n",
    "fig, axs = plt.subplots(nrows=1,ncols=2, figsize=(10,5))\n",
    "\n",
    "# plot the first subfigure on ax1\n",
    "sns.histplot(x= \"educ\",data=df2, ax=axs[0])\n",
    "axs[0].set_title(\"(A) Histogram\")\n",
    "\n",
    "# plot the second subfigure on ax2\n",
    "sns.regplot(x= \"wage\", y=\"educ\",data=df2, ax=axs[1])\n",
    "axs[1].set_title(\"(B) Scatter plot\")\n",
    "\n",
    "# Add a title\n",
    "plt.suptitle(\"Fig. 3.15. Display multiple plots in one figure\\n\")\n",
    "plt.show()"
   ]
  },
  {
   "cell_type": "markdown",
   "id": "5afdfd17-c553-46f2-87e6-f0409f10f74e",
   "metadata": {},
   "source": [
    "## Extra: Kernel Density Function\n",
    "\n",
    "Kernel density function is invented to \"smoothly\" display the distribution of a variable. Although histogram is intuitive and easy to calculate, it has lots of bumps. To smooth it out, let's first explore the functional form of a histogram.\n",
    "\n",
    "$$\\hat{f}(x) = \\frac{1}{nh} \\sum_{i=1}^n \\mathbb{1}\\{(x_i-x)<\\frac{h}{2}\\}$$"
   ]
  },
  {
   "cell_type": "markdown",
   "id": "f01f88f5-1e67-481a-a3be-d27d9d1fd9cd",
   "metadata": {},
   "source": [
    "At each midpoint of the bin, we count (i.e. assign 1 to) the observations that are close enough to the midpoint. Then we divide the frequency by n to obtain *relative frequency*, and then further divide it by h to get *density*, such that the \"area under curve\" is equal to 1 and it can be viewed as a \"probability density function\"."
   ]
  },
  {
   "cell_type": "markdown",
   "id": "064b697d-71a0-497f-a1cd-1dd98a672a1c",
   "metadata": {},
   "source": [
    "Take a closer look at $\\hat{f}(x)$ and you'll find out that the non-smoothness is caused by the $\\mathbb{1}\\{.\\}$ part of the formula. Can we switch to a smoother function?\n",
    "\n",
    "Of course! Indeed, we can replace the $\\mathbb{1}\\{.\\}$ part with any function (denoted by K(.)) that satisfies the following criteria.\n",
    "\n",
    "1. K(.) is non-negative - so that we'll never end up with negative probability\n",
    "2. $\\int \\hat{f}(x) dx = 1$ - so that it is a pdf\n",
    "3. K(u)=K(-u) - so that the average of the corresponding distribution is equal to that of the sample used.\n"
   ]
  },
  {
   "cell_type": "markdown",
   "id": "1f87fb4e-3db0-4ff6-ad87-fe19f4127b4b",
   "metadata": {},
   "source": [
    "[Examples](https://en.wikipedia.org/wiki/Kernel_(statistics)) of K(.)."
   ]
  },
  {
   "cell_type": "markdown",
   "id": "ea863a3b-10d9-4d1d-baa5-99846d54305e",
   "metadata": {},
   "source": [
    "The new generalized formula is then:\n",
    "\n",
    "$$\\hat{f}(x) = \\frac{1}{nh}\\sum_{i=1}^n K(\\frac{(x_i-x)}{h})$$"
   ]
  },
  {
   "cell_type": "markdown",
   "id": "199e1aaf-e22e-4f61-95e3-d5146a815210",
   "metadata": {},
   "source": [
    "Where $\\hat{f}(x)$ is called the **kernel density estimator**, K(.) the **kernel**, and h the **bandwidth**."
   ]
  },
  {
   "cell_type": "code",
   "execution_count": 32,
   "id": "60499350-52ab-486e-90d3-ebc4cdf7972f",
   "metadata": {},
   "outputs": [
    {
     "data": {
      "image/png": "[encoded data removed]",
      "text/plain": [
       "<Figure size 432x288 with 1 Axes>"
      ]
     },
     "metadata": {
      "needs_background": "light"
     },
     "output_type": "display_data"
    }
   ],
   "source": [
    "sns.kdeplot(x=\"wage\",data=df2)\n",
    "plt.show()"
   ]
  },
  {
   "cell_type": "code",
   "execution_count": 33,
   "id": "a1de750d-6756-4e10-8637-75c7fbf665db",
   "metadata": {},
   "outputs": [
    {
     "data": {
      "image/png": "[encoded data removed]",
      "text/plain": [
       "<Figure size 432x432 with 3 Axes>"
      ]
     },
     "metadata": {
      "needs_background": "light"
     },
     "output_type": "display_data"
    }
   ],
   "source": [
    "sns.jointplot(x=\"wage\",y=\"educ\", kind=\"kde\", data=df2)\n",
    "plt.show()"
   ]
  },
  {
   "cell_type": "markdown",
   "id": "615447a0",
   "metadata": {},
   "source": [
    "## 5. Data Visualization - Best Practices"
   ]
  },
  {
   "cell_type": "markdown",
   "id": "dd84a1bd",
   "metadata": {},
   "source": [
    "- Give the display a clear and concise title.\n",
    "- Keep the display simple. Do not use three dimensions when two dimensions are sufficient\n",
    "- Clearly label each axis and provide the units of measure.\n",
    "- If color is used to distinguish categories, make sure the colors are distinct.\n",
    "- If multiple colors or line types are used, use a legend to define how they are used and place the legend close to the representation of the data"
   ]
  }
 ],
 "metadata": {
  "kernelspec": {
   "display_name": "Python 3 (ipykernel)",
   "language": "python",
   "name": "python3"
  },
  "language_info": {
   "codemirror_mode": {
    "name": "ipython",
    "version": 3
   },
   "file_extension": ".py",
   "mimetype": "text/x-python",
   "name": "python",
   "nbconvert_exporter": "python",
   "pygments_lexer": "ipython3",
   "version": "3.8.8"
  },
  "toc-autonumbering": false,
  "toc-showcode": false,
  "toc-showmarkdowntxt": false,
  "toc-showtags": false
 },
 "nbformat": 4,
 "nbformat_minor": 5
}
