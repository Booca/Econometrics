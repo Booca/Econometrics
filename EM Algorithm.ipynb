{
 "cells": [
  {
   "cell_type": "markdown",
   "id": "484bea89-30c8-4269-ad15-8cc1fe8b29dd",
   "metadata": {
    "tags": []
   },
   "source": [
    "# Expectation-Maximization (EM) Algorithm"
   ]
  },
  {
   "cell_type": "markdown",
   "id": "0690b953-7358-4d5f-aa32-1cc3ad9a8fa9",
   "metadata": {},
   "source": [
    "Assume x is a mixture of two normal distributions, and the there is an unknown variable Z that governs the selection. When Z = 0, x is from the first normal distribution, and when Z=1, x is from the second."
   ]
  },
  {
   "cell_type": "code",
   "execution_count": 7,
   "id": "e1dff192-a857-47b0-9331-b9db73e346f3",
   "metadata": {},
   "outputs": [],
   "source": [
    "import numpy as np\n",
    "x1 = np.random.normal(20,5,3000)\n",
    "x2 = np.random.normal(40,5,7000)\n",
    "x = np.append(x1,x2)"
   ]
  },
  {
   "cell_type": "code",
   "execution_count": 10,
   "id": "79b14dbf-f3dc-4e20-aaec-3477e358f38c",
   "metadata": {},
   "outputs": [
    {
     "data": {
      "text/plain": [
       "10000"
      ]
     },
     "execution_count": 10,
     "metadata": {},
     "output_type": "execute_result"
    }
   ],
   "source": [
    "len(x)"
   ]
  },
  {
   "cell_type": "code",
   "execution_count": 11,
   "id": "cf4269c8-08b2-4fa4-acd9-a25277f3618e",
   "metadata": {},
   "outputs": [],
   "source": [
    "import matplotlib.pyplot as plt"
   ]
  },
  {
   "cell_type": "code",
   "execution_count": 15,
   "id": "f2f19f05-a4ea-4be7-9fae-6efd0245caf7",
   "metadata": {},
   "outputs": [
    {
     "data": {
      "image/png": "[encoded data removed]",
      "text/plain": [
       "<Figure size 432x288 with 1 Axes>"
      ]
     },
     "metadata": {
      "needs_background": "light"
     },
     "output_type": "display_data"
    }
   ],
   "source": [
    "plt.hist(x,bins=20)\n",
    "plt.show()"
   ]
  },
  {
   "cell_type": "markdown",
   "id": "075bd572-7b6d-4de6-b8c7-6337c6b432df",
   "metadata": {},
   "source": [
    "### E-step"
   ]
  },
  {
   "cell_type": "markdown",
   "id": "360b3ff7-c93e-4d28-b3a8-08df18d65854",
   "metadata": {},
   "source": [
    "In the first iteration of the E-step, we set the initial values for the unknown parameters $(p , \\mu_1, \\mu_2, \\sigma_1, \\sigma_2)$,where p is the a priori probability $P(Z=1)$. Give the parameters, the conditional distribution of Z is determined by Bayes theorem.\n",
    "\n",
    "$$P(Z_i=1|x_i,\\theta) = \\frac{pf(x_i|\\theta_1,z_i=1)}{pf(x_i|\\theta_1,z_i=1)+(1-p)f(x_i|\\theta_2,z_i=0)}$$"
   ]
  },
  {
   "cell_type": "markdown",
   "id": "a8168b20-afea-490d-9597-353031f6a147",
   "metadata": {},
   "source": [
    "This provide the first estimate of the Z column. One can use this probability to conduct a random draw from {0,1}."
   ]
  },
  {
   "cell_type": "markdown",
   "id": "a24ecb5e-f6b6-4c24-93eb-6caf16250fe0",
   "metadata": {},
   "source": [
    "### M-step"
   ]
  },
  {
   "cell_type": "markdown",
   "id": "beeae32b-12ac-4833-9993-a3d63f3c728c",
   "metadata": {},
   "source": [
    "Repeat E-M"
   ]
  },
  {
   "cell_type": "code",
   "execution_count": 29,
   "id": "062337fb-b005-482c-8521-9cb1bf4d53fd",
   "metadata": {},
   "outputs": [],
   "source": [
    "import scipy.stats as stats\n",
    "from scipy.optimize import minimize"
   ]
  },
  {
   "cell_type": "code",
   "execution_count": 37,
   "id": "da02bce6-84c5-48fb-a555-57f2a628b9c3",
   "metadata": {},
   "outputs": [],
   "source": [
    "def ll(theta, x, z):\n",
    "    obj = np.where(z==1,np.log(theta[0])+stats.norm.logpdf(x,theta[1],theta[3]),np.log(1-theta[0])+stats.norm.logpdf(x,theta[2],theta[4])).sum()\n",
    "    return -obj"
   ]
  },
  {
   "cell_type": "code",
   "execution_count": 84,
   "id": "00d7341d-1b77-454f-b832-530f485b1e7c",
   "metadata": {},
   "outputs": [],
   "source": [
    "theta = (0.5,10,50,5,5) #initial guess\n",
    "\n",
    "for i in range(3000):\n",
    "    num = theta[0]*stats.norm.pdf(x,theta[1],theta[3])\n",
    "    denom = (theta[0]*stats.norm.pdf(x,theta[1],theta[3])+(1-theta[0])*stats.norm.pdf(x,theta[2],theta[4]))\n",
    "    z = (num/denom).round(0) #0.5 is the threshold\n",
    "    theta = minimize(ll, x0=theta, args=(x,z),bounds=[(0.1,0.9),(0,100),(0,100),(1,10),(1,10)]).x"
   ]
  },
  {
   "cell_type": "code",
   "execution_count": 85,
   "id": "a65ab4cd-d762-44c7-88b9-1adce66a9d1a",
   "metadata": {},
   "outputs": [
    {
     "data": {
      "text/plain": [
       "array([ 0.2924    , 19.74374535, 39.98597125,  4.59654077,  4.9944348 ])"
      ]
     },
     "execution_count": 85,
     "metadata": {},
     "output_type": "execute_result"
    }
   ],
   "source": [
    "theta"
   ]
  },
  {
   "cell_type": "markdown",
   "id": "ad2bec6e-156e-4649-83fa-5b5accc7b95f",
   "metadata": {},
   "source": [
    "### Another way to set up EM"
   ]
  },
  {
   "cell_type": "markdown",
   "id": "7a3428d3-9380-4515-8e3a-f43a495d77aa",
   "metadata": {},
   "source": [
    "Note that our final goal is to estimate $\\theta=(\\mu_1,\\mu_2,\\sigma_1,\\sigma_2)$, but not necessarily p. So we can set up a MLE with x values only.\n",
    "\n",
    "$$\\max lnf(x|\\theta)$$\n",
    "\n",
    "$$lnf(x|\\theta) = ln\\frac{f(x,z|p,\\theta)}{f(z|x,p,\\theta)} = lnf(x,z|p,\\theta) - lnf(z|x,p,\\theta)$$"
   ]
  },
  {
   "cell_type": "markdown",
   "id": "ab371824-b0ab-435b-ac91-350fa3325db7",
   "metadata": {},
   "source": [
    "$$\\begin{align} lnf(x|\\theta) &= \\sum_z p(z|x,p_t,\\theta_t)lnf(x,z|p,\\theta) - \\sum_z p(z|x,p_t,\\theta_t)lnf(z|x,p,\\theta) \\\\ &=Q(\\theta|\\theta_t) + H(\\theta|\\theta_t) \\end{align}$$"
   ]
  },
  {
   "cell_type": "markdown",
   "id": "d1acb514-42a6-411e-ba42-2b68a8a58bee",
   "metadata": {},
   "source": [
    "Because optimization aims at finding $\\theat$ to improve the objective function, we subtract the previous step "
   ]
  }
 ],
 "metadata": {
  "kernelspec": {
   "display_name": "Python 3 (ipykernel)",
   "language": "python",
   "name": "python3"
  },
  "language_info": {
   "codemirror_mode": {
    "name": "ipython",
    "version": 3
   },
   "file_extension": ".py",
   "mimetype": "text/x-python",
   "name": "python",
   "nbconvert_exporter": "python",
   "pygments_lexer": "ipython3",
   "version": "3.8.8"
  }
 },
 "nbformat": 4,
 "nbformat_minor": 5
}
