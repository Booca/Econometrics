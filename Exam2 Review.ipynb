{
 "cells": [
  {
   "cell_type": "markdown",
   "id": "d392d726-70d9-436e-bac6-37172ac4e597",
   "metadata": {},
   "source": [
    "### Task 1 Multiple Regression"
   ]
  },
  {
   "cell_type": "markdown",
   "id": "14e9bb45-e7aa-4e46-8c52-87e6cd77e50b",
   "metadata": {},
   "source": [
    "1. Use meap93 from wooldridge. Regress math10 on enroll, totcomp, and staff"
   ]
  },
  {
   "cell_type": "code",
   "execution_count": 1,
   "id": "ef21397d-f32e-49c5-a429-00fa360d1bfc",
   "metadata": {
    "tags": []
   },
   "outputs": [
    {
     "data": {
      "text/html": [
       "<table class=\"simpletable\">\n",
       "<caption>OLS Regression Results</caption>\n",
       "<tr>\n",
       "  <th>Dep. Variable:</th>         <td>math10</td>      <th>  R-squared:         </th> <td>   0.054</td>\n",
       "</tr>\n",
       "<tr>\n",
       "  <th>Model:</th>                   <td>OLS</td>       <th>  Adj. R-squared:    </th> <td>   0.047</td>\n",
       "</tr>\n",
       "<tr>\n",
       "  <th>Method:</th>             <td>Least Squares</td>  <th>  F-statistic:       </th> <td>   7.697</td>\n",
       "</tr>\n",
       "<tr>\n",
       "  <th>Date:</th>             <td>Tue, 04 Apr 2023</td> <th>  Prob (F-statistic):</th> <td>5.18e-05</td>\n",
       "</tr>\n",
       "<tr>\n",
       "  <th>Time:</th>                 <td>20:37:58</td>     <th>  Log-Likelihood:    </th> <td> -1526.2</td>\n",
       "</tr>\n",
       "<tr>\n",
       "  <th>No. Observations:</th>      <td>   408</td>      <th>  AIC:               </th> <td>   3060.</td>\n",
       "</tr>\n",
       "<tr>\n",
       "  <th>Df Residuals:</th>          <td>   404</td>      <th>  BIC:               </th> <td>   3076.</td>\n",
       "</tr>\n",
       "<tr>\n",
       "  <th>Df Model:</th>              <td>     3</td>      <th>                     </th>     <td> </td>   \n",
       "</tr>\n",
       "<tr>\n",
       "  <th>Covariance Type:</th>      <td>nonrobust</td>    <th>                     </th>     <td> </td>   \n",
       "</tr>\n",
       "</table>\n",
       "<table class=\"simpletable\">\n",
       "<tr>\n",
       "      <td></td>         <th>coef</th>     <th>std err</th>      <th>t</th>      <th>P>|t|</th>  <th>[0.025</th>    <th>0.975]</th>  \n",
       "</tr>\n",
       "<tr>\n",
       "  <th>Intercept</th> <td>    2.2740</td> <td>    6.114</td> <td>    0.372</td> <td> 0.710</td> <td>   -9.745</td> <td>   14.293</td>\n",
       "</tr>\n",
       "<tr>\n",
       "  <th>enroll</th>    <td>   -0.0002</td> <td>    0.000</td> <td>   -0.918</td> <td> 0.359</td> <td>   -0.001</td> <td>    0.000</td>\n",
       "</tr>\n",
       "<tr>\n",
       "  <th>totcomp</th>   <td>    0.0005</td> <td>    0.000</td> <td>    4.570</td> <td> 0.000</td> <td>    0.000</td> <td>    0.001</td>\n",
       "</tr>\n",
       "<tr>\n",
       "  <th>staff</th>     <td>    0.0479</td> <td>    0.040</td> <td>    1.204</td> <td> 0.229</td> <td>   -0.030</td> <td>    0.126</td>\n",
       "</tr>\n",
       "</table>\n",
       "<table class=\"simpletable\">\n",
       "<tr>\n",
       "  <th>Omnibus:</th>       <td>31.666</td> <th>  Durbin-Watson:     </th> <td>   1.669</td>\n",
       "</tr>\n",
       "<tr>\n",
       "  <th>Prob(Omnibus):</th> <td> 0.000</td> <th>  Jarque-Bera (JB):  </th> <td>  40.628</td>\n",
       "</tr>\n",
       "<tr>\n",
       "  <th>Skew:</th>          <td> 0.615</td> <th>  Prob(JB):          </th> <td>1.51e-09</td>\n",
       "</tr>\n",
       "<tr>\n",
       "  <th>Kurtosis:</th>      <td> 3.936</td> <th>  Cond. No.          </th> <td>4.68e+05</td>\n",
       "</tr>\n",
       "</table><br/><br/>Notes:<br/>[1] Standard Errors assume that the covariance matrix of the errors is correctly specified.<br/>[2] The condition number is large, 4.68e+05. This might indicate that there are<br/>strong multicollinearity or other numerical problems."
      ],
      "text/plain": [
       "<class 'statsmodels.iolib.summary.Summary'>\n",
       "\"\"\"\n",
       "                            OLS Regression Results                            \n",
       "==============================================================================\n",
       "Dep. Variable:                 math10   R-squared:                       0.054\n",
       "Model:                            OLS   Adj. R-squared:                  0.047\n",
       "Method:                 Least Squares   F-statistic:                     7.697\n",
       "Date:                Tue, 04 Apr 2023   Prob (F-statistic):           5.18e-05\n",
       "Time:                        20:37:58   Log-Likelihood:                -1526.2\n",
       "No. Observations:                 408   AIC:                             3060.\n",
       "Df Residuals:                     404   BIC:                             3076.\n",
       "Df Model:                           3                                         \n",
       "Covariance Type:            nonrobust                                         \n",
       "==============================================================================\n",
       "                 coef    std err          t      P>|t|      [0.025      0.975]\n",
       "------------------------------------------------------------------------------\n",
       "Intercept      2.2740      6.114      0.372      0.710      -9.745      14.293\n",
       "enroll        -0.0002      0.000     -0.918      0.359      -0.001       0.000\n",
       "totcomp        0.0005      0.000      4.570      0.000       0.000       0.001\n",
       "staff          0.0479      0.040      1.204      0.229      -0.030       0.126\n",
       "==============================================================================\n",
       "Omnibus:                       31.666   Durbin-Watson:                   1.669\n",
       "Prob(Omnibus):                  0.000   Jarque-Bera (JB):               40.628\n",
       "Skew:                           0.615   Prob(JB):                     1.51e-09\n",
       "Kurtosis:                       3.936   Cond. No.                     4.68e+05\n",
       "==============================================================================\n",
       "\n",
       "Notes:\n",
       "[1] Standard Errors assume that the covariance matrix of the errors is correctly specified.\n",
       "[2] The condition number is large, 4.68e+05. This might indicate that there are\n",
       "strong multicollinearity or other numerical problems.\n",
       "\"\"\""
      ]
     },
     "execution_count": 1,
     "metadata": {},
     "output_type": "execute_result"
    }
   ],
   "source": [
    "import wooldridge as woo\n",
    "import statsmodels.formula.api as smf\n",
    "\n",
    "df = woo.data(\"meap93\")\n",
    "reg = smf.ols(\"math10~enroll+totcomp+staff\",data=df)\n",
    "res = reg.fit()\n",
    "res.summary()"
   ]
  },
  {
   "cell_type": "markdown",
   "id": "8ab84b7f-46f8-4257-81ef-50db3600bd75",
   "metadata": {},
   "source": [
    "2. Regress math10 on all the other variables in the data"
   ]
  },
  {
   "cell_type": "code",
   "execution_count": 2,
   "id": "498cec66-3178-4365-ade3-67ad30b1647e",
   "metadata": {
    "tags": []
   },
   "outputs": [
    {
     "data": {
      "text/html": [
       "<table class=\"simpletable\">\n",
       "<caption>OLS Regression Results</caption>\n",
       "<tr>\n",
       "  <th>Dep. Variable:</th>         <td>math10</td>      <th>  R-squared:         </th> <td>   0.054</td>\n",
       "</tr>\n",
       "<tr>\n",
       "  <th>Model:</th>                   <td>OLS</td>       <th>  Adj. R-squared:    </th> <td>   0.047</td>\n",
       "</tr>\n",
       "<tr>\n",
       "  <th>Method:</th>             <td>Least Squares</td>  <th>  F-statistic:       </th> <td>   7.697</td>\n",
       "</tr>\n",
       "<tr>\n",
       "  <th>Date:</th>             <td>Tue, 04 Apr 2023</td> <th>  Prob (F-statistic):</th> <td>5.18e-05</td>\n",
       "</tr>\n",
       "<tr>\n",
       "  <th>Time:</th>                 <td>20:37:58</td>     <th>  Log-Likelihood:    </th> <td> -1526.2</td>\n",
       "</tr>\n",
       "<tr>\n",
       "  <th>No. Observations:</th>      <td>   408</td>      <th>  AIC:               </th> <td>   3060.</td>\n",
       "</tr>\n",
       "<tr>\n",
       "  <th>Df Residuals:</th>          <td>   404</td>      <th>  BIC:               </th> <td>   3076.</td>\n",
       "</tr>\n",
       "<tr>\n",
       "  <th>Df Model:</th>              <td>     3</td>      <th>                     </th>     <td> </td>   \n",
       "</tr>\n",
       "<tr>\n",
       "  <th>Covariance Type:</th>      <td>nonrobust</td>    <th>                     </th>     <td> </td>   \n",
       "</tr>\n",
       "</table>\n",
       "<table class=\"simpletable\">\n",
       "<tr>\n",
       "      <td></td>         <th>coef</th>     <th>std err</th>      <th>t</th>      <th>P>|t|</th>  <th>[0.025</th>    <th>0.975]</th>  \n",
       "</tr>\n",
       "<tr>\n",
       "  <th>Intercept</th> <td>    2.2740</td> <td>    6.114</td> <td>    0.372</td> <td> 0.710</td> <td>   -9.745</td> <td>   14.293</td>\n",
       "</tr>\n",
       "<tr>\n",
       "  <th>enroll</th>    <td>   -0.0002</td> <td>    0.000</td> <td>   -0.918</td> <td> 0.359</td> <td>   -0.001</td> <td>    0.000</td>\n",
       "</tr>\n",
       "<tr>\n",
       "  <th>totcomp</th>   <td>    0.0005</td> <td>    0.000</td> <td>    4.570</td> <td> 0.000</td> <td>    0.000</td> <td>    0.001</td>\n",
       "</tr>\n",
       "<tr>\n",
       "  <th>staff</th>     <td>    0.0479</td> <td>    0.040</td> <td>    1.204</td> <td> 0.229</td> <td>   -0.030</td> <td>    0.126</td>\n",
       "</tr>\n",
       "</table>\n",
       "<table class=\"simpletable\">\n",
       "<tr>\n",
       "  <th>Omnibus:</th>       <td>31.666</td> <th>  Durbin-Watson:     </th> <td>   1.669</td>\n",
       "</tr>\n",
       "<tr>\n",
       "  <th>Prob(Omnibus):</th> <td> 0.000</td> <th>  Jarque-Bera (JB):  </th> <td>  40.628</td>\n",
       "</tr>\n",
       "<tr>\n",
       "  <th>Skew:</th>          <td> 0.615</td> <th>  Prob(JB):          </th> <td>1.51e-09</td>\n",
       "</tr>\n",
       "<tr>\n",
       "  <th>Kurtosis:</th>      <td> 3.936</td> <th>  Cond. No.          </th> <td>4.68e+05</td>\n",
       "</tr>\n",
       "</table><br/><br/>Notes:<br/>[1] Standard Errors assume that the covariance matrix of the errors is correctly specified.<br/>[2] The condition number is large, 4.68e+05. This might indicate that there are<br/>strong multicollinearity or other numerical problems."
      ],
      "text/plain": [
       "<class 'statsmodels.iolib.summary.Summary'>\n",
       "\"\"\"\n",
       "                            OLS Regression Results                            \n",
       "==============================================================================\n",
       "Dep. Variable:                 math10   R-squared:                       0.054\n",
       "Model:                            OLS   Adj. R-squared:                  0.047\n",
       "Method:                 Least Squares   F-statistic:                     7.697\n",
       "Date:                Tue, 04 Apr 2023   Prob (F-statistic):           5.18e-05\n",
       "Time:                        20:37:58   Log-Likelihood:                -1526.2\n",
       "No. Observations:                 408   AIC:                             3060.\n",
       "Df Residuals:                     404   BIC:                             3076.\n",
       "Df Model:                           3                                         \n",
       "Covariance Type:            nonrobust                                         \n",
       "==============================================================================\n",
       "                 coef    std err          t      P>|t|      [0.025      0.975]\n",
       "------------------------------------------------------------------------------\n",
       "Intercept      2.2740      6.114      0.372      0.710      -9.745      14.293\n",
       "enroll        -0.0002      0.000     -0.918      0.359      -0.001       0.000\n",
       "totcomp        0.0005      0.000      4.570      0.000       0.000       0.001\n",
       "staff          0.0479      0.040      1.204      0.229      -0.030       0.126\n",
       "==============================================================================\n",
       "Omnibus:                       31.666   Durbin-Watson:                   1.669\n",
       "Prob(Omnibus):                  0.000   Jarque-Bera (JB):               40.628\n",
       "Skew:                           0.615   Prob(JB):                     1.51e-09\n",
       "Kurtosis:                       3.936   Cond. No.                     4.68e+05\n",
       "==============================================================================\n",
       "\n",
       "Notes:\n",
       "[1] Standard Errors assume that the covariance matrix of the errors is correctly specified.\n",
       "[2] The condition number is large, 4.68e+05. This might indicate that there are\n",
       "strong multicollinearity or other numerical problems.\n",
       "\"\"\""
      ]
     },
     "execution_count": 2,
     "metadata": {},
     "output_type": "execute_result"
    }
   ],
   "source": [
    "ls = []\n",
    "# for v in df.columns:\n",
    "#     if v not in [\"math10\",\"enroll\",\"totcomp\",\"staff\"]:\n",
    "#         ls.append(v)\n",
    "\n",
    "ls = [v for v in df.columns if v not in [\"math10\",\"enroll\",\"totcomp\",\"staff\"]]\n",
    "exog_v = \"+\".join(ls)\n",
    "reg2 = smf.ols(\"math10~\"+exog_v,data=df)\n",
    "res2 = reg.fit()\n",
    "res2.summary()"
   ]
  },
  {
   "cell_type": "markdown",
   "id": "cbc8e46a-0e98-4956-8c00-beebcb8a3ffa",
   "metadata": {},
   "source": [
    "3. Show t-values and their associated p-values"
   ]
  },
  {
   "cell_type": "code",
   "execution_count": 3,
   "id": "ae96e6ee-2822-4611-aa1b-708abfce8158",
   "metadata": {
    "tags": []
   },
   "outputs": [
    {
     "data": {
      "text/plain": [
       "Intercept    0.371949\n",
       "enroll      -0.917935\n",
       "totcomp      4.570030\n",
       "staff        1.203593\n",
       "dtype: float64"
      ]
     },
     "execution_count": 3,
     "metadata": {},
     "output_type": "execute_result"
    }
   ],
   "source": [
    "res.tvalues"
   ]
  },
  {
   "cell_type": "code",
   "execution_count": 4,
   "id": "8840c76b-2648-470b-af7d-4a54f8ba7611",
   "metadata": {
    "tags": []
   },
   "outputs": [
    {
     "data": {
      "text/plain": [
       "Intercept    0.710126\n",
       "enroll       0.359201\n",
       "totcomp      0.000006\n",
       "staff        0.229452\n",
       "dtype: float64"
      ]
     },
     "execution_count": 4,
     "metadata": {},
     "output_type": "execute_result"
    }
   ],
   "source": [
    "res.pvalues"
   ]
  },
  {
   "cell_type": "markdown",
   "id": "d916a5ae-197d-4a85-b642-bec493ab6b5b",
   "metadata": {},
   "source": [
    "4. Replicate t-values and p-values using scipy and numpy"
   ]
  },
  {
   "cell_type": "code",
   "execution_count": 5,
   "id": "1a5cc4d2-5b73-4f48-a8e0-d87d103204b3",
   "metadata": {},
   "outputs": [],
   "source": [
    "import numpy as np\n",
    "from scipy.stats import t"
   ]
  },
  {
   "cell_type": "code",
   "execution_count": 6,
   "id": "33b67f8e-6cf0-4542-94ed-ca599b5caaed",
   "metadata": {},
   "outputs": [
    {
     "name": "stdout",
     "output_type": "stream",
     "text": [
      "Intercept    0.371949\n",
      "enroll      -0.917935\n",
      "totcomp      4.570030\n",
      "staff        1.203593\n",
      "dtype: float64\n",
      "[7.10125657e-01 1.64079935e+00 6.48931216e-06 2.29451832e-01]\n"
     ]
    }
   ],
   "source": [
    "tv = res.params/res.bse\n",
    "pv = (1-t.cdf(tv,df = res.df_resid))*2\n",
    "print(tv)\n",
    "print(pv)"
   ]
  },
  {
   "cell_type": "markdown",
   "id": "ccbedce7-61b4-4ee3-b9b6-40cf2cfbd71d",
   "metadata": {},
   "source": [
    "5. Create a scatter plot for y and the predicted values of y."
   ]
  },
  {
   "cell_type": "code",
   "execution_count": 7,
   "id": "cb9efe2c-828d-44e4-bf88-01e5c4f5e4d4",
   "metadata": {},
   "outputs": [],
   "source": [
    "y = reg.endog\n",
    "y_h = res.fittedvalues"
   ]
  },
  {
   "cell_type": "code",
   "execution_count": 8,
   "id": "00b91460-eaab-4d6a-a28e-bf9d33d7aeb1",
   "metadata": {},
   "outputs": [
    {
     "data": {
      "image/png": "[encoded data removed]",
      "text/plain": [
       "<Figure size 432x288 with 1 Axes>"
      ]
     },
     "metadata": {
      "needs_background": "light"
     },
     "output_type": "display_data"
    }
   ],
   "source": [
    "import matplotlib.pyplot as plt\n",
    "\n",
    "plt.scatter(y,y_h)\n",
    "plt.show()"
   ]
  },
  {
   "cell_type": "markdown",
   "id": "0354030a-a71d-4b87-9f7d-9e188456ce62",
   "metadata": {},
   "source": [
    "### Task 2 Bias-Variance Tradeoff"
   ]
  },
  {
   "cell_type": "markdown",
   "id": "17a233e7-dc00-4971-9fff-1de6fa1cc83f",
   "metadata": {},
   "source": [
    "math10 ~ enroll"
   ]
  },
  {
   "cell_type": "markdown",
   "id": "b00f3b85-6647-4a7c-8f58-14958f2e0545",
   "metadata": {},
   "source": [
    "1. Think of an omitted variable (out of the dataset) and comment on the potential bias"
   ]
  },
  {
   "cell_type": "markdown",
   "id": "04a21978-1c25-45bb-9444-75780e30f139",
   "metadata": {
    "tags": []
   },
   "source": [
    "> Private school is positively correlated with math10 and negatively correlated with enroll."
   ]
  },
  {
   "cell_type": "markdown",
   "id": "21b1b954-f783-425e-8eb2-29decd002781",
   "metadata": {},
   "source": [
    "2.  Comment on the direction of the bias."
   ]
  },
  {
   "cell_type": "markdown",
   "id": "138d2286-eb32-4b20-bb88-ccd92e4ead49",
   "metadata": {
    "tags": []
   },
   "source": [
    "> When private school is omitted, OLS will underestimate the effect of enroll on math10."
   ]
  },
  {
   "cell_type": "markdown",
   "id": "d79340c2-2ce3-4004-b4db-9d8837d45605",
   "metadata": {},
   "source": [
    "### Task 3 Hypothesis Test"
   ]
  },
  {
   "cell_type": "markdown",
   "id": "b9858fda-b1ba-415c-af5c-c5e6435652ef",
   "metadata": {},
   "source": [
    "1. Use the baseline model. Test if enroll and totcomp has the same coefficient"
   ]
  },
  {
   "cell_type": "code",
   "execution_count": 9,
   "id": "68adff0a-739b-46ca-851e-04eb3dde199d",
   "metadata": {
    "tags": []
   },
   "outputs": [
    {
     "data": {
      "text/plain": [
       "<class 'statsmodels.stats.contrast.ContrastResults'>\n",
       "                             Test for Constraints                             \n",
       "==============================================================================\n",
       "                 coef    std err          t      P>|t|      [0.025      0.975]\n",
       "------------------------------------------------------------------------------\n",
       "c0            -0.0007      0.000     -2.360      0.019      -0.001      -0.000\n",
       "=============================================================================="
      ]
     },
     "execution_count": 9,
     "metadata": {},
     "output_type": "execute_result"
    }
   ],
   "source": [
    "res.t_test(\"enroll=totcomp\")"
   ]
  },
  {
   "cell_type": "markdown",
   "id": "a18a3261-d6ae-44fd-87dd-1fc384aaad85",
   "metadata": {
    "tags": []
   },
   "source": [
    "Since p-value is less than 0.05, we reject the null hypothesis that $\\beta_{enroll} = \\beta_{totcomp}$. "
   ]
  },
  {
   "cell_type": "markdown",
   "id": "f78555b2-52a2-4fe1-b339-a85ad458446c",
   "metadata": {},
   "source": [
    "2. Use f-test to test if the coefficients on staff and totcomp are both equal to zero"
   ]
  },
  {
   "cell_type": "code",
   "execution_count": 10,
   "id": "27be5f0e-96ee-41fd-9800-aa74bd09dc10",
   "metadata": {
    "tags": []
   },
   "outputs": [
    {
     "data": {
      "text/plain": [
       "<class 'statsmodels.stats.contrast.ContrastResults'>\n",
       "<F test: F=array([[10.4470124]]), p=3.770072987259239e-05, df_denom=404, df_num=2>"
      ]
     },
     "execution_count": 10,
     "metadata": {},
     "output_type": "execute_result"
    }
   ],
   "source": [
    "res.f_test([\"staff=0\",\"totcomp=0\"])"
   ]
  },
  {
   "cell_type": "markdown",
   "id": "7c650b79-5fd4-4db9-8c5b-ade7ef47d3f2",
   "metadata": {
    "tags": []
   },
   "source": [
    "Since p-value of the f-test is less than 0.05, we reject the null hypothesis that $\\beta_{staff} = 0$ and $\\beta_{totcomp}=0$. "
   ]
  },
  {
   "cell_type": "markdown",
   "id": "07f554fb-0f3f-4d31-aab9-5a202cf03048",
   "metadata": {},
   "source": [
    "3. Jarque-Bera test statistic is given by $$\\mathit{JB}={\\frac {n}{6}}\\left(S^{2}+{\\frac {1}{4}}(K-3)^{2}\\right)$$\n",
    "\n",
    "where S and K are the skewness and kurtosis of $\\hat{u}$. Try to compute JB-statistic using `scipy.stats.skew()` and `scipy.stats.kurtosis()`."
   ]
  },
  {
   "cell_type": "code",
   "execution_count": 11,
   "id": "124629fd-3cd0-49e1-a231-bc9abbfede60",
   "metadata": {},
   "outputs": [
    {
     "data": {
      "text/plain": [
       "(40.627526412311546,\n",
       " 1.5060685266868997e-09,\n",
       " 0.6150384252643253,\n",
       " 3.9363575367536545)"
      ]
     },
     "execution_count": 11,
     "metadata": {},
     "output_type": "execute_result"
    }
   ],
   "source": [
    "from statsmodels.stats.stattools import jarque_bera\n",
    "jarque_bera(res.resid)"
   ]
  },
  {
   "cell_type": "code",
   "execution_count": 12,
   "id": "da20fbb5-bc0e-414a-afa8-521f22c330ad",
   "metadata": {},
   "outputs": [
    {
     "data": {
      "text/plain": [
       "40.627526412311546"
      ]
     },
     "execution_count": 12,
     "metadata": {},
     "output_type": "execute_result"
    }
   ],
   "source": [
    "from scipy.stats import skew, kurtosis, chi2\n",
    "# fisher = False is the kurtosis. fisher = True will yield kurtosis - 3\n",
    "# bias = True is the population statistic. bias = False is the sample statistic\n",
    "jb = len(df)/6*(skew(res.resid,bias=True)**2+1/4*((kurtosis(res.resid,bias=True,fisher=False)-3)**2))\n",
    "jb"
   ]
  },
  {
   "cell_type": "markdown",
   "id": "e35ff6f4-c128-415d-bec9-1b5dacf8d070",
   "metadata": {},
   "source": [
    "4. $JB\\sim \\chi^2(2)$, conduct the JB test. (upper-tail)"
   ]
  },
  {
   "cell_type": "code",
   "execution_count": 13,
   "id": "c6dbbc0d-ed2f-4dd7-8222-241665bd249c",
   "metadata": {},
   "outputs": [
    {
     "data": {
      "text/plain": [
       "1.5060684921408551e-09"
      ]
     },
     "execution_count": 13,
     "metadata": {},
     "output_type": "execute_result"
    }
   ],
   "source": [
    "1- chi2.cdf(jb,df = 2)"
   ]
  },
  {
   "cell_type": "markdown",
   "id": "85d8dde7-f492-46f0-b4df-d573cc160833",
   "metadata": {},
   "source": [
    "Breusch-Pagan test is a hypothesis test for heteroscedasticity, where\n",
    "\n",
    "$H_0: \\sigma_i^2 = \\sigma^2 \\space for \\forall i$.\n",
    "\n",
    "BP test is equivalent to an F-test for the following regression:\n",
    "\n",
    "$\\hat{u}^2 = X\\beta+u$\n"
   ]
  },
  {
   "cell_type": "markdown",
   "id": "1a673578-866f-42cc-8066-343d35a8505b",
   "metadata": {},
   "source": [
    "5. Carry out the BP test."
   ]
  },
  {
   "cell_type": "code",
   "execution_count": 14,
   "id": "e0915bf0-7bc8-407e-8bd7-ad521e7e978a",
   "metadata": {},
   "outputs": [],
   "source": [
    "y = res.resid**2\n",
    "X = reg.exog"
   ]
  },
  {
   "cell_type": "code",
   "execution_count": 15,
   "id": "416730f1-f80d-41e0-89d6-bb636b8fe63a",
   "metadata": {},
   "outputs": [],
   "source": [
    "import statsmodels.api as sm"
   ]
  },
  {
   "cell_type": "code",
   "execution_count": 16,
   "id": "d340f42c-a1e6-4179-abd3-225329f5cdaa",
   "metadata": {},
   "outputs": [],
   "source": [
    "reg_bp = sm.OLS(endog=y,exog = X)\n",
    "res_bp = reg_bp.fit()"
   ]
  },
  {
   "cell_type": "code",
   "execution_count": 17,
   "id": "5cffcbd7-5c32-48ab-94bc-09a6aeeae7e5",
   "metadata": {},
   "outputs": [
    {
     "data": {
      "text/plain": [
       "9.432190901436114"
      ]
     },
     "execution_count": 17,
     "metadata": {},
     "output_type": "execute_result"
    }
   ],
   "source": [
    "res_bp.fvalue"
   ]
  },
  {
   "cell_type": "code",
   "execution_count": 18,
   "id": "77372171-c190-46ca-b5fc-e617bee65e48",
   "metadata": {},
   "outputs": [
    {
     "data": {
      "text/plain": [
       "4.892886175372146e-06"
      ]
     },
     "execution_count": 18,
     "metadata": {},
     "output_type": "execute_result"
    }
   ],
   "source": [
    "res_bp.f_pvalue"
   ]
  },
  {
   "cell_type": "markdown",
   "id": "096e17ef-0700-46cc-8aee-a104fc982c15",
   "metadata": {},
   "source": [
    "6. Read the documentation and, use `statsmodels.stats.diagnostic.het_breuschpagan` to test if there is heteroskedasticity."
   ]
  },
  {
   "cell_type": "code",
   "execution_count": 19,
   "id": "48942e55-6fa6-49ea-8d22-f5bac79a6093",
   "metadata": {
    "tags": []
   },
   "outputs": [],
   "source": [
    "import statsmodels.api as sm\n",
    "X = reg.exog"
   ]
  },
  {
   "cell_type": "code",
   "execution_count": 20,
   "id": "33c2be0f-9b18-4763-8867-f5ee1ac1535f",
   "metadata": {
    "tags": []
   },
   "outputs": [
    {
     "data": {
      "text/plain": [
       "(26.706206785624026,\n",
       " 6.7842318852475595e-06,\n",
       " 9.432190901436114,\n",
       " 4.892886175372146e-06)"
      ]
     },
     "execution_count": 20,
     "metadata": {},
     "output_type": "execute_result"
    }
   ],
   "source": [
    "sm.stats.diagnostic.het_breuschpagan(res.resid, X)\n",
    "# LM test statistic\n",
    "# LM p-value\n",
    "# f statistic\n",
    "# f p-value"
   ]
  },
  {
   "cell_type": "markdown",
   "id": "06ae657a-23ac-4239-82f3-b73823bacada",
   "metadata": {
    "tags": []
   },
   "source": [
    "p-values for LM-test and F-test are both less than 0.05, so we reject the null hypothesis that there is no heteroskedasticity. "
   ]
  },
  {
   "cell_type": "markdown",
   "id": "5d77ff9b-5fba-4011-8549-9f426480656f",
   "metadata": {},
   "source": [
    "7. Rerun the regress with HC2 standard errors."
   ]
  },
  {
   "cell_type": "code",
   "execution_count": 21,
   "id": "b4b89bf2-2468-4d8c-84c5-f968a04ed90e",
   "metadata": {},
   "outputs": [],
   "source": [
    "res_hc2 = reg.fit(cov_type = \"HC2\")"
   ]
  },
  {
   "cell_type": "markdown",
   "id": "41273aaf-7e20-4c95-9e8b-7d8671e189c6",
   "metadata": {},
   "source": [
    "## Task 4 Regularization"
   ]
  },
  {
   "cell_type": "markdown",
   "id": "a91a8af9-98fa-4c0b-87ac-62071a5814a1",
   "metadata": {},
   "source": [
    "1. split df into 3 folds using KFold \\\n",
    "In each iteration print:\n",
    "- the OLS regression coefficients (using train sample)\n",
    "- r2_score using validation sample"
   ]
  },
  {
   "cell_type": "code",
   "execution_count": 22,
   "id": "8323e99a-044c-4e1a-98e5-2cb4fd6425e1",
   "metadata": {},
   "outputs": [],
   "source": [
    "from sklearn.model_selection import KFold\n",
    "from sklearn.metrics import r2_score"
   ]
  },
  {
   "cell_type": "code",
   "execution_count": 23,
   "id": "b8b231ac-1b34-4894-8e15-0204bc551e30",
   "metadata": {},
   "outputs": [
    {
     "name": "stdout",
     "output_type": "stream",
     "text": [
      "Iteration:  1\n",
      "coefficients:  [ 9.96566569e+00 -4.69671840e-04  3.01198971e-04  2.08193995e-02]\n",
      "R2:  -0.28673113834549\n",
      "Iteration:  2\n",
      "coefficients:  [-1.03336296e+00 -3.82765413e-04  5.80120347e-04  3.95192259e-02]\n",
      "R2:  -0.03724718145846828\n",
      "Iteration:  3\n",
      "coefficients:  [2.91470464e+00 2.68547561e-04 3.04342274e-04 1.04437598e-01]\n",
      "R2:  -0.314490419539456\n"
     ]
    }
   ],
   "source": [
    "y = reg.endog\n",
    "X = reg.exog\n",
    "\n",
    "c=1\n",
    "kf = KFold(3)\n",
    "for tr, va in kf.split(df):\n",
    "    reg4 = sm.OLS(endog = y[tr], exog = X[tr,:])\n",
    "    res4 = reg4.fit()\n",
    "    print(\"Iteration: \", c)\n",
    "    c+=1\n",
    "    print(\"coefficients: \", res4.params)\n",
    "    print(\"R2: \", r2_score(y[va],res4.predict(X[va,:])))"
   ]
  },
  {
   "cell_type": "markdown",
   "id": "665a468f-7ce4-45c6-b37b-8f640861c176",
   "metadata": {},
   "source": [
    "2. Find the best alpha among [0,1,10,100,1000]\\\n",
    "Use GridSearchCV, Ridge regression, cv=5, and r2 scoring metric"
   ]
  },
  {
   "cell_type": "code",
   "execution_count": 24,
   "id": "e57a41fa-7b6f-4603-99b1-3f3722a9c110",
   "metadata": {},
   "outputs": [],
   "source": [
    "from sklearn.model_selection import GridSearchCV\n",
    "from sklearn.linear_model import Ridge"
   ]
  },
  {
   "cell_type": "code",
   "execution_count": 25,
   "id": "4e56989a-66d3-46e1-8f0f-ad36bb864c02",
   "metadata": {
    "tags": []
   },
   "outputs": [
    {
     "name": "stdout",
     "output_type": "stream",
     "text": [
      "Fitting 5 folds for each of 5 candidates, totalling 25 fits\n",
      "[CV 1/5] END ..........................alpha=0;, score=-0.576 total time=   0.0s\n",
      "[CV 2/5] END ..........................alpha=0;, score=-0.016 total time=   0.0s\n",
      "[CV 3/5] END ..........................alpha=0;, score=-0.077 total time=   0.0s\n",
      "[CV 4/5] END ..........................alpha=0;, score=-0.044 total time=   0.0s\n",
      "[CV 5/5] END ..........................alpha=0;, score=-0.908 total time=   0.0s\n",
      "[CV 1/5] END ..........................alpha=1;, score=-0.576 total time=   0.0s\n",
      "[CV 2/5] END ..........................alpha=1;, score=-0.016 total time=   0.0s\n",
      "[CV 3/5] END ..........................alpha=1;, score=-0.077 total time=   0.0s\n",
      "[CV 4/5] END ..........................alpha=1;, score=-0.044 total time=   0.0s\n",
      "[CV 5/5] END ..........................alpha=1;, score=-0.908 total time=   0.0s\n",
      "[CV 1/5] END .........................alpha=10;, score=-0.576 total time=   0.0s\n",
      "[CV 2/5] END .........................alpha=10;, score=-0.016 total time=   0.0s\n",
      "[CV 3/5] END .........................alpha=10;, score=-0.077 total time=   0.0s\n",
      "[CV 4/5] END .........................alpha=10;, score=-0.044 total time=   0.0s\n",
      "[CV 5/5] END .........................alpha=10;, score=-0.907 total time=   0.0s\n",
      "[CV 1/5] END ........................alpha=100;, score=-0.576 total time=   0.0s\n",
      "[CV 2/5] END ........................alpha=100;, score=-0.016 total time=   0.0s\n",
      "[CV 3/5] END ........................alpha=100;, score=-0.077 total time=   0.0s\n",
      "[CV 4/5] END ........................alpha=100;, score=-0.044 total time=   0.0s\n",
      "[CV 5/5] END ........................alpha=100;, score=-0.907 total time=   0.0s\n",
      "[CV 1/5] END .......................alpha=1000;, score=-0.576 total time=   0.0s\n",
      "[CV 2/5] END .......................alpha=1000;, score=-0.016 total time=   0.0s\n",
      "[CV 3/5] END .......................alpha=1000;, score=-0.077 total time=   0.0s\n",
      "[CV 4/5] END .......................alpha=1000;, score=-0.044 total time=   0.0s\n",
      "[CV 5/5] END .......................alpha=1000;, score=-0.903 total time=   0.0s\n"
     ]
    },
    {
     "data": {
      "text/plain": [
       "GridSearchCV(cv=5, estimator=Ridge(),\n",
       "             param_grid={'alpha': [0, 1, 10, 100, 1000]}, scoring='r2',\n",
       "             verbose=3)"
      ]
     },
     "execution_count": 25,
     "metadata": {},
     "output_type": "execute_result"
    }
   ],
   "source": [
    "ridge = GridSearchCV(Ridge(), param_grid={\"alpha\":[0,1,10,100,1000]},cv=5, scoring=\"r2\", verbose=3)\n",
    "ridge.fit(X,y)"
   ]
  },
  {
   "cell_type": "code",
   "execution_count": 26,
   "id": "f35b0dd5-552d-459d-b8d0-cd9635738172",
   "metadata": {},
   "outputs": [
    {
     "data": {
      "text/plain": [
       "{'mean_fit_time': array([0.00122833, 0.00059605, 0.00047159, 0.00050182, 0.00048938]),\n",
       " 'std_fit_time': array([4.67048524e-04, 1.66089439e-04, 9.70521183e-05, 5.47595939e-05,\n",
       "        7.69035897e-05]),\n",
       " 'mean_score_time': array([0.00021954, 0.00017185, 0.0001586 , 0.00016508, 0.00016775]),\n",
       " 'std_score_time': array([4.69216971e-05, 9.68625177e-06, 9.44859778e-06, 1.27580453e-05,\n",
       "        5.01609120e-06]),\n",
       " 'param_alpha': masked_array(data=[0, 1, 10, 100, 1000],\n",
       "              mask=[False, False, False, False, False],\n",
       "        fill_value='?',\n",
       "             dtype=object),\n",
       " 'params': [{'alpha': 0},\n",
       "  {'alpha': 1},\n",
       "  {'alpha': 10},\n",
       "  {'alpha': 100},\n",
       "  {'alpha': 1000}],\n",
       " 'split0_test_score': array([-0.57622908, -0.5762293 , -0.57623128, -0.576251  , -0.57644464]),\n",
       " 'split1_test_score': array([-0.01581023, -0.01581034, -0.01581134, -0.01582137, -0.01591993]),\n",
       " 'split2_test_score': array([-0.07736194, -0.07736156, -0.07735816, -0.0773243 , -0.07699308]),\n",
       " 'split3_test_score': array([-0.04407648, -0.04407666, -0.04407829, -0.04409456, -0.0442542 ]),\n",
       " 'split4_test_score': array([-0.90752906, -0.90752397, -0.90747822, -0.90702173, -0.90255811]),\n",
       " 'mean_test_score': array([-0.32420136, -0.32420037, -0.32419146, -0.32410259, -0.32323399]),\n",
       " 'std_test_score': array([0.35729369, 0.35729207, 0.35727745, 0.35713159, 0.35570727]),\n",
       " 'rank_test_score': array([5, 4, 3, 2, 1], dtype=int32)}"
      ]
     },
     "execution_count": 26,
     "metadata": {},
     "output_type": "execute_result"
    }
   ],
   "source": [
    "ridge.cv_results_"
   ]
  },
  {
   "cell_type": "markdown",
   "id": "cefb181b-21d9-4630-8c11-62b456d35a38",
   "metadata": {},
   "source": [
    "3. plot the validation r2 against different values of alpha."
   ]
  },
  {
   "cell_type": "code",
   "execution_count": 27,
   "id": "cfe4cdc8-f8c1-4154-98d7-7abdf9ef6055",
   "metadata": {},
   "outputs": [
    {
     "data": {
      "image/png": "[encoded data removed]",
      "text/plain": [
       "<Figure size 432x288 with 1 Axes>"
      ]
     },
     "metadata": {
      "needs_background": "light"
     },
     "output_type": "display_data"
    }
   ],
   "source": [
    "plt.plot(ridge.cv_results_[\"mean_test_score\"])\n",
    "plt.xticks(range(5),[0,1,10,100,1000])\n",
    "plt.xlabel(\"alpha\")\n",
    "plt.ylabel(\"validation r2\")\n",
    "plt.show()"
   ]
  }
 ],
 "metadata": {
  "kernelspec": {
   "display_name": "Python 3 (ipykernel)",
   "language": "python",
   "name": "python3"
  },
  "language_info": {
   "codemirror_mode": {
    "name": "ipython",
    "version": 3
   },
   "file_extension": ".py",
   "mimetype": "text/x-python",
   "name": "python",
   "nbconvert_exporter": "python",
   "pygments_lexer": "ipython3",
   "version": "3.8.8"
  }
 },
 "nbformat": 4,
 "nbformat_minor": 5
}
