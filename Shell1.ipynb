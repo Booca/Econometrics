{
 "cells": [
  {
   "cell_type": "markdown",
   "id": "c6657480-d5a5-4670-9528-a2aaeabb024c",
   "metadata": {},
   "source": [
    "# Basic shell Command 1"
   ]
  },
  {
   "cell_type": "markdown",
   "id": "ca7b7410-5b2e-4443-9c17-1ac9a4b086f6",
   "metadata": {},
   "source": [
    "1. navigate into a folder\n",
    "1. open a folder (file) - open (start in POWERSHELL)\n",
    "1. navigate outof a folder to its parent folder\n",
    "1. list the contents in a folder - ls\n",
    "1. creat a folder - mkdir\n",
    "2. remove an empty folder -rmdir\n",
    "3. where I am - print working directory - pwd\n",
    "4. move or rename a directory(file) - mv\n",
    "5. create a file - touch ($NULL > test in POWERSHELL)\n",
    "7. copy and paste a file - cp\n",
    "8. remove the file - rm"
   ]
  },
  {
   "cell_type": "markdown",
   "id": "70647c03-b6e3-4ca6-861d-1b8b3928facc",
   "metadata": {},
   "source": [
    "### Exercise"
   ]
  },
  {
   "cell_type": "markdown",
   "id": "e6445a82-c82f-4940-9ce3-9375eb70d36e",
   "metadata": {},
   "source": [
    "1. navigate into a desired directory\n",
    "1. Create a folder for this course called ECO301\n",
    "1. Navigate into that directory\n",
    "1. Create a new file called test.txt inside the ECO301 directory\n",
    "1. open test.txt\n",
    "1. copy and paste test.txt to the same place and call it test2.txt\n",
    "1. move test2 to the parent directory of ECO301\n",
    "1. delete test.txt"
   ]
  }
 ],
 "metadata": {
  "kernelspec": {
   "display_name": "Python 3 (ipykernel)",
   "language": "python",
   "name": "python3"
  },
  "language_info": {
   "codemirror_mode": {
    "name": "ipython",
    "version": 3
   },
   "file_extension": ".py",
   "mimetype": "text/x-python",
   "name": "python",
   "nbconvert_exporter": "python",
   "pygments_lexer": "ipython3",
   "version": "3.8.8"
  }
 },
 "nbformat": 4,
 "nbformat_minor": 5
}
