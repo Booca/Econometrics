{
 "cells": [
  {
   "cell_type": "markdown",
   "id": "2407a8e3",
   "metadata": {},
   "source": [
    "# Descriptive Statistics - Numerical Measures"
   ]
  },
  {
   "cell_type": "markdown",
   "id": "6071f0de-023e-4362-ada9-e704ee615f33",
   "metadata": {},
   "source": [
    "## 1. Measures of location (central tendency)"
   ]
  },
  {
   "cell_type": "markdown",
   "id": "1a679f4c-540f-49c7-b337-1e2185f90bd1",
   "metadata": {},
   "source": [
    "### 1.1 Formulas for measures of location\n",
    "### Mean\n",
    "Perhaps the most important measure of location is the **mean**, or average value, for a variable. If the data are for a sample, the mean is denoted by $\\bar{x}$; if the data are for a population, the mean is denoted by the Greek letter $\\mu$.\n",
    "\n",
    "> $$\\bar{x}=\\frac{\\sum x_i}{n}$$\n",
    "\n",
    "### Weighted Mean\n",
    "In the formulas for the sample mean and population mean, each $x_i$ is given equal importance or weight. For example mean can be written as follows:\n",
    "$$\\bar{x}=\\frac{\\sum x_i}{n}=\\frac{1}{n}(x_1)+\\frac{1}{n}(x_2)+...+\\frac{1}{n}(x_n)$$\n",
    "This shows that each observation in the sample is given a weight of 1/n. Although this practice is most common, in some instances the mean is computed by giving each observation a weight that reflects its relative importance. A mean computed in this manner is referred to as a **weighted mean**.\n",
    "\n",
    "> $$\\bar{x}=\\frac{\\sum w_ix_i}{\\sum w_i}$$\n",
    "  where\n",
    "  $w_i$ = weight for observation i.\n",
    "  \n",
    "**Weighted estimators** may be necessary if the goal of the sample analysis is prediction of population behavior. Suppose we have a sample collected by survey of the population of interest (microeconometrics reasearch data are usually collected in such a way), and each household has a probability $\\pi_i$ of appreaing in the sample. If the sampling method is SRS (simple random sampling), $\\pi_i$ would be the same for all household so that it can ignored. But let's assume that, unlike SRS, this probability varies across households.\n",
    "\n",
    "Then the sample mean that give equal weight to all observations will tend to give too much weight to households that appear with high probability in the sample. This bias can be corrected by using the **inverse probability weight**.\n",
    "\n",
    "$$w_i = 1/\\pi_i$$\n",
    "\n",
    "And with the weighted mean, the sample mean would be an unbiased estimator of the population mean."
   ]
  },
  {
   "cell_type": "markdown",
   "id": "ff3765cf-7237-4e19-b994-68c0ad997710",
   "metadata": {},
   "source": [
    "### Geometric Mean\n",
    "The **geometric mean** is a measure of location that is calculated by finding the *nth* root of the product of *n* values. The general formula for the geometric mean, denoted $\\bar{x}_g$, follows.\n",
    "\n",
    "> $$\\bar{x}_g=\\sqrt[n]{\\Pi x_i} = [(x_1)(x_2)...(x_n)]^{1/n}$$\n",
    "\n",
    "Note that $x_i$ in the formula are known as the **growth factor**. It should be a ratio comparing the current value to the value in the previous period. This means that if you starts with some monetary values $p_t$, you should first calculate the growth factor by using $x_t = p_t/p_{t-1}$. \n",
    "\n",
    "Also note that $x_i$ is not the growth rate. Indeed, \n",
    "\n",
    "$$\\text{growth factor}=(1 + \\text{growth rate})$$\n",
    "\n",
    "The geometric mean is often used in analyzing financial data."
   ]
  },
  {
   "cell_type": "markdown",
   "id": "d1479655-48df-4bee-92d2-18e1a50a2062",
   "metadata": {},
   "source": [
    "### Median\n",
    "The **median** is another measure of central location. The median is the value in the middle when the data are arranged in ascending order (smallest value to largest value). With an odd number of observations, the median is the middle value. An even number of observation has no single middle value. In this case, we follow convention and define the median as the average of the values for the middle two observations.\n",
    "\n",
    "Although the mean is the more commonly used measure of central location, in some situations the median is preferred. For example, the median is intact of the existence of extreme values, which provides a better measure of central location than the mean. We can generalize to say that whenever a data set contains extreme values, the median is often the preferred measure of central location."
   ]
  },
  {
   "cell_type": "markdown",
   "id": "39ae8fdf-474a-45e4-a0e7-bad27008b165",
   "metadata": {},
   "source": [
    "### Mode\n",
    "\n",
    "The mode is the value that occurs with greatest frequency\n",
    "\n",
    "### Percentiles\n",
    "\n",
    "A **percentile** or **quantile** provides information about how the data are spread over the interval from the samllest value to the largest value. For a data set containin n observations, the **pth percentile** divides the data into two parts: approximately p% of the observations are less htan the pth percentile, and approximately (100-p)% of the observations are greater than the pth percentile.\n",
    "\n",
    "> Step 1: Sort the data from smallest to largest <br/>\n",
    "Step 2: Calculate the location of the pth percentile $$L_p = (\\frac{p}{100})(n+1)$$ \n",
    "Step 3: If $L_p$ is an integer, the pth percentile is the the number at location $L_p$ <br/>\n",
    "If $L_p$ a fraction, locate the two adjecent numbers $x_l$ and $x_h$, and the pth percentile is $x_l$+fractional part*$(x_h-x_l)$\n",
    "\n",
    "### Quartiles\n",
    "The most commonly used percentiles are the 25th, 50th, and 75th, and they are also called **quartiles**, with\n",
    "\n",
    "> $Q_1\\equiv$ first quartile, or 25th percentile <br/>\n",
    "$Q_2\\equiv$ second quartile, or 50th percentile (also the median) <br/>\n",
    "$Q_3\\equiv$ third quartile, or 75th percentile"
   ]
  },
  {
   "cell_type": "markdown",
   "id": "5bc8d02a-4f56-4b61-8689-5a799e073a42",
   "metadata": {},
   "source": [
    "### 1.2 Python implementation - Numpy \n",
    "Numerical measures can be calculated using the *Numpy* package. "
   ]
  },
  {
   "cell_type": "code",
   "execution_count": 1,
   "id": "c43031f0-09bb-487e-b789-12f2b2f00b3d",
   "metadata": {
    "tags": []
   },
   "outputs": [
    {
     "data": {
      "text/plain": [
       "9"
      ]
     },
     "execution_count": 1,
     "metadata": {},
     "output_type": "execute_result"
    }
   ],
   "source": [
    "import numpy as np\n",
    "x = [1,3,5,7,9]\n",
    "np.mean(x)\n",
    "np.median(x)\n",
    "np.percentile(x, 80)\n",
    "# np.quantile(x,0.8)\n",
    "np.min(x)\n",
    "np.max(x)"
   ]
  },
  {
   "cell_type": "code",
   "execution_count": 2,
   "id": "340a26c1-2203-4ba2-b29f-4f8be1c7ddbd",
   "metadata": {
    "tags": []
   },
   "outputs": [
    {
     "data": {
      "text/plain": [
       "[2, 5, 9, 10, 15]"
      ]
     },
     "execution_count": 2,
     "metadata": {},
     "output_type": "execute_result"
    }
   ],
   "source": [
    "import numpy as np\n",
    "x = [2,5,9,10,15]\n",
    "x"
   ]
  },
  {
   "cell_type": "code",
   "execution_count": 3,
   "id": "4d5c7e25-0660-45f6-8d6d-90fa07d2e0ed",
   "metadata": {
    "tags": []
   },
   "outputs": [
    {
     "data": {
      "text/plain": [
       "8.2"
      ]
     },
     "execution_count": 3,
     "metadata": {},
     "output_type": "execute_result"
    }
   ],
   "source": [
    "#mean\n",
    "np.mean(x)"
   ]
  },
  {
   "cell_type": "code",
   "execution_count": 4,
   "id": "a14ea436-e4c8-4027-bd65-a8aa1eb6d308",
   "metadata": {
    "tags": []
   },
   "outputs": [],
   "source": [
    "w = [1,1,2,3,1]"
   ]
  },
  {
   "cell_type": "code",
   "execution_count": 5,
   "id": "e1d4d377-3126-4ac1-8892-a4a0b56d850c",
   "metadata": {
    "tags": []
   },
   "outputs": [
    {
     "data": {
      "text/plain": [
       "8.75"
      ]
     },
     "execution_count": 5,
     "metadata": {},
     "output_type": "execute_result"
    }
   ],
   "source": [
    "# weighted mean\n",
    "np.average(x,weights=w)"
   ]
  },
  {
   "cell_type": "code",
   "execution_count": 6,
   "id": "94384b35-0dfa-425e-8b12-b7220b72ab4a",
   "metadata": {
    "tags": []
   },
   "outputs": [
    {
     "data": {
      "text/plain": [
       "1.0218153262110616"
      ]
     },
     "execution_count": 6,
     "metadata": {},
     "output_type": "execute_result"
    }
   ],
   "source": [
    "# geometric mean\n",
    "# returns (growth rate)\n",
    "r = [0.02,0.03,-0.01,0.02,0.05]\n",
    "\n",
    "# growth factor\n",
    "# r + 1 operation is not defined for list, but it is defined for numpy.array\n",
    "gf = np.array(r) + 1\n",
    "\n",
    "# geometric mean of gf\n",
    "np.prod(gf)**(1/len(gf))"
   ]
  },
  {
   "cell_type": "code",
   "execution_count": 7,
   "id": "d23f89a3-e89e-4abd-97c8-562a10ca3d56",
   "metadata": {
    "tags": []
   },
   "outputs": [
    {
     "data": {
      "text/plain": [
       "9.0"
      ]
     },
     "execution_count": 7,
     "metadata": {},
     "output_type": "execute_result"
    }
   ],
   "source": [
    "# median\n",
    "np.median(x)"
   ]
  },
  {
   "cell_type": "code",
   "execution_count": 8,
   "id": "9f702f4d-fd22-4a56-963b-1e210745683a",
   "metadata": {
    "tags": []
   },
   "outputs": [
    {
     "name": "stdout",
     "output_type": "stream",
     "text": [
      "[2, 5, 9, 10, 15]\n"
     ]
    },
    {
     "data": {
      "text/plain": [
       "11.0"
      ]
     },
     "execution_count": 8,
     "metadata": {},
     "output_type": "execute_result"
    }
   ],
   "source": [
    "# percentile - note this is the inclusive percentile, not the same as our formula\n",
    "print(x)\n",
    "np.percentile(x, q = 80)"
   ]
  },
  {
   "cell_type": "markdown",
   "id": "4c552512-52fc-4311-8dfe-1a18acdef46d",
   "metadata": {},
   "source": [
    "## 2 Measures of variability (risk, dispersion)"
   ]
  },
  {
   "cell_type": "markdown",
   "id": "0f8e8197-2c07-45cd-82ee-8256e42bdebb",
   "metadata": {},
   "source": [
    "### 2.1 Formulas\n",
    "### Range\n",
    "**Range** is the simplest measure of variability.\n",
    "> Range = Largest value - Smallest value\n",
    "\n",
    "### Interquartile Range\n",
    "A measure of variability that overcomes the dependency on extreme vaules is the **interquartile range (IQR)**\n",
    "> IQR = Q3 - Q1\n",
    "\n",
    "### Sample Variance\n",
    "The **variance** is a measure of variability that utilizes all the data. It measures the average deviation from the mean.\n",
    "\n",
    "> $$s^2=\\frac{\\sum (x_i-\\bar{x})^2}{n-1}$$\n",
    "\n",
    "Note that the denominator is n-1, so that $s^2$ provides an unbiased estimate of the population variance.\n",
    "\n",
    "### Sample standard deviation\n",
    "The standard deviation is defined to be the posiie square root of the variance, so that it is measured in the same units as the data.\n",
    "\n",
    "> $$s = \\sqrt{s^2}$$\n",
    "\n",
    "### Coefficient of Variation\n",
    "In some situations we may be interested in a descriptive statistic that indicates how large the standard deviation is relative to the mean. This measure is called hte coefficient of variation and is usually expressed as a percentage.\n",
    "\n",
    "> $$CV = (\\frac{s}{\\bar{x}}*100)\\%$$"
   ]
  },
  {
   "cell_type": "markdown",
   "id": "325f58f3-a5f0-479b-81ae-b58a43724420",
   "metadata": {},
   "source": [
    "### 2.2 Implementation using numpy"
   ]
  },
  {
   "cell_type": "code",
   "execution_count": 9,
   "id": "c508e4cf-dfb4-4dd2-8bbb-dd094aff69ad",
   "metadata": {},
   "outputs": [
    {
     "data": {
      "text/plain": [
       "13"
      ]
     },
     "execution_count": 9,
     "metadata": {},
     "output_type": "execute_result"
    }
   ],
   "source": [
    "np.max(x)-np.min(x)"
   ]
  },
  {
   "cell_type": "code",
   "execution_count": 10,
   "id": "5bb91d10-110f-4b16-b17c-bdb4863f4046",
   "metadata": {},
   "outputs": [
    {
     "data": {
      "text/plain": [
       "24.7"
      ]
     },
     "execution_count": 10,
     "metadata": {},
     "output_type": "execute_result"
    }
   ],
   "source": [
    "np.var(x, ddof=1)"
   ]
  },
  {
   "cell_type": "code",
   "execution_count": 11,
   "id": "65df6639-635a-4170-ac26-0eebd820f920",
   "metadata": {},
   "outputs": [
    {
     "data": {
      "text/plain": [
       "4.969909455915671"
      ]
     },
     "execution_count": 11,
     "metadata": {},
     "output_type": "execute_result"
    }
   ],
   "source": [
    "np.std(x, ddof=1)"
   ]
  },
  {
   "cell_type": "code",
   "execution_count": 12,
   "id": "448663ea-4eb2-44dd-8843-7179140479c4",
   "metadata": {
    "tags": []
   },
   "outputs": [
    {
     "name": "stdout",
     "output_type": "stream",
     "text": [
      "[2, 5, 9, 10, 15]\n"
     ]
    },
    {
     "data": {
      "text/plain": [
       "13"
      ]
     },
     "execution_count": 12,
     "metadata": {},
     "output_type": "execute_result"
    }
   ],
   "source": [
    "# Range\n",
    "print(x)\n",
    "np.max(x)-np.min(x)"
   ]
  },
  {
   "cell_type": "code",
   "execution_count": 13,
   "id": "49c962e5-2d88-4134-bf9b-c6f9ca4e79d5",
   "metadata": {
    "tags": []
   },
   "outputs": [
    {
     "data": {
      "text/plain": [
       "5.0"
      ]
     },
     "execution_count": 13,
     "metadata": {},
     "output_type": "execute_result"
    }
   ],
   "source": [
    "# IQR\n",
    "np.percentile(x,75) - np.percentile(x,25)"
   ]
  },
  {
   "cell_type": "code",
   "execution_count": 14,
   "id": "be3eb018-6740-4a9f-8501-2c486a08dda7",
   "metadata": {
    "tags": []
   },
   "outputs": [
    {
     "data": {
      "text/plain": [
       "24.7"
      ]
     },
     "execution_count": 14,
     "metadata": {},
     "output_type": "execute_result"
    }
   ],
   "source": [
    "# Sample Variance\n",
    "np.var(x, ddof=1)"
   ]
  },
  {
   "cell_type": "code",
   "execution_count": 15,
   "id": "dd004e57-224d-4875-8412-645e753ad899",
   "metadata": {
    "tags": []
   },
   "outputs": [
    {
     "data": {
      "text/plain": [
       "4.969909455915671"
      ]
     },
     "execution_count": 15,
     "metadata": {},
     "output_type": "execute_result"
    }
   ],
   "source": [
    "# Sample standard deviation\n",
    "np.std(x, ddof=1)"
   ]
  },
  {
   "cell_type": "code",
   "execution_count": 16,
   "id": "9321c809-9e43-4f33-9cf0-5ba64bfa2781",
   "metadata": {
    "tags": []
   },
   "outputs": [
    {
     "data": {
      "text/plain": [
       "0.6060865190141063"
      ]
     },
     "execution_count": 16,
     "metadata": {},
     "output_type": "execute_result"
    }
   ],
   "source": [
    "# Sample coeffiient of variation\n",
    "np.std(x, ddof=1)/np.mean(x)"
   ]
  },
  {
   "cell_type": "markdown",
   "id": "c1b25ba8-9e6e-4be0-93e6-f7044584f540",
   "metadata": {},
   "source": [
    "> !!!! If x contains missing values, add a \"nan\" prefix to each function name. e.g. np.nanstd()"
   ]
  },
  {
   "cell_type": "code",
   "execution_count": 17,
   "id": "6fc9933d-bf48-40f7-8498-1f681588b86c",
   "metadata": {},
   "outputs": [
    {
     "data": {
      "text/plain": [
       "2.0"
      ]
     },
     "execution_count": 17,
     "metadata": {},
     "output_type": "execute_result"
    }
   ],
   "source": [
    "x2=[1,2,3,np.nan]\n",
    "np.nanmean(x2)"
   ]
  },
  {
   "cell_type": "markdown",
   "id": "3b15b152",
   "metadata": {},
   "source": [
    "## 3 Measures of Distribution Shape, relative location, and detecting outliers\n"
   ]
  },
  {
   "cell_type": "markdown",
   "id": "017c1260-f244-4b0f-8cbc-ef756d836829",
   "metadata": {},
   "source": [
    "### 3.1 Formulas\n",
    "### Skewness\n",
    "Skewness is one measure of the distribution shape, and is motivated by the 3rd moment of a random variable. For symmetrically distributed data, the skewness should be about 0. A skewness value > 0 means that there is more weight in the left tail of the distribution, and thinner right tail.\n",
    "\n",
    "![skewness and kurtosis](images/skew.jpg)\n"
   ]
  },
  {
   "cell_type": "markdown",
   "id": "0f6ae49a-7c1c-4c4a-92ea-f8eefef9e346",
   "metadata": {},
   "source": [
    "### Kurtosis\n",
    "If we climb up the moment ladder, kurtosis is the 4th moment of a random variable. And we can use this numerical value to measure the tailedness of a distribution. Normal distribution has a kurtosis value of 3, therefore **3 is used as a benchmark for the kurtosis measure**. Distributions with a kurtosis greater than 3 is said to be *leptokurtic*, with a higher peak, and more outliers . Distributions with kurtosis less than 3 are said to be *platykurtic*. It means the distribution is more flat, and produces fewer and less extreme outliers than does the normal distribution. "
   ]
  },
  {
   "cell_type": "markdown",
   "id": "e7f850b9-586b-4cb5-986c-5d8b03a27153",
   "metadata": {},
   "source": [
    "### Z-score\n",
    "The process of computing the z-score of each data point is also known as standardization. \n",
    "$$z_i = \\frac{x_i-\\bar{x}}{s}$$"
   ]
  },
  {
   "cell_type": "markdown",
   "id": "fe6edf14-040a-48b3-ad27-1f5e72b62699",
   "metadata": {},
   "source": [
    "This transformation eliminated the unit of measure and z-score represent how many standard deviation a value is from the mean.\n",
    "Standardizing the independent variables is a simple method to reduce multicollinearity that is produced by higher-order terms, we will discuss the details about multicollinearity in later chapters."
   ]
  },
  {
   "cell_type": "markdown",
   "id": "0b098fa7-6e8a-4da9-bae7-9c42c5dc3f99",
   "metadata": {},
   "source": [
    "### Detecting outlier\n",
    "The definition of outlier can be quite discretionary depending on the purpose of analysis. But here are two commonly used rules.\n",
    "1. When the absolute value of z-score is greater than 3. \n",
    "2. When the value is less than $(Q_1 - 1.5 IQR)$ or greater than $(Q_3+1.5IQR)$\n",
    "\n",
    "The second rule is also used in creating the box plot.\n",
    "\n",
    "### Box plot\n",
    "A box plot is a graphical display of all three quartiles, upper and lower bounds defined as rule no.2, and the outliers.\n",
    "![box plot](images/boxplot.png)"
   ]
  },
  {
   "cell_type": "markdown",
   "id": "6539ca55-d05d-478b-9dd6-37e3aa39a36a",
   "metadata": {},
   "source": [
    "### 3.2 Python implementation"
   ]
  },
  {
   "cell_type": "code",
   "execution_count": 18,
   "id": "f0541a6d-1de2-450c-a3fc-bd854299e9ea",
   "metadata": {
    "tags": []
   },
   "outputs": [
    {
     "data": {
      "text/plain": [
       "0.16862614653158514"
      ]
     },
     "execution_count": 18,
     "metadata": {},
     "output_type": "execute_result"
    }
   ],
   "source": [
    "import scipy.stats as stats\n",
    "\n",
    "# Skewness\n",
    "stats.skew(x, bias=False) # For sample skewness\n",
    "# nan_policy {‘propagate’, ‘raise’, ‘omit’}, optional"
   ]
  },
  {
   "cell_type": "code",
   "execution_count": 19,
   "id": "97dc34e7-5ea4-45b1-a27c-c21149643bfe",
   "metadata": {
    "tags": []
   },
   "outputs": [
    {
     "data": {
      "text/plain": [
       "-0.3545378550705629"
      ]
     },
     "execution_count": 19,
     "metadata": {},
     "output_type": "execute_result"
    }
   ],
   "source": [
    "# Kurtosis\n",
    "stats.kurtosis(x, bias=False)"
   ]
  },
  {
   "cell_type": "markdown",
   "id": "1a35a213-a46c-4793-8998-2bf6cd4c9916",
   "metadata": {},
   "source": [
    "> Use \"round(x,2)\" to round the result to 2 decimal places"
   ]
  },
  {
   "cell_type": "code",
   "execution_count": 20,
   "id": "bed54ec4-7a34-4c59-8cf0-5bb2863fb520",
   "metadata": {
    "tags": []
   },
   "outputs": [
    {
     "data": {
      "text/plain": [
       "array([-1.24750764, -0.64387491,  0.16096873,  0.36217964,  1.36823418])"
      ]
     },
     "execution_count": 20,
     "metadata": {},
     "output_type": "execute_result"
    }
   ],
   "source": [
    "# Z score\n",
    "stats.zscore(x, ddof=1)"
   ]
  },
  {
   "cell_type": "code",
   "execution_count": 21,
   "id": "0ac76854-941e-41c5-a6d8-5045eaffa1b9",
   "metadata": {
    "tags": []
   },
   "outputs": [
    {
     "data": {
      "image/png": "[encoded data removed]",
      "text/plain": [
       "<Figure size 432x288 with 1 Axes>"
      ]
     },
     "metadata": {
      "needs_background": "light"
     },
     "output_type": "display_data"
    }
   ],
   "source": [
    "# Boxplot\n",
    "import matplotlib.pyplot as plt\n",
    "plt.boxplot(x)\n",
    "plt.show()"
   ]
  },
  {
   "cell_type": "markdown",
   "id": "eee81d8b-97ac-4a32-b676-7a36dd856600",
   "metadata": {},
   "source": [
    "## 4 Descriptive statistics for pandas.DataFrame\n"
   ]
  },
  {
   "cell_type": "markdown",
   "id": "3c5ca9de-ed35-4bee-9087-5b5e0567dc67",
   "metadata": {},
   "source": [
    "In the exploration stage, you may want to display numerical measures for each variable. To do this, you can use the `DataFrame.describe()` function."
   ]
  },
  {
   "cell_type": "code",
   "execution_count": 22,
   "id": "09c53beb-d1cb-4dab-8197-325590d70aaa",
   "metadata": {
    "tags": []
   },
   "outputs": [],
   "source": [
    "import wooldridge as woo\n",
    "df = woo.data(\"wage1\")"
   ]
  },
  {
   "cell_type": "code",
   "execution_count": 23,
   "id": "75752361-e643-420e-a5f5-8fc70c7654c9",
   "metadata": {
    "tags": []
   },
   "outputs": [
    {
     "data": {
      "text/html": [
       "<div>\n",
       "<style scoped>\n",
       "    .dataframe tbody tr th:only-of-type {\n",
       "        vertical-align: middle;\n",
       "    }\n",
       "\n",
       "    .dataframe tbody tr th {\n",
       "        vertical-align: top;\n",
       "    }\n",
       "\n",
       "    .dataframe thead th {\n",
       "        text-align: right;\n",
       "    }\n",
       "</style>\n",
       "<table border=\"1\" class=\"dataframe\">\n",
       "  <thead>\n",
       "    <tr style=\"text-align: right;\">\n",
       "      <th></th>\n",
       "      <th>wage</th>\n",
       "      <th>educ</th>\n",
       "      <th>exper</th>\n",
       "      <th>tenure</th>\n",
       "      <th>nonwhite</th>\n",
       "      <th>female</th>\n",
       "      <th>married</th>\n",
       "      <th>numdep</th>\n",
       "      <th>smsa</th>\n",
       "      <th>northcen</th>\n",
       "      <th>...</th>\n",
       "      <th>trcommpu</th>\n",
       "      <th>trade</th>\n",
       "      <th>services</th>\n",
       "      <th>profserv</th>\n",
       "      <th>profocc</th>\n",
       "      <th>clerocc</th>\n",
       "      <th>servocc</th>\n",
       "      <th>lwage</th>\n",
       "      <th>expersq</th>\n",
       "      <th>tenursq</th>\n",
       "    </tr>\n",
       "  </thead>\n",
       "  <tbody>\n",
       "    <tr>\n",
       "      <th>count</th>\n",
       "      <td>526.000</td>\n",
       "      <td>526.000</td>\n",
       "      <td>526.000</td>\n",
       "      <td>526.000</td>\n",
       "      <td>526.000</td>\n",
       "      <td>526.000</td>\n",
       "      <td>526.000</td>\n",
       "      <td>526.000</td>\n",
       "      <td>526.000</td>\n",
       "      <td>526.000</td>\n",
       "      <td>...</td>\n",
       "      <td>526.000</td>\n",
       "      <td>526.000</td>\n",
       "      <td>526.000</td>\n",
       "      <td>526.000</td>\n",
       "      <td>526.000</td>\n",
       "      <td>526.000</td>\n",
       "      <td>526.000</td>\n",
       "      <td>526.000</td>\n",
       "      <td>526.000</td>\n",
       "      <td>526.000</td>\n",
       "    </tr>\n",
       "    <tr>\n",
       "      <th>mean</th>\n",
       "      <td>5.896</td>\n",
       "      <td>12.563</td>\n",
       "      <td>17.017</td>\n",
       "      <td>5.105</td>\n",
       "      <td>0.103</td>\n",
       "      <td>0.479</td>\n",
       "      <td>0.608</td>\n",
       "      <td>1.044</td>\n",
       "      <td>0.722</td>\n",
       "      <td>0.251</td>\n",
       "      <td>...</td>\n",
       "      <td>0.044</td>\n",
       "      <td>0.287</td>\n",
       "      <td>0.101</td>\n",
       "      <td>0.259</td>\n",
       "      <td>0.367</td>\n",
       "      <td>0.167</td>\n",
       "      <td>0.141</td>\n",
       "      <td>1.623</td>\n",
       "      <td>473.435</td>\n",
       "      <td>78.150</td>\n",
       "    </tr>\n",
       "    <tr>\n",
       "      <th>std</th>\n",
       "      <td>3.693</td>\n",
       "      <td>2.769</td>\n",
       "      <td>13.572</td>\n",
       "      <td>7.224</td>\n",
       "      <td>0.304</td>\n",
       "      <td>0.500</td>\n",
       "      <td>0.489</td>\n",
       "      <td>1.262</td>\n",
       "      <td>0.448</td>\n",
       "      <td>0.434</td>\n",
       "      <td>...</td>\n",
       "      <td>0.205</td>\n",
       "      <td>0.453</td>\n",
       "      <td>0.301</td>\n",
       "      <td>0.438</td>\n",
       "      <td>0.482</td>\n",
       "      <td>0.374</td>\n",
       "      <td>0.348</td>\n",
       "      <td>0.532</td>\n",
       "      <td>616.045</td>\n",
       "      <td>199.435</td>\n",
       "    </tr>\n",
       "    <tr>\n",
       "      <th>min</th>\n",
       "      <td>0.530</td>\n",
       "      <td>0.000</td>\n",
       "      <td>1.000</td>\n",
       "      <td>0.000</td>\n",
       "      <td>0.000</td>\n",
       "      <td>0.000</td>\n",
       "      <td>0.000</td>\n",
       "      <td>0.000</td>\n",
       "      <td>0.000</td>\n",
       "      <td>0.000</td>\n",
       "      <td>...</td>\n",
       "      <td>0.000</td>\n",
       "      <td>0.000</td>\n",
       "      <td>0.000</td>\n",
       "      <td>0.000</td>\n",
       "      <td>0.000</td>\n",
       "      <td>0.000</td>\n",
       "      <td>0.000</td>\n",
       "      <td>-0.635</td>\n",
       "      <td>1.000</td>\n",
       "      <td>0.000</td>\n",
       "    </tr>\n",
       "    <tr>\n",
       "      <th>25%</th>\n",
       "      <td>3.330</td>\n",
       "      <td>12.000</td>\n",
       "      <td>5.000</td>\n",
       "      <td>0.000</td>\n",
       "      <td>0.000</td>\n",
       "      <td>0.000</td>\n",
       "      <td>0.000</td>\n",
       "      <td>0.000</td>\n",
       "      <td>0.000</td>\n",
       "      <td>0.000</td>\n",
       "      <td>...</td>\n",
       "      <td>0.000</td>\n",
       "      <td>0.000</td>\n",
       "      <td>0.000</td>\n",
       "      <td>0.000</td>\n",
       "      <td>0.000</td>\n",
       "      <td>0.000</td>\n",
       "      <td>0.000</td>\n",
       "      <td>1.203</td>\n",
       "      <td>25.000</td>\n",
       "      <td>0.000</td>\n",
       "    </tr>\n",
       "    <tr>\n",
       "      <th>50%</th>\n",
       "      <td>4.650</td>\n",
       "      <td>12.000</td>\n",
       "      <td>13.500</td>\n",
       "      <td>2.000</td>\n",
       "      <td>0.000</td>\n",
       "      <td>0.000</td>\n",
       "      <td>1.000</td>\n",
       "      <td>1.000</td>\n",
       "      <td>1.000</td>\n",
       "      <td>0.000</td>\n",
       "      <td>...</td>\n",
       "      <td>0.000</td>\n",
       "      <td>0.000</td>\n",
       "      <td>0.000</td>\n",
       "      <td>0.000</td>\n",
       "      <td>0.000</td>\n",
       "      <td>0.000</td>\n",
       "      <td>0.000</td>\n",
       "      <td>1.537</td>\n",
       "      <td>182.500</td>\n",
       "      <td>4.000</td>\n",
       "    </tr>\n",
       "    <tr>\n",
       "      <th>75%</th>\n",
       "      <td>6.880</td>\n",
       "      <td>14.000</td>\n",
       "      <td>26.000</td>\n",
       "      <td>7.000</td>\n",
       "      <td>0.000</td>\n",
       "      <td>1.000</td>\n",
       "      <td>1.000</td>\n",
       "      <td>2.000</td>\n",
       "      <td>1.000</td>\n",
       "      <td>0.750</td>\n",
       "      <td>...</td>\n",
       "      <td>0.000</td>\n",
       "      <td>1.000</td>\n",
       "      <td>0.000</td>\n",
       "      <td>1.000</td>\n",
       "      <td>1.000</td>\n",
       "      <td>0.000</td>\n",
       "      <td>0.000</td>\n",
       "      <td>1.929</td>\n",
       "      <td>676.000</td>\n",
       "      <td>49.000</td>\n",
       "    </tr>\n",
       "    <tr>\n",
       "      <th>max</th>\n",
       "      <td>24.980</td>\n",
       "      <td>18.000</td>\n",
       "      <td>51.000</td>\n",
       "      <td>44.000</td>\n",
       "      <td>1.000</td>\n",
       "      <td>1.000</td>\n",
       "      <td>1.000</td>\n",
       "      <td>6.000</td>\n",
       "      <td>1.000</td>\n",
       "      <td>1.000</td>\n",
       "      <td>...</td>\n",
       "      <td>1.000</td>\n",
       "      <td>1.000</td>\n",
       "      <td>1.000</td>\n",
       "      <td>1.000</td>\n",
       "      <td>1.000</td>\n",
       "      <td>1.000</td>\n",
       "      <td>1.000</td>\n",
       "      <td>3.218</td>\n",
       "      <td>2601.000</td>\n",
       "      <td>1936.000</td>\n",
       "    </tr>\n",
       "  </tbody>\n",
       "</table>\n",
       "<p>8 rows × 24 columns</p>\n",
       "</div>"
      ],
      "text/plain": [
       "          wage     educ    exper   tenure  nonwhite   female  married  \\\n",
       "count  526.000  526.000  526.000  526.000   526.000  526.000  526.000   \n",
       "mean     5.896   12.563   17.017    5.105     0.103    0.479    0.608   \n",
       "std      3.693    2.769   13.572    7.224     0.304    0.500    0.489   \n",
       "min      0.530    0.000    1.000    0.000     0.000    0.000    0.000   \n",
       "25%      3.330   12.000    5.000    0.000     0.000    0.000    0.000   \n",
       "50%      4.650   12.000   13.500    2.000     0.000    0.000    1.000   \n",
       "75%      6.880   14.000   26.000    7.000     0.000    1.000    1.000   \n",
       "max     24.980   18.000   51.000   44.000     1.000    1.000    1.000   \n",
       "\n",
       "        numdep     smsa  northcen  ...  trcommpu    trade  services  profserv  \\\n",
       "count  526.000  526.000   526.000  ...   526.000  526.000   526.000   526.000   \n",
       "mean     1.044    0.722     0.251  ...     0.044    0.287     0.101     0.259   \n",
       "std      1.262    0.448     0.434  ...     0.205    0.453     0.301     0.438   \n",
       "min      0.000    0.000     0.000  ...     0.000    0.000     0.000     0.000   \n",
       "25%      0.000    0.000     0.000  ...     0.000    0.000     0.000     0.000   \n",
       "50%      1.000    1.000     0.000  ...     0.000    0.000     0.000     0.000   \n",
       "75%      2.000    1.000     0.750  ...     0.000    1.000     0.000     1.000   \n",
       "max      6.000    1.000     1.000  ...     1.000    1.000     1.000     1.000   \n",
       "\n",
       "       profocc  clerocc  servocc    lwage   expersq   tenursq  \n",
       "count  526.000  526.000  526.000  526.000   526.000   526.000  \n",
       "mean     0.367    0.167    0.141    1.623   473.435    78.150  \n",
       "std      0.482    0.374    0.348    0.532   616.045   199.435  \n",
       "min      0.000    0.000    0.000   -0.635     1.000     0.000  \n",
       "25%      0.000    0.000    0.000    1.203    25.000     0.000  \n",
       "50%      0.000    0.000    0.000    1.537   182.500     4.000  \n",
       "75%      1.000    0.000    0.000    1.929   676.000    49.000  \n",
       "max      1.000    1.000    1.000    3.218  2601.000  1936.000  \n",
       "\n",
       "[8 rows x 24 columns]"
      ]
     },
     "execution_count": 23,
     "metadata": {},
     "output_type": "execute_result"
    }
   ],
   "source": [
    "import pandas as pd\n",
    "pd.set_option(\"precision\", 3)\n",
    "df.describe()"
   ]
  },
  {
   "cell_type": "code",
   "execution_count": 24,
   "id": "f5990f17-97a0-44a9-a30b-fed7d2306eb0",
   "metadata": {},
   "outputs": [
    {
     "data": {
      "text/html": [
       "<div>\n",
       "<style scoped>\n",
       "    .dataframe tbody tr th:only-of-type {\n",
       "        vertical-align: middle;\n",
       "    }\n",
       "\n",
       "    .dataframe tbody tr th {\n",
       "        vertical-align: top;\n",
       "    }\n",
       "\n",
       "    .dataframe thead th {\n",
       "        text-align: right;\n",
       "    }\n",
       "</style>\n",
       "<table border=\"1\" class=\"dataframe\">\n",
       "  <thead>\n",
       "    <tr style=\"text-align: right;\">\n",
       "      <th></th>\n",
       "      <th>wage</th>\n",
       "      <th>educ</th>\n",
       "      <th>exper</th>\n",
       "      <th>tenure</th>\n",
       "      <th>nonwhite</th>\n",
       "      <th>female</th>\n",
       "      <th>married</th>\n",
       "      <th>numdep</th>\n",
       "      <th>smsa</th>\n",
       "      <th>northcen</th>\n",
       "      <th>...</th>\n",
       "      <th>trcommpu</th>\n",
       "      <th>trade</th>\n",
       "      <th>services</th>\n",
       "      <th>profserv</th>\n",
       "      <th>profocc</th>\n",
       "      <th>clerocc</th>\n",
       "      <th>servocc</th>\n",
       "      <th>lwage</th>\n",
       "      <th>expersq</th>\n",
       "      <th>tenursq</th>\n",
       "    </tr>\n",
       "  </thead>\n",
       "  <tbody>\n",
       "    <tr>\n",
       "      <th>0</th>\n",
       "      <td>3.10</td>\n",
       "      <td>11</td>\n",
       "      <td>2</td>\n",
       "      <td>0</td>\n",
       "      <td>0</td>\n",
       "      <td>1</td>\n",
       "      <td>0</td>\n",
       "      <td>2</td>\n",
       "      <td>1</td>\n",
       "      <td>0</td>\n",
       "      <td>...</td>\n",
       "      <td>0</td>\n",
       "      <td>0</td>\n",
       "      <td>0</td>\n",
       "      <td>0</td>\n",
       "      <td>0</td>\n",
       "      <td>0</td>\n",
       "      <td>0</td>\n",
       "      <td>1.131</td>\n",
       "      <td>4</td>\n",
       "      <td>0</td>\n",
       "    </tr>\n",
       "    <tr>\n",
       "      <th>1</th>\n",
       "      <td>3.24</td>\n",
       "      <td>12</td>\n",
       "      <td>22</td>\n",
       "      <td>2</td>\n",
       "      <td>0</td>\n",
       "      <td>1</td>\n",
       "      <td>1</td>\n",
       "      <td>3</td>\n",
       "      <td>1</td>\n",
       "      <td>0</td>\n",
       "      <td>...</td>\n",
       "      <td>0</td>\n",
       "      <td>0</td>\n",
       "      <td>1</td>\n",
       "      <td>0</td>\n",
       "      <td>0</td>\n",
       "      <td>0</td>\n",
       "      <td>1</td>\n",
       "      <td>1.176</td>\n",
       "      <td>484</td>\n",
       "      <td>4</td>\n",
       "    </tr>\n",
       "    <tr>\n",
       "      <th>2</th>\n",
       "      <td>3.00</td>\n",
       "      <td>11</td>\n",
       "      <td>2</td>\n",
       "      <td>0</td>\n",
       "      <td>0</td>\n",
       "      <td>0</td>\n",
       "      <td>0</td>\n",
       "      <td>2</td>\n",
       "      <td>0</td>\n",
       "      <td>0</td>\n",
       "      <td>...</td>\n",
       "      <td>0</td>\n",
       "      <td>1</td>\n",
       "      <td>0</td>\n",
       "      <td>0</td>\n",
       "      <td>0</td>\n",
       "      <td>0</td>\n",
       "      <td>0</td>\n",
       "      <td>1.099</td>\n",
       "      <td>4</td>\n",
       "      <td>0</td>\n",
       "    </tr>\n",
       "    <tr>\n",
       "      <th>3</th>\n",
       "      <td>6.00</td>\n",
       "      <td>8</td>\n",
       "      <td>44</td>\n",
       "      <td>28</td>\n",
       "      <td>0</td>\n",
       "      <td>0</td>\n",
       "      <td>1</td>\n",
       "      <td>0</td>\n",
       "      <td>1</td>\n",
       "      <td>0</td>\n",
       "      <td>...</td>\n",
       "      <td>0</td>\n",
       "      <td>0</td>\n",
       "      <td>0</td>\n",
       "      <td>0</td>\n",
       "      <td>0</td>\n",
       "      <td>1</td>\n",
       "      <td>0</td>\n",
       "      <td>1.792</td>\n",
       "      <td>1936</td>\n",
       "      <td>784</td>\n",
       "    </tr>\n",
       "    <tr>\n",
       "      <th>4</th>\n",
       "      <td>5.30</td>\n",
       "      <td>12</td>\n",
       "      <td>7</td>\n",
       "      <td>2</td>\n",
       "      <td>0</td>\n",
       "      <td>0</td>\n",
       "      <td>1</td>\n",
       "      <td>1</td>\n",
       "      <td>0</td>\n",
       "      <td>0</td>\n",
       "      <td>...</td>\n",
       "      <td>0</td>\n",
       "      <td>0</td>\n",
       "      <td>0</td>\n",
       "      <td>0</td>\n",
       "      <td>0</td>\n",
       "      <td>0</td>\n",
       "      <td>0</td>\n",
       "      <td>1.668</td>\n",
       "      <td>49</td>\n",
       "      <td>4</td>\n",
       "    </tr>\n",
       "    <tr>\n",
       "      <th>...</th>\n",
       "      <td>...</td>\n",
       "      <td>...</td>\n",
       "      <td>...</td>\n",
       "      <td>...</td>\n",
       "      <td>...</td>\n",
       "      <td>...</td>\n",
       "      <td>...</td>\n",
       "      <td>...</td>\n",
       "      <td>...</td>\n",
       "      <td>...</td>\n",
       "      <td>...</td>\n",
       "      <td>...</td>\n",
       "      <td>...</td>\n",
       "      <td>...</td>\n",
       "      <td>...</td>\n",
       "      <td>...</td>\n",
       "      <td>...</td>\n",
       "      <td>...</td>\n",
       "      <td>...</td>\n",
       "      <td>...</td>\n",
       "      <td>...</td>\n",
       "    </tr>\n",
       "    <tr>\n",
       "      <th>521</th>\n",
       "      <td>15.00</td>\n",
       "      <td>16</td>\n",
       "      <td>14</td>\n",
       "      <td>2</td>\n",
       "      <td>0</td>\n",
       "      <td>1</td>\n",
       "      <td>1</td>\n",
       "      <td>2</td>\n",
       "      <td>0</td>\n",
       "      <td>0</td>\n",
       "      <td>...</td>\n",
       "      <td>0</td>\n",
       "      <td>0</td>\n",
       "      <td>0</td>\n",
       "      <td>1</td>\n",
       "      <td>1</td>\n",
       "      <td>0</td>\n",
       "      <td>0</td>\n",
       "      <td>2.708</td>\n",
       "      <td>196</td>\n",
       "      <td>4</td>\n",
       "    </tr>\n",
       "    <tr>\n",
       "      <th>522</th>\n",
       "      <td>2.27</td>\n",
       "      <td>10</td>\n",
       "      <td>2</td>\n",
       "      <td>0</td>\n",
       "      <td>0</td>\n",
       "      <td>1</td>\n",
       "      <td>0</td>\n",
       "      <td>3</td>\n",
       "      <td>0</td>\n",
       "      <td>0</td>\n",
       "      <td>...</td>\n",
       "      <td>0</td>\n",
       "      <td>1</td>\n",
       "      <td>0</td>\n",
       "      <td>0</td>\n",
       "      <td>1</td>\n",
       "      <td>0</td>\n",
       "      <td>0</td>\n",
       "      <td>0.820</td>\n",
       "      <td>4</td>\n",
       "      <td>0</td>\n",
       "    </tr>\n",
       "    <tr>\n",
       "      <th>523</th>\n",
       "      <td>4.67</td>\n",
       "      <td>15</td>\n",
       "      <td>13</td>\n",
       "      <td>18</td>\n",
       "      <td>0</td>\n",
       "      <td>0</td>\n",
       "      <td>1</td>\n",
       "      <td>3</td>\n",
       "      <td>0</td>\n",
       "      <td>0</td>\n",
       "      <td>...</td>\n",
       "      <td>0</td>\n",
       "      <td>0</td>\n",
       "      <td>0</td>\n",
       "      <td>0</td>\n",
       "      <td>1</td>\n",
       "      <td>0</td>\n",
       "      <td>0</td>\n",
       "      <td>1.541</td>\n",
       "      <td>169</td>\n",
       "      <td>324</td>\n",
       "    </tr>\n",
       "    <tr>\n",
       "      <th>524</th>\n",
       "      <td>11.56</td>\n",
       "      <td>16</td>\n",
       "      <td>5</td>\n",
       "      <td>1</td>\n",
       "      <td>0</td>\n",
       "      <td>0</td>\n",
       "      <td>1</td>\n",
       "      <td>0</td>\n",
       "      <td>0</td>\n",
       "      <td>0</td>\n",
       "      <td>...</td>\n",
       "      <td>0</td>\n",
       "      <td>0</td>\n",
       "      <td>0</td>\n",
       "      <td>0</td>\n",
       "      <td>0</td>\n",
       "      <td>0</td>\n",
       "      <td>0</td>\n",
       "      <td>2.448</td>\n",
       "      <td>25</td>\n",
       "      <td>1</td>\n",
       "    </tr>\n",
       "    <tr>\n",
       "      <th>525</th>\n",
       "      <td>3.50</td>\n",
       "      <td>14</td>\n",
       "      <td>5</td>\n",
       "      <td>4</td>\n",
       "      <td>1</td>\n",
       "      <td>1</td>\n",
       "      <td>0</td>\n",
       "      <td>2</td>\n",
       "      <td>0</td>\n",
       "      <td>0</td>\n",
       "      <td>...</td>\n",
       "      <td>0</td>\n",
       "      <td>0</td>\n",
       "      <td>0</td>\n",
       "      <td>1</td>\n",
       "      <td>0</td>\n",
       "      <td>1</td>\n",
       "      <td>0</td>\n",
       "      <td>1.253</td>\n",
       "      <td>25</td>\n",
       "      <td>16</td>\n",
       "    </tr>\n",
       "  </tbody>\n",
       "</table>\n",
       "<p>526 rows × 24 columns</p>\n",
       "</div>"
      ],
      "text/plain": [
       "      wage  educ  exper  tenure  nonwhite  female  married  numdep  smsa  \\\n",
       "0     3.10    11      2       0         0       1        0       2     1   \n",
       "1     3.24    12     22       2         0       1        1       3     1   \n",
       "2     3.00    11      2       0         0       0        0       2     0   \n",
       "3     6.00     8     44      28         0       0        1       0     1   \n",
       "4     5.30    12      7       2         0       0        1       1     0   \n",
       "..     ...   ...    ...     ...       ...     ...      ...     ...   ...   \n",
       "521  15.00    16     14       2         0       1        1       2     0   \n",
       "522   2.27    10      2       0         0       1        0       3     0   \n",
       "523   4.67    15     13      18         0       0        1       3     0   \n",
       "524  11.56    16      5       1         0       0        1       0     0   \n",
       "525   3.50    14      5       4         1       1        0       2     0   \n",
       "\n",
       "     northcen  ...  trcommpu  trade  services  profserv  profocc  clerocc  \\\n",
       "0           0  ...         0      0         0         0        0        0   \n",
       "1           0  ...         0      0         1         0        0        0   \n",
       "2           0  ...         0      1         0         0        0        0   \n",
       "3           0  ...         0      0         0         0        0        1   \n",
       "4           0  ...         0      0         0         0        0        0   \n",
       "..        ...  ...       ...    ...       ...       ...      ...      ...   \n",
       "521         0  ...         0      0         0         1        1        0   \n",
       "522         0  ...         0      1         0         0        1        0   \n",
       "523         0  ...         0      0         0         0        1        0   \n",
       "524         0  ...         0      0         0         0        0        0   \n",
       "525         0  ...         0      0         0         1        0        1   \n",
       "\n",
       "     servocc  lwage  expersq  tenursq  \n",
       "0          0  1.131        4        0  \n",
       "1          1  1.176      484        4  \n",
       "2          0  1.099        4        0  \n",
       "3          0  1.792     1936      784  \n",
       "4          0  1.668       49        4  \n",
       "..       ...    ...      ...      ...  \n",
       "521        0  2.708      196        4  \n",
       "522        0  0.820        4        0  \n",
       "523        0  1.541      169      324  \n",
       "524        0  2.448       25        1  \n",
       "525        0  1.253       25       16  \n",
       "\n",
       "[526 rows x 24 columns]"
      ]
     },
     "execution_count": 24,
     "metadata": {},
     "output_type": "execute_result"
    }
   ],
   "source": [
    "import pandas as pd\n",
    "import wooldridge as woo\n",
    "wage = woo.data(\"wage1\")\n",
    "wage"
   ]
  },
  {
   "cell_type": "markdown",
   "id": "af11ab63-cf8e-4b31-8ee9-b6d5a2c2c638",
   "metadata": {},
   "source": [
    "An alternative approach is to use the following DataFrame functions designed for descriptive analysis.\n",
    " - df.mean()\n",
    " - df.median()\n",
    " - df.quantile()\n",
    " - df.mode()\n",
    " - df.var()\n",
    " - df.std()\n",
    " - df.skew()\n",
    " - df.kurt()"
   ]
  },
  {
   "cell_type": "markdown",
   "id": "25234c3e-e50d-4a9f-a041-d853c8b8de17",
   "metadata": {},
   "source": [
    "You can even draw box plot for multiple variables."
   ]
  },
  {
   "cell_type": "code",
   "execution_count": 25,
   "id": "0e6f05ac-088e-4981-bb6f-2d8d6b8215ca",
   "metadata": {
    "tags": []
   },
   "outputs": [
    {
     "data": {
      "image/png": "[encoded data removed]",
      "text/plain": [
       "<Figure size 432x288 with 1 Axes>"
      ]
     },
     "metadata": {
      "needs_background": "light"
     },
     "output_type": "display_data"
    }
   ],
   "source": [
    "plt.boxplot(df[[\"wage\",\"educ\",\"exper\"]], labels=[\"wage\",\"educ\",\"exper\"])\n",
    "plt.show()"
   ]
  },
  {
   "cell_type": "markdown",
   "id": "4a24bfd8-2cd8-4616-8916-b80141a6ffae",
   "metadata": {},
   "source": [
    "## 5 Association between two variables"
   ]
  },
  {
   "cell_type": "markdown",
   "id": "3a6ddd09-a9e9-44e9-bda9-8c0772efa745",
   "metadata": {},
   "source": [
    "### 5.1 Formula\n",
    "### Covariance\n",
    "For a sample of size n with observations $(x_1,y_1),...,(x_n,y_n)$, the sample covariance is defined as follows:\n",
    "$$s_{xy}=\\frac{\\sum(x_i-\\bar{x})(y_i-\\bar{y})}{n-1}$$"
   ]
  },
  {
   "cell_type": "markdown",
   "id": "4386c3f2-cf55-4466-9ef3-98fbfdf0c294",
   "metadata": {},
   "source": [
    "This formula pairs each $x_i$ with a $y_i$. We then sum the products obtained by multiplying the deviation of each $x_i$ from its sample mean by the deviation of the corresponding $y_i$ from its sample mean. This sum is then divided by $n-1$ to obtain an *unbiased* statistic."
   ]
  },
  {
   "cell_type": "markdown",
   "id": "2653f57c-3252-421d-be28-5f32989f5cb0",
   "metadata": {},
   "source": [
    "### Pearson Correlation\n",
    "$$r_{xy}=\\frac{s_{xy}}{s_xs_y}$$"
   ]
  },
  {
   "cell_type": "markdown",
   "id": "4afc8b5e-3922-4eca-9f30-60ce07e297e3",
   "metadata": {},
   "source": [
    "Pearson correlation normalized covariance so that the result is in the range of $[-1,1]$. It represent the linear relationship between two variables, and a larger positive number indicates stronger positive relationship."
   ]
  },
  {
   "cell_type": "markdown",
   "id": "1d987112-3b78-495f-acf4-262c1bfa45f3",
   "metadata": {},
   "source": [
    "As Pearson correlation became more and more popular, people began to realize that Pearson correlation only captures **linear relationship** and does not work well on nonlinear relationships. As an example, "
   ]
  },
  {
   "cell_type": "code",
   "execution_count": 26,
   "id": "9425a45a-8eaf-4daa-9706-554cefa9af23",
   "metadata": {
    "tags": []
   },
   "outputs": [
    {
     "data": {
      "image/png": "[encoded data removed]",
      "text/plain": [
       "<Figure size 432x288 with 1 Axes>"
      ]
     },
     "metadata": {
      "needs_background": "light"
     },
     "output_type": "display_data"
    }
   ],
   "source": [
    "# generate 100 random numbers uniformly distributed on [0,10)\n",
    "x = 20*np.random.random(100)-10\n",
    "# Let y be x^2\n",
    "y = x**2+np.random.random(100)*40\n",
    "# Let's plot the distribution\n",
    "plt.scatter(x=x,y=y)\n",
    "plt.show()"
   ]
  },
  {
   "cell_type": "code",
   "execution_count": 27,
   "id": "40547ec9-8b45-4c55-9237-dcc9df4a4792",
   "metadata": {},
   "outputs": [
    {
     "data": {
      "text/plain": [
       "array([[ 1.        , -0.03386502],\n",
       "       [-0.03386502,  1.        ]])"
      ]
     },
     "execution_count": 27,
     "metadata": {},
     "output_type": "execute_result"
    }
   ],
   "source": [
    "# Pearson correlation between x and y\n",
    "np.corrcoef(x,y)"
   ]
  },
  {
   "cell_type": "markdown",
   "id": "86967c91-e349-4494-b095-f68707fff63a",
   "metadata": {},
   "source": [
    "### 5.2 Python Implementation"
   ]
  },
  {
   "cell_type": "markdown",
   "id": "0c103eb7-649b-4fd5-8a37-0e217e597f3e",
   "metadata": {},
   "source": [
    "Covariance and correlation are computed for two variables or a pair of variable. Therefore, instead of working with a *Series* or *List*, we will use a *DataFrame*."
   ]
  },
  {
   "cell_type": "code",
   "execution_count": 28,
   "id": "5ccc710b-671f-45c6-9b5d-58ed25d0c17c",
   "metadata": {
    "tags": []
   },
   "outputs": [
    {
     "data": {
      "text/html": [
       "<div>\n",
       "<style scoped>\n",
       "    .dataframe tbody tr th:only-of-type {\n",
       "        vertical-align: middle;\n",
       "    }\n",
       "\n",
       "    .dataframe tbody tr th {\n",
       "        vertical-align: top;\n",
       "    }\n",
       "\n",
       "    .dataframe thead th {\n",
       "        text-align: right;\n",
       "    }\n",
       "</style>\n",
       "<table border=\"1\" class=\"dataframe\">\n",
       "  <thead>\n",
       "    <tr style=\"text-align: right;\">\n",
       "      <th></th>\n",
       "      <th>x</th>\n",
       "      <th>y</th>\n",
       "    </tr>\n",
       "  </thead>\n",
       "  <tbody>\n",
       "    <tr>\n",
       "      <th>x</th>\n",
       "      <td>1.00</td>\n",
       "      <td>0.81</td>\n",
       "    </tr>\n",
       "    <tr>\n",
       "      <th>y</th>\n",
       "      <td>0.81</td>\n",
       "      <td>1.00</td>\n",
       "    </tr>\n",
       "  </tbody>\n",
       "</table>\n",
       "</div>"
      ],
      "text/plain": [
       "      x     y\n",
       "x  1.00  0.81\n",
       "y  0.81  1.00"
      ]
     },
     "execution_count": 28,
     "metadata": {},
     "output_type": "execute_result"
    }
   ],
   "source": [
    "df=pd.DataFrame({\"x\":[1,2,3,4,5], \"y\":[0.3,0.45,0.3,0.5,0.7]})\n",
    "df.corr()"
   ]
  },
  {
   "cell_type": "markdown",
   "id": "f5c29a81-3e23-4a8b-ab60-1b3bcc97481d",
   "metadata": {},
   "source": [
    "If you want to compute the correlation for all pairs of variables in a data set, just apply the same function to the entire data set."
   ]
  },
  {
   "cell_type": "code",
   "execution_count": 29,
   "id": "249504a6-de21-47c5-83ce-6adfcd490ac7",
   "metadata": {
    "tags": []
   },
   "outputs": [
    {
     "data": {
      "text/plain": [
       "Index(['wage', 'educ', 'exper', 'tenure', 'nonwhite', 'female', 'married',\n",
       "       'numdep', 'smsa', 'northcen', 'south', 'west', 'construc', 'ndurman',\n",
       "       'trcommpu', 'trade', 'services', 'profserv', 'profocc', 'clerocc',\n",
       "       'servocc', 'lwage', 'expersq', 'tenursq'],\n",
       "      dtype='object')"
      ]
     },
     "execution_count": 29,
     "metadata": {},
     "output_type": "execute_result"
    }
   ],
   "source": [
    "df = woo.data(\"wage1\")\n",
    "df.columns"
   ]
  },
  {
   "cell_type": "code",
   "execution_count": 30,
   "id": "659939be-9ab6-431b-8b07-182f51470c68",
   "metadata": {
    "tags": []
   },
   "outputs": [
    {
     "data": {
      "text/html": [
       "<div>\n",
       "<style scoped>\n",
       "    .dataframe tbody tr th:only-of-type {\n",
       "        vertical-align: middle;\n",
       "    }\n",
       "\n",
       "    .dataframe tbody tr th {\n",
       "        vertical-align: top;\n",
       "    }\n",
       "\n",
       "    .dataframe thead th {\n",
       "        text-align: right;\n",
       "    }\n",
       "</style>\n",
       "<table border=\"1\" class=\"dataframe\">\n",
       "  <thead>\n",
       "    <tr style=\"text-align: right;\">\n",
       "      <th></th>\n",
       "      <th>wage</th>\n",
       "      <th>educ</th>\n",
       "      <th>exper</th>\n",
       "      <th>tenure</th>\n",
       "      <th>nonwhite</th>\n",
       "      <th>female</th>\n",
       "      <th>married</th>\n",
       "      <th>numdep</th>\n",
       "      <th>smsa</th>\n",
       "      <th>northcen</th>\n",
       "      <th>...</th>\n",
       "      <th>trcommpu</th>\n",
       "      <th>trade</th>\n",
       "      <th>services</th>\n",
       "      <th>profserv</th>\n",
       "      <th>profocc</th>\n",
       "      <th>clerocc</th>\n",
       "      <th>servocc</th>\n",
       "      <th>lwage</th>\n",
       "      <th>expersq</th>\n",
       "      <th>tenursq</th>\n",
       "    </tr>\n",
       "  </thead>\n",
       "  <tbody>\n",
       "    <tr>\n",
       "      <th>wage</th>\n",
       "      <td>1.000</td>\n",
       "      <td>0.406</td>\n",
       "      <td>0.113</td>\n",
       "      <td>3.469e-01</td>\n",
       "      <td>-0.039</td>\n",
       "      <td>-0.340</td>\n",
       "      <td>0.229</td>\n",
       "      <td>-0.054</td>\n",
       "      <td>1.779e-01</td>\n",
       "      <td>-2.912e-02</td>\n",
       "      <td>...</td>\n",
       "      <td>0.056</td>\n",
       "      <td>-0.190</td>\n",
       "      <td>-0.142</td>\n",
       "      <td>0.085</td>\n",
       "      <td>4.418e-01</td>\n",
       "      <td>-0.141</td>\n",
       "      <td>-0.253</td>\n",
       "      <td>0.937</td>\n",
       "      <td>0.030</td>\n",
       "      <td>0.267</td>\n",
       "    </tr>\n",
       "    <tr>\n",
       "      <th>educ</th>\n",
       "      <td>0.406</td>\n",
       "      <td>1.000</td>\n",
       "      <td>-0.300</td>\n",
       "      <td>-5.617e-02</td>\n",
       "      <td>-0.085</td>\n",
       "      <td>-0.085</td>\n",
       "      <td>0.069</td>\n",
       "      <td>-0.215</td>\n",
       "      <td>2.243e-01</td>\n",
       "      <td>6.137e-02</td>\n",
       "      <td>...</td>\n",
       "      <td>0.108</td>\n",
       "      <td>-0.059</td>\n",
       "      <td>-0.073</td>\n",
       "      <td>0.214</td>\n",
       "      <td>4.968e-01</td>\n",
       "      <td>-0.008</td>\n",
       "      <td>-0.163</td>\n",
       "      <td>0.431</td>\n",
       "      <td>-0.331</td>\n",
       "      <td>-0.069</td>\n",
       "    </tr>\n",
       "    <tr>\n",
       "      <th>exper</th>\n",
       "      <td>0.113</td>\n",
       "      <td>-0.300</td>\n",
       "      <td>1.000</td>\n",
       "      <td>4.993e-01</td>\n",
       "      <td>0.014</td>\n",
       "      <td>-0.042</td>\n",
       "      <td>0.317</td>\n",
       "      <td>-0.056</td>\n",
       "      <td>-1.173e-01</td>\n",
       "      <td>1.059e-02</td>\n",
       "      <td>...</td>\n",
       "      <td>-0.048</td>\n",
       "      <td>-0.105</td>\n",
       "      <td>0.041</td>\n",
       "      <td>-0.021</td>\n",
       "      <td>-5.615e-03</td>\n",
       "      <td>-0.040</td>\n",
       "      <td>-0.071</td>\n",
       "      <td>0.111</td>\n",
       "      <td>0.961</td>\n",
       "      <td>0.423</td>\n",
       "    </tr>\n",
       "    <tr>\n",
       "      <th>tenure</th>\n",
       "      <td>0.347</td>\n",
       "      <td>-0.056</td>\n",
       "      <td>0.499</td>\n",
       "      <td>1.000e+00</td>\n",
       "      <td>0.012</td>\n",
       "      <td>-0.198</td>\n",
       "      <td>0.240</td>\n",
       "      <td>-0.027</td>\n",
       "      <td>7.448e-04</td>\n",
       "      <td>1.409e-02</td>\n",
       "      <td>...</td>\n",
       "      <td>0.064</td>\n",
       "      <td>-0.126</td>\n",
       "      <td>-0.063</td>\n",
       "      <td>-0.060</td>\n",
       "      <td>9.062e-02</td>\n",
       "      <td>-0.073</td>\n",
       "      <td>-0.113</td>\n",
       "      <td>0.326</td>\n",
       "      <td>0.459</td>\n",
       "      <td>0.922</td>\n",
       "    </tr>\n",
       "    <tr>\n",
       "      <th>nonwhite</th>\n",
       "      <td>-0.039</td>\n",
       "      <td>-0.085</td>\n",
       "      <td>0.014</td>\n",
       "      <td>1.159e-02</td>\n",
       "      <td>1.000</td>\n",
       "      <td>-0.011</td>\n",
       "      <td>-0.062</td>\n",
       "      <td>0.078</td>\n",
       "      <td>-1.415e-02</td>\n",
       "      <td>-8.020e-02</td>\n",
       "      <td>...</td>\n",
       "      <td>-0.072</td>\n",
       "      <td>-0.048</td>\n",
       "      <td>0.095</td>\n",
       "      <td>-0.057</td>\n",
       "      <td>-8.855e-02</td>\n",
       "      <td>-0.034</td>\n",
       "      <td>-0.029</td>\n",
       "      <td>-0.039</td>\n",
       "      <td>0.009</td>\n",
       "      <td>-0.007</td>\n",
       "    </tr>\n",
       "    <tr>\n",
       "      <th>female</th>\n",
       "      <td>-0.340</td>\n",
       "      <td>-0.085</td>\n",
       "      <td>-0.042</td>\n",
       "      <td>-1.979e-01</td>\n",
       "      <td>-0.011</td>\n",
       "      <td>1.000</td>\n",
       "      <td>-0.166</td>\n",
       "      <td>0.033</td>\n",
       "      <td>1.654e-02</td>\n",
       "      <td>1.545e-02</td>\n",
       "      <td>...</td>\n",
       "      <td>-0.019</td>\n",
       "      <td>-0.053</td>\n",
       "      <td>0.109</td>\n",
       "      <td>0.216</td>\n",
       "      <td>-1.774e-01</td>\n",
       "      <td>0.355</td>\n",
       "      <td>0.159</td>\n",
       "      <td>-0.374</td>\n",
       "      <td>-0.028</td>\n",
       "      <td>-0.176</td>\n",
       "    </tr>\n",
       "    <tr>\n",
       "      <th>married</th>\n",
       "      <td>0.229</td>\n",
       "      <td>0.069</td>\n",
       "      <td>0.317</td>\n",
       "      <td>2.399e-01</td>\n",
       "      <td>-0.062</td>\n",
       "      <td>-0.166</td>\n",
       "      <td>1.000</td>\n",
       "      <td>0.154</td>\n",
       "      <td>-9.723e-02</td>\n",
       "      <td>-1.172e-02</td>\n",
       "      <td>...</td>\n",
       "      <td>0.038</td>\n",
       "      <td>-0.137</td>\n",
       "      <td>-0.055</td>\n",
       "      <td>0.065</td>\n",
       "      <td>8.554e-02</td>\n",
       "      <td>0.026</td>\n",
       "      <td>-0.157</td>\n",
       "      <td>0.271</td>\n",
       "      <td>0.217</td>\n",
       "      <td>0.167</td>\n",
       "    </tr>\n",
       "    <tr>\n",
       "      <th>numdep</th>\n",
       "      <td>-0.054</td>\n",
       "      <td>-0.215</td>\n",
       "      <td>-0.056</td>\n",
       "      <td>-2.704e-02</td>\n",
       "      <td>0.078</td>\n",
       "      <td>0.033</td>\n",
       "      <td>0.154</td>\n",
       "      <td>1.000</td>\n",
       "      <td>-9.637e-02</td>\n",
       "      <td>-8.964e-02</td>\n",
       "      <td>...</td>\n",
       "      <td>-0.015</td>\n",
       "      <td>0.048</td>\n",
       "      <td>-0.062</td>\n",
       "      <td>-0.072</td>\n",
       "      <td>-1.234e-01</td>\n",
       "      <td>0.029</td>\n",
       "      <td>0.055</td>\n",
       "      <td>-0.095</td>\n",
       "      <td>-0.131</td>\n",
       "      <td>-0.057</td>\n",
       "    </tr>\n",
       "    <tr>\n",
       "      <th>smsa</th>\n",
       "      <td>0.178</td>\n",
       "      <td>0.224</td>\n",
       "      <td>-0.117</td>\n",
       "      <td>7.448e-04</td>\n",
       "      <td>-0.014</td>\n",
       "      <td>0.017</td>\n",
       "      <td>-0.097</td>\n",
       "      <td>-0.096</td>\n",
       "      <td>1.000e+00</td>\n",
       "      <td>5.522e-02</td>\n",
       "      <td>...</td>\n",
       "      <td>0.008</td>\n",
       "      <td>0.018</td>\n",
       "      <td>0.010</td>\n",
       "      <td>0.046</td>\n",
       "      <td>1.460e-01</td>\n",
       "      <td>0.107</td>\n",
       "      <td>-0.030</td>\n",
       "      <td>0.200</td>\n",
       "      <td>-0.111</td>\n",
       "      <td>0.004</td>\n",
       "    </tr>\n",
       "    <tr>\n",
       "      <th>northcen</th>\n",
       "      <td>-0.029</td>\n",
       "      <td>0.061</td>\n",
       "      <td>0.011</td>\n",
       "      <td>1.409e-02</td>\n",
       "      <td>-0.080</td>\n",
       "      <td>0.015</td>\n",
       "      <td>-0.012</td>\n",
       "      <td>-0.090</td>\n",
       "      <td>5.522e-02</td>\n",
       "      <td>1.000e+00</td>\n",
       "      <td>...</td>\n",
       "      <td>-0.059</td>\n",
       "      <td>0.020</td>\n",
       "      <td>-0.063</td>\n",
       "      <td>0.069</td>\n",
       "      <td>6.884e-02</td>\n",
       "      <td>-0.024</td>\n",
       "      <td>0.043</td>\n",
       "      <td>-0.016</td>\n",
       "      <td>0.034</td>\n",
       "      <td>0.009</td>\n",
       "    </tr>\n",
       "    <tr>\n",
       "      <th>south</th>\n",
       "      <td>-0.103</td>\n",
       "      <td>-0.117</td>\n",
       "      <td>0.050</td>\n",
       "      <td>-2.507e-02</td>\n",
       "      <td>0.102</td>\n",
       "      <td>-0.044</td>\n",
       "      <td>0.075</td>\n",
       "      <td>0.088</td>\n",
       "      <td>-2.314e-01</td>\n",
       "      <td>-4.299e-01</td>\n",
       "      <td>...</td>\n",
       "      <td>0.016</td>\n",
       "      <td>0.029</td>\n",
       "      <td>0.002</td>\n",
       "      <td>-0.085</td>\n",
       "      <td>-1.039e-01</td>\n",
       "      <td>0.029</td>\n",
       "      <td>-0.026</td>\n",
       "      <td>-0.090</td>\n",
       "      <td>0.021</td>\n",
       "      <td>-0.029</td>\n",
       "    </tr>\n",
       "    <tr>\n",
       "      <th>west</th>\n",
       "      <td>0.088</td>\n",
       "      <td>0.016</td>\n",
       "      <td>-0.017</td>\n",
       "      <td>-2.129e-02</td>\n",
       "      <td>-0.002</td>\n",
       "      <td>0.054</td>\n",
       "      <td>-0.022</td>\n",
       "      <td>0.008</td>\n",
       "      <td>9.855e-02</td>\n",
       "      <td>-2.612e-01</td>\n",
       "      <td>...</td>\n",
       "      <td>0.052</td>\n",
       "      <td>-0.040</td>\n",
       "      <td>0.068</td>\n",
       "      <td>-0.035</td>\n",
       "      <td>-6.901e-03</td>\n",
       "      <td>0.001</td>\n",
       "      <td>-0.022</td>\n",
       "      <td>0.072</td>\n",
       "      <td>-0.023</td>\n",
       "      <td>-0.041</td>\n",
       "    </tr>\n",
       "    <tr>\n",
       "      <th>construc</th>\n",
       "      <td>0.004</td>\n",
       "      <td>-0.077</td>\n",
       "      <td>-0.073</td>\n",
       "      <td>-2.589e-02</td>\n",
       "      <td>0.046</td>\n",
       "      <td>-0.082</td>\n",
       "      <td>0.007</td>\n",
       "      <td>0.014</td>\n",
       "      <td>-6.885e-03</td>\n",
       "      <td>-2.149e-02</td>\n",
       "      <td>...</td>\n",
       "      <td>-0.047</td>\n",
       "      <td>-0.139</td>\n",
       "      <td>-0.073</td>\n",
       "      <td>-0.129</td>\n",
       "      <td>-9.085e-02</td>\n",
       "      <td>0.024</td>\n",
       "      <td>-0.088</td>\n",
       "      <td>0.023</td>\n",
       "      <td>-0.067</td>\n",
       "      <td>-0.029</td>\n",
       "    </tr>\n",
       "    <tr>\n",
       "      <th>ndurman</th>\n",
       "      <td>0.074</td>\n",
       "      <td>-0.012</td>\n",
       "      <td>0.101</td>\n",
       "      <td>1.605e-01</td>\n",
       "      <td>0.036</td>\n",
       "      <td>-0.093</td>\n",
       "      <td>0.080</td>\n",
       "      <td>0.016</td>\n",
       "      <td>-9.811e-02</td>\n",
       "      <td>-7.867e-04</td>\n",
       "      <td>...</td>\n",
       "      <td>-0.077</td>\n",
       "      <td>-0.228</td>\n",
       "      <td>-0.120</td>\n",
       "      <td>-0.212</td>\n",
       "      <td>-1.887e-04</td>\n",
       "      <td>-0.129</td>\n",
       "      <td>-0.111</td>\n",
       "      <td>0.083</td>\n",
       "      <td>0.094</td>\n",
       "      <td>0.126</td>\n",
       "    </tr>\n",
       "    <tr>\n",
       "      <th>trcommpu</th>\n",
       "      <td>0.056</td>\n",
       "      <td>0.108</td>\n",
       "      <td>-0.048</td>\n",
       "      <td>6.388e-02</td>\n",
       "      <td>-0.072</td>\n",
       "      <td>-0.019</td>\n",
       "      <td>0.038</td>\n",
       "      <td>-0.015</td>\n",
       "      <td>7.973e-03</td>\n",
       "      <td>-5.944e-02</td>\n",
       "      <td>...</td>\n",
       "      <td>1.000</td>\n",
       "      <td>-0.136</td>\n",
       "      <td>-0.072</td>\n",
       "      <td>-0.126</td>\n",
       "      <td>-8.472e-03</td>\n",
       "      <td>0.079</td>\n",
       "      <td>-0.060</td>\n",
       "      <td>0.077</td>\n",
       "      <td>-0.044</td>\n",
       "      <td>0.052</td>\n",
       "    </tr>\n",
       "    <tr>\n",
       "      <th>trade</th>\n",
       "      <td>-0.190</td>\n",
       "      <td>-0.059</td>\n",
       "      <td>-0.105</td>\n",
       "      <td>-1.262e-01</td>\n",
       "      <td>-0.048</td>\n",
       "      <td>-0.053</td>\n",
       "      <td>-0.137</td>\n",
       "      <td>0.048</td>\n",
       "      <td>1.795e-02</td>\n",
       "      <td>2.042e-02</td>\n",
       "      <td>...</td>\n",
       "      <td>-0.136</td>\n",
       "      <td>1.000</td>\n",
       "      <td>-0.212</td>\n",
       "      <td>-0.375</td>\n",
       "      <td>5.750e-02</td>\n",
       "      <td>-0.037</td>\n",
       "      <td>0.033</td>\n",
       "      <td>-0.215</td>\n",
       "      <td>-0.083</td>\n",
       "      <td>-0.092</td>\n",
       "    </tr>\n",
       "    <tr>\n",
       "      <th>services</th>\n",
       "      <td>-0.142</td>\n",
       "      <td>-0.073</td>\n",
       "      <td>0.041</td>\n",
       "      <td>-6.260e-02</td>\n",
       "      <td>0.095</td>\n",
       "      <td>0.109</td>\n",
       "      <td>-0.055</td>\n",
       "      <td>-0.062</td>\n",
       "      <td>1.003e-02</td>\n",
       "      <td>-6.265e-02</td>\n",
       "      <td>...</td>\n",
       "      <td>-0.072</td>\n",
       "      <td>-0.212</td>\n",
       "      <td>1.000</td>\n",
       "      <td>-0.198</td>\n",
       "      <td>-1.238e-01</td>\n",
       "      <td>-0.032</td>\n",
       "      <td>0.173</td>\n",
       "      <td>-0.187</td>\n",
       "      <td>0.050</td>\n",
       "      <td>-0.026</td>\n",
       "    </tr>\n",
       "    <tr>\n",
       "      <th>profserv</th>\n",
       "      <td>0.085</td>\n",
       "      <td>0.214</td>\n",
       "      <td>-0.021</td>\n",
       "      <td>-5.969e-02</td>\n",
       "      <td>-0.057</td>\n",
       "      <td>0.216</td>\n",
       "      <td>0.065</td>\n",
       "      <td>-0.072</td>\n",
       "      <td>4.605e-02</td>\n",
       "      <td>6.881e-02</td>\n",
       "      <td>...</td>\n",
       "      <td>-0.126</td>\n",
       "      <td>-0.375</td>\n",
       "      <td>-0.198</td>\n",
       "      <td>1.000</td>\n",
       "      <td>1.631e-01</td>\n",
       "      <td>0.189</td>\n",
       "      <td>0.098</td>\n",
       "      <td>0.113</td>\n",
       "      <td>-0.028</td>\n",
       "      <td>-0.082</td>\n",
       "    </tr>\n",
       "    <tr>\n",
       "      <th>profocc</th>\n",
       "      <td>0.442</td>\n",
       "      <td>0.497</td>\n",
       "      <td>-0.006</td>\n",
       "      <td>9.062e-02</td>\n",
       "      <td>-0.089</td>\n",
       "      <td>-0.177</td>\n",
       "      <td>0.086</td>\n",
       "      <td>-0.123</td>\n",
       "      <td>1.460e-01</td>\n",
       "      <td>6.884e-02</td>\n",
       "      <td>...</td>\n",
       "      <td>-0.008</td>\n",
       "      <td>0.058</td>\n",
       "      <td>-0.124</td>\n",
       "      <td>0.163</td>\n",
       "      <td>1.000e+00</td>\n",
       "      <td>-0.341</td>\n",
       "      <td>-0.308</td>\n",
       "      <td>0.445</td>\n",
       "      <td>-0.037</td>\n",
       "      <td>0.044</td>\n",
       "    </tr>\n",
       "    <tr>\n",
       "      <th>clerocc</th>\n",
       "      <td>-0.141</td>\n",
       "      <td>-0.008</td>\n",
       "      <td>-0.040</td>\n",
       "      <td>-7.283e-02</td>\n",
       "      <td>-0.034</td>\n",
       "      <td>0.355</td>\n",
       "      <td>0.026</td>\n",
       "      <td>0.029</td>\n",
       "      <td>1.072e-01</td>\n",
       "      <td>-2.448e-02</td>\n",
       "      <td>...</td>\n",
       "      <td>0.079</td>\n",
       "      <td>-0.037</td>\n",
       "      <td>-0.032</td>\n",
       "      <td>0.189</td>\n",
       "      <td>-3.412e-01</td>\n",
       "      <td>1.000</td>\n",
       "      <td>-0.181</td>\n",
       "      <td>-0.119</td>\n",
       "      <td>-0.046</td>\n",
       "      <td>-0.048</td>\n",
       "    </tr>\n",
       "    <tr>\n",
       "      <th>servocc</th>\n",
       "      <td>-0.253</td>\n",
       "      <td>-0.163</td>\n",
       "      <td>-0.071</td>\n",
       "      <td>-1.127e-01</td>\n",
       "      <td>-0.029</td>\n",
       "      <td>0.159</td>\n",
       "      <td>-0.157</td>\n",
       "      <td>0.055</td>\n",
       "      <td>-3.004e-02</td>\n",
       "      <td>4.325e-02</td>\n",
       "      <td>...</td>\n",
       "      <td>-0.060</td>\n",
       "      <td>0.033</td>\n",
       "      <td>0.173</td>\n",
       "      <td>0.098</td>\n",
       "      <td>-3.080e-01</td>\n",
       "      <td>-0.181</td>\n",
       "      <td>1.000</td>\n",
       "      <td>-0.318</td>\n",
       "      <td>-0.021</td>\n",
       "      <td>-0.076</td>\n",
       "    </tr>\n",
       "    <tr>\n",
       "      <th>lwage</th>\n",
       "      <td>0.937</td>\n",
       "      <td>0.431</td>\n",
       "      <td>0.111</td>\n",
       "      <td>3.255e-01</td>\n",
       "      <td>-0.039</td>\n",
       "      <td>-0.374</td>\n",
       "      <td>0.271</td>\n",
       "      <td>-0.095</td>\n",
       "      <td>2.001e-01</td>\n",
       "      <td>-1.586e-02</td>\n",
       "      <td>...</td>\n",
       "      <td>0.077</td>\n",
       "      <td>-0.215</td>\n",
       "      <td>-0.187</td>\n",
       "      <td>0.113</td>\n",
       "      <td>4.451e-01</td>\n",
       "      <td>-0.119</td>\n",
       "      <td>-0.318</td>\n",
       "      <td>1.000</td>\n",
       "      <td>0.023</td>\n",
       "      <td>0.236</td>\n",
       "    </tr>\n",
       "    <tr>\n",
       "      <th>expersq</th>\n",
       "      <td>0.030</td>\n",
       "      <td>-0.331</td>\n",
       "      <td>0.961</td>\n",
       "      <td>4.592e-01</td>\n",
       "      <td>0.009</td>\n",
       "      <td>-0.028</td>\n",
       "      <td>0.217</td>\n",
       "      <td>-0.131</td>\n",
       "      <td>-1.109e-01</td>\n",
       "      <td>3.354e-02</td>\n",
       "      <td>...</td>\n",
       "      <td>-0.044</td>\n",
       "      <td>-0.083</td>\n",
       "      <td>0.050</td>\n",
       "      <td>-0.028</td>\n",
       "      <td>-3.713e-02</td>\n",
       "      <td>-0.046</td>\n",
       "      <td>-0.021</td>\n",
       "      <td>0.023</td>\n",
       "      <td>1.000</td>\n",
       "      <td>0.414</td>\n",
       "    </tr>\n",
       "    <tr>\n",
       "      <th>tenursq</th>\n",
       "      <td>0.267</td>\n",
       "      <td>-0.069</td>\n",
       "      <td>0.423</td>\n",
       "      <td>9.216e-01</td>\n",
       "      <td>-0.007</td>\n",
       "      <td>-0.176</td>\n",
       "      <td>0.167</td>\n",
       "      <td>-0.057</td>\n",
       "      <td>4.473e-03</td>\n",
       "      <td>9.093e-03</td>\n",
       "      <td>...</td>\n",
       "      <td>0.052</td>\n",
       "      <td>-0.092</td>\n",
       "      <td>-0.026</td>\n",
       "      <td>-0.082</td>\n",
       "      <td>4.359e-02</td>\n",
       "      <td>-0.048</td>\n",
       "      <td>-0.076</td>\n",
       "      <td>0.236</td>\n",
       "      <td>0.414</td>\n",
       "      <td>1.000</td>\n",
       "    </tr>\n",
       "  </tbody>\n",
       "</table>\n",
       "<p>24 rows × 24 columns</p>\n",
       "</div>"
      ],
      "text/plain": [
       "           wage   educ  exper     tenure  nonwhite  female  married  numdep  \\\n",
       "wage      1.000  0.406  0.113  3.469e-01    -0.039  -0.340    0.229  -0.054   \n",
       "educ      0.406  1.000 -0.300 -5.617e-02    -0.085  -0.085    0.069  -0.215   \n",
       "exper     0.113 -0.300  1.000  4.993e-01     0.014  -0.042    0.317  -0.056   \n",
       "tenure    0.347 -0.056  0.499  1.000e+00     0.012  -0.198    0.240  -0.027   \n",
       "nonwhite -0.039 -0.085  0.014  1.159e-02     1.000  -0.011   -0.062   0.078   \n",
       "female   -0.340 -0.085 -0.042 -1.979e-01    -0.011   1.000   -0.166   0.033   \n",
       "married   0.229  0.069  0.317  2.399e-01    -0.062  -0.166    1.000   0.154   \n",
       "numdep   -0.054 -0.215 -0.056 -2.704e-02     0.078   0.033    0.154   1.000   \n",
       "smsa      0.178  0.224 -0.117  7.448e-04    -0.014   0.017   -0.097  -0.096   \n",
       "northcen -0.029  0.061  0.011  1.409e-02    -0.080   0.015   -0.012  -0.090   \n",
       "south    -0.103 -0.117  0.050 -2.507e-02     0.102  -0.044    0.075   0.088   \n",
       "west      0.088  0.016 -0.017 -2.129e-02    -0.002   0.054   -0.022   0.008   \n",
       "construc  0.004 -0.077 -0.073 -2.589e-02     0.046  -0.082    0.007   0.014   \n",
       "ndurman   0.074 -0.012  0.101  1.605e-01     0.036  -0.093    0.080   0.016   \n",
       "trcommpu  0.056  0.108 -0.048  6.388e-02    -0.072  -0.019    0.038  -0.015   \n",
       "trade    -0.190 -0.059 -0.105 -1.262e-01    -0.048  -0.053   -0.137   0.048   \n",
       "services -0.142 -0.073  0.041 -6.260e-02     0.095   0.109   -0.055  -0.062   \n",
       "profserv  0.085  0.214 -0.021 -5.969e-02    -0.057   0.216    0.065  -0.072   \n",
       "profocc   0.442  0.497 -0.006  9.062e-02    -0.089  -0.177    0.086  -0.123   \n",
       "clerocc  -0.141 -0.008 -0.040 -7.283e-02    -0.034   0.355    0.026   0.029   \n",
       "servocc  -0.253 -0.163 -0.071 -1.127e-01    -0.029   0.159   -0.157   0.055   \n",
       "lwage     0.937  0.431  0.111  3.255e-01    -0.039  -0.374    0.271  -0.095   \n",
       "expersq   0.030 -0.331  0.961  4.592e-01     0.009  -0.028    0.217  -0.131   \n",
       "tenursq   0.267 -0.069  0.423  9.216e-01    -0.007  -0.176    0.167  -0.057   \n",
       "\n",
       "               smsa   northcen  ...  trcommpu  trade  services  profserv  \\\n",
       "wage      1.779e-01 -2.912e-02  ...     0.056 -0.190    -0.142     0.085   \n",
       "educ      2.243e-01  6.137e-02  ...     0.108 -0.059    -0.073     0.214   \n",
       "exper    -1.173e-01  1.059e-02  ...    -0.048 -0.105     0.041    -0.021   \n",
       "tenure    7.448e-04  1.409e-02  ...     0.064 -0.126    -0.063    -0.060   \n",
       "nonwhite -1.415e-02 -8.020e-02  ...    -0.072 -0.048     0.095    -0.057   \n",
       "female    1.654e-02  1.545e-02  ...    -0.019 -0.053     0.109     0.216   \n",
       "married  -9.723e-02 -1.172e-02  ...     0.038 -0.137    -0.055     0.065   \n",
       "numdep   -9.637e-02 -8.964e-02  ...    -0.015  0.048    -0.062    -0.072   \n",
       "smsa      1.000e+00  5.522e-02  ...     0.008  0.018     0.010     0.046   \n",
       "northcen  5.522e-02  1.000e+00  ...    -0.059  0.020    -0.063     0.069   \n",
       "south    -2.314e-01 -4.299e-01  ...     0.016  0.029     0.002    -0.085   \n",
       "west      9.855e-02 -2.612e-01  ...     0.052 -0.040     0.068    -0.035   \n",
       "construc -6.885e-03 -2.149e-02  ...    -0.047 -0.139    -0.073    -0.129   \n",
       "ndurman  -9.811e-02 -7.867e-04  ...    -0.077 -0.228    -0.120    -0.212   \n",
       "trcommpu  7.973e-03 -5.944e-02  ...     1.000 -0.136    -0.072    -0.126   \n",
       "trade     1.795e-02  2.042e-02  ...    -0.136  1.000    -0.212    -0.375   \n",
       "services  1.003e-02 -6.265e-02  ...    -0.072 -0.212     1.000    -0.198   \n",
       "profserv  4.605e-02  6.881e-02  ...    -0.126 -0.375    -0.198     1.000   \n",
       "profocc   1.460e-01  6.884e-02  ...    -0.008  0.058    -0.124     0.163   \n",
       "clerocc   1.072e-01 -2.448e-02  ...     0.079 -0.037    -0.032     0.189   \n",
       "servocc  -3.004e-02  4.325e-02  ...    -0.060  0.033     0.173     0.098   \n",
       "lwage     2.001e-01 -1.586e-02  ...     0.077 -0.215    -0.187     0.113   \n",
       "expersq  -1.109e-01  3.354e-02  ...    -0.044 -0.083     0.050    -0.028   \n",
       "tenursq   4.473e-03  9.093e-03  ...     0.052 -0.092    -0.026    -0.082   \n",
       "\n",
       "            profocc  clerocc  servocc  lwage  expersq  tenursq  \n",
       "wage      4.418e-01   -0.141   -0.253  0.937    0.030    0.267  \n",
       "educ      4.968e-01   -0.008   -0.163  0.431   -0.331   -0.069  \n",
       "exper    -5.615e-03   -0.040   -0.071  0.111    0.961    0.423  \n",
       "tenure    9.062e-02   -0.073   -0.113  0.326    0.459    0.922  \n",
       "nonwhite -8.855e-02   -0.034   -0.029 -0.039    0.009   -0.007  \n",
       "female   -1.774e-01    0.355    0.159 -0.374   -0.028   -0.176  \n",
       "married   8.554e-02    0.026   -0.157  0.271    0.217    0.167  \n",
       "numdep   -1.234e-01    0.029    0.055 -0.095   -0.131   -0.057  \n",
       "smsa      1.460e-01    0.107   -0.030  0.200   -0.111    0.004  \n",
       "northcen  6.884e-02   -0.024    0.043 -0.016    0.034    0.009  \n",
       "south    -1.039e-01    0.029   -0.026 -0.090    0.021   -0.029  \n",
       "west     -6.901e-03    0.001   -0.022  0.072   -0.023   -0.041  \n",
       "construc -9.085e-02    0.024   -0.088  0.023   -0.067   -0.029  \n",
       "ndurman  -1.887e-04   -0.129   -0.111  0.083    0.094    0.126  \n",
       "trcommpu -8.472e-03    0.079   -0.060  0.077   -0.044    0.052  \n",
       "trade     5.750e-02   -0.037    0.033 -0.215   -0.083   -0.092  \n",
       "services -1.238e-01   -0.032    0.173 -0.187    0.050   -0.026  \n",
       "profserv  1.631e-01    0.189    0.098  0.113   -0.028   -0.082  \n",
       "profocc   1.000e+00   -0.341   -0.308  0.445   -0.037    0.044  \n",
       "clerocc  -3.412e-01    1.000   -0.181 -0.119   -0.046   -0.048  \n",
       "servocc  -3.080e-01   -0.181    1.000 -0.318   -0.021   -0.076  \n",
       "lwage     4.451e-01   -0.119   -0.318  1.000    0.023    0.236  \n",
       "expersq  -3.713e-02   -0.046   -0.021  0.023    1.000    0.414  \n",
       "tenursq   4.359e-02   -0.048   -0.076  0.236    0.414    1.000  \n",
       "\n",
       "[24 rows x 24 columns]"
      ]
     },
     "execution_count": 30,
     "metadata": {},
     "output_type": "execute_result"
    }
   ],
   "source": [
    "df.corr()"
   ]
  },
  {
   "cell_type": "markdown",
   "id": "8497d2dd-058d-45eb-b8b9-679df4989cfe",
   "metadata": {},
   "source": [
    "# 6. Probability\n",
    "\n",
    "When it comes to  probability calculation, we can use the **scipy** package. [scipy.stats](https://docs.scipy.org/doc/scipy/tutorial/stats.html) provides useful tools for common probability distributions. This include the computation of Probability Density (Mass for discrete distributions) Function (PD(M)F), Cumulative Density Function (CDF), Survival Function, Hazard Function, and more ...\n",
    "\n",
    "As an example, let X denotes the number of white balls we get when drawing with replacement 10 balls from an urn that includes 20% white balls. Then X has the Binomial distribution, with parameters n=10 and p=20%. We want to know to probability of getting exactly 2 white balls."
   ]
  },
  {
   "cell_type": "code",
   "execution_count": 31,
   "id": "710fd037-acbc-49d2-9109-ec11f3544540",
   "metadata": {},
   "outputs": [
    {
     "data": {
      "text/plain": [
       "0.30198988800000004"
      ]
     },
     "execution_count": 31,
     "metadata": {},
     "output_type": "execute_result"
    }
   ],
   "source": [
    "import scipy.stats as stats\n",
    "n=10\n",
    "p=0.2\n",
    "stats.binom.pmf(2,n,p)"
   ]
  },
  {
   "cell_type": "markdown",
   "id": "f5371345-66aa-48ac-af52-d62c993bd078",
   "metadata": {},
   "source": [
    "For the probability of getting more than 5 white balls, we use the cmf method of the binom object."
   ]
  },
  {
   "cell_type": "code",
   "execution_count": 32,
   "id": "280c28f7-4f6b-46e3-af5e-ad5153d557cd",
   "metadata": {},
   "outputs": [
    {
     "data": {
      "text/plain": [
       "0.006369382399999957"
      ]
     },
     "execution_count": 32,
     "metadata": {},
     "output_type": "execute_result"
    }
   ],
   "source": [
    "1-stats.binom.cdf(5,n,p)"
   ]
  },
  {
   "cell_type": "code",
   "execution_count": 33,
   "id": "e80dfb93-69d7-4186-a2e6-c6d9604452c3",
   "metadata": {},
   "outputs": [
    {
     "data": {
      "text/plain": [
       "0.0063693824000000026"
      ]
     },
     "execution_count": 33,
     "metadata": {},
     "output_type": "execute_result"
    }
   ],
   "source": [
    "# Or equivalently\n",
    "stats.binom.sf(5,n,p)"
   ]
  },
  {
   "cell_type": "markdown",
   "id": "cd8f3e25-8de2-4c28-831b-40f239a03cbb",
   "metadata": {},
   "source": [
    "For moments of a specific distribution, we can use the stats() method"
   ]
  },
  {
   "cell_type": "code",
   "execution_count": 34,
   "id": "f67649f7-7a60-4bb5-977b-c91d788efe1f",
   "metadata": {},
   "outputs": [
    {
     "data": {
      "text/plain": [
       "(array(2.), array(1.6), array(0.47434165), array(0.025))"
      ]
     },
     "execution_count": 34,
     "metadata": {},
     "output_type": "execute_result"
    }
   ],
   "source": [
    "stats.binom.stats(n,p,moments='mvsk')"
   ]
  },
  {
   "cell_type": "markdown",
   "id": "57f7407e-b688-4a07-b352-b87b9db11118",
   "metadata": {},
   "source": [
    "### 6.1 Visualization"
   ]
  },
  {
   "cell_type": "markdown",
   "id": "81a82a08-c73f-4207-8fc5-af90897c6018",
   "metadata": {},
   "source": [
    "We can also use the **matplotlib.pyplot** module to visualize these probability distributions."
   ]
  },
  {
   "cell_type": "code",
   "execution_count": 35,
   "id": "d0756bf5-221b-46a9-8f65-11ce31a1214b",
   "metadata": {},
   "outputs": [
    {
     "data": {
      "image/png": "[encoded data removed]",
      "text/plain": [
       "<Figure size 432x288 with 1 Axes>"
      ]
     },
     "metadata": {
      "needs_background": "light"
     },
     "output_type": "display_data"
    }
   ],
   "source": [
    "import matplotlib.pyplot as plt\n",
    "\n",
    "# values for k\n",
    "k = range(n+1)\n",
    "\n",
    "# pmf for k\n",
    "pmf = stats.binom.pmf(k,n,p)\n",
    "\n",
    "# use line plot for pmf\n",
    "plt.plot(k,pmf)\n",
    "plt.show()"
   ]
  },
  {
   "cell_type": "code",
   "execution_count": 36,
   "id": "7d9c8d52-e98c-4421-99d0-3e4d246414eb",
   "metadata": {},
   "outputs": [
    {
     "data": {
      "image/png": "[encoded data removed]",
      "text/plain": [
       "<Figure size 432x288 with 1 Axes>"
      ]
     },
     "metadata": {
      "needs_background": "light"
     },
     "output_type": "display_data"
    }
   ],
   "source": [
    "# cdf for k\n",
    "cdf = stats.binom.cdf(k,n,p)\n",
    "\n",
    "# use step plot for cdf\n",
    "plt.step(k,cdf)\n",
    "plt.show()"
   ]
  },
  {
   "cell_type": "markdown",
   "id": "46f1d2a8-38d9-41c4-9d2d-f2f751e69f7a",
   "metadata": {},
   "source": [
    "### 6.2 Random Draws from probability distribution"
   ]
  },
  {
   "cell_type": "markdown",
   "id": "beaf5da8-5a0c-41e8-adfe-fded4e1b4b99",
   "metadata": {},
   "source": [
    "Distribution objects from the scipy.stats module can also facilitate random draws. For example, the following codes draw 10 random observations from the previous binomial distribution."
   ]
  },
  {
   "cell_type": "code",
   "execution_count": 37,
   "id": "2074d04b-731d-4141-8390-e768bde80126",
   "metadata": {},
   "outputs": [
    {
     "data": {
      "text/plain": [
       "array([1, 0, 0, 0, 3, 2, 1, 5, 0, 2])"
      ]
     },
     "execution_count": 37,
     "metadata": {},
     "output_type": "execute_result"
    }
   ],
   "source": [
    "stats.binom.rvs(n,p,size=10)"
   ]
  },
  {
   "cell_type": "code",
   "execution_count": 38,
   "id": "972c2268-4bca-4cce-b6c1-89a277718396",
   "metadata": {},
   "outputs": [
    {
     "data": {
      "text/plain": [
       "array([2, 2, 4, 2, 4, 1, 4, 3, 5, 1])"
      ]
     },
     "execution_count": 38,
     "metadata": {},
     "output_type": "execute_result"
    }
   ],
   "source": [
    "# or alternatively, initialize the distribution with parameters\n",
    "stats.binom(n,p).rvs(10)"
   ]
  }
 ],
 "metadata": {
  "kernelspec": {
   "display_name": "Python 3 (ipykernel)",
   "language": "python",
   "name": "python3"
  },
  "language_info": {
   "codemirror_mode": {
    "name": "ipython",
    "version": 3
   },
   "file_extension": ".py",
   "mimetype": "text/x-python",
   "name": "python",
   "nbconvert_exporter": "python",
   "pygments_lexer": "ipython3",
   "version": "3.8.8"
  }
 },
 "nbformat": 4,
 "nbformat_minor": 5
}
