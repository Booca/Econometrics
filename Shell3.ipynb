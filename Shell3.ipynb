{
 "cells": [
  {
   "cell_type": "markdown",
   "id": "bc250e3d-5312-479a-97e9-0ad4b7af9f5b",
   "metadata": {
    "jp-MarkdownHeadingCollapsed": true,
    "tags": []
   },
   "source": [
    "# Something new and useful\n",
    "## More Unix Command\n",
    "\n",
    "1. locate a file `find startpath -name folder/filename` \\\n",
    "   To locate your ECO301 folder, you could try `find . -name ECO301` \\\n",
    "   You can ignore cases by replace `-name` with `-iname` \\\n",
    "\n",
    "\n",
    "    \n",
    "> If you received an error saying \"operation not permitted\", it means you need to change the privacy setting and grand your Terminal more \"power\". Go to \"Security and Privacy\" - click the tab \"Privacy\" and locate \"Full Disk Access\" - click the lock to enable editing and then hit the \"+\" sign to add a program to the white list - find \"Terminal\" under Application - Utilities\n",
    "\n",
    "2. You can also use wildcards\\\n",
    "    `*` for any number of characteristics, `find . -name \"*txt\"` \\\n",
    "    `?` for any 1 characteristic, `find . -name \"final project v?\"` \\\n",
    "    `[]` for a range or values [abc] , [0-9] \\\n",
    "    `[!]` not in this list \\\n",
    " \n",
    "\n",
    "3. `find` can be even more powerful with other parameters it takes other parameters\\\n",
    "    `-type` restrict the search to a `d` for director, or `f` for file \\\n",
    "    `-empty` find empty files \\\n",
    "    `-mtime` modification time, `-7` less than 7 days, `+3` more than 3 days ago, specially, `0` for yestoday. \\\n",
    "    `-atime` access time \\\n",
    "    `-amin` access minutes \\\n",
    "    `-size` size of the file, `-1G` stands for less than 1GB, `+1M` stands for greater than 1 mb.\n",
    "\n",
    "4. how can I utilize the output of find? `$()` captures the output of a command and substitute it into the part of another command. Try `open $(find . -iname eco301)`\n",
    "\n",
    "## Windows PowerShell\n",
    "\n",
    "There is a windows powershell equivalent of find called `Get-ChildItem` or `gci`. \\\n",
    "To find a file use `gci . -r -include filename`. `-r` recursive, means searching down the directory tree. \n",
    "\n",
    "\n",
    "\n",
    "**Exercise**: download wage1.csv from CourseSite, locate the file, and move it to the ECO301 folder"
   ]
  }
 ],
 "metadata": {
  "kernelspec": {
   "display_name": "Python 3 (ipykernel)",
   "language": "python",
   "name": "python3"
  },
  "language_info": {
   "codemirror_mode": {
    "name": "ipython",
    "version": 3
   },
   "file_extension": ".py",
   "mimetype": "text/x-python",
   "name": "python",
   "nbconvert_exporter": "python",
   "pygments_lexer": "ipython3",
   "version": "3.8.8"
  }
 },
 "nbformat": 4,
 "nbformat_minor": 5
}
