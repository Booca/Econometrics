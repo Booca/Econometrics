{
 "cells": [
  {
   "cell_type": "markdown",
   "metadata": {},
   "source": [
    "# What is \\$PATH?\n",
    "PATH is an environment variable on Unix-like operating systems, DOS, OS/2, and Microsoft Windows, specifying a set of directories where executable programs are located. When a command name is specified by the user or an execution call is made from a program, the system searches through PATH, examining **each directory** from left to right in the list, looking for a filename that matches the command name. \n",
    "\n",
    "Therefore, when the terminal throws an error saying \"\", you can first try to add the directory of the executable to PATH.\n",
    "\n",
    "![unrecognized_command](images/F&Q_computer/unrecognized_command.png)\n",
    "\n",
    "The PATH variable makes it easy to run commonly used programs located in their own folders. If used unwisely, however, the value of the PATH variable can slow down the operating system by searching too many locations, or invalid locations."
   ]
  },
  {
   "cell_type": "markdown",
   "metadata": {},
   "source": [
    "# What is a Wheel (.whl file)?\n",
    "\n",
    "A Python .whl file is essentially a ZIP (.zip) archive with a specially crafted filename that tells installers what Python versions and platforms the wheel will support. \n",
    "\n",
    "> {dist}-{version}(-{build})?-{python}-{abi}-{platform}.whl\n",
    "\n",
    "A wheel is a type of built distribution. In this case, built means that the wheel comes in a ready-to-install format and allows you to skip the build stage required with source distributions. pip will usually retrieve a .whl file from PyPI, whereas in some cases you need to download the .whl file from other repositories and then pip install it.\n",
    "\n",
    "Examples of .whl file\n",
    "\n",
    "| Wheel | What It Is |\n",
    "|------|------|\n",
    "| PyYAML-5.3.1-cp38-cp38-win_amd64.whl | PyYAML for CPython 3.8 on Windows with AMD64 (x86-64) architecture |\n",
    "| numpy-1.18.4-cp38-cp38-win32.whl | NumPy for CPython 3.8 on Windows 32-bit |\n",
    "| scipy-1.4.1-cp36-cp36m-macosx_10_6_intel.whl | SciPy for CPython 3.6 on macOS 10.6 SDK with fat binary (multiple instruction sets) |"
   ]
  },
  {
   "cell_type": "markdown",
   "metadata": {},
   "source": [
    "# What is a binary file?\n",
    "\n",
    "A binary file is a computer file that is not a text file. The term \"binary file\" is often used as a term meaning \"non-text file\". "
   ]
  },
  {
   "cell_type": "markdown",
   "metadata": {},
   "source": [
    "# What's the difference between pip and conda?\n",
    "\n",
    "Pip is the Python Packaging Authority’s recommended tool for installing packages from the Python Package Index, **PyPI**. Pip installs Python software packaged as wheels or source distributions. The latter may require that the system have compatible compilers, and possibly libraries, installed before invoking pip to succeed.\n",
    "\n",
    "Conda is a cross platform package and environment manager that installs and manages conda packages from the **Anaconda repository** as well as from the Anaconda Cloud. Conda packages are binaries. There is never a need to have compilers available to install them. Additionally conda packages are not limited to Python software. They may also contain C or C++ libraries, R packages or any other software.\n",
    "\n",
    "| |conda|pip|\n",
    "|-|-|-|\n",
    "|manages|binaries|wheel or source|\n",
    "|can require compilers|no|yes|\n",
    "|package types|any|Python-only|\n",
    "|create environment|yes, built-in|no, requires virtualenv or venv|\n",
    "|dependency checks|yes|no|\n",
    "package sources|Anaconda repo and cloud|PyPI|\n",
    "\n"
   ]
  }
 ],
 "metadata": {
  "kernelspec": {
   "display_name": "Python 3",
   "language": "python",
   "name": "python3"
  },
  "language_info": {
   "codemirror_mode": {
    "name": "ipython",
    "version": 3
   },
   "file_extension": ".py",
   "mimetype": "text/x-python",
   "name": "python",
   "nbconvert_exporter": "python",
   "pygments_lexer": "ipython3",
   "version": "3.8.8"
  }
 },
 "nbformat": 4,
 "nbformat_minor": 4
}
