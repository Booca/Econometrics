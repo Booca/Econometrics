{
 "cells": [
  {
   "cell_type": "markdown",
   "id": "1dc67b77-9a16-496f-821e-e976fb97af41",
   "metadata": {
    "tags": []
   },
   "source": [
    "# More on Specification and Data Issues\n",
    "\n",
    "## 1. Functional Form Misspecification\n",
    "\n",
    "We have seen many ways to flexibly specify the relation between the dependent variable and the regressors. An obvious question to ask is whether or not a given specification is the \"correct\" one.\n",
    "\n",
    "The **Regression Equation Specification Error Test** (RESET) is a convenient tool to test the null hypothesis that the functional form is *adequate*.\n",
    "\n",
    "> Since this is still in the context of an hypothesis test, the idea is similar - in the first step, we make an assumption. Second, if the assumption is true, we deduce a statistic and assert it must satisfy a certain distribution under the assumption. Third, if the p-value (probability of getting a value extremer than the current one) is small, we reject the null hypothesis. \n",
    "\n",
    "? If you were asked to develop such a hypothesis test, what would you do?\n",
    "\n",
    "### Ramsey RESET test,\n",
    "\n",
    "- Step 1, regress y on x and obtain $\\hat{y}$.\n",
    "- Step 2, regress y on x, $\\hat{y}^2$, and $\\hat{y}^3$: $y=\\gamma_0 + \\gamma_1 x + \\gamma_2 \\hat{y}^2 + \\gamma_3 \\hat{y}^3 + v$\n",
    "- If $y = \\beta_0 + \\beta_1 x$ + u is the correct specification, we have $H_0: \\gamma_2 = \\gamma_3 = 0$\n",
    "- We can carry out an f_test on the second regression."
   ]
  },
  {
   "cell_type": "markdown",
   "id": "55a3a9f8-592c-48c3-a0ff-e27df176d08b",
   "metadata": {},
   "source": [
    "Exercise: use the hprice1 dataset from wooldridge, regress house price (*price*) on size of lot in square feet (*lotsize*), size of house in square feet (*sqrft*), and number of bed rooms (*bdrms*). Carry out a RESET test to see if higher-ordered independent variables are needed."
   ]
  },
  {
   "cell_type": "code",
   "execution_count": 14,
   "id": "533a7c4c-5103-4694-812b-264daf00508b",
   "metadata": {},
   "outputs": [],
   "source": [
    "# original OLS\n",
    "import wooldridge as woo\n",
    "import statsmodels.formula.api as smf\n",
    "\n",
    "df = woo.data(\"hprice1\")\n",
    "formula = \"price ~ lotsize + sqrft + bdrms\"\n",
    "reg1 = smf.ols(formula, data=df)\n",
    "res1 = reg1.fit()"
   ]
  },
  {
   "cell_type": "code",
   "execution_count": 15,
   "id": "c0f3072b-4d4d-471a-99a5-a24c75ad76ea",
   "metadata": {},
   "outputs": [],
   "source": [
    "df[\"y_h\"] = res1.fittedvalues"
   ]
  },
  {
   "cell_type": "code",
   "execution_count": 16,
   "id": "c4a8496a-e80d-478c-bd39-b8f93bf8e039",
   "metadata": {},
   "outputs": [
    {
     "name": "stdout",
     "output_type": "stream",
     "text": [
      "                            OLS Regression Results                            \n",
      "==============================================================================\n",
      "Dep. Variable:                  price   R-squared:                       0.706\n",
      "Model:                            OLS   Adj. R-squared:                  0.688\n",
      "Method:                 Least Squares   F-statistic:                     39.35\n",
      "Date:                Wed, 17 Nov 2021   Prob (F-statistic):           2.02e-20\n",
      "Time:                        21:27:55   Log-Likelihood:                -478.13\n",
      "No. Observations:                  88   AIC:                             968.3\n",
      "Df Residuals:                      82   BIC:                             983.1\n",
      "Df Model:                           5                                         \n",
      "Covariance Type:            nonrobust                                         \n",
      "===============================================================================\n",
      "                  coef    std err          t      P>|t|      [0.025      0.975]\n",
      "-------------------------------------------------------------------------------\n",
      "Intercept     166.0973    317.433      0.523      0.602    -465.377     797.572\n",
      "lotsize         0.0002      0.005      0.030      0.977      -0.010       0.011\n",
      "sqrft           0.0176      0.299      0.059      0.953      -0.578       0.613\n",
      "bdrms           2.1749     33.888      0.064      0.949     -65.239      69.589\n",
      "I(y_h ** 2)     0.0004      0.007      0.050      0.960      -0.014       0.014\n",
      "I(y_h ** 3)  1.546e-06   6.55e-06      0.236      0.814   -1.15e-05    1.46e-05\n",
      "==============================================================================\n",
      "Omnibus:                       12.847   Durbin-Watson:                   2.040\n",
      "Prob(Omnibus):                  0.002   Jarque-Bera (JB):               16.390\n",
      "Skew:                           0.699   Prob(JB):                     0.000276\n",
      "Kurtosis:                       4.585   Cond. No.                     2.47e+09\n",
      "==============================================================================\n",
      "\n",
      "Notes:\n",
      "[1] Standard Errors assume that the covariance matrix of the errors is correctly specified.\n",
      "[2] The condition number is large, 2.47e+09. This might indicate that there are\n",
      "strong multicollinearity or other numerical problems.\n"
     ]
    }
   ],
   "source": [
    "# regression for RESET test\n",
    "reg2 = smf.ols(formula + \"+ I(y_h**2) + I(y_h**3)\", data=df) \n",
    "# I() means identical transformation, it tells smf to compute the operation inside the () first. \n",
    "res2 = reg2.fit()\n",
    "print(res.summary())"
   ]
  },
  {
   "cell_type": "code",
   "execution_count": 17,
   "id": "240ad1fd-d56c-42cc-92d2-28ddca2068d6",
   "metadata": {},
   "outputs": [
    {
     "data": {
      "text/plain": [
       "<class 'statsmodels.stats.contrast.ContrastResults'>\n",
       "<F test: F=array([[4.66820553]]), p=0.012021711442904287, df_denom=82, df_num=2>"
      ]
     },
     "execution_count": 17,
     "metadata": {},
     "output_type": "execute_result"
    }
   ],
   "source": [
    "hypo = reg.exog_names[-2:]\n",
    "res.f_test(hypo)"
   ]
  },
  {
   "cell_type": "markdown",
   "id": "79396d0d-253c-4a3e-b292-a97d93818d8d",
   "metadata": {},
   "source": [
    "Conclusion: We reject the null hypothesis that this equation is correctly specified at a significance level of $\\alpha = 5\\%$"
   ]
  },
  {
   "cell_type": "markdown",
   "id": "85e96cb0-316c-41fb-8e8b-b40997cd092a",
   "metadata": {},
   "source": [
    "### smo.reset_ramsey() \n",
    "\n",
    "The statsmodels.stats.outliers_influence module has a function called *reset_ramsey()* who implements this test.\n",
    "\n",
    "> variance_inflation_factor() is in the same module"
   ]
  },
  {
   "cell_type": "code",
   "execution_count": 18,
   "id": "c0814604-cd7f-4042-8d7d-d474689b6776",
   "metadata": {},
   "outputs": [
    {
     "data": {
      "text/plain": [
       "<class 'statsmodels.stats.contrast.ContrastResults'>\n",
       "<F test: F=array([[4.66820553]]), p=0.012021711442877286, df_denom=82, df_num=2>"
      ]
     },
     "execution_count": 18,
     "metadata": {},
     "output_type": "execute_result"
    }
   ],
   "source": [
    "import statsmodels.stats.outliers_influence as smo\n",
    "\n",
    "smo.reset_ramsey(res1, degree = 3)"
   ]
  },
  {
   "cell_type": "markdown",
   "id": "6e7964f3-eed6-4598-a598-1ef21e390883",
   "metadata": {},
   "source": [
    "## 2. Measurement Error\n",
    "\n",
    "If a variable is not measured accurately, the consequences depend on whether the measurement error affects the dependent or an explanatory variable. \n",
    "\n",
    "If the dependent variable is mismeasured, the consequences can be mild. It can be treated as another part of u.\n",
    "\n",
    "If the independent variable is mismeasured, the consequences are usually more dramatic. Even when we assume the measurement error is independent.\n",
    "\n",
    "Consider a simple linear regression. Let $x^*$ denotes the true independent variable, and $x = x^* + e$ is the observed value. $e$ is independent of both $x^*$ and $u$.\n",
    "\n",
    "**TRUE**: $y = \\beta_0 + \\beta_1 x^* + u$\n",
    "**OLS Regression**: Regress y on $(x^*+u)$\n",
    "\n",
    "We can show that\n",
    "\n",
    "$$\\hat{\\beta_1} = \\beta_1*\\frac{Var(x^*)}{Var(x^*)+Var(e)} \\le \\beta_1$$"
   ]
  },
  {
   "cell_type": "markdown",
   "id": "bfde987a-3b74-48b2-b281-b75c6a9d96ad",
   "metadata": {},
   "source": [
    "So measurement error leads to an *attenuation* bias, if we have a random error. If the error term is not random, we do not have a uniform conclusion."
   ]
  },
  {
   "cell_type": "markdown",
   "id": "c5040bfb-e27a-48c1-b6f1-c53e1d848007",
   "metadata": {},
   "source": [
    "## 3. Missing Data"
   ]
  },
  {
   "cell_type": "markdown",
   "id": "c39c4f6d-1f46-4947-8c6c-54a1b80518c5",
   "metadata": {},
   "source": [
    "In many data sets, we fail to observe all variables for each observational unit. An import case is survey data where the respondents refuse or fail to answer some questions.\n",
    "\n",
    "We can use `df.info()` to list the number of non-missing observations for each column."
   ]
  },
  {
   "cell_type": "markdown",
   "id": "cda7742f-08ee-4740-a05c-e72d3c57c09f",
   "metadata": {},
   "source": [
    "Exercise: import lawsch85 from woo, and display the info()."
   ]
  },
  {
   "cell_type": "code",
   "execution_count": 19,
   "id": "59d62888-5759-4f47-b191-fdf39cf7ce70",
   "metadata": {},
   "outputs": [
    {
     "name": "stdout",
     "output_type": "stream",
     "text": [
      "<class 'pandas.core.frame.DataFrame'>\n",
      "RangeIndex: 156 entries, 0 to 155\n",
      "Data columns (total 21 columns):\n",
      " #   Column   Non-Null Count  Dtype  \n",
      "---  ------   --------------  -----  \n",
      " 0   rank     156 non-null    int64  \n",
      " 1   salary   148 non-null    float64\n",
      " 2   cost     150 non-null    float64\n",
      " 3   LSAT     150 non-null    float64\n",
      " 4   GPA      149 non-null    float64\n",
      " 5   libvol   155 non-null    float64\n",
      " 6   faculty  152 non-null    float64\n",
      " 7   age      111 non-null    float64\n",
      " 8   clsize   153 non-null    float64\n",
      " 9   north    156 non-null    int64  \n",
      " 10  south    156 non-null    int64  \n",
      " 11  east     156 non-null    int64  \n",
      " 12  west     156 non-null    int64  \n",
      " 13  lsalary  148 non-null    float64\n",
      " 14  studfac  150 non-null    float64\n",
      " 15  top10    156 non-null    int64  \n",
      " 16  r11_25   156 non-null    int64  \n",
      " 17  r26_40   156 non-null    int64  \n",
      " 18  r41_60   156 non-null    int64  \n",
      " 19  llibvol  155 non-null    float64\n",
      " 20  lcost    150 non-null    float64\n",
      "dtypes: float64(12), int64(9)\n",
      "memory usage: 25.7 KB\n"
     ]
    }
   ],
   "source": [
    "df = woo.data(\"lawsch85\")\n",
    "df.info()"
   ]
  },
  {
   "cell_type": "markdown",
   "id": "963cf1bd-3b04-4dd7-80a4-81d240abe217",
   "metadata": {},
   "source": [
    "### Change values to np.nan\n",
    "Depending on the data source, real-world data sets can have different rules for indicating missing information. Sometimes, impossible numeric values are used. For example, a survey including the number of years of education as a variable educ might have a value like \"9999\" to indicate missing information. For any software package, it is highly recommended to change these to proper missing value codes early in the data-handling process. Otherwise, we take the risk that some statistical method interprets those values as \"this person went to school for 9999 years\" producing highly nonsensical results.\n",
    "\n",
    "For the education example, if the variable *educ* is in the data frame *mydata* this can be done with\n",
    "\n",
    "```python\n",
    "mydata.loc[mydata[\"educ\"] == 9999, \"educ\"] = np.nan\n",
    "```\n",
    "\n"
   ]
  },
  {
   "cell_type": "markdown",
   "id": "6d63ab2d-5732-4dfa-9428-09784953805d",
   "metadata": {},
   "source": [
    "### Label missing values\n",
    "\n",
    "We can also create Boolean variables indicating missing values using the **pandas** method isna. For example `mydata[\"educ\"].isna()` will generate a Boolean Series with *True* values whenever the educ observation is np.nan.\n",
    "\n",
    "This method can also be used on data frames. It returns a dataframe of Boolean values."
   ]
  },
  {
   "cell_type": "code",
   "execution_count": 20,
   "id": "79a78ba8-20b5-4f5c-afd8-1f79fa1e1174",
   "metadata": {},
   "outputs": [
    {
     "data": {
      "text/html": [
       "<div>\n",
       "<style scoped>\n",
       "    .dataframe tbody tr th:only-of-type {\n",
       "        vertical-align: middle;\n",
       "    }\n",
       "\n",
       "    .dataframe tbody tr th {\n",
       "        vertical-align: top;\n",
       "    }\n",
       "\n",
       "    .dataframe thead th {\n",
       "        text-align: right;\n",
       "    }\n",
       "</style>\n",
       "<table border=\"1\" class=\"dataframe\">\n",
       "  <thead>\n",
       "    <tr style=\"text-align: right;\">\n",
       "      <th></th>\n",
       "      <th>rank</th>\n",
       "      <th>salary</th>\n",
       "      <th>cost</th>\n",
       "      <th>LSAT</th>\n",
       "      <th>GPA</th>\n",
       "      <th>libvol</th>\n",
       "      <th>faculty</th>\n",
       "      <th>age</th>\n",
       "      <th>clsize</th>\n",
       "      <th>north</th>\n",
       "      <th>...</th>\n",
       "      <th>east</th>\n",
       "      <th>west</th>\n",
       "      <th>lsalary</th>\n",
       "      <th>studfac</th>\n",
       "      <th>top10</th>\n",
       "      <th>r11_25</th>\n",
       "      <th>r26_40</th>\n",
       "      <th>r41_60</th>\n",
       "      <th>llibvol</th>\n",
       "      <th>lcost</th>\n",
       "    </tr>\n",
       "  </thead>\n",
       "  <tbody>\n",
       "    <tr>\n",
       "      <th>0</th>\n",
       "      <td>False</td>\n",
       "      <td>False</td>\n",
       "      <td>False</td>\n",
       "      <td>False</td>\n",
       "      <td>False</td>\n",
       "      <td>False</td>\n",
       "      <td>False</td>\n",
       "      <td>False</td>\n",
       "      <td>False</td>\n",
       "      <td>False</td>\n",
       "      <td>...</td>\n",
       "      <td>False</td>\n",
       "      <td>False</td>\n",
       "      <td>False</td>\n",
       "      <td>False</td>\n",
       "      <td>False</td>\n",
       "      <td>False</td>\n",
       "      <td>False</td>\n",
       "      <td>False</td>\n",
       "      <td>False</td>\n",
       "      <td>False</td>\n",
       "    </tr>\n",
       "    <tr>\n",
       "      <th>1</th>\n",
       "      <td>False</td>\n",
       "      <td>False</td>\n",
       "      <td>False</td>\n",
       "      <td>False</td>\n",
       "      <td>False</td>\n",
       "      <td>False</td>\n",
       "      <td>False</td>\n",
       "      <td>False</td>\n",
       "      <td>False</td>\n",
       "      <td>False</td>\n",
       "      <td>...</td>\n",
       "      <td>False</td>\n",
       "      <td>False</td>\n",
       "      <td>False</td>\n",
       "      <td>False</td>\n",
       "      <td>False</td>\n",
       "      <td>False</td>\n",
       "      <td>False</td>\n",
       "      <td>False</td>\n",
       "      <td>False</td>\n",
       "      <td>False</td>\n",
       "    </tr>\n",
       "    <tr>\n",
       "      <th>2</th>\n",
       "      <td>False</td>\n",
       "      <td>False</td>\n",
       "      <td>False</td>\n",
       "      <td>False</td>\n",
       "      <td>False</td>\n",
       "      <td>False</td>\n",
       "      <td>False</td>\n",
       "      <td>False</td>\n",
       "      <td>False</td>\n",
       "      <td>False</td>\n",
       "      <td>...</td>\n",
       "      <td>False</td>\n",
       "      <td>False</td>\n",
       "      <td>False</td>\n",
       "      <td>False</td>\n",
       "      <td>False</td>\n",
       "      <td>False</td>\n",
       "      <td>False</td>\n",
       "      <td>False</td>\n",
       "      <td>False</td>\n",
       "      <td>False</td>\n",
       "    </tr>\n",
       "    <tr>\n",
       "      <th>3</th>\n",
       "      <td>False</td>\n",
       "      <td>False</td>\n",
       "      <td>False</td>\n",
       "      <td>False</td>\n",
       "      <td>False</td>\n",
       "      <td>False</td>\n",
       "      <td>False</td>\n",
       "      <td>False</td>\n",
       "      <td>False</td>\n",
       "      <td>False</td>\n",
       "      <td>...</td>\n",
       "      <td>False</td>\n",
       "      <td>False</td>\n",
       "      <td>False</td>\n",
       "      <td>False</td>\n",
       "      <td>False</td>\n",
       "      <td>False</td>\n",
       "      <td>False</td>\n",
       "      <td>False</td>\n",
       "      <td>False</td>\n",
       "      <td>False</td>\n",
       "    </tr>\n",
       "    <tr>\n",
       "      <th>4</th>\n",
       "      <td>False</td>\n",
       "      <td>False</td>\n",
       "      <td>False</td>\n",
       "      <td>False</td>\n",
       "      <td>False</td>\n",
       "      <td>False</td>\n",
       "      <td>False</td>\n",
       "      <td>False</td>\n",
       "      <td>False</td>\n",
       "      <td>False</td>\n",
       "      <td>...</td>\n",
       "      <td>False</td>\n",
       "      <td>False</td>\n",
       "      <td>False</td>\n",
       "      <td>False</td>\n",
       "      <td>False</td>\n",
       "      <td>False</td>\n",
       "      <td>False</td>\n",
       "      <td>False</td>\n",
       "      <td>False</td>\n",
       "      <td>False</td>\n",
       "    </tr>\n",
       "    <tr>\n",
       "      <th>...</th>\n",
       "      <td>...</td>\n",
       "      <td>...</td>\n",
       "      <td>...</td>\n",
       "      <td>...</td>\n",
       "      <td>...</td>\n",
       "      <td>...</td>\n",
       "      <td>...</td>\n",
       "      <td>...</td>\n",
       "      <td>...</td>\n",
       "      <td>...</td>\n",
       "      <td>...</td>\n",
       "      <td>...</td>\n",
       "      <td>...</td>\n",
       "      <td>...</td>\n",
       "      <td>...</td>\n",
       "      <td>...</td>\n",
       "      <td>...</td>\n",
       "      <td>...</td>\n",
       "      <td>...</td>\n",
       "      <td>...</td>\n",
       "      <td>...</td>\n",
       "    </tr>\n",
       "    <tr>\n",
       "      <th>151</th>\n",
       "      <td>False</td>\n",
       "      <td>False</td>\n",
       "      <td>False</td>\n",
       "      <td>False</td>\n",
       "      <td>False</td>\n",
       "      <td>False</td>\n",
       "      <td>False</td>\n",
       "      <td>False</td>\n",
       "      <td>False</td>\n",
       "      <td>False</td>\n",
       "      <td>...</td>\n",
       "      <td>False</td>\n",
       "      <td>False</td>\n",
       "      <td>False</td>\n",
       "      <td>False</td>\n",
       "      <td>False</td>\n",
       "      <td>False</td>\n",
       "      <td>False</td>\n",
       "      <td>False</td>\n",
       "      <td>False</td>\n",
       "      <td>False</td>\n",
       "    </tr>\n",
       "    <tr>\n",
       "      <th>152</th>\n",
       "      <td>False</td>\n",
       "      <td>False</td>\n",
       "      <td>False</td>\n",
       "      <td>False</td>\n",
       "      <td>False</td>\n",
       "      <td>True</td>\n",
       "      <td>False</td>\n",
       "      <td>True</td>\n",
       "      <td>False</td>\n",
       "      <td>False</td>\n",
       "      <td>...</td>\n",
       "      <td>False</td>\n",
       "      <td>False</td>\n",
       "      <td>False</td>\n",
       "      <td>False</td>\n",
       "      <td>False</td>\n",
       "      <td>False</td>\n",
       "      <td>False</td>\n",
       "      <td>False</td>\n",
       "      <td>True</td>\n",
       "      <td>False</td>\n",
       "    </tr>\n",
       "    <tr>\n",
       "      <th>153</th>\n",
       "      <td>False</td>\n",
       "      <td>False</td>\n",
       "      <td>False</td>\n",
       "      <td>False</td>\n",
       "      <td>False</td>\n",
       "      <td>False</td>\n",
       "      <td>False</td>\n",
       "      <td>False</td>\n",
       "      <td>False</td>\n",
       "      <td>False</td>\n",
       "      <td>...</td>\n",
       "      <td>False</td>\n",
       "      <td>False</td>\n",
       "      <td>False</td>\n",
       "      <td>False</td>\n",
       "      <td>False</td>\n",
       "      <td>False</td>\n",
       "      <td>False</td>\n",
       "      <td>False</td>\n",
       "      <td>False</td>\n",
       "      <td>False</td>\n",
       "    </tr>\n",
       "    <tr>\n",
       "      <th>154</th>\n",
       "      <td>False</td>\n",
       "      <td>False</td>\n",
       "      <td>False</td>\n",
       "      <td>False</td>\n",
       "      <td>False</td>\n",
       "      <td>False</td>\n",
       "      <td>False</td>\n",
       "      <td>False</td>\n",
       "      <td>False</td>\n",
       "      <td>False</td>\n",
       "      <td>...</td>\n",
       "      <td>False</td>\n",
       "      <td>False</td>\n",
       "      <td>False</td>\n",
       "      <td>False</td>\n",
       "      <td>False</td>\n",
       "      <td>False</td>\n",
       "      <td>False</td>\n",
       "      <td>False</td>\n",
       "      <td>False</td>\n",
       "      <td>False</td>\n",
       "    </tr>\n",
       "    <tr>\n",
       "      <th>155</th>\n",
       "      <td>False</td>\n",
       "      <td>False</td>\n",
       "      <td>False</td>\n",
       "      <td>True</td>\n",
       "      <td>True</td>\n",
       "      <td>False</td>\n",
       "      <td>False</td>\n",
       "      <td>True</td>\n",
       "      <td>False</td>\n",
       "      <td>False</td>\n",
       "      <td>...</td>\n",
       "      <td>False</td>\n",
       "      <td>False</td>\n",
       "      <td>False</td>\n",
       "      <td>False</td>\n",
       "      <td>False</td>\n",
       "      <td>False</td>\n",
       "      <td>False</td>\n",
       "      <td>False</td>\n",
       "      <td>False</td>\n",
       "      <td>False</td>\n",
       "    </tr>\n",
       "  </tbody>\n",
       "</table>\n",
       "<p>156 rows × 21 columns</p>\n",
       "</div>"
      ],
      "text/plain": [
       "      rank  salary   cost   LSAT    GPA  libvol  faculty    age  clsize  \\\n",
       "0    False   False  False  False  False   False    False  False   False   \n",
       "1    False   False  False  False  False   False    False  False   False   \n",
       "2    False   False  False  False  False   False    False  False   False   \n",
       "3    False   False  False  False  False   False    False  False   False   \n",
       "4    False   False  False  False  False   False    False  False   False   \n",
       "..     ...     ...    ...    ...    ...     ...      ...    ...     ...   \n",
       "151  False   False  False  False  False   False    False  False   False   \n",
       "152  False   False  False  False  False    True    False   True   False   \n",
       "153  False   False  False  False  False   False    False  False   False   \n",
       "154  False   False  False  False  False   False    False  False   False   \n",
       "155  False   False  False   True   True   False    False   True   False   \n",
       "\n",
       "     north  ...   east   west  lsalary  studfac  top10  r11_25  r26_40  \\\n",
       "0    False  ...  False  False    False    False  False   False   False   \n",
       "1    False  ...  False  False    False    False  False   False   False   \n",
       "2    False  ...  False  False    False    False  False   False   False   \n",
       "3    False  ...  False  False    False    False  False   False   False   \n",
       "4    False  ...  False  False    False    False  False   False   False   \n",
       "..     ...  ...    ...    ...      ...      ...    ...     ...     ...   \n",
       "151  False  ...  False  False    False    False  False   False   False   \n",
       "152  False  ...  False  False    False    False  False   False   False   \n",
       "153  False  ...  False  False    False    False  False   False   False   \n",
       "154  False  ...  False  False    False    False  False   False   False   \n",
       "155  False  ...  False  False    False    False  False   False   False   \n",
       "\n",
       "     r41_60  llibvol  lcost  \n",
       "0     False    False  False  \n",
       "1     False    False  False  \n",
       "2     False    False  False  \n",
       "3     False    False  False  \n",
       "4     False    False  False  \n",
       "..      ...      ...    ...  \n",
       "151   False    False  False  \n",
       "152   False     True  False  \n",
       "153   False    False  False  \n",
       "154   False    False  False  \n",
       "155   False    False  False  \n",
       "\n",
       "[156 rows x 21 columns]"
      ]
     },
     "execution_count": 20,
     "metadata": {},
     "output_type": "execute_result"
    }
   ],
   "source": [
    "df.isna()"
   ]
  },
  {
   "cell_type": "markdown",
   "id": "8104337c-c950-4cc6-a599-e2892836e6db",
   "metadata": {},
   "source": [
    "It can be useful to call `any()` and `all()` function on this Boolean dataframe to detect if the entire column (default, or row - set axis=1) contains any or all missing values."
   ]
  },
  {
   "cell_type": "code",
   "execution_count": 21,
   "id": "1da6f9e7-8cfc-437c-a203-dd233dae2e3b",
   "metadata": {},
   "outputs": [
    {
     "data": {
      "text/plain": [
       "rank       False\n",
       "salary      True\n",
       "cost        True\n",
       "LSAT        True\n",
       "GPA         True\n",
       "libvol      True\n",
       "faculty     True\n",
       "age         True\n",
       "clsize      True\n",
       "north      False\n",
       "south      False\n",
       "east       False\n",
       "west       False\n",
       "lsalary     True\n",
       "studfac     True\n",
       "top10      False\n",
       "r11_25     False\n",
       "r26_40     False\n",
       "r41_60     False\n",
       "llibvol     True\n",
       "lcost       True\n",
       "dtype: bool"
      ]
     },
     "execution_count": 21,
     "metadata": {},
     "output_type": "execute_result"
    }
   ],
   "source": [
    "df.isna().any()"
   ]
  },
  {
   "cell_type": "code",
   "execution_count": 22,
   "id": "80ae6a1c-24a5-46c0-976b-31dc4893e985",
   "metadata": {},
   "outputs": [
    {
     "data": {
      "text/plain": [
       "rank       False\n",
       "salary     False\n",
       "cost       False\n",
       "LSAT       False\n",
       "GPA        False\n",
       "libvol     False\n",
       "faculty    False\n",
       "age        False\n",
       "clsize     False\n",
       "north      False\n",
       "south      False\n",
       "east       False\n",
       "west       False\n",
       "lsalary    False\n",
       "studfac    False\n",
       "top10      False\n",
       "r11_25     False\n",
       "r26_40     False\n",
       "r41_60     False\n",
       "llibvol    False\n",
       "lcost      False\n",
       "dtype: bool"
      ]
     },
     "execution_count": 22,
     "metadata": {},
     "output_type": "execute_result"
    }
   ],
   "source": [
    "df.isna().all()"
   ]
  },
  {
   "cell_type": "code",
   "execution_count": 23,
   "id": "faf7dbb3-e132-431b-92aa-57bddc5b225a",
   "metadata": {},
   "outputs": [
    {
     "data": {
      "text/plain": [
       "0      False\n",
       "1      False\n",
       "2      False\n",
       "3      False\n",
       "4      False\n",
       "       ...  \n",
       "151    False\n",
       "152     True\n",
       "153    False\n",
       "154    False\n",
       "155     True\n",
       "Length: 156, dtype: bool"
      ]
     },
     "execution_count": 23,
     "metadata": {},
     "output_type": "execute_result"
    }
   ],
   "source": [
    "df.isna().any(axis=1)"
   ]
  },
  {
   "cell_type": "code",
   "execution_count": 24,
   "id": "1ffb23fa-b7fc-41c0-905b-52e7e45d1763",
   "metadata": {},
   "outputs": [
    {
     "data": {
      "text/plain": [
       "0      False\n",
       "1      False\n",
       "2      False\n",
       "3      False\n",
       "4      False\n",
       "       ...  \n",
       "151    False\n",
       "152    False\n",
       "153    False\n",
       "154    False\n",
       "155    False\n",
       "Length: 156, dtype: bool"
      ]
     },
     "execution_count": 24,
     "metadata": {},
     "output_type": "execute_result"
    }
   ],
   "source": [
    "df.isna().all(axis=1)"
   ]
  },
  {
   "cell_type": "markdown",
   "id": "5341dcfe-2d3f-470a-b6d6-58684c9bfa6f",
   "metadata": {},
   "source": [
    "### Exercise: \n",
    "use the lawsch85 data set from woo. \n",
    "1. Label missing values in column \"LSAT\" - law schools who do not report the median LSAT score.\n",
    "2. Create a crosstabulation to display the number of missing values for *top10* versus non-top 10 law schools\n",
    "3. Label missings for all variables in data frame\n",
    "4. Compute the amount of complete cases"
   ]
  },
  {
   "cell_type": "code",
   "execution_count": 28,
   "id": "d512373e-4000-4505-b640-39196112fcf1",
   "metadata": {},
   "outputs": [
    {
     "data": {
      "text/plain": [
       "0      False\n",
       "1      False\n",
       "2      False\n",
       "3      False\n",
       "4      False\n",
       "       ...  \n",
       "151    False\n",
       "152    False\n",
       "153    False\n",
       "154    False\n",
       "155     True\n",
       "Name: LSAT, Length: 156, dtype: bool"
      ]
     },
     "execution_count": 28,
     "metadata": {},
     "output_type": "execute_result"
    }
   ],
   "source": [
    "df.isna()[\"LSAT\"]"
   ]
  },
  {
   "cell_type": "code",
   "execution_count": 30,
   "id": "7c5fbeb5-da78-4228-9790-9839d2435feb",
   "metadata": {},
   "outputs": [
    {
     "data": {
      "text/html": [
       "<div>\n",
       "<style scoped>\n",
       "    .dataframe tbody tr th:only-of-type {\n",
       "        vertical-align: middle;\n",
       "    }\n",
       "\n",
       "    .dataframe tbody tr th {\n",
       "        vertical-align: top;\n",
       "    }\n",
       "\n",
       "    .dataframe thead th {\n",
       "        text-align: right;\n",
       "    }\n",
       "</style>\n",
       "<table border=\"1\" class=\"dataframe\">\n",
       "  <thead>\n",
       "    <tr style=\"text-align: right;\">\n",
       "      <th>top10</th>\n",
       "      <th>0</th>\n",
       "      <th>1</th>\n",
       "    </tr>\n",
       "    <tr>\n",
       "      <th>LSAT</th>\n",
       "      <th></th>\n",
       "      <th></th>\n",
       "    </tr>\n",
       "  </thead>\n",
       "  <tbody>\n",
       "    <tr>\n",
       "      <th>False</th>\n",
       "      <td>140</td>\n",
       "      <td>10</td>\n",
       "    </tr>\n",
       "    <tr>\n",
       "      <th>True</th>\n",
       "      <td>6</td>\n",
       "      <td>0</td>\n",
       "    </tr>\n",
       "  </tbody>\n",
       "</table>\n",
       "</div>"
      ],
      "text/plain": [
       "top10    0   1\n",
       "LSAT          \n",
       "False  140  10\n",
       "True     6   0"
      ]
     },
     "execution_count": 30,
     "metadata": {},
     "output_type": "execute_result"
    }
   ],
   "source": [
    "import pandas as pd\n",
    "pd.crosstab(df.isna()[\"LSAT\"], df[\"top10\"])"
   ]
  },
  {
   "cell_type": "code",
   "execution_count": 38,
   "id": "d634f906-ba50-420d-b9d4-193360997bc0",
   "metadata": {},
   "outputs": [
    {
     "data": {
      "text/plain": [
       "0      False\n",
       "1      False\n",
       "2      False\n",
       "3      False\n",
       "4      False\n",
       "       ...  \n",
       "151    False\n",
       "152    False\n",
       "153    False\n",
       "154    False\n",
       "155    False\n",
       "Length: 156, dtype: bool"
      ]
     },
     "execution_count": 38,
     "metadata": {},
     "output_type": "execute_result"
    }
   ],
   "source": [
    "df.isna().all(axis=1)"
   ]
  },
  {
   "cell_type": "code",
   "execution_count": 39,
   "id": "c13425e9-b538-4cb4-91e3-188c48d68d8e",
   "metadata": {},
   "outputs": [
    {
     "data": {
      "text/plain": [
       "156"
      ]
     },
     "execution_count": 39,
     "metadata": {},
     "output_type": "execute_result"
    }
   ],
   "source": [
    "len(df) - df.isna().all(axis=1).sum(axis=0)"
   ]
  },
  {
   "cell_type": "markdown",
   "id": "886f40ec-474d-46b1-839f-a42516896c63",
   "metadata": {
    "tags": []
   },
   "source": [
    "### Drop missing observations\n",
    "\n",
    "We can use `df.dropna()` function to drop observations with any or all missing values. ([dropna](https://pandas.pydata.org/docs/reference/api/pandas.DataFrame.dropna.html)). For example, if we want to drop observations with any missing values, we can use the default setting `df.dropna()`. If we want to drop observations with all missing values, we can use the \"how=\" parameter - `df.dropna(how=\"all\")` .\n",
    "\n",
    "> df.dropna creates a copy, so do not forget to reassign it to df."
   ]
  },
  {
   "cell_type": "markdown",
   "id": "7cd0e542-ee36-401d-9b90-51feea2dc569",
   "metadata": {},
   "source": [
    "Exercise: Drop observations with any missing values in the lawsch85 data set. Show the number of observations left."
   ]
  },
  {
   "cell_type": "markdown",
   "id": "782055a1-5a93-42da-aef9-b04a50cb10d8",
   "metadata": {},
   "source": [
    "### Fill missing values - often used in Data Science\n",
    "\n",
    "In econometrics, we prefer not to fill na values use only the complete observations. But the nature of data science means they need more observations in order to have convergence, which leads to the need of filling missing values.\n",
    "\n",
    "Here, we are going to introduce three common techniques to fill na values.\n",
    "\n",
    "1. **Forward fill**\n",
    "\n",
    "Forward fill will propagate the last valid observation forward. This commonly used in time series data, where an event occurs in one year, but its effect persists for all following periods.\n",
    "\n",
    "```python\n",
    "df[\"col1\"].fillna(method = \"ffill\")\n",
    "```"
   ]
  },
  {
   "cell_type": "markdown",
   "id": "5566ca71-3ef7-4d21-b8d7-764765a9b990",
   "metadata": {},
   "source": [
    "2. **Back fill**\n",
    "\n",
    "Backfill will backward fill the NaN values with the next valid value.\n",
    "```python\n",
    "df[\"col2\"].fillna(method=\"bfill\")\n",
    "```\n",
    "3. **Interpolate**\n",
    "\n",
    "```python\n",
    "df[\"col3\"].interpolate()\n",
    "```\n",
    "This function will fill NA values using interpolation methods (by default it implements linear interpolation). It works well on sorted values. For example"
   ]
  },
  {
   "cell_type": "code",
   "execution_count": 43,
   "id": "0825c8ce-bd3f-457b-96f1-af7b9cff122a",
   "metadata": {},
   "outputs": [
    {
     "name": "stdout",
     "output_type": "stream",
     "text": [
      "0    0.0\n",
      "1    1.0\n",
      "2    NaN\n",
      "3    3.0\n",
      "dtype: float64\n"
     ]
    },
    {
     "data": {
      "text/plain": [
       "0    0.0\n",
       "1    1.0\n",
       "2    2.0\n",
       "3    3.0\n",
       "dtype: float64"
      ]
     },
     "execution_count": 43,
     "metadata": {},
     "output_type": "execute_result"
    }
   ],
   "source": [
    "import numpy as np\n",
    "s = pd.Series([0, 1, np.nan, 3])\n",
    "print(s)\n",
    "s.interpolate()"
   ]
  },
  {
   "cell_type": "markdown",
   "id": "3fcbd574-f946-4d40-95f0-6e789608cefd",
   "metadata": {},
   "source": [
    "## 4 Outliers\n",
    "\n",
    "OLS is susceptible to outlying observations because it minimizes the sum of squared residuals: large residuals (positive or negative) receive a lot of weight in the least squares minimization problem. If the estimates change by a practically large amount when we slightly modify our sample, we should be concerned.\n",
    "\n",
    "Suppose that R&D expenditures as a percentage of sales (rdintens) are related to sales (in millions) and profits as a percentage of sales ( profmarg):\n",
    "1. Compute the The OLS result using data on 32 chemical companies in RDCHEM dataset\n",
    "2. Comment on the significance of the independent variables\n",
    "3. Scatter plot R&D intensity (*rdintens*) against firm sales (*sales*)\n",
    "4. Drop the outlier and rerun the regression"
   ]
  },
  {
   "cell_type": "code",
   "execution_count": 44,
   "id": "d15b8a23-8452-4b52-abfb-03cacf3a7e51",
   "metadata": {},
   "outputs": [
    {
     "name": "stdout",
     "output_type": "stream",
     "text": [
      "                            OLS Regression Results                            \n",
      "==============================================================================\n",
      "Dep. Variable:               rdintens   R-squared:                       0.076\n",
      "Model:                            OLS   Adj. R-squared:                  0.012\n",
      "Method:                 Least Squares   F-statistic:                     1.195\n",
      "Date:                Wed, 17 Nov 2021   Prob (F-statistic):              0.317\n",
      "Time:                        23:55:11   Log-Likelihood:                -63.725\n",
      "No. Observations:                  32   AIC:                             133.4\n",
      "Df Residuals:                      29   BIC:                             137.8\n",
      "Df Model:                           2                                         \n",
      "Covariance Type:            nonrobust                                         \n",
      "==============================================================================\n",
      "                 coef    std err          t      P>|t|      [0.025      0.975]\n",
      "------------------------------------------------------------------------------\n",
      "Intercept      2.6253      0.586      4.484      0.000       1.428       3.823\n",
      "sales       5.338e-05   4.41e-05      1.211      0.236   -3.68e-05       0.000\n",
      "profmarg       0.0446      0.046      0.966      0.342      -0.050       0.139\n",
      "==============================================================================\n",
      "Omnibus:                       20.499   Durbin-Watson:                   1.694\n",
      "Prob(Omnibus):                  0.000   Jarque-Bera (JB):               28.349\n",
      "Skew:                           1.674   Prob(JB):                     6.98e-07\n",
      "Kurtosis:                       6.170   Cond. No.                     1.49e+04\n",
      "==============================================================================\n",
      "\n",
      "Notes:\n",
      "[1] Standard Errors assume that the covariance matrix of the errors is correctly specified.\n",
      "[2] The condition number is large, 1.49e+04. This might indicate that there are\n",
      "strong multicollinearity or other numerical problems.\n"
     ]
    }
   ],
   "source": [
    "df = woo.data(\"rdchem\")\n",
    "reg = smf.ols(\"rdintens ~ sales + profmarg\", data=df)\n",
    "res = reg.fit()\n",
    "print(res.summary())"
   ]
  },
  {
   "cell_type": "code",
   "execution_count": 47,
   "id": "99e8b6f1-cef1-431e-a20d-9e7e1b6b6682",
   "metadata": {},
   "outputs": [
    {
     "data": {
      "image/png": "[encoded data removed]",
      "text/plain": [
       "<Figure size 432x288 with 1 Axes>"
      ]
     },
     "metadata": {
      "needs_background": "light"
     },
     "output_type": "display_data"
    }
   ],
   "source": [
    "import matplotlib.pyplot as plt\n",
    "plt.scatter(y = df[\"rdintens\"], x = df[\"sales\"])\n",
    "plt.ylabel(\"rd intensity\")\n",
    "plt.xlabel(\"sales\")\n",
    "plt.show()"
   ]
  },
  {
   "cell_type": "code",
   "execution_count": 51,
   "id": "6172cbfe-9b6a-4b7a-9f5a-74c795ee92af",
   "metadata": {},
   "outputs": [
    {
     "name": "stdout",
     "output_type": "stream",
     "text": [
      "                            OLS Regression Results                            \n",
      "==============================================================================\n",
      "Dep. Variable:               rdintens   R-squared:                       0.173\n",
      "Model:                            OLS   Adj. R-squared:                  0.114\n",
      "Method:                 Least Squares   F-statistic:                     2.925\n",
      "Date:                Wed, 17 Nov 2021   Prob (F-statistic):             0.0702\n",
      "Time:                        23:58:50   Log-Likelihood:                -60.496\n",
      "No. Observations:                  31   AIC:                             127.0\n",
      "Df Residuals:                      28   BIC:                             131.3\n",
      "Df Model:                           2                                         \n",
      "Covariance Type:            nonrobust                                         \n",
      "==============================================================================\n",
      "                 coef    std err          t      P>|t|      [0.025      0.975]\n",
      "------------------------------------------------------------------------------\n",
      "Intercept      2.2969      0.592      3.881      0.001       1.085       3.509\n",
      "sales          0.0002   8.42e-05      2.204      0.036    1.31e-05       0.000\n",
      "profmarg       0.0478      0.044      1.075      0.291      -0.043       0.139\n",
      "==============================================================================\n",
      "Omnibus:                       19.377   Durbin-Watson:                   1.694\n",
      "Prob(Omnibus):                  0.000   Jarque-Bera (JB):               25.558\n",
      "Skew:                           1.623   Prob(JB):                     2.82e-06\n",
      "Kurtosis:                       6.040   Cond. No.                     8.56e+03\n",
      "==============================================================================\n",
      "\n",
      "Notes:\n",
      "[1] Standard Errors assume that the covariance matrix of the errors is correctly specified.\n",
      "[2] The condition number is large, 8.56e+03. This might indicate that there are\n",
      "strong multicollinearity or other numerical problems.\n"
     ]
    }
   ],
   "source": [
    "reg = smf.ols(\"rdintens~sales+profmarg\", data=df[df[\"sales\"]<35000])\n",
    "print(reg.fit().summary())"
   ]
  },
  {
   "cell_type": "markdown",
   "id": "4f377711-9900-46ac-8cfc-73ccd48a9f3c",
   "metadata": {
    "tags": []
   },
   "source": [
    "### Studentized residual\n",
    "\n",
    "Studentized residuals are obtained from the original OLS residuals by dividing them by an estimate of their standard deviation. This can be used as a measure of how far away an observation is from the mean in a standardized term."
   ]
  },
  {
   "cell_type": "markdown",
   "id": "b2937604-6fe3-43b2-ac28-ccb175864df2",
   "metadata": {},
   "source": [
    "In statsmodels, we can calculate this standardized residual by calling the `get_influence().resid_studentized_external` attribute on the result object from the original regression."
   ]
  },
  {
   "cell_type": "code",
   "execution_count": 55,
   "id": "ec038605-8577-4bf9-8cfc-1046c8b1193e",
   "metadata": {},
   "outputs": [],
   "source": [
    "studres = res.get_influence().resid_studentized_external"
   ]
  },
  {
   "cell_type": "markdown",
   "id": "f6ea2630-a987-4c1c-a0e5-dc4873c90cf5",
   "metadata": {},
   "source": [
    "We can then display the min, max, and a histogram of the studentized residual."
   ]
  },
  {
   "cell_type": "code",
   "execution_count": 56,
   "id": "d0fc2c50-4572-4536-adef-7a04935ce159",
   "metadata": {},
   "outputs": [
    {
     "data": {
      "text/plain": [
       "(-1.8180393952811738, 4.555033421514247)"
      ]
     },
     "execution_count": 56,
     "metadata": {},
     "output_type": "execute_result"
    }
   ],
   "source": [
    "np.min(studres), np.max(studres)"
   ]
  },
  {
   "cell_type": "code",
   "execution_count": 60,
   "id": "72274831-c41e-4a6a-a853-5d2028637074",
   "metadata": {},
   "outputs": [
    {
     "data": {
      "image/png": "[encoded data removed]",
      "text/plain": [
       "<Figure size 432x288 with 1 Axes>"
      ]
     },
     "metadata": {
      "needs_background": "light"
     },
     "output_type": "display_data"
    }
   ],
   "source": [
    "plt.hist(studres)\n",
    "plt.show()"
   ]
  },
  {
   "cell_type": "markdown",
   "id": "b190edb6-fc6d-4230-9311-6502270db070",
   "metadata": {},
   "source": [
    "The highest value appears to be an extremely outlying value."
   ]
  },
  {
   "cell_type": "markdown",
   "id": "d81fb7bc-4d43-4f8b-a97e-7ed65f477c86",
   "metadata": {},
   "source": [
    "> To get the index of this extreme value, use `np.argmax(studres)`"
   ]
  },
  {
   "cell_type": "code",
   "execution_count": 61,
   "id": "d580269d-4d90-4120-aea2-a1955b4b8e7a",
   "metadata": {},
   "outputs": [
    {
     "data": {
      "text/plain": [
       "0"
      ]
     },
     "execution_count": 61,
     "metadata": {},
     "output_type": "execute_result"
    }
   ],
   "source": [
    "np.argmax(studres)"
   ]
  },
  {
   "cell_type": "markdown",
   "id": "08d537ca-c2eb-4a74-a031-02c00e82335e",
   "metadata": {},
   "source": [
    "Exercise:\n",
    "\n",
    "Data on infant mortality, per capita income, and measures of health care can be obtained at the state level from the Statistical Abstract of the United States. We will provide a fairly simple analysis here just to illustrate the effect of outliers. The data are for the year 1990, and we have all 50 states in the United States, plus the District of Columbia (D.C.). The variable **infmort** is number of deaths within the first year per 1,000 live births, **pcinc** is per capita income, **physic** is physicians per 100,000 members of the civilian population, and **popul** is the population (in thousands). The data are contained in **INFMRT**. We use all independent variables in logarithmic form"
   ]
  },
  {
   "cell_type": "code",
   "execution_count": 80,
   "id": "0ee0b175-1856-47b0-8248-d0dbe83c8561",
   "metadata": {},
   "outputs": [
    {
     "name": "stdout",
     "output_type": "stream",
     "text": [
      "<class 'pandas.core.frame.DataFrame'>\n",
      "Int64Index: 51 entries, 1 to 101\n",
      "Data columns (total 12 columns):\n",
      " #   Column   Non-Null Count  Dtype  \n",
      "---  ------   --------------  -----  \n",
      " 0   year     51 non-null     int64  \n",
      " 1   infmort  51 non-null     float64\n",
      " 2   afdcprt  51 non-null     int64  \n",
      " 3   popul    51 non-null     int64  \n",
      " 4   pcinc    51 non-null     int64  \n",
      " 5   physic   51 non-null     int64  \n",
      " 6   afdcper  51 non-null     float64\n",
      " 7   d90      51 non-null     int64  \n",
      " 8   lpcinc   51 non-null     float64\n",
      " 9   lphysic  51 non-null     float64\n",
      " 10  DC       51 non-null     int64  \n",
      " 11  lpopul   51 non-null     float64\n",
      "dtypes: float64(5), int64(7)\n",
      "memory usage: 5.2 KB\n"
     ]
    }
   ],
   "source": [
    "df = woo.data(\"infmrt\")\n",
    "df = df.loc[df[\"year\"]==1990,:]\n",
    "df.info()"
   ]
  },
  {
   "cell_type": "code",
   "execution_count": 81,
   "id": "feafb1be-c588-4c32-a344-c7ce74032850",
   "metadata": {},
   "outputs": [
    {
     "name": "stdout",
     "output_type": "stream",
     "text": [
      "                            OLS Regression Results                            \n",
      "==============================================================================\n",
      "Dep. Variable:                infmort   R-squared:                       0.139\n",
      "Model:                            OLS   Adj. R-squared:                  0.084\n",
      "Method:                 Least Squares   F-statistic:                     2.531\n",
      "Date:                Thu, 18 Nov 2021   Prob (F-statistic):             0.0684\n",
      "Time:                        00:26:01   Log-Likelihood:                -107.09\n",
      "No. Observations:                  51   AIC:                             222.2\n",
      "Df Residuals:                      47   BIC:                             229.9\n",
      "Df Model:                           3                                         \n",
      "Covariance Type:            nonrobust                                         \n",
      "==============================================================================\n",
      "                 coef    std err          t      P>|t|      [0.025      0.975]\n",
      "------------------------------------------------------------------------------\n",
      "Intercept     33.8593     20.428      1.658      0.104      -7.236      74.955\n",
      "lpcinc        -4.6847      2.604     -1.799      0.078      -9.923       0.554\n",
      "lphysic        4.1533      1.513      2.746      0.009       1.110       7.196\n",
      "lpopul        -0.0878      0.287     -0.306      0.761      -0.666       0.490\n",
      "==============================================================================\n",
      "Omnibus:                       19.635   Durbin-Watson:                   1.419\n",
      "Prob(Omnibus):                  0.000   Jarque-Bera (JB):               36.681\n",
      "Skew:                           1.114   Prob(JB):                     1.08e-08\n",
      "Kurtosis:                       6.507   Cond. No.                         982.\n",
      "==============================================================================\n",
      "\n",
      "Notes:\n",
      "[1] Standard Errors assume that the covariance matrix of the errors is correctly specified.\n"
     ]
    }
   ],
   "source": [
    "reg = smf.ols(\"infmort ~ lpcinc + lphysic + lpopul\", data=df)\n",
    "res = reg.fit()\n",
    "print(res.summary())"
   ]
  },
  {
   "cell_type": "markdown",
   "id": "d53e70f7-2705-491c-816e-520e52b42464",
   "metadata": {},
   "source": [
    "Higher per capita income is estimated to lower infant mortality, an expected result. But more physicians per capita is associated with higher infant mortality rates, something that is counterintuitive. Infant mortality rates do not appear to be related to population size."
   ]
  },
  {
   "cell_type": "markdown",
   "id": "a7238b1d-23d9-4c28-ae2d-5b4793bf1160",
   "metadata": {},
   "source": [
    "Now compute the studentized residuals and plot a histogram."
   ]
  },
  {
   "cell_type": "code",
   "execution_count": 82,
   "id": "05f3ebca-fc42-4a41-bfc8-6535633d4df4",
   "metadata": {},
   "outputs": [
    {
     "data": {
      "image/png": "[encoded data removed]",
      "text/plain": [
       "<Figure size 432x288 with 1 Axes>"
      ]
     },
     "metadata": {
      "needs_background": "light"
     },
     "output_type": "display_data"
    }
   ],
   "source": [
    "studres = res.get_influence().resid_studentized_external\n",
    "plt.hist(studres)\n",
    "plt.show()"
   ]
  },
  {
   "cell_type": "code",
   "execution_count": 83,
   "id": "2d5b1e75-de32-4777-ac96-c5884959b397",
   "metadata": {},
   "outputs": [
    {
     "data": {
      "text/plain": [
       "23"
      ]
     },
     "execution_count": 83,
     "metadata": {},
     "output_type": "execute_result"
    }
   ],
   "source": [
    "np.argmax(studres)"
   ]
  },
  {
   "cell_type": "code",
   "execution_count": 85,
   "id": "e93a2474-6753-45aa-b4bf-6800d3b46544",
   "metadata": {},
   "outputs": [
    {
     "data": {
      "text/plain": [
       "year        1990.000000\n",
       "infmort       20.700001\n",
       "afdcprt       54.000000\n",
       "popul        607.000000\n",
       "pcinc      23885.000000\n",
       "physic       615.000000\n",
       "afdcper        8.896211\n",
       "d90            1.000000\n",
       "lpcinc        10.081006\n",
       "lphysic        6.421622\n",
       "DC             1.000000\n",
       "lpopul         6.408529\n",
       "Name: 47, dtype: float64"
      ]
     },
     "execution_count": 85,
     "metadata": {},
     "output_type": "execute_result"
    }
   ],
   "source": [
    "df.iloc[np.argmax(studres)]"
   ]
  },
  {
   "cell_type": "markdown",
   "id": "639c2262-e5aa-4f8c-8226-0b943e7488b2",
   "metadata": {},
   "source": [
    "The District of Columbia is unusual in that it has pockets of extreme poverty and great wealth in a small area. In fact, the infant mortality rate for D.C. in 1990 was 20.7, compared with 12.4 for the highest state. It also has 615 physicians per 100,000 of the civilian population, compared with 337 for the highest state. The high number of physi- cians coupled with the high infant mortality rate in D.C. could certainly influence the results. If we drop D.C. from the regression, we obtain"
   ]
  },
  {
   "cell_type": "code",
   "execution_count": 86,
   "id": "d6936bae-ca22-417b-9d9e-9693028a1dcc",
   "metadata": {},
   "outputs": [
    {
     "data": {
      "text/html": [
       "<table class=\"simpletable\">\n",
       "<caption>OLS Regression Results</caption>\n",
       "<tr>\n",
       "  <th>Dep. Variable:</th>         <td>infmort</td>     <th>  R-squared:         </th> <td>   0.273</td>\n",
       "</tr>\n",
       "<tr>\n",
       "  <th>Model:</th>                   <td>OLS</td>       <th>  Adj. R-squared:    </th> <td>   0.226</td>\n",
       "</tr>\n",
       "<tr>\n",
       "  <th>Method:</th>             <td>Least Squares</td>  <th>  F-statistic:       </th> <td>   5.763</td>\n",
       "</tr>\n",
       "<tr>\n",
       "  <th>Date:</th>             <td>Thu, 18 Nov 2021</td> <th>  Prob (F-statistic):</th>  <td>0.00197</td>\n",
       "</tr>\n",
       "<tr>\n",
       "  <th>Time:</th>                 <td>00:26:15</td>     <th>  Log-Likelihood:    </th> <td> -79.876</td>\n",
       "</tr>\n",
       "<tr>\n",
       "  <th>No. Observations:</th>      <td>    50</td>      <th>  AIC:               </th> <td>   167.8</td>\n",
       "</tr>\n",
       "<tr>\n",
       "  <th>Df Residuals:</th>          <td>    46</td>      <th>  BIC:               </th> <td>   175.4</td>\n",
       "</tr>\n",
       "<tr>\n",
       "  <th>Df Model:</th>              <td>     3</td>      <th>                     </th>     <td> </td>   \n",
       "</tr>\n",
       "<tr>\n",
       "  <th>Covariance Type:</th>      <td>nonrobust</td>    <th>                     </th>     <td> </td>   \n",
       "</tr>\n",
       "</table>\n",
       "<table class=\"simpletable\">\n",
       "<tr>\n",
       "      <td></td>         <th>coef</th>     <th>std err</th>      <th>t</th>      <th>P>|t|</th>  <th>[0.025</th>    <th>0.975]</th>  \n",
       "</tr>\n",
       "<tr>\n",
       "  <th>Intercept</th> <td>   23.9548</td> <td>   12.419</td> <td>    1.929</td> <td> 0.060</td> <td>   -1.044</td> <td>   48.954</td>\n",
       "</tr>\n",
       "<tr>\n",
       "  <th>lpcinc</th>    <td>   -0.5669</td> <td>    1.641</td> <td>   -0.345</td> <td> 0.731</td> <td>   -3.871</td> <td>    2.737</td>\n",
       "</tr>\n",
       "<tr>\n",
       "  <th>lphysic</th>   <td>   -2.7418</td> <td>    1.191</td> <td>   -2.303</td> <td> 0.026</td> <td>   -5.139</td> <td>   -0.345</td>\n",
       "</tr>\n",
       "<tr>\n",
       "  <th>lpopul</th>    <td>    0.6292</td> <td>    0.191</td> <td>    3.293</td> <td> 0.002</td> <td>    0.245</td> <td>    1.014</td>\n",
       "</tr>\n",
       "</table>\n",
       "<table class=\"simpletable\">\n",
       "<tr>\n",
       "  <th>Omnibus:</th>       <td> 0.970</td> <th>  Durbin-Watson:     </th> <td>   1.388</td>\n",
       "</tr>\n",
       "<tr>\n",
       "  <th>Prob(Omnibus):</th> <td> 0.616</td> <th>  Jarque-Bera (JB):  </th> <td>   0.955</td>\n",
       "</tr>\n",
       "<tr>\n",
       "  <th>Skew:</th>          <td> 0.169</td> <th>  Prob(JB):          </th> <td>   0.620</td>\n",
       "</tr>\n",
       "<tr>\n",
       "  <th>Kurtosis:</th>      <td> 2.413</td> <th>  Cond. No.          </th> <td>    977.</td>\n",
       "</tr>\n",
       "</table><br/><br/>Notes:<br/>[1] Standard Errors assume that the covariance matrix of the errors is correctly specified."
      ],
      "text/plain": [
       "<class 'statsmodels.iolib.summary.Summary'>\n",
       "\"\"\"\n",
       "                            OLS Regression Results                            \n",
       "==============================================================================\n",
       "Dep. Variable:                infmort   R-squared:                       0.273\n",
       "Model:                            OLS   Adj. R-squared:                  0.226\n",
       "Method:                 Least Squares   F-statistic:                     5.763\n",
       "Date:                Thu, 18 Nov 2021   Prob (F-statistic):            0.00197\n",
       "Time:                        00:26:15   Log-Likelihood:                -79.876\n",
       "No. Observations:                  50   AIC:                             167.8\n",
       "Df Residuals:                      46   BIC:                             175.4\n",
       "Df Model:                           3                                         \n",
       "Covariance Type:            nonrobust                                         \n",
       "==============================================================================\n",
       "                 coef    std err          t      P>|t|      [0.025      0.975]\n",
       "------------------------------------------------------------------------------\n",
       "Intercept     23.9548     12.419      1.929      0.060      -1.044      48.954\n",
       "lpcinc        -0.5669      1.641     -0.345      0.731      -3.871       2.737\n",
       "lphysic       -2.7418      1.191     -2.303      0.026      -5.139      -0.345\n",
       "lpopul         0.6292      0.191      3.293      0.002       0.245       1.014\n",
       "==============================================================================\n",
       "Omnibus:                        0.970   Durbin-Watson:                   1.388\n",
       "Prob(Omnibus):                  0.616   Jarque-Bera (JB):                0.955\n",
       "Skew:                           0.169   Prob(JB):                        0.620\n",
       "Kurtosis:                       2.413   Cond. No.                         977.\n",
       "==============================================================================\n",
       "\n",
       "Notes:\n",
       "[1] Standard Errors assume that the covariance matrix of the errors is correctly specified.\n",
       "\"\"\""
      ]
     },
     "execution_count": 86,
     "metadata": {},
     "output_type": "execute_result"
    }
   ],
   "source": [
    "smf.ols(\"infmort ~ lpcinc + lphysic + lpopul\", data=df.drop(index=47)).fit().summary()"
   ]
  }
 ],
 "metadata": {
  "kernelspec": {
   "display_name": "Python 3 (ipykernel)",
   "language": "python",
   "name": "python3"
  },
  "language_info": {
   "codemirror_mode": {
    "name": "ipython",
    "version": 3
   },
   "file_extension": ".py",
   "mimetype": "text/x-python",
   "name": "python",
   "nbconvert_exporter": "python",
   "pygments_lexer": "ipython3",
   "version": "3.8.8"
  }
 },
 "nbformat": 4,
 "nbformat_minor": 5
}
