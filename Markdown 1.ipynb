{
 "cells": [
  {
   "cell_type": "markdown",
   "id": "18995b68-1e98-40ec-af5e-c7a24ae0d7de",
   "metadata": {},
   "source": [
    "# Markdown 1"
   ]
  },
  {
   "cell_type": "markdown",
   "id": "77ecaf92-9cab-442f-84aa-4d53531221d1",
   "metadata": {
    "jp-MarkdownHeadingCollapsed": true,
    "tags": []
   },
   "source": [
    "# More About Markdown"
   ]
  },
  {
   "cell_type": "markdown",
   "id": "d627212e-c511-43aa-b6fe-48412beeb997",
   "metadata": {
    "jp-MarkdownHeadingCollapsed": true,
    "tags": []
   },
   "source": [
    "# Heading 1\n",
    "## Heading 2\n",
    "### Heading 3\n",
    "hello world!\n",
    "1. list item 1\n",
    "2. list item 2\n",
    "3. list item 3\n",
    "\n",
    "- item 1\n",
    "- item 2\n",
    "- item 3"
   ]
  }
 ],
 "metadata": {
  "kernelspec": {
   "display_name": "Python 3 (ipykernel)",
   "language": "python",
   "name": "python3"
  },
  "language_info": {
   "codemirror_mode": {
    "name": "ipython",
    "version": 3
   },
   "file_extension": ".py",
   "mimetype": "text/x-python",
   "name": "python",
   "nbconvert_exporter": "python",
   "pygments_lexer": "ipython3",
   "version": "3.8.8"
  }
 },
 "nbformat": 4,
 "nbformat_minor": 5
}
